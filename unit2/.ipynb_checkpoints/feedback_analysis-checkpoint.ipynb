{
 "cells": [
  {
   "cell_type": "markdown",
   "metadata": {},
   "source": [
    "### Feedback analysis\n",
    "perform a sentiment analysis, classifying whether feedback left on a website is either positive or negative.\n"
   ]
  },
  {
   "cell_type": "code",
   "execution_count": 1,
   "metadata": {
    "collapsed": true
   },
   "outputs": [],
   "source": [
    "%matplotlib inline\n",
    "import numpy as np\n",
    "import pandas as pd\n",
    "import scipy\n",
    "import sklearn\n",
    "import matplotlib.pyplot as plt\n",
    "import seaborn as sns\n"
   ]
  },
  {
   "cell_type": "code",
   "execution_count": 2,
   "metadata": {},
   "outputs": [],
   "source": [
    "df=pd.read_csv('..\\..\\datasets\\sentiment labelled sentences\\zamazon_cells_labelled.txt',sep='\\t',names = ['sentence','label'] )\n",
    "#yelp_labelled.txt\n",
    "# amazon_cells_labelled.txt\n",
    "#imdb_labelled.txt\n",
    "# good excellent great must impressed love well right nice beautiful great \n",
    "# bad: bad terrible waste misleading unusable  poor garbage disappointed worthless fooled suddenly"
   ]
  },
  {
   "cell_type": "code",
   "execution_count": 3,
   "metadata": {},
   "outputs": [
    {
     "data": {
      "text/plain": [
       "0    So there is no way for me to plug it in here i...\n",
       "1                          Good case, Excellent value.\n",
       "2                               Great for the jawbone.\n",
       "3    Tied to charger for conversations lasting more...\n",
       "4                                    The mic is great.\n",
       "Name: sentence, dtype: object"
      ]
     },
     "execution_count": 3,
     "metadata": {},
     "output_type": "execute_result"
    }
   ],
   "source": [
    "df['sentence'].head(5)"
   ]
  },
  {
   "cell_type": "code",
   "execution_count": 23,
   "metadata": {
    "collapsed": true
   },
   "outputs": [],
   "source": [
    "#\n",
    "bad_keywords = ['bad','no way','jiggle','wasted','suddenly','unusable','waste','disappointed','unsatisfactory','junk','negative']\n",
    "\n"
   ]
  },
  {
   "cell_type": "code",
   "execution_count": 5,
   "metadata": {},
   "outputs": [
    {
     "name": "stdout",
     "output_type": "stream",
     "text": [
      "['sentence', 'label', 'bad', 'no way', 'jiggle', 'wasted', 'suddenly', 'unusable', 'waste', 'disappointed']\n"
     ]
    }
   ],
   "source": [
    "print(list(df))"
   ]
  },
  {
   "cell_type": "code",
   "execution_count": 13,
   "metadata": {},
   "outputs": [
    {
     "data": {
      "text/plain": [
       "500"
      ]
     },
     "execution_count": 13,
     "metadata": {},
     "output_type": "execute_result"
    }
   ],
   "source": [
    "df['label'] = (df['label'] == 1)\n",
    "# Note that if you run this cell a second time everything will become false.\n",
    "# So... Don't.\n",
    "df.head(3)\n",
    "df['label'].sum()"
   ]
  },
  {
   "cell_type": "code",
   "execution_count": 7,
   "metadata": {},
   "outputs": [
    {
     "data": {
      "text/plain": [
       "<matplotlib.axes._subplots.AxesSubplot at 0x1a3c783b780>"
      ]
     },
     "execution_count": 7,
     "metadata": {},
     "output_type": "execute_result"
    },
    {
     "data": {
      "image/png": "[encoded data removed]",
      "text/plain": [
       "<matplotlib.figure.Figure at 0x1a3c3dd64a8>"
      ]
     },
     "metadata": {},
     "output_type": "display_data"
    }
   ],
   "source": [
    "\n",
    "dt=df.drop(['sentence'],axis=1)\n",
    "\n",
    "sns.heatmap(dt.corr())\n"
   ]
  },
  {
   "cell_type": "code",
   "execution_count": 60,
   "metadata": {},
   "outputs": [],
   "source": [
    "def classify(df, keywords, label_column):\n",
    "\n",
    "    for key in keywords:\n",
    "        # Note that we add spaces around the key so that we're getting the word,\n",
    "        # not just pattern matching.\n",
    "        df[str(key)] = df.sentence.str.contains(\n",
    "            str(key) ,\n",
    "        case=False\n",
    "    )    \n",
    "    data = df[keywords]\n",
    "    target = df[label_column]\n",
    "    # Our data is binary / boolean, so we're importing the Bernoulli classifier.\n",
    "    from sklearn.naive_bayes import BernoulliNB\n",
    "\n",
    "    # Instantiate our model and store it in a new variable.\n",
    "    bnb = BernoulliNB()\n",
    "\n",
    "    # Fit our model to the data.\n",
    "    bnb.fit(data, target)\n",
    "\n",
    "    # Classify, storing the result in a new variable.\n",
    "    y_pred = bnb.predict(data)\n",
    "\n",
    "    missed=((target != y_pred)&(target==False)).sum()\n",
    "    false_alert=((target != y_pred)&(target==True)).sum()\n",
    "    # Display our results.\n",
    "    print(\"Number of mislabeled points out of a total cases {},  : {} , missed {} , false_alert {} \".format(\n",
    "       data.shape[0], \n",
    "       (target != y_pred).sum(), missed, false_alert\n",
    "    ))\n",
    "    "
   ]
  },
  {
   "cell_type": "code",
   "execution_count": 64,
   "metadata": {},
   "outputs": [
    {
     "data": {
      "text/plain": [
       "956    just reading on the specs alone makes you say ...\n",
       "957                             love it.. great armband.\n",
       "958    i really like this product over the motorola b...\n",
       "959    however, the keypads are so tinny that i somet...\n",
       "960    i exchanged the sony ericson z500a for this an...\n",
       "961    i was very impressed with the price of the cases.\n",
       "962                  also makes it easier to hold on to.\n",
       "963    i use this product in a motor control center w...\n",
       "964                                    it's pretty easy.\n",
       "965               i cannot make calls at certain places.\n",
       "966    however, my girl was complain that some time t...\n",
       "967                            beautiful styling though.\n",
       "968    this company charge me a restocking fee and st...\n",
       "969                i'm trying to return it for a refund.\n",
       "970    i plugged it in only to find out not a darn th...\n",
       "971                                   excellent product.\n",
       "972                          earbud piece breaks easily.\n",
       "973                                       lousy product.\n",
       "974    this phone tries very hard to do everything bu...\n",
       "975    it is the best charger i have seen on the mark...\n",
       "976                                    sweetest phone!!!\n",
       "977               :-)oh, the charger seems to work fine.\n",
       "978    it fits so securely that the ear hook does not...\n",
       "979                                   not enough volume.\n",
       "980                  echo problem....very unsatisfactory\n",
       "981    you could only take 2 videos at a time and the...\n",
       "982                              don't waste your money.\n",
       "983    i am going to have to be the first to negative...\n",
       "984    adapter does not provide enough charging current.\n",
       "985    there was so much hype over this phone that i ...\n",
       "986    you also cannot take pictures with it in the c...\n",
       "987                              phone falls out easily.\n",
       "988    it didn't work, people can not hear me when i ...\n",
       "989    the text messaging feature is really tricky to...\n",
       "990    i'm really disappointed all i have now is a ch...\n",
       "991                                  painful on the ear.\n",
       "992                     lasted one day and then blew up.\n",
       "993                                        disappointed.\n",
       "994                                kind of flops around.\n",
       "995    the screen does get smudged easily because it ...\n",
       "996    what a piece of junk.. i lose more calls on th...\n",
       "997                         item does not match picture.\n",
       "998    the only thing that disappoint me is the infra...\n",
       "999    you can not answer calls with the unit, never ...\n",
       "Name: sentence, dtype: object"
      ]
     },
     "execution_count": 64,
     "metadata": {},
     "output_type": "execute_result"
    }
   ],
   "source": [
    "df['sentence'].tail(44)"
   ]
  },
  {
   "cell_type": "code",
   "execution_count": 71,
   "metadata": {},
   "outputs": [
    {
     "name": "stdout",
     "output_type": "stream",
     "text": [
      "['sentence', 'label', 'bad', 'no way', 'jiggle', 'wasted', 'suddenly', 'unusable', 'waste', 'disappointed', 'unsatisfactory', 'junk', 'negative', 'does not', 'hard', 'flops', 'disappoint', '', 'tricky', 'problem', 'misleading', 'fall', 'never', 'return', 'however', 'blew']\n",
      "Number of mislabeled points out of a total cases 1000,  : 397 , missed 375 , false_alert 22 \n"
     ]
    },
    {
     "data": {
      "text/plain": [
       "0    False\n",
       "1     True\n",
       "2     True\n",
       "3    False\n",
       "4     True\n",
       "Name: label, dtype: bool"
      ]
     },
     "execution_count": 71,
     "metadata": {},
     "output_type": "execute_result"
    }
   ],
   "source": [
    "#\n",
    "bad_keywords = ['bad','only','never','however','problem','does not','fall','unusable','waste','disappoint','unsatisfactory','junk','negative','flops','tricky']\n",
    "print(list(df))\n",
    "df['sentence']=df['sentence'].str.lower()\n",
    "classify(df,bad_keywords,'label')\n",
    "tt.head(5)"
   ]
  },
  {
   "cell_type": "code",
   "execution_count": null,
   "metadata": {},
   "outputs": [],
   "source": []
  },
  {
   "cell_type": "markdown",
   "metadata": {},
   "source": [
    "##### second dataset\n",
    "df=pd.read_csv('..\\..\\datasets\\sentiment labelled sentences\\yelp_labelled.txt',sep='\\t'] )\n",
    "\n",
    "\n"
   ]
  },
  {
   "cell_type": "code",
   "execution_count": 72,
   "metadata": {},
   "outputs": [],
   "source": [
    "dm=pd.read_csv('..\\..\\datasets\\sentiment labelled sentences\\yelp_labelled.txt',sep='\\t' ,names= ['sentence','label'])\n",
    "dm['label'] = (dm['label'] == 1)"
   ]
  },
  {
   "cell_type": "code",
   "execution_count": 73,
   "metadata": {},
   "outputs": [
    {
     "data": {
      "text/plain": [
       "0                              Wow... Loved this place.\n",
       "1                                    Crust is not good.\n",
       "2             Not tasty and the texture was just nasty.\n",
       "3     Stopped by during the late May bank holiday of...\n",
       "4     The selection on the menu was great and so wer...\n",
       "5        Now I am getting angry and I want my damn pho.\n",
       "6                 Honeslty it didn't taste THAT fresh.)\n",
       "7     The potatoes were like rubber and you could te...\n",
       "8                             The fries were great too.\n",
       "9                                        A great touch.\n",
       "10                             Service was very prompt.\n",
       "11                                   Would not go back.\n",
       "12    The cashier had no care what so ever on what I...\n",
       "13    I tried the Cape Cod ravoli, chicken,with cran...\n",
       "14    I was disgusted because I was pretty sure that...\n",
       "15    I was shocked because no signs indicate cash o...\n",
       "16                                  Highly recommended.\n",
       "17               Waitress was a little slow in service.\n",
       "18    This place is not worth your time, let alone V...\n",
       "19                                 did not like at all.\n",
       "20                                  The Burrittos Blah!\n",
       "21                                   The food, amazing.\n",
       "22                                Service is also cute.\n",
       "23    I could care less... The interior is just beau...\n",
       "24                                   So they performed.\n",
       "25    That's right....the red velvet cake.....ohhh t...\n",
       "26           - They never brought a salad we asked for.\n",
       "27    This hole in the wall has great Mexican street...\n",
       "28    Took an hour to get our food only 4 tables in ...\n",
       "29                    The worst was the salmon sashimi.\n",
       "30    Also there are combos like a burger, fries, an...\n",
       "31                        This was like the final blow!\n",
       "32    I found this place by accident and I could not...\n",
       "33    seems like a good quick place to grab a bite o...\n",
       "34                    Overall, I like this place a lot.\n",
       "35    The only redeeming quality of the restaurant w...\n",
       "36                      Ample portions and good prices.\n",
       "37    Poor service, the waiter made me feel like I w...\n",
       "38                My first visit to Hiro was a delight!\n",
       "39                                       Service sucks.\n",
       "40                         The shrimp tender and moist.\n",
       "41    There is not a deal good enough that would dra...\n",
       "42    Hard to judge whether these sides were good be...\n",
       "43    On a positive note, our server was very attent...\n",
       "44    Frozen pucks of disgust, with some of the wors...\n",
       "45    The only thing I did like was the prime rib an...\n",
       "46            It's too bad the food is so damn generic.\n",
       "47          The burger is good beef, cooked just right.\n",
       "48    If you want a sandwich just go to any Firehous...\n",
       "49    My side Greek salad with the Greek dressing wa...\n",
       "50    We ordered the duck rare and it was pink and t...\n",
       "51    He came running after us when he realized my h...\n",
       "52                          Their chow mein is so good!\n",
       "53    They have horrible attitudes towards customers...\n",
       "54                                The portion was huge!\n",
       "Name: sentence, dtype: object"
      ]
     },
     "execution_count": 73,
     "metadata": {},
     "output_type": "execute_result"
    }
   ],
   "source": [
    "dm['sentence'].head(55)"
   ]
  },
  {
   "cell_type": "code",
   "execution_count": 84,
   "metadata": {},
   "outputs": [
    {
     "name": "stdout",
     "output_type": "stream",
     "text": [
      "['sentence', 'label', 'bad', 'no way', 'jiggle', 'wasted', 'suddenly', 'unusable', 'waste', 'disappointed', 'unsatisfactory', 'junk', 'negative', 'does not', 'hard', 'flops', 'disappoint', '', 'tricky', 'problem', 'misleading', 'fall', 'never', 'return', 'however', 'blew', 'only']\n",
      "Number of mislabeled points out of a total cases 1000,  : 406 , missed 392 , false_alert 14 \n"
     ]
    }
   ],
   "source": [
    "bad_keywords = ['bad','worst','did not','horrible','never','however','problem','disgust','fall','unusable','waste','disappoint','unsatisfact','junk','negative','slow','worth']\n",
    "print(list(df))\n",
    "dm['sentence']=dm['sentence'].str.lower()\n",
    "classify(dm,bad_keywords,'label')"
   ]
  },
  {
   "cell_type": "code",
   "execution_count": 88,
   "metadata": {},
   "outputs": [
    {
     "data": {
      "text/plain": [
       "array([0.6 , 0.59, 0.64, 0.62, 0.66, 0.51, 0.57, 0.55, 0.57, 0.71])"
      ]
     },
     "execution_count": 88,
     "metadata": {},
     "output_type": "execute_result"
    }
   ],
   "source": [
    "from sklearn.naive_bayes import BernoulliNB\n",
    "bnb = BernoulliNB()\n",
    "data=df.drop(['sentence','label'],axis=1)\n",
    "target=df['label']\n",
    "y_pred = bnb.fit(data, target).predict(data)\n",
    "from sklearn.model_selection import cross_val_score\n",
    "cross_val_score(bnb, data, target, cv=10)"
   ]
  },
  {
   "cell_type": "code",
   "execution_count": 89,
   "metadata": {},
   "outputs": [
    {
     "data": {
      "text/plain": [
       "array([0.65, 0.56, 0.65, 0.54, 0.63, 0.55, 0.57, 0.6 , 0.58, 0.63])"
      ]
     },
     "execution_count": 89,
     "metadata": {},
     "output_type": "execute_result"
    }
   ],
   "source": [
    "data=dm.drop(['sentence','label'],axis=1)\n",
    "target=dm['label']\n",
    "y_pred = bnb.fit(data, target).predict(data)\n",
    "from sklearn.model_selection import cross_val_score\n",
    "cross_val_score(bnb, data, target, cv=10)"
   ]
  },
  {
   "cell_type": "code",
   "execution_count": null,
   "metadata": {
    "collapsed": true
   },
   "outputs": [],
   "source": []
  }
 ],
 "metadata": {
  "kernelspec": {
   "display_name": "Python 3",
   "language": "python",
   "name": "python3"
  },
  "language_info": {
   "codemirror_mode": {
    "name": "ipython",
    "version": 3
   },
   "file_extension": ".py",
   "mimetype": "text/x-python",
   "name": "python",
   "nbconvert_exporter": "python",
   "pygments_lexer": "ipython3",
   "version": "3.6.7"
  },
  "latex_envs": {
   "LaTeX_envs_menu_present": true,
   "autoclose": false,
   "autocomplete": true,
   "bibliofile": "biblio.bib",
   "cite_by": "apalike",
   "current_citInitial": 1,
   "eqLabelWithNumbers": true,
   "eqNumInitial": 1,
   "hotkeys": {
    "equation": "Ctrl-E",
    "itemize": "Ctrl-I"
   },
   "labels_anchors": false,
   "latex_user_defs": false,
   "report_style_numbering": false,
   "user_envs_cfg": false
  },
  "toc": {
   "base_numbering": 1,
   "nav_menu": {},
   "number_sections": true,
   "sideBar": true,
   "skip_h1_title": false,
   "title_cell": "Table of Contents",
   "title_sidebar": "Contents",
   "toc_cell": false,
   "toc_position": {},
   "toc_section_display": true,
   "toc_window_display": false
  }
 },
 "nbformat": 4,
 "nbformat_minor": 2
}
