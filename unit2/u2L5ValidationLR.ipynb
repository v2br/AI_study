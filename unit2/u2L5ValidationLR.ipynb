{
 "cells": [
  {
   "cell_type": "code",
   "execution_count": 1,
   "metadata": {},
   "outputs": [],
   "source": [
    "import math\n",
    "\n",
    "from matplotlib import pyplot as plt\n",
    "import numpy as np\n",
    "import pandas as pd\n",
    "import seaborn as sns\n",
    "import statsmodels.formula.api as smf\n",
    "from statsmodels.sandbox.regression.predstd import wls_prediction_std\n",
    "\n",
    "%matplotlib inline\n",
    "sns.set_style('white')"
   ]
  },
  {
   "cell_type": "code",
   "execution_count": 2,
   "metadata": {
    "run_control": {
     "frozen": false,
     "read_only": false
    }
   },
   "outputs": [
    {
     "data": {
      "text/html": [
       "<div>\n",
       "<style scoped>\n",
       "    .dataframe tbody tr th:only-of-type {\n",
       "        vertical-align: middle;\n",
       "    }\n",
       "\n",
       "    .dataframe tbody tr th {\n",
       "        vertical-align: top;\n",
       "    }\n",
       "\n",
       "    .dataframe thead th {\n",
       "        text-align: right;\n",
       "    }\n",
       "</style>\n",
       "<table border=\"1\" class=\"dataframe\">\n",
       "  <thead>\n",
       "    <tr style=\"text-align: right;\">\n",
       "      <th></th>\n",
       "      <th>City</th>\n",
       "      <th>Population</th>\n",
       "      <th>ViolentCrime</th>\n",
       "      <th>Murder</th>\n",
       "      <th>Rape</th>\n",
       "      <th>Robbery</th>\n",
       "      <th>Assault</th>\n",
       "      <th>PropertyCrime</th>\n",
       "      <th>Burglary</th>\n",
       "      <th>LarcenyTheft</th>\n",
       "      <th>CarTheft</th>\n",
       "      <th>Arson</th>\n",
       "    </tr>\n",
       "  </thead>\n",
       "  <tbody>\n",
       "    <tr>\n",
       "      <th>0</th>\n",
       "      <td>Adams Village</td>\n",
       "      <td>1,851</td>\n",
       "      <td>0</td>\n",
       "      <td>0</td>\n",
       "      <td>NaN</td>\n",
       "      <td>0</td>\n",
       "      <td>0</td>\n",
       "      <td>11</td>\n",
       "      <td>1</td>\n",
       "      <td>10</td>\n",
       "      <td>0</td>\n",
       "      <td>0</td>\n",
       "    </tr>\n",
       "    <tr>\n",
       "      <th>1</th>\n",
       "      <td>Addison Town and Village</td>\n",
       "      <td>2,568</td>\n",
       "      <td>2</td>\n",
       "      <td>0</td>\n",
       "      <td>NaN</td>\n",
       "      <td>1</td>\n",
       "      <td>1</td>\n",
       "      <td>49</td>\n",
       "      <td>1</td>\n",
       "      <td>47</td>\n",
       "      <td>1</td>\n",
       "      <td>0</td>\n",
       "    </tr>\n",
       "    <tr>\n",
       "      <th>2</th>\n",
       "      <td>Afton Village4</td>\n",
       "      <td>820</td>\n",
       "      <td>0</td>\n",
       "      <td>0</td>\n",
       "      <td>0</td>\n",
       "      <td>0</td>\n",
       "      <td>0</td>\n",
       "      <td>1</td>\n",
       "      <td>0</td>\n",
       "      <td>1</td>\n",
       "      <td>0</td>\n",
       "      <td>0</td>\n",
       "    </tr>\n",
       "    <tr>\n",
       "      <th>3</th>\n",
       "      <td>Akron Village</td>\n",
       "      <td>2,842</td>\n",
       "      <td>1</td>\n",
       "      <td>0</td>\n",
       "      <td>NaN</td>\n",
       "      <td>0</td>\n",
       "      <td>1</td>\n",
       "      <td>17</td>\n",
       "      <td>0</td>\n",
       "      <td>17</td>\n",
       "      <td>0</td>\n",
       "      <td>0</td>\n",
       "    </tr>\n",
       "    <tr>\n",
       "      <th>4</th>\n",
       "      <td>Albany4</td>\n",
       "      <td>98,595</td>\n",
       "      <td>802</td>\n",
       "      <td>8</td>\n",
       "      <td>54</td>\n",
       "      <td>237</td>\n",
       "      <td>503</td>\n",
       "      <td>3,888</td>\n",
       "      <td>683</td>\n",
       "      <td>3,083</td>\n",
       "      <td>122</td>\n",
       "      <td>12</td>\n",
       "    </tr>\n",
       "  </tbody>\n",
       "</table>\n",
       "</div>"
      ],
      "text/plain": [
       "                       City Population ViolentCrime Murder Rape Robbery  \\\n",
       "0             Adams Village      1,851            0      0  NaN       0   \n",
       "1  Addison Town and Village      2,568            2      0  NaN       1   \n",
       "2            Afton Village4        820            0      0    0       0   \n",
       "3             Akron Village      2,842            1      0  NaN       0   \n",
       "4                   Albany4     98,595          802      8   54     237   \n",
       "\n",
       "  Assault PropertyCrime Burglary LarcenyTheft CarTheft Arson  \n",
       "0       0            11        1           10        0     0  \n",
       "1       1            49        1           47        1     0  \n",
       "2       0             1        0            1        0     0  \n",
       "3       1            17        0           17        0     0  \n",
       "4     503         3,888      683        3,083      122    12  "
      ]
     },
     "execution_count": 2,
     "metadata": {},
     "output_type": "execute_result"
    }
   ],
   "source": [
    "# Read data into a DataFrame.  diffrent year !!!!\n",
    "data_url = '..\\..\\datasets\\offenses_Known_to_Law_Enforcement_by_New_York_by_City_2014.csv'\n",
    "data=pd.read_csv(data_url, dtype={'Murder': str,'Arson':str})\n",
    "\n",
    "data.head()\n"
   ]
  },
  {
   "cell_type": "code",
   "execution_count": 3,
   "metadata": {},
   "outputs": [
    {
     "name": "stdout",
     "output_type": "stream",
     "text": [
      "City             object\n",
      "Population       object\n",
      "ViolentCrime     object\n",
      "Murder           object\n",
      "Rape             object\n",
      "Robbery          object\n",
      "Assault          object\n",
      "PropertyCrime    object\n",
      "Burglary         object\n",
      "LarcenyTheft     object\n",
      "CarTheft         object\n",
      "Arson            object\n",
      "dtype: object\n"
     ]
    }
   ],
   "source": [
    "\n",
    "#data['Population']=data['Population'].apply(fn)\n",
    "print(data.dtypes)"
   ]
  },
  {
   "cell_type": "code",
   "execution_count": 4,
   "metadata": {},
   "outputs": [
    {
     "name": "stdout",
     "output_type": "stream",
     "text": [
      "['Population', 'ViolentCrime', 'Murder', 'Rape', 'Robbery', 'Assault', 'PropertyCrime', 'Burglary', 'LarcenyTheft', 'CarTheft', 'Arson']\n"
     ]
    }
   ],
   "source": [
    "# Write out the model formula.\n",
    "# Your dependent variable on the right, independent variables on the left\n",
    "# Use a ~ to represent an '=' from the functional form\n",
    "df=data.drop(['City'],axis=1)\n",
    "#  make pupulation a number\n",
    "#dfm = df.apply(lambda x: x.str.replace(',','').apply(pd.to_numeri\n",
    "dfm=df.apply(lambda x: x.str.replace(',','').apply(pd.to_numeric))\n",
    "dfm.fillna(0, inplace=True)\n",
    "print(list(dfm))"
   ]
  },
  {
   "cell_type": "code",
   "execution_count": 5,
   "metadata": {},
   "outputs": [
    {
     "data": {
      "text/html": [
       "<table class=\"simpletable\">\n",
       "<caption>OLS Regression Results</caption>\n",
       "<tr>\n",
       "  <th>Dep. Variable:</th>      <td>PropertyCrime</td>  <th>  R-squared:         </th>  <td>   1.000</td> \n",
       "</tr>\n",
       "<tr>\n",
       "  <th>Model:</th>                   <td>OLS</td>       <th>  Adj. R-squared:    </th>  <td>   1.000</td> \n",
       "</tr>\n",
       "<tr>\n",
       "  <th>Method:</th>             <td>Least Squares</td>  <th>  F-statistic:       </th>  <td>9.569e+28</td>\n",
       "</tr>\n",
       "<tr>\n",
       "  <th>Date:</th>             <td>Wed, 30 Sep 2020</td> <th>  Prob (F-statistic):</th>   <td>  0.00</td>  \n",
       "</tr>\n",
       "<tr>\n",
       "  <th>Time:</th>                 <td>16:47:40</td>     <th>  Log-Likelihood:    </th>  <td>  7873.8</td> \n",
       "</tr>\n",
       "<tr>\n",
       "  <th>No. Observations:</th>      <td>   369</td>      <th>  AIC:               </th> <td>-1.572e+04</td>\n",
       "</tr>\n",
       "<tr>\n",
       "  <th>Df Residuals:</th>          <td>   357</td>      <th>  BIC:               </th> <td>-1.568e+04</td>\n",
       "</tr>\n",
       "<tr>\n",
       "  <th>Df Model:</th>              <td>    11</td>      <th>                     </th>      <td> </td>    \n",
       "</tr>\n",
       "<tr>\n",
       "  <th>Covariance Type:</th>      <td>nonrobust</td>    <th>                     </th>      <td> </td>    \n",
       "</tr>\n",
       "</table>\n",
       "<table class=\"simpletable\">\n",
       "<tr>\n",
       "        <td></td>           <th>coef</th>     <th>std err</th>      <th>t</th>      <th>P>|t|</th>  <th>[0.025</th>    <th>0.975]</th>  \n",
       "</tr>\n",
       "<tr>\n",
       "  <th>Intercept</th>     <td> 7.105e-14</td> <td> 8.91e-12</td> <td>    0.008</td> <td> 0.994</td> <td>-1.74e-11</td> <td> 1.76e-11</td>\n",
       "</tr>\n",
       "<tr>\n",
       "  <th>Population</th>    <td>-1.475e-17</td> <td> 7.67e-16</td> <td>   -0.019</td> <td> 0.985</td> <td>-1.52e-15</td> <td> 1.49e-15</td>\n",
       "</tr>\n",
       "<tr>\n",
       "  <th>ViolentCrime</th>  <td> 6.395e-14</td> <td> 5.76e-12</td> <td>    0.011</td> <td> 0.991</td> <td>-1.13e-11</td> <td> 1.14e-11</td>\n",
       "</tr>\n",
       "<tr>\n",
       "  <th>Murder</th>        <td> 1.421e-13</td> <td> 1.42e-11</td> <td>    0.010</td> <td> 0.992</td> <td>-2.79e-11</td> <td> 2.82e-11</td>\n",
       "</tr>\n",
       "<tr>\n",
       "  <th>Rape</th>          <td>-2.487e-14</td> <td> 6.28e-12</td> <td>   -0.004</td> <td> 0.997</td> <td>-1.24e-11</td> <td> 1.23e-11</td>\n",
       "</tr>\n",
       "<tr>\n",
       "  <th>Robbery</th>       <td>-4.619e-14</td> <td>    6e-12</td> <td>   -0.008</td> <td> 0.994</td> <td>-1.18e-11</td> <td> 1.17e-11</td>\n",
       "</tr>\n",
       "<tr>\n",
       "  <th>Assault</th>       <td>-2.132e-14</td> <td> 5.59e-12</td> <td>   -0.004</td> <td> 0.997</td> <td> -1.1e-11</td> <td>  1.1e-11</td>\n",
       "</tr>\n",
       "<tr>\n",
       "  <th>PropertyCrime</th> <td>    1.0000</td> <td> 2.67e-11</td> <td> 3.75e+10</td> <td> 0.000</td> <td>    1.000</td> <td>    1.000</td>\n",
       "</tr>\n",
       "<tr>\n",
       "  <th>Burglary</th>      <td>-3.197e-14</td> <td> 2.67e-11</td> <td>   -0.001</td> <td> 0.999</td> <td>-5.25e-11</td> <td> 5.24e-11</td>\n",
       "</tr>\n",
       "<tr>\n",
       "  <th>LarcenyTheft</th>  <td>-1.243e-14</td> <td> 2.67e-11</td> <td>   -0.000</td> <td> 1.000</td> <td>-5.25e-11</td> <td> 5.24e-11</td>\n",
       "</tr>\n",
       "<tr>\n",
       "  <th>CarTheft</th>      <td> 5.329e-15</td> <td> 2.67e-11</td> <td>    0.000</td> <td> 1.000</td> <td>-5.25e-11</td> <td> 5.25e-11</td>\n",
       "</tr>\n",
       "<tr>\n",
       "  <th>Arson</th>         <td>-8.882e-15</td> <td> 3.46e-12</td> <td>   -0.003</td> <td> 0.998</td> <td>-6.82e-12</td> <td>  6.8e-12</td>\n",
       "</tr>\n",
       "</table>\n",
       "<table class=\"simpletable\">\n",
       "<tr>\n",
       "  <th>Omnibus:</th>       <td>868.594</td> <th>  Durbin-Watson:     </th>  <td>   1.996</td>  \n",
       "</tr>\n",
       "<tr>\n",
       "  <th>Prob(Omnibus):</th> <td> 0.000</td>  <th>  Jarque-Bera (JB):  </th> <td>1996453.069</td>\n",
       "</tr>\n",
       "<tr>\n",
       "  <th>Skew:</th>          <td>-18.915</td> <th>  Prob(JB):          </th>  <td>    0.00</td>  \n",
       "</tr>\n",
       "<tr>\n",
       "  <th>Kurtosis:</th>      <td>361.357</td> <th>  Cond. No.          </th>  <td>3.41e+06</td>  \n",
       "</tr>\n",
       "</table><br/><br/>Warnings:<br/>[1] Standard Errors assume that the covariance matrix of the errors is correctly specified.<br/>[2] The condition number is large, 3.41e+06. This might indicate that there are<br/>strong multicollinearity or other numerical problems."
      ],
      "text/plain": [
       "<class 'statsmodels.iolib.summary.Summary'>\n",
       "\"\"\"\n",
       "                            OLS Regression Results                            \n",
       "==============================================================================\n",
       "Dep. Variable:          PropertyCrime   R-squared:                       1.000\n",
       "Model:                            OLS   Adj. R-squared:                  1.000\n",
       "Method:                 Least Squares   F-statistic:                 9.569e+28\n",
       "Date:                Wed, 30 Sep 2020   Prob (F-statistic):               0.00\n",
       "Time:                        16:47:40   Log-Likelihood:                 7873.8\n",
       "No. Observations:                 369   AIC:                        -1.572e+04\n",
       "Df Residuals:                     357   BIC:                        -1.568e+04\n",
       "Df Model:                          11                                         \n",
       "Covariance Type:            nonrobust                                         \n",
       "=================================================================================\n",
       "                    coef    std err          t      P>|t|      [0.025      0.975]\n",
       "---------------------------------------------------------------------------------\n",
       "Intercept      7.105e-14   8.91e-12      0.008      0.994   -1.74e-11    1.76e-11\n",
       "Population    -1.475e-17   7.67e-16     -0.019      0.985   -1.52e-15    1.49e-15\n",
       "ViolentCrime   6.395e-14   5.76e-12      0.011      0.991   -1.13e-11    1.14e-11\n",
       "Murder         1.421e-13   1.42e-11      0.010      0.992   -2.79e-11    2.82e-11\n",
       "Rape          -2.487e-14   6.28e-12     -0.004      0.997   -1.24e-11    1.23e-11\n",
       "Robbery       -4.619e-14      6e-12     -0.008      0.994   -1.18e-11    1.17e-11\n",
       "Assault       -2.132e-14   5.59e-12     -0.004      0.997    -1.1e-11     1.1e-11\n",
       "PropertyCrime     1.0000   2.67e-11   3.75e+10      0.000       1.000       1.000\n",
       "Burglary      -3.197e-14   2.67e-11     -0.001      0.999   -5.25e-11    5.24e-11\n",
       "LarcenyTheft  -1.243e-14   2.67e-11     -0.000      1.000   -5.25e-11    5.24e-11\n",
       "CarTheft       5.329e-15   2.67e-11      0.000      1.000   -5.25e-11    5.25e-11\n",
       "Arson         -8.882e-15   3.46e-12     -0.003      0.998   -6.82e-12     6.8e-12\n",
       "==============================================================================\n",
       "Omnibus:                      868.594   Durbin-Watson:                   1.996\n",
       "Prob(Omnibus):                  0.000   Jarque-Bera (JB):          1996453.069\n",
       "Skew:                         -18.915   Prob(JB):                         0.00\n",
       "Kurtosis:                     361.357   Cond. No.                     3.41e+06\n",
       "==============================================================================\n",
       "\n",
       "Warnings:\n",
       "[1] Standard Errors assume that the covariance matrix of the errors is correctly specified.\n",
       "[2] The condition number is large, 3.41e+06. This might indicate that there are\n",
       "strong multicollinearity or other numerical problems.\n",
       "\"\"\""
      ]
     },
     "execution_count": 5,
     "metadata": {},
     "output_type": "execute_result"
    }
   ],
   "source": [
    "\n",
    "linear_formula = 'PropertyCrime ~Population + ViolentCrime + Murder + Rape + Robbery + Assault + PropertyCrime + Burglary + LarcenyTheft + CarTheft + Arson' \n",
    "# Fit the model to our data using the formula.\n",
    "lm = smf.ols(formula=linear_formula, data=dfm).fit()\n",
    "lm.summary()"
   ]
  },
  {
   "cell_type": "markdown",
   "metadata": {},
   "source": [
    "Let's look at the coefficients of our model."
   ]
  },
  {
   "cell_type": "markdown",
   "metadata": {},
   "source": [
    "And at the p-values as a significance test for each of the coefficients."
   ]
  },
  {
   "cell_type": "code",
   "execution_count": 6,
   "metadata": {},
   "outputs": [
    {
     "data": {
      "text/plain": [
       "Intercept        0.993641\n",
       "Population       0.984666\n",
       "ViolentCrime     0.991147\n",
       "Murder           0.992045\n",
       "Rape             0.996844\n",
       "Robbery          0.993858\n",
       "Assault          0.996959\n",
       "PropertyCrime    0.000000\n",
       "Burglary         0.999044\n",
       "LarcenyTheft     0.999628\n",
       "CarTheft         0.999841\n",
       "Arson            0.997954\n",
       "dtype: float64"
      ]
     },
     "execution_count": 6,
     "metadata": {},
     "output_type": "execute_result"
    }
   ],
   "source": [
    "lm.pvalues"
   ]
  },
  {
   "cell_type": "markdown",
   "metadata": {},
   "source": [
    "Finally, here's our $R^2$:"
   ]
  },
  {
   "cell_type": "code",
   "execution_count": 7,
   "metadata": {},
   "outputs": [
    {
     "data": {
      "text/plain": [
       "1.0"
      ]
     },
     "execution_count": 7,
     "metadata": {},
     "output_type": "execute_result"
    }
   ],
   "source": [
    "lm.rsquared"
   ]
  },
  {
   "cell_type": "code",
   "execution_count": 8,
   "metadata": {},
   "outputs": [
    {
     "data": {
      "text/html": [
       "<div>\n",
       "<style scoped>\n",
       "    .dataframe tbody tr th:only-of-type {\n",
       "        vertical-align: middle;\n",
       "    }\n",
       "\n",
       "    .dataframe tbody tr th {\n",
       "        vertical-align: top;\n",
       "    }\n",
       "\n",
       "    .dataframe thead th {\n",
       "        text-align: right;\n",
       "    }\n",
       "</style>\n",
       "<table border=\"1\" class=\"dataframe\">\n",
       "  <thead>\n",
       "    <tr style=\"text-align: right;\">\n",
       "      <th></th>\n",
       "      <th>0</th>\n",
       "      <th>1</th>\n",
       "    </tr>\n",
       "  </thead>\n",
       "  <tbody>\n",
       "    <tr>\n",
       "      <th>Intercept</th>\n",
       "      <td>-1.744993e-11</td>\n",
       "      <td>1.759204e-11</td>\n",
       "    </tr>\n",
       "    <tr>\n",
       "      <th>Population</th>\n",
       "      <td>-1.522516e-15</td>\n",
       "      <td>1.493026e-15</td>\n",
       "    </tr>\n",
       "    <tr>\n",
       "      <th>ViolentCrime</th>\n",
       "      <td>-1.126207e-11</td>\n",
       "      <td>1.138997e-11</td>\n",
       "    </tr>\n",
       "    <tr>\n",
       "      <th>Murder</th>\n",
       "      <td>-2.787001e-11</td>\n",
       "      <td>2.815422e-11</td>\n",
       "    </tr>\n",
       "    <tr>\n",
       "      <th>Rape</th>\n",
       "      <td>-1.238134e-11</td>\n",
       "      <td>1.233160e-11</td>\n",
       "    </tr>\n",
       "    <tr>\n",
       "      <th>Robbery</th>\n",
       "      <td>-1.183760e-11</td>\n",
       "      <td>1.174523e-11</td>\n",
       "    </tr>\n",
       "    <tr>\n",
       "      <th>Assault</th>\n",
       "      <td>-1.101138e-11</td>\n",
       "      <td>1.096874e-11</td>\n",
       "    </tr>\n",
       "    <tr>\n",
       "      <th>PropertyCrime</th>\n",
       "      <td>1.000000e+00</td>\n",
       "      <td>1.000000e+00</td>\n",
       "    </tr>\n",
       "    <tr>\n",
       "      <th>Burglary</th>\n",
       "      <td>-5.247015e-11</td>\n",
       "      <td>5.240620e-11</td>\n",
       "    </tr>\n",
       "    <tr>\n",
       "      <th>LarcenyTheft</th>\n",
       "      <td>-5.245675e-11</td>\n",
       "      <td>5.243188e-11</td>\n",
       "    </tr>\n",
       "    <tr>\n",
       "      <th>CarTheft</th>\n",
       "      <td>-5.250086e-11</td>\n",
       "      <td>5.251152e-11</td>\n",
       "    </tr>\n",
       "    <tr>\n",
       "      <th>Arson</th>\n",
       "      <td>-6.817093e-12</td>\n",
       "      <td>6.799330e-12</td>\n",
       "    </tr>\n",
       "  </tbody>\n",
       "</table>\n",
       "</div>"
      ],
      "text/plain": [
       "                          0             1\n",
       "Intercept     -1.744993e-11  1.759204e-11\n",
       "Population    -1.522516e-15  1.493026e-15\n",
       "ViolentCrime  -1.126207e-11  1.138997e-11\n",
       "Murder        -2.787001e-11  2.815422e-11\n",
       "Rape          -1.238134e-11  1.233160e-11\n",
       "Robbery       -1.183760e-11  1.174523e-11\n",
       "Assault       -1.101138e-11  1.096874e-11\n",
       "PropertyCrime  1.000000e+00  1.000000e+00\n",
       "Burglary      -5.247015e-11  5.240620e-11\n",
       "LarcenyTheft  -5.245675e-11  5.243188e-11\n",
       "CarTheft      -5.250086e-11  5.251152e-11\n",
       "Arson         -6.817093e-12  6.799330e-12"
      ]
     },
     "execution_count": 8,
     "metadata": {},
     "output_type": "execute_result"
    }
   ],
   "source": [
    "lm.conf_int()"
   ]
  },
  {
   "cell_type": "code",
   "execution_count": 9,
   "metadata": {},
   "outputs": [
    {
     "data": {
      "image/png": "[encoded data removed]",
      "text/plain": [
       "<Figure size 432x288 with 1 Axes>"
      ]
     },
     "metadata": {
      "needs_background": "light"
     },
     "output_type": "display_data"
    }
   ],
   "source": [
    "# Use wls_prediction_std to build confidence intervals\n",
    "prstd, iv_l, iv_u = wls_prediction_std(lm)\n",
    "\n",
    "plt.figure()\n",
    "plt.plot(iv_u[0:15], 'o', color='r')\n",
    "plt.plot(iv_l[0:15], 'o', color='r')\n",
    "plt.plot(lm.fittedvalues[0:15], 'o', color='b')\n",
    "plt.title('blue: predicted, red: 95% CI')\n",
    "plt.show()"
   ]
  },
  {
   "cell_type": "markdown",
   "metadata": {},
   "source": [
    "#### Analyzing the model\n",
    "The whole model doesn't look right. What can be done to fix it? \n",
    "Does it explain the variance? Can we drop anything without loosing much? \n",
    "What will be theresult of dropping half of variables?\n"
   ]
  },
  {
   "cell_type": "code",
   "execution_count": 10,
   "metadata": {},
   "outputs": [],
   "source": [
    "# evaluating the whole model\n",
    "from sklearn.feature_selection import f_regression\n",
    "# need to prepare X np.array , y np.array \n",
    "\n",
    "#dfm f_test, _ = f_regression(X, y) \n"
   ]
  },
  {
   "cell_type": "markdown",
   "metadata": {},
   "source": [
    "#\n",
    "### let's try it different way\n",
    "#"
   ]
  },
  {
   "cell_type": "code",
   "execution_count": 11,
   "metadata": {},
   "outputs": [],
   "source": [
    "from sklearn.decomposition import PCA\n",
    "pr=dfm.drop(['PropertyCrime'],axis=1)\n",
    "# now we have only numbers\n",
    "pca = PCA(n_components=3)\n",
    "pcs = pca.fit_transform(pr)\n"
   ]
  },
  {
   "cell_type": "code",
   "execution_count": 12,
   "metadata": {},
   "outputs": [
    {
     "name": "stdout",
     "output_type": "stream",
     "text": [
      "\n",
      "Coefficients: \n",
      " [0.01606324 1.37765089 0.05883274]\n",
      "\n",
      "Intercept: \n",
      " 696.0793199073408\n",
      "\n",
      "R2-squared:\n",
      "0.9999687812509848\n"
     ]
    }
   ],
   "source": [
    "from sklearn.model_selection import train_test_split\n",
    "from sklearn import linear_model\n",
    "\n",
    "y=dfm['PropertyCrime']\n",
    "X_train, X_test, y_train, y_test = train_test_split(pcs, y, test_size=0.2, random_state=20)\n",
    "\n",
    "# now fit and get the model on train data\n",
    "# Instantiate and fit our model.\n",
    "regr = linear_model.LinearRegression()\n",
    "regr.fit(X_train, y_train)\n",
    "# try \n",
    "y_pred= regr.predict(X_train)\n",
    "resid = y_train - y_pred\n",
    "# Inspect the results.\n",
    "print('\\nCoefficients: \\n', regr.coef_)\n",
    "print('\\nIntercept: \\n', regr.intercept_)\n",
    "print('\\nR2-squared:' )\n",
    "\n",
    "#print(regr.score(pr_t.ravel, y_train.ravel))\n",
    "from sklearn.metrics import r2_score\n",
    "print(r2_score(y_train, y_pred))\n",
    "# need two separate things fit and model with clear comments on what exactly they are doing \n",
    "#"
   ]
  },
  {
   "cell_type": "code",
   "execution_count": 13,
   "metadata": {},
   "outputs": [
    {
     "name": "stdout",
     "output_type": "stream",
     "text": [
      "\n",
      "Coefficients: \n",
      " [0.01606324 1.37765089 0.05883274]\n",
      "\n",
      "Intercept: \n",
      " 696.0793199073408\n",
      "\n",
      "R2-squared:\n",
      "0.9781149816845686\n"
     ]
    }
   ],
   "source": [
    "# now on test set \n",
    "ytest_pred= regr.predict(X_test)\n",
    "resid = y_test - ytest_pred\n",
    "# Inspect the results.\n",
    "print('\\nCoefficients: \\n', regr.coef_)\n",
    "print('\\nIntercept: \\n', regr.intercept_)\n",
    "print('\\nR2-squared:' )\n",
    "\n",
    "#print(regr.score(pr_t.ravel, y_train.ravel))\n",
    "print(r2_score(y_test, ytest_pred))\n",
    "# need two separate things fit and model with clear comments on what exactly they are doing \n",
    "#"
   ]
  },
  {
   "cell_type": "code",
   "execution_count": 14,
   "metadata": {},
   "outputs": [],
   "source": [
    "# ------------- looks ok ------------\n"
   ]
  },
  {
   "cell_type": "code",
   "execution_count": 15,
   "metadata": {},
   "outputs": [
    {
     "name": "stdout",
     "output_type": "stream",
     "text": [
      "cross_val_scores:  [0.99935899 0.99482517 0.99090626 0.98890779 0.99535482] mean for cv_scores 0.9938706061976397\n"
     ]
    }
   ],
   "source": [
    "from sklearn.model_selection import cross_val_score\n",
    "data=pcs\n",
    "target =y\n",
    "cv_scores = cross_val_score(regr , data, target, cv=5)\n",
    "print(\"cross_val_scores: \", cv_scores, 'mean for cv_scores', np.mean(cv_scores))\n"
   ]
  },
  {
   "cell_type": "code",
   "execution_count": 16,
   "metadata": {},
   "outputs": [],
   "source": [
    "# ---- looks OK"
   ]
  },
  {
   "cell_type": "code",
   "execution_count": 17,
   "metadata": {},
   "outputs": [
    {
     "name": "stdout",
     "output_type": "stream",
     "text": [
      " root of  mean_squared_error 44.360630175526026\n"
     ]
    }
   ],
   "source": [
    "from sklearn.metrics import mean_squared_error\n",
    "from math import sqrt    \n",
    "\n",
    "rms = sqrt(mean_squared_error( y_train , y_pred))\n",
    "print(\" root of  mean_squared_error\", rms)"
   ]
  },
  {
   "cell_type": "code",
   "execution_count": 18,
   "metadata": {},
   "outputs": [
    {
     "name": "stdout",
     "output_type": "stream",
     "text": [
      " root of  mean_squared_error 38.78193481370835\n"
     ]
    }
   ],
   "source": [
    "rms = sqrt(mean_squared_error( y_test , ytest_pred))\n",
    "print(\" root of  mean_squared_error\", rms)"
   ]
  },
  {
   "cell_type": "markdown",
   "metadata": {},
   "source": [
    "## KNN model:  Nearest Neighbor.\n",
    " \n",
    " we use pca , then  separate test and train and predict \n",
    " "
   ]
  },
  {
   "cell_type": "code",
   "execution_count": 19,
   "metadata": {},
   "outputs": [
    {
     "name": "stdout",
     "output_type": "stream",
     "text": [
      "cross_val_scores:  [0.28947368 0.42990654 0.54347826 0.5862069  0.4375     0.63636364\n",
      " 1.        ] mean for cv_scores 0.5604184314359324\n"
     ]
    },
    {
     "name": "stderr",
     "output_type": "stream",
     "text": [
      "C:\\ProgramData\\Anaconda3\\lib\\site-packages\\sklearn\\model_selection\\_split.py:657: Warning: The least populated class in y has only 1 members, which is too few. The minimum number of members in any class cannot be less than n_splits=7.\n",
      "  % (min_groups, self.n_splits)), Warning)\n"
     ]
    }
   ],
   "source": [
    "from sklearn.neighbors import KNeighborsClassifier\n",
    "neighbors = KNeighborsClassifier(n_neighbors=2)\n",
    "#\n",
    "# data better be normalized; so we will use X after fillna and pca \n",
    "#\n",
    "X = pcs\n",
    "#X_train, X_test, y_train, y_test = train_test_split(X, y, test_size=0.2, random_state=1)\n",
    "neighbors.fit(X,y)\n",
    "y = neighbors.predict(X)\n",
    "cv_scores = cross_val_score(neighbors, X, y, cv=7)\n",
    "print(\"cross_val_scores: \", cv_scores, 'mean for cv_scores', np.mean(cv_scores))\n"
   ]
  },
  {
   "cell_type": "code",
   "execution_count": 20,
   "metadata": {},
   "outputs": [
    {
     "name": "stdout",
     "output_type": "stream",
     "text": [
      "R2 for Train data with pca\n",
      "0.7596524448018055\n",
      "R2 for Test data with pca\n",
      "0.6185817820784146\n"
     ]
    }
   ],
   "source": [
    "# try  with holdout\n",
    "#  i am still using pca!\n",
    "\n",
    "X_train, X_test, y_train, y_test = train_test_split(X, y, test_size=0.2, random_state=1)\n",
    "neighbors.fit(X_train,y_train)\n",
    "ytrain_pred = neighbors.predict(X_train)\n",
    "print ('R2 for Train data with pca')\n",
    "print(r2_score(y_train, ytrain_pred))\n",
    "\n",
    "ytest_pred = neighbors.predict(X_test)\n",
    "print ('R2 for Test data with pca')\n",
    "print(r2_score(y_test, ytest_pred))\n"
   ]
  },
  {
   "cell_type": "code",
   "execution_count": null,
   "metadata": {},
   "outputs": [],
   "source": []
  },
  {
   "cell_type": "code",
   "execution_count": null,
   "metadata": {},
   "outputs": [],
   "source": []
  }
 ],
 "metadata": {
  "hide_input": false,
  "kernelspec": {
   "display_name": "Python 3",
   "language": "python",
   "name": "python3"
  },
  "language_info": {
   "codemirror_mode": {
    "name": "ipython",
    "version": 3
   },
   "file_extension": ".py",
   "mimetype": "text/x-python",
   "name": "python",
   "nbconvert_exporter": "python",
   "pygments_lexer": "ipython3",
   "version": "3.7.4"
  },
  "toc": {
   "colors": {
    "hover_highlight": "#DAA520",
    "running_highlight": "#FF0000",
    "selected_highlight": "#FFD700"
   },
   "moveMenuLeft": true,
   "nav_menu": {
    "height": "68px",
    "width": "252px"
   },
   "navigate_menu": true,
   "number_sections": true,
   "sideBar": true,
   "threshold": 4,
   "toc_cell": false,
   "toc_section_display": "block",
   "toc_window_display": false
  }
 },
 "nbformat": 4,
 "nbformat_minor": 4
}
