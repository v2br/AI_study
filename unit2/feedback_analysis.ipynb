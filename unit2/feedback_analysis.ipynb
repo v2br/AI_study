{
 "cells": [
  {
   "cell_type": "markdown",
   "metadata": {},
   "source": [
    "### Feedback analysis\n",
    "perform a sentiment analysis, classifying whether feedback left on a website is either positive or negative.\n"
   ]
  },
  {
   "cell_type": "code",
   "execution_count": 1,
   "metadata": {
    "collapsed": true
   },
   "outputs": [],
   "source": [
    "%matplotlib inline\n",
    "import numpy as np\n",
    "import pandas as pd\n",
    "import scipy\n",
    "import sklearn\n",
    "import matplotlib.pyplot as plt\n",
    "import seaborn as sns\n"
   ]
  },
  {
   "cell_type": "code",
   "execution_count": 2,
   "metadata": {
    "collapsed": true
   },
   "outputs": [],
   "source": [
    "df=pd.read_csv('..\\..\\datasets\\sentiment labelled sentences\\zamazon_cells_labelled.txt',sep='\\t',names = ['sentence','label'] )\n",
    "#yelp_labelled.txt\n",
    "# amazon_cells_labelled.txt\n",
    "#imdb_labelled.txt\n",
    "# good excellent great must impressed love well right nice beautiful great \n",
    "# bad: bad terrible waste misleading unusable  poor garbage disappointed worthless fooled suddenly"
   ]
  },
  {
   "cell_type": "code",
   "execution_count": 13,
   "metadata": {},
   "outputs": [
    {
     "data": {
      "text/plain": [
       "500"
      ]
     },
     "execution_count": 13,
     "metadata": {},
     "output_type": "execute_result"
    }
   ],
   "source": [
    "df['label'] = (df['label'] == 1)\n",
    "# Note that if you run this cell a second time everything will become false.\n",
    "# So... Don't.\n",
    "df.head(3)\n",
    "df['label'].sum()"
   ]
  },
  {
   "cell_type": "code",
   "execution_count": 7,
   "metadata": {},
   "outputs": [
    {
     "data": {
      "text/plain": [
       "<matplotlib.axes._subplots.AxesSubplot at 0x1a3c783b780>"
      ]
     },
     "execution_count": 7,
     "metadata": {},
     "output_type": "execute_result"
    },
    {
     "data": {
      "image/png": "[encoded data removed]",
      "text/plain": [
       "<matplotlib.figure.Figure at 0x1a3c3dd64a8>"
      ]
     },
     "metadata": {},
     "output_type": "display_data"
    }
   ],
   "source": [
    "\n",
    "dt=df.drop(['sentence'],axis=1)\n",
    "\n",
    "sns.heatmap(dt.corr())\n"
   ]
  },
  {
   "cell_type": "code",
   "execution_count": 60,
   "metadata": {
    "collapsed": true
   },
   "outputs": [],
   "source": [
    "def classify(df, keywords, label_column):\n",
    "\n",
    "    for key in keywords:\n",
    "        # Note that we add spaces around the key so that we're getting the word,\n",
    "        # not just pattern matching.\n",
    "        df[str(key)] = df.sentence.str.contains(\n",
    "            str(key) ,\n",
    "        case=False\n",
    "    )    \n",
    "    data = df[keywords]\n",
    "    target = df[label_column]\n",
    "    # Our data is binary / boolean, so we're importing the Bernoulli classifier.\n",
    "    from sklearn.naive_bayes import BernoulliNB\n",
    "\n",
    "    # Instantiate our model and store it in a new variable.\n",
    "    bnb = BernoulliNB()\n",
    "\n",
    "    # Fit our model to the data.\n",
    "    bnb.fit(data, target)\n",
    "\n",
    "    # Classify, storing the result in a new variable.\n",
    "    y_pred = bnb.predict(data)\n",
    "\n",
    "    missed=((target != y_pred)&(target==False)).sum()\n",
    "    false_alert=((target != y_pred)&(target==True)).sum()\n",
    "    # Display our results.\n",
    "    print(\"Number of mislabeled points out of a total cases {},  : {} , missed {} , false_alert {} \".format(\n",
    "       data.shape[0], \n",
    "       (target != y_pred).sum(), missed, false_alert\n",
    "    ))\n",
    "    "
   ]
  },
  {
   "cell_type": "code",
   "execution_count": 146,
   "metadata": {},
   "outputs": [
    {
     "data": {
      "text/plain": [
       "895                 it was quite comfortable in the ear.\n",
       "896                                         great phone.\n",
       "897                  don't buy this product - it fails!.\n",
       "898         everything about this product is wrong.first\n",
       "899    the pairing of the two devices was so easy it ...\n",
       "900    this was utterly confusing at first, which cau...\n",
       "901                               terrible phone holder.\n",
       "902        the cutouts and buttons are placed perfectly.\n",
       "903    i love being able to use one headset for both ...\n",
       "904    problem is that the ear loops are made of weak...\n",
       "905    not nearly as good looking as the amazon pictu...\n",
       "906    but despite these few flaws, this case is of e...\n",
       "907                                  how stupid is that?\n",
       "908    i can hear while i'm driving in the car, and u...\n",
       "909    seller shipped quickly and much cheaper than t...\n",
       "910                                  good show, samsung.\n",
       "911    so i bought about 10 of these and saved alot o...\n",
       "912    it always cuts out and makes a beep beep beep ...\n",
       "913                               couldn't figure it out\n",
       "914    my phone sounded ok ( not great - ok), but my ...\n",
       "915    so i had to take the battery out of the phone ...\n",
       "916    while i managed to bend the leaf spring back i...\n",
       "917                  leopard print is wonderfully wild!.\n",
       "918                                        works for me.\n",
       "919                         saggy, floppy piece of junk.\n",
       "920             much better than the hard plastic cases.\n",
       "921                           it also had a new problem.\n",
       "922                                       happy so far!.\n",
       "923                                          cool phone.\n",
       "924                                          works good.\n",
       "                             ...                        \n",
       "970    i plugged it in only to find out not a darn th...\n",
       "971                                   excellent product.\n",
       "972                          earbud piece breaks easily.\n",
       "973                                       lousy product.\n",
       "974    this phone tries very hard to do everything bu...\n",
       "975    it is the best charger i have seen on the mark...\n",
       "976                                    sweetest phone!!!\n",
       "977               :-)oh, the charger seems to work fine.\n",
       "978    it fits so securely that the ear hook does not...\n",
       "979                                   not enough volume.\n",
       "980                  echo problem....very unsatisfactory\n",
       "981    you could only take 2 videos at a time and the...\n",
       "982                              don't waste your money.\n",
       "983    i am going to have to be the first to negative...\n",
       "984    adapter does not provide enough charging current.\n",
       "985    there was so much hype over this phone that i ...\n",
       "986    you also cannot take pictures with it in the c...\n",
       "987                              phone falls out easily.\n",
       "988    it didn't work, people can not hear me when i ...\n",
       "989    the text messaging feature is really tricky to...\n",
       "990    i'm really disappointed all i have now is a ch...\n",
       "991                                  painful on the ear.\n",
       "992                     lasted one day and then blew up.\n",
       "993                                        disappointed.\n",
       "994                                kind of flops around.\n",
       "995    the screen does get smudged easily because it ...\n",
       "996    what a piece of junk.. i lose more calls on th...\n",
       "997                         item does not match picture.\n",
       "998    the only thing that disappoint me is the infra...\n",
       "999    you can not answer calls with the unit, never ...\n",
       "Name: sentence, Length: 105, dtype: object"
      ]
     },
     "execution_count": 146,
     "metadata": {},
     "output_type": "execute_result"
    }
   ],
   "source": [
    "df['sentence'].tail(105)"
   ]
  },
  {
   "cell_type": "code",
   "execution_count": 198,
   "metadata": {},
   "outputs": [
    {
     "name": "stdout",
     "output_type": "stream",
     "text": [
      "['sentence', 'label', 'bad', 'no way', 'jiggle', 'wasted', 'suddenly', 'unusable', 'waste', 'disappointed', 'unsatisfactory', 'junk', 'negative', 'does not', 'hard', 'flops', 'disappoint', '', 'tricky', 'problem', 'misleading', 'fall', 'never', 'return', 'however', 'blew', 'only', 'lousy', 'refund', 'one', 'unsatisfac', 'cannot', 'breaks', 'not be', 'fool', 'need', 'if', 'doesn', 'garbage', 'worthless', 'not impressed', 'who', 'poor', 'didn', 'had to', 'couldnnot impressed', 'couldn', 'wrong', 'but', 'couln']\n",
      "Number of mislabeled points out of a total cases 1000,  : 361 , missed 317 , false_alert 44 \n"
     ]
    }
   ],
   "source": [
    "\n",
    "#\n",
    "bad_keywords = ['bad','never','poor','wrong','if','doesn','didn','only','return','however','problem','does not','unusable','disappoint','unsatisfac','junk']\n",
    "print(list(df))\n",
    "df['sentence']=df['sentence'].str.lower()\n",
    "classify(df,bad_keywords,'label')"
   ]
  },
  {
   "cell_type": "markdown",
   "metadata": {},
   "source": [
    "###### second dataset\n",
    "\n",
    "\n",
    "\n"
   ]
  },
  {
   "cell_type": "code",
   "execution_count": 72,
   "metadata": {
    "collapsed": true
   },
   "outputs": [],
   "source": [
    "dm=pd.read_csv('..\\..\\datasets\\sentiment labelled sentences\\yelp_labelled.txt',sep='\\t' ,names= ['sentence','label'])\n",
    "dm['label'] = (dm['label'] == 1)"
   ]
  },
  {
   "cell_type": "code",
   "execution_count": 144,
   "metadata": {},
   "outputs": [
    {
     "data": {
      "text/plain": [
       "915    the only thing i wasn't too crazy about was th...\n",
       "916    there is really nothing for me at postinos, ho...\n",
       "917             i got food poisoning here at the buffet.\n",
       "918    they brought a fresh batch of fries and i was ...\n",
       "919    what should have been a hilarious, yummy chris...\n",
       "920    needless to say, i won't be going back anytime...\n",
       "921                            this place is disgusting!\n",
       "922    every time i eat here, i see caring teamwork t...\n",
       "923                    the ri style calamari was a joke.\n",
       "924    however, there was so much garlic in the fondu...\n",
       "925    i could barely stomach the meal, but didn't co...\n",
       "926    it was so bad, i had lost the heart to finish it.\n",
       "927    it also took her forever to bring us the check...\n",
       "928    we aren't ones to make a scene at restaurants ...\n",
       "929                            disappointing experience.\n",
       "930    the food is about on par with denny's, which i...\n",
       "931    if you want to wait for mediocre food and down...\n",
       "932     waaaaaayyyyyyyyyy over rated is all i am saying.\n",
       "933                              we won't be going back.\n",
       "934    the place was fairly clean but the food simply...\n",
       "935                            this place lacked style!!\n",
       "936    the sangria was about half of a glass wine ful...\n",
       "937                            don't bother coming here.\n",
       "938    the meat was pretty dry, i had the sliced bris...\n",
       "939    the building itself seems pretty neat; the bat...\n",
       "940                                it was equally awful.\n",
       "941                  probably not in a hurry to go back.\n",
       "942          very slow at seating even with reservation.\n",
       "943          not good by any stretch of the imagination.\n",
       "944    the cashew cream sauce was bland and the veget...\n",
       "                             ...                        \n",
       "970    i immediately said i wanted to talk to the man...\n",
       "971                      the ambiance isn't much better.\n",
       "972    unfortunately, it only set us up for disapppoi...\n",
       "973                                the food wasn't good.\n",
       "974    your servers suck, wait, correction, our serve...\n",
       "975        what happened next was pretty....off putting.\n",
       "976    too bad cause i know it's family owned, i real...\n",
       "977                 overpriced for what you are getting.\n",
       "978                 i vomited in the bathroom mid lunch.\n",
       "979    i kept looking at the time and it had soon bec...\n",
       "980    i have been to very few places to eat that und...\n",
       "981    we started with the tuna sashimi which was bro...\n",
       "982                              food was below average.\n",
       "983    it sure does beat the nachos at the movies but...\n",
       "984         all in all, ha long bay was a bit of a flop.\n",
       "985    the problem i have is that they charge $11.99 ...\n",
       "986    shrimp- when i unwrapped it (i live only 1/2 a...\n",
       "987       it lacked flavor, seemed undercooked, and dry.\n",
       "988    it really is impressive that the place hasn't ...\n",
       "989    i would avoid this place if you are staying in...\n",
       "990    the refried beans that came with my meal were ...\n",
       "991           spend your money and time some place else.\n",
       "992    a lady at the table next to us found a live gr...\n",
       "993              the presentation of the food was awful.\n",
       "994             i can't tell you how disappointed i was.\n",
       "995    i think food should have flavor and texture an...\n",
       "996                             appetite instantly gone.\n",
       "997    overall i was not impressed and would not go b...\n",
       "998    the whole experience was underwhelming, and i ...\n",
       "999    then, as if i hadn't wasted enough of my life ...\n",
       "Name: sentence, Length: 85, dtype: object"
      ]
     },
     "execution_count": 144,
     "metadata": {},
     "output_type": "execute_result"
    }
   ],
   "source": [
    "dm['sentence'].tail(85)"
   ]
  },
  {
   "cell_type": "code",
   "execution_count": 173,
   "metadata": {},
   "outputs": [
    {
     "name": "stdout",
     "output_type": "stream",
     "text": [
      "Number of mislabeled points out of a total cases 1000,  : 372 , missed 355 , false_alert 17 \n"
     ]
    }
   ],
   "source": [
    "bad_keywords = ['couldn','suck','wasn','aren','lack','avoid','flop','bad','worst','did not','horrible','never','however','problem','disgust','fall','unusable','waste','disappoint','unsatisfact','junk','negative','slow','worth']\n",
    "dm['sentence']=dm['sentence'].str.lower()\n",
    "classify(dm,bad_keywords,'label')"
   ]
  },
  {
   "cell_type": "code",
   "execution_count": 152,
   "metadata": {},
   "outputs": [
    {
     "data": {
      "text/plain": [
       "array([0.7 , 0.63, 0.71, 0.63, 0.71, 0.58, 0.61, 0.59, 0.63, 0.75])"
      ]
     },
     "execution_count": 152,
     "metadata": {},
     "output_type": "execute_result"
    }
   ],
   "source": [
    "from sklearn.naive_bayes import BernoulliNB\n",
    "bnb = BernoulliNB()\n",
    "data=df.drop(['sentence','label'],axis=1)\n",
    "target=df['label']\n",
    "y_pred = bnb.fit(data, target).predict(data)]\n",
    "from sklearn.model_selection import cross_val_score\n",
    "cross_val_score(bnb, data, target, cv=10)"
   ]
  },
  {
   "cell_type": "code",
   "execution_count": 171,
   "metadata": {},
   "outputs": [
    {
     "data": {
      "text/plain": [
       "array([0.66, 0.61, 0.67, 0.55, 0.6 , 0.57, 0.58, 0.61, 0.62, 0.68])"
      ]
     },
     "execution_count": 171,
     "metadata": {},
     "output_type": "execute_result"
    }
   ],
   "source": [
    "data=dm.drop(['sentence','label'],axis=1)\n",
    "target=dm['label']\n",
    "y_pred = bnb.fit(data, target).predict(data)\n",
    "from sklearn.model_selection import cross_val_score\n",
    "cross_val_score(bnb, data, target, cv=10)"
   ]
  },
  {
   "cell_type": "code",
   "execution_count": 200,
   "metadata": {
    "code_folding": []
   },
   "outputs": [
    {
     "name": "stdout",
     "output_type": "stream",
     "text": [
      "With 20% Holdout: 0.6\n",
      "Testing on Sample: 0.634\n"
     ]
    }
   ],
   "source": [
    "# holdout: train/ validation / test\n",
    "\n",
    "from sklearn.model_selection import train_test_split\n",
    "X_train, X_test, y_train, y_test = train_test_split(data, target, test_size=0.2, random_state=20)\n",
    "print('With 20% Holdout: ' + str(bnb.fit(X_train, y_train).score(X_test, y_test)))\n",
    "print('Testing on Sample: ' + str(bnb.fit(data, target).score(data, target)))"
   ]
  },
  {
   "cell_type": "code",
   "execution_count": null,
   "metadata": {
    "collapsed": true
   },
   "outputs": [],
   "source": []
  }
 ],
 "metadata": {
  "kernelspec": {
   "display_name": "Python 3",
   "language": "python",
   "name": "python3"
  },
  "language_info": {
   "codemirror_mode": {
    "name": "ipython",
    "version": 3
   },
   "file_extension": ".py",
   "mimetype": "text/x-python",
   "name": "python",
   "nbconvert_exporter": "python",
   "pygments_lexer": "ipython3",
   "version": "3.6.7"
  },
  "latex_envs": {
   "LaTeX_envs_menu_present": true,
   "autoclose": false,
   "autocomplete": true,
   "bibliofile": "biblio.bib",
   "cite_by": "apalike",
   "current_citInitial": 1,
   "eqLabelWithNumbers": true,
   "eqNumInitial": 1,
   "hotkeys": {
    "equation": "Ctrl-E",
    "itemize": "Ctrl-I"
   },
   "labels_anchors": false,
   "latex_user_defs": false,
   "report_style_numbering": false,
   "user_envs_cfg": false
  },
  "toc": {
   "base_numbering": 1,
   "nav_menu": {},
   "number_sections": true,
   "sideBar": true,
   "skip_h1_title": false,
   "title_cell": "Table of Contents",
   "title_sidebar": "Contents",
   "toc_cell": false,
   "toc_position": {},
   "toc_section_display": true,
   "toc_window_display": false
  }
 },
 "nbformat": 4,
 "nbformat_minor": 2
}
