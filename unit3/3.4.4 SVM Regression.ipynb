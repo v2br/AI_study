{
 "cells": [
  {
   "cell_type": "code",
   "execution_count": 1,
   "metadata": {
    "run_control": {
     "frozen": false,
     "read_only": false
    }
   },
   "outputs": [],
   "source": [
    "import numpy as np\n",
    "import pandas as pd\n",
    "import scipy\n",
    "import matplotlib.pyplot as plt\n",
    "from sklearn.decomposition import PCA\n",
    "from sklearn.model_selection import cross_val_score\n",
    "import seaborn as sns\n",
    "%matplotlib inline"
   ]
  },
  {
   "cell_type": "markdown",
   "metadata": {
    "run_control": {
     "frozen": false,
     "read_only": false
    }
   },
   "source": [
    "Now it's time for another guided example. This time we're going to look at recipes. Specifically we'll use the epicurious dataset, which has a collection of recipes, key terms and ingredients, and their ratings.\n",
    "\n",
    "What we want to see is if we can use the ingredient and keyword list to predict the rating. For someone writing a cookbook this could be really useful information that could help them choose which recipes to include because they're more likely to be enjoyed and therefore make the book more likely to be successful.\n",
    "\n",
    "First let's load the dataset. It's [available on Kaggle](https://www.kaggle.com/hugodarwood/epirecipes). We'll use the csv file here and as pull out column names and some summary statistics for ratings."
   ]
  },
  {
   "cell_type": "code",
   "execution_count": 2,
   "metadata": {
    "run_control": {
     "frozen": false,
     "read_only": false
    }
   },
   "outputs": [],
   "source": [
    "raw_data = pd.read_csv('https://tf-assets-prod.s3.amazonaws.com/tf-curric/data-science/epi_r.csv')"
   ]
  },
  {
   "cell_type": "code",
   "execution_count": 4,
   "metadata": {
    "run_control": {
     "frozen": false,
     "read_only": false
    },
    "scrolled": true
   },
   "outputs": [],
   "source": [
    "#list(raw_data.columns)"
   ]
  },
  {
   "cell_type": "code",
   "execution_count": 5,
   "metadata": {
    "run_control": {
     "frozen": false,
     "read_only": false
    },
    "scrolled": true
   },
   "outputs": [
    {
     "data": {
      "text/plain": [
       "count    20052.000000\n",
       "mean         3.714467\n",
       "std          1.340829\n",
       "min          0.000000\n",
       "25%          3.750000\n",
       "50%          4.375000\n",
       "75%          4.375000\n",
       "max          5.000000\n",
       "Name: rating, dtype: float64"
      ]
     },
     "execution_count": 5,
     "metadata": {},
     "output_type": "execute_result"
    }
   ],
   "source": [
    "raw_data.rating.describe()"
   ]
  },
  {
   "cell_type": "markdown",
   "metadata": {
    "run_control": {
     "frozen": false,
     "read_only": false
    }
   },
   "source": [
    "We learn a few things from this analysis. From a ratings perspective, there are just over 20,000 recipes with an average rating of 3.71. What is interesting is that the 25th percentile is actually above the mean. This means there is likely some kind of outlier population. This makes sense when we think about reviews: some bad recipes may have very few very low reviews.\n",
    "\n",
    "Let's validate the idea a bit further with a histogram."
   ]
  },
  {
   "cell_type": "code",
   "execution_count": 7,
   "metadata": {
    "run_control": {
     "frozen": false,
     "read_only": false
    }
   },
   "outputs": [
    {
     "data": {
      "image/png": "[encoded data removed]",
      "text/plain": [
       "<Figure size 432x288 with 1 Axes>"
      ]
     },
     "metadata": {
      "needs_background": "light"
     },
     "output_type": "display_data"
    }
   ],
   "source": [
    "raw_data.rating.hist(bins=20)\n",
    "plt.title('Histogram of Recipe Ratings')\n",
    "plt.show()"
   ]
  },
  {
   "cell_type": "markdown",
   "metadata": {
    "run_control": {
     "frozen": false,
     "read_only": false
    }
   },
   "source": [
    "So a few things are shown in this histogram. Firstly there are sharp discontinutities. We don't have continuous data. No recipe has a 3.5 rating, for example. Also we see the anticipated increase at 0.\n",
    "\n",
    "Let's try a naive approach again, this time using SVM Regressor. But first, we'll have to do a bit of data cleaning."
   ]
  },
  {
   "cell_type": "code",
   "execution_count": 8,
   "metadata": {
    "run_control": {
     "frozen": false,
     "read_only": false
    }
   },
   "outputs": [
    {
     "data": {
      "text/plain": [
       "calories    4117\n",
       "protein     4162\n",
       "fat         4183\n",
       "sodium      4119\n",
       "dtype: int64"
      ]
     },
     "execution_count": 8,
     "metadata": {},
     "output_type": "execute_result"
    }
   ],
   "source": [
    "# Count nulls \n",
    "null_count = raw_data.isnull().sum()\n",
    "null_count[null_count>0]"
   ]
  },
  {
   "cell_type": "markdown",
   "metadata": {
    "run_control": {
     "frozen": false,
     "read_only": false
    }
   },
   "source": [
    "What we can see right away is that nutrition information is not available for all goods. Now this would be an interesting data point, but let's focus on ingredients and keywords right now. So we'll actually drop the whole columns for calories, protein, fat, and sodium. We'll come back to nutrition information later."
   ]
  },
  {
   "cell_type": "code",
   "execution_count": 3,
   "metadata": {
    "run_control": {
     "frozen": false,
     "read_only": false
    }
   },
   "outputs": [],
   "source": [
    "from sklearn.svm import SVR\n",
    "svr = SVR()\n",
    "X = raw_data.drop(['rating', 'title', 'calories', 'protein', 'fat', 'sodium'], 1).sample(frac=0.5, replace=True, random_state=1)\n",
    "Y = raw_data.rating.sample(frac=0.5, replace=True, random_state=1)\n",
    "svr.fit(X,Y)\n"
   ]
  },
  {
   "cell_type": "markdown",
   "metadata": {
    "run_control": {
     "frozen": false,
     "read_only": false
    }
   },
   "source": [
    "__Note that this actually takes quite a while to run, compared to some of the models we've done before. Around 5-7 mins. Be patient.__ It's because of the number of features we have.\n",
    "\n",
    "Let's see what a scatter plot looks like, comparing actuals to predicted."
   ]
  },
  {
   "cell_type": "code",
   "execution_count": 10,
   "metadata": {
    "run_control": {
     "frozen": false,
     "read_only": false
    }
   },
   "outputs": [
    {
     "data": {
      "text/plain": [
       "<matplotlib.collections.PathCollection at 0x1f038ba4cf8>"
      ]
     },
     "execution_count": 10,
     "metadata": {},
     "output_type": "execute_result"
    },
    {
     "data": {
      "image/png": "[encoded data removed]",
      "text/plain": [
       "<Figure size 432x288 with 1 Axes>"
      ]
     },
     "metadata": {
      "needs_background": "light"
     },
     "output_type": "display_data"
    }
   ],
   "source": [
    "plt.scatter(Y, svr.predict(X))"
   ]
  },
  {
   "cell_type": "markdown",
   "metadata": {
    "run_control": {
     "frozen": false,
     "read_only": false
    }
   },
   "source": [
    "Now that is a pretty useless visualization. This is because of the discontinous nature of our outcome variable. There's too much data for us to really see what's going on here. If you wanted to look at it you could create histograms, here we'll move on to the scores of both our full fit model and with cross validation. Again if you choose to run it again it will take some time, so you probably shouldn't."
   ]
  },
  {
   "cell_type": "code",
   "execution_count": 11,
   "metadata": {
    "run_control": {
     "frozen": false,
     "read_only": false
    }
   },
   "outputs": [
    {
     "data": {
      "text/plain": [
       "0.018479191048604182"
      ]
     },
     "execution_count": 11,
     "metadata": {},
     "output_type": "execute_result"
    }
   ],
   "source": [
    "svr.score(X, Y)"
   ]
  },
  {
   "cell_type": "code",
   "execution_count": 10,
   "metadata": {
    "run_control": {
     "frozen": false,
     "read_only": false
    }
   },
   "outputs": [
    {
     "name": "stderr",
     "output_type": "stream",
     "text": [
      "C:\\Users\\Vadim\\Anaconda3\\lib\\site-packages\\sklearn\\svm\\base.py:196: FutureWarning: The default value of gamma will change from 'auto' to 'scale' in version 0.22 to account better for unscaled features. Set gamma explicitly to 'auto' or 'scale' to avoid this warning.\n",
      "  \"avoid this warning.\", FutureWarning)\n",
      "C:\\Users\\Vadim\\Anaconda3\\lib\\site-packages\\sklearn\\svm\\base.py:196: FutureWarning: The default value of gamma will change from 'auto' to 'scale' in version 0.22 to account better for unscaled features. Set gamma explicitly to 'auto' or 'scale' to avoid this warning.\n",
      "  \"avoid this warning.\", FutureWarning)\n",
      "C:\\Users\\Vadim\\Anaconda3\\lib\\site-packages\\sklearn\\svm\\base.py:196: FutureWarning: The default value of gamma will change from 'auto' to 'scale' in version 0.22 to account better for unscaled features. Set gamma explicitly to 'auto' or 'scale' to avoid this warning.\n",
      "  \"avoid this warning.\", FutureWarning)\n",
      "C:\\Users\\Vadim\\Anaconda3\\lib\\site-packages\\sklearn\\svm\\base.py:196: FutureWarning: The default value of gamma will change from 'auto' to 'scale' in version 0.22 to account better for unscaled features. Set gamma explicitly to 'auto' or 'scale' to avoid this warning.\n",
      "  \"avoid this warning.\", FutureWarning)\n",
      "C:\\Users\\Vadim\\Anaconda3\\lib\\site-packages\\sklearn\\svm\\base.py:196: FutureWarning: The default value of gamma will change from 'auto' to 'scale' in version 0.22 to account better for unscaled features. Set gamma explicitly to 'auto' or 'scale' to avoid this warning.\n",
      "  \"avoid this warning.\", FutureWarning)\n"
     ]
    },
    {
     "data": {
      "text/plain": [
       "array([-0.01787926, -0.02916288, -0.02841122, -0.03767394, -0.01735362])"
      ]
     },
     "execution_count": 10,
     "metadata": {},
     "output_type": "execute_result"
    }
   ],
   "source": [
    "from sklearn.model_selection import cross_val_score\n",
    "cross_val_score(svr, X, Y, cv=5)"
   ]
  },
  {
   "cell_type": "markdown",
   "metadata": {
    "run_control": {
     "frozen": false,
     "read_only": false
    }
   },
   "source": [
    "Oh dear, so this did seem not to work very well. In fact it is remarkably poor. Now there are many things that we could do here. \n",
    "\n",
    "Firstly the overfit is a problem, even though it was poor in the first place. We could go back and clean up our feature set. There might be some gains to be made by getting rid of the noise.\n",
    "\n",
    "We could also see how removing the nulls but including dietary information performs. Though its a slight change to the question we could still possibly get some improvements there.\n",
    "\n",
    "Lastly, we could take our regression problem and turn it into a classifier. With this number of features and a discontinuous outcome, we might have better luck thinking of this as a classification problem. We could make it simpler still by instead of classifying on each possible value, group reviews to some decided high and low values.\n",
    "\n",
    "__And that is your challenge.__\n",
    "\n",
    "Transform this regression problem into a binary classifier and clean up the feature set. You can choose whether or not to include nutritional information, but try to cut your feature set down to the 30 most valuable features.\n",
    "\n",
    "Good luck!"
   ]
  },
  {
   "cell_type": "markdown",
   "metadata": {
    "run_control": {
     "frozen": false,
     "read_only": false
    }
   },
   "source": [
    "When you've finished that, also take a moment to think about bias. Is there anything in this dataset that makes you think it could be biased, perhaps extremely so?\n",
    "\n",
    "There is. Several things in fact, but most glaringly is that we don't actually have a random sample. It could be, and probably is, that the people more likely to choose some kinds of recipes are more likely to give high reviews.\n",
    "\n",
    "After all, people who eat chocolate _might_ just be happier people."
   ]
  },
  {
   "cell_type": "code",
   "execution_count": 11,
   "metadata": {},
   "outputs": [
    {
     "data": {
      "text/plain": [
       "(20052, 680)"
      ]
     },
     "execution_count": 11,
     "metadata": {},
     "output_type": "execute_result"
    }
   ],
   "source": [
    "raw_data.shape"
   ]
  },
  {
   "cell_type": "code",
   "execution_count": 22,
   "metadata": {},
   "outputs": [],
   "source": [
    "#raw_data.isnull().sum()"
   ]
  },
  {
   "cell_type": "code",
   "execution_count": 12,
   "metadata": {},
   "outputs": [
    {
     "name": "stdout",
     "output_type": "stream",
     "text": [
      "<class 'pandas.core.frame.DataFrame'>\n",
      "RangeIndex: 20052 entries, 0 to 20051\n",
      "Columns: 680 entries, title to turkey\n",
      "dtypes: float64(679), object(1)\n",
      "memory usage: 104.0+ MB\n",
      "\n",
      " -----------------Simple statistics for each variable -----------\n",
      "\n"
     ]
    },
    {
     "data": {
      "text/html": [
       "<div>\n",
       "<style scoped>\n",
       "    .dataframe tbody tr th:only-of-type {\n",
       "        vertical-align: middle;\n",
       "    }\n",
       "\n",
       "    .dataframe tbody tr th {\n",
       "        vertical-align: top;\n",
       "    }\n",
       "\n",
       "    .dataframe thead th {\n",
       "        text-align: right;\n",
       "    }\n",
       "</style>\n",
       "<table border=\"1\" class=\"dataframe\">\n",
       "  <thead>\n",
       "    <tr style=\"text-align: right;\">\n",
       "      <th></th>\n",
       "      <th>count</th>\n",
       "      <th>mean</th>\n",
       "      <th>std</th>\n",
       "      <th>min</th>\n",
       "      <th>25%</th>\n",
       "      <th>50%</th>\n",
       "      <th>75%</th>\n",
       "      <th>max</th>\n",
       "    </tr>\n",
       "  </thead>\n",
       "  <tbody>\n",
       "    <tr>\n",
       "      <th>rating</th>\n",
       "      <td>20052.0</td>\n",
       "      <td>3.714467</td>\n",
       "      <td>1.340829</td>\n",
       "      <td>0.0</td>\n",
       "      <td>3.75</td>\n",
       "      <td>4.375</td>\n",
       "      <td>4.375</td>\n",
       "      <td>5.0</td>\n",
       "    </tr>\n",
       "    <tr>\n",
       "      <th>calories</th>\n",
       "      <td>15935.0</td>\n",
       "      <td>6322.958017</td>\n",
       "      <td>359046.041242</td>\n",
       "      <td>0.0</td>\n",
       "      <td>198.00</td>\n",
       "      <td>331.000</td>\n",
       "      <td>586.000</td>\n",
       "      <td>30111218.0</td>\n",
       "    </tr>\n",
       "    <tr>\n",
       "      <th>protein</th>\n",
       "      <td>15890.0</td>\n",
       "      <td>100.160793</td>\n",
       "      <td>3840.318527</td>\n",
       "      <td>0.0</td>\n",
       "      <td>3.00</td>\n",
       "      <td>8.000</td>\n",
       "      <td>27.000</td>\n",
       "      <td>236489.0</td>\n",
       "    </tr>\n",
       "    <tr>\n",
       "      <th>fat</th>\n",
       "      <td>15869.0</td>\n",
       "      <td>346.877497</td>\n",
       "      <td>20456.106859</td>\n",
       "      <td>0.0</td>\n",
       "      <td>7.00</td>\n",
       "      <td>17.000</td>\n",
       "      <td>33.000</td>\n",
       "      <td>1722763.0</td>\n",
       "    </tr>\n",
       "    <tr>\n",
       "      <th>sodium</th>\n",
       "      <td>15933.0</td>\n",
       "      <td>6225.974895</td>\n",
       "      <td>333318.188891</td>\n",
       "      <td>0.0</td>\n",
       "      <td>80.00</td>\n",
       "      <td>294.000</td>\n",
       "      <td>711.000</td>\n",
       "      <td>27675110.0</td>\n",
       "    </tr>\n",
       "    <tr>\n",
       "      <th>#cakeweek</th>\n",
       "      <td>20052.0</td>\n",
       "      <td>0.000299</td>\n",
       "      <td>0.017296</td>\n",
       "      <td>0.0</td>\n",
       "      <td>0.00</td>\n",
       "      <td>0.000</td>\n",
       "      <td>0.000</td>\n",
       "      <td>1.0</td>\n",
       "    </tr>\n",
       "    <tr>\n",
       "      <th>#wasteless</th>\n",
       "      <td>20052.0</td>\n",
       "      <td>0.000050</td>\n",
       "      <td>0.007062</td>\n",
       "      <td>0.0</td>\n",
       "      <td>0.00</td>\n",
       "      <td>0.000</td>\n",
       "      <td>0.000</td>\n",
       "      <td>1.0</td>\n",
       "    </tr>\n",
       "    <tr>\n",
       "      <th>22-minute meals</th>\n",
       "      <td>20052.0</td>\n",
       "      <td>0.000848</td>\n",
       "      <td>0.029105</td>\n",
       "      <td>0.0</td>\n",
       "      <td>0.00</td>\n",
       "      <td>0.000</td>\n",
       "      <td>0.000</td>\n",
       "      <td>1.0</td>\n",
       "    </tr>\n",
       "    <tr>\n",
       "      <th>3-ingredient recipes</th>\n",
       "      <td>20052.0</td>\n",
       "      <td>0.001346</td>\n",
       "      <td>0.036671</td>\n",
       "      <td>0.0</td>\n",
       "      <td>0.00</td>\n",
       "      <td>0.000</td>\n",
       "      <td>0.000</td>\n",
       "      <td>1.0</td>\n",
       "    </tr>\n",
       "    <tr>\n",
       "      <th>30 days of groceries</th>\n",
       "      <td>20052.0</td>\n",
       "      <td>0.000349</td>\n",
       "      <td>0.018681</td>\n",
       "      <td>0.0</td>\n",
       "      <td>0.00</td>\n",
       "      <td>0.000</td>\n",
       "      <td>0.000</td>\n",
       "      <td>1.0</td>\n",
       "    </tr>\n",
       "    <tr>\n",
       "      <th>advance prep required</th>\n",
       "      <td>20052.0</td>\n",
       "      <td>0.005436</td>\n",
       "      <td>0.073530</td>\n",
       "      <td>0.0</td>\n",
       "      <td>0.00</td>\n",
       "      <td>0.000</td>\n",
       "      <td>0.000</td>\n",
       "      <td>1.0</td>\n",
       "    </tr>\n",
       "    <tr>\n",
       "      <th>alabama</th>\n",
       "      <td>20052.0</td>\n",
       "      <td>0.000150</td>\n",
       "      <td>0.012231</td>\n",
       "      <td>0.0</td>\n",
       "      <td>0.00</td>\n",
       "      <td>0.000</td>\n",
       "      <td>0.000</td>\n",
       "      <td>1.0</td>\n",
       "    </tr>\n",
       "    <tr>\n",
       "      <th>alaska</th>\n",
       "      <td>20052.0</td>\n",
       "      <td>0.000100</td>\n",
       "      <td>0.009987</td>\n",
       "      <td>0.0</td>\n",
       "      <td>0.00</td>\n",
       "      <td>0.000</td>\n",
       "      <td>0.000</td>\n",
       "      <td>1.0</td>\n",
       "    </tr>\n",
       "    <tr>\n",
       "      <th>alcoholic</th>\n",
       "      <td>20052.0</td>\n",
       "      <td>0.041642</td>\n",
       "      <td>0.199774</td>\n",
       "      <td>0.0</td>\n",
       "      <td>0.00</td>\n",
       "      <td>0.000</td>\n",
       "      <td>0.000</td>\n",
       "      <td>1.0</td>\n",
       "    </tr>\n",
       "    <tr>\n",
       "      <th>almond</th>\n",
       "      <td>20052.0</td>\n",
       "      <td>0.029124</td>\n",
       "      <td>0.168159</td>\n",
       "      <td>0.0</td>\n",
       "      <td>0.00</td>\n",
       "      <td>0.000</td>\n",
       "      <td>0.000</td>\n",
       "      <td>1.0</td>\n",
       "    </tr>\n",
       "    <tr>\n",
       "      <th>amaretto</th>\n",
       "      <td>20052.0</td>\n",
       "      <td>0.001945</td>\n",
       "      <td>0.044060</td>\n",
       "      <td>0.0</td>\n",
       "      <td>0.00</td>\n",
       "      <td>0.000</td>\n",
       "      <td>0.000</td>\n",
       "      <td>1.0</td>\n",
       "    </tr>\n",
       "    <tr>\n",
       "      <th>anchovy</th>\n",
       "      <td>20052.0</td>\n",
       "      <td>0.002244</td>\n",
       "      <td>0.047321</td>\n",
       "      <td>0.0</td>\n",
       "      <td>0.00</td>\n",
       "      <td>0.000</td>\n",
       "      <td>0.000</td>\n",
       "      <td>1.0</td>\n",
       "    </tr>\n",
       "    <tr>\n",
       "      <th>anise</th>\n",
       "      <td>20052.0</td>\n",
       "      <td>0.005785</td>\n",
       "      <td>0.075840</td>\n",
       "      <td>0.0</td>\n",
       "      <td>0.00</td>\n",
       "      <td>0.000</td>\n",
       "      <td>0.000</td>\n",
       "      <td>1.0</td>\n",
       "    </tr>\n",
       "    <tr>\n",
       "      <th>anniversary</th>\n",
       "      <td>20052.0</td>\n",
       "      <td>0.005536</td>\n",
       "      <td>0.074197</td>\n",
       "      <td>0.0</td>\n",
       "      <td>0.00</td>\n",
       "      <td>0.000</td>\n",
       "      <td>0.000</td>\n",
       "      <td>1.0</td>\n",
       "    </tr>\n",
       "    <tr>\n",
       "      <th>anthony bourdain</th>\n",
       "      <td>20052.0</td>\n",
       "      <td>0.000100</td>\n",
       "      <td>0.009987</td>\n",
       "      <td>0.0</td>\n",
       "      <td>0.00</td>\n",
       "      <td>0.000</td>\n",
       "      <td>0.000</td>\n",
       "      <td>1.0</td>\n",
       "    </tr>\n",
       "    <tr>\n",
       "      <th>aperitif</th>\n",
       "      <td>20052.0</td>\n",
       "      <td>0.000598</td>\n",
       "      <td>0.024456</td>\n",
       "      <td>0.0</td>\n",
       "      <td>0.00</td>\n",
       "      <td>0.000</td>\n",
       "      <td>0.000</td>\n",
       "      <td>1.0</td>\n",
       "    </tr>\n",
       "    <tr>\n",
       "      <th>appetizer</th>\n",
       "      <td>20052.0</td>\n",
       "      <td>0.068422</td>\n",
       "      <td>0.252475</td>\n",
       "      <td>0.0</td>\n",
       "      <td>0.00</td>\n",
       "      <td>0.000</td>\n",
       "      <td>0.000</td>\n",
       "      <td>1.0</td>\n",
       "    </tr>\n",
       "    <tr>\n",
       "      <th>apple</th>\n",
       "      <td>20052.0</td>\n",
       "      <td>0.033214</td>\n",
       "      <td>0.179198</td>\n",
       "      <td>0.0</td>\n",
       "      <td>0.00</td>\n",
       "      <td>0.000</td>\n",
       "      <td>0.000</td>\n",
       "      <td>1.0</td>\n",
       "    </tr>\n",
       "    <tr>\n",
       "      <th>apple juice</th>\n",
       "      <td>20052.0</td>\n",
       "      <td>0.000299</td>\n",
       "      <td>0.017296</td>\n",
       "      <td>0.0</td>\n",
       "      <td>0.00</td>\n",
       "      <td>0.000</td>\n",
       "      <td>0.000</td>\n",
       "      <td>1.0</td>\n",
       "    </tr>\n",
       "    <tr>\n",
       "      <th>apricot</th>\n",
       "      <td>20052.0</td>\n",
       "      <td>0.013415</td>\n",
       "      <td>0.115047</td>\n",
       "      <td>0.0</td>\n",
       "      <td>0.00</td>\n",
       "      <td>0.000</td>\n",
       "      <td>0.000</td>\n",
       "      <td>1.0</td>\n",
       "    </tr>\n",
       "    <tr>\n",
       "      <th>arizona</th>\n",
       "      <td>20052.0</td>\n",
       "      <td>0.000399</td>\n",
       "      <td>0.019971</td>\n",
       "      <td>0.0</td>\n",
       "      <td>0.00</td>\n",
       "      <td>0.000</td>\n",
       "      <td>0.000</td>\n",
       "      <td>1.0</td>\n",
       "    </tr>\n",
       "    <tr>\n",
       "      <th>artichoke</th>\n",
       "      <td>20052.0</td>\n",
       "      <td>0.007630</td>\n",
       "      <td>0.087019</td>\n",
       "      <td>0.0</td>\n",
       "      <td>0.00</td>\n",
       "      <td>0.000</td>\n",
       "      <td>0.000</td>\n",
       "      <td>1.0</td>\n",
       "    </tr>\n",
       "    <tr>\n",
       "      <th>arugula</th>\n",
       "      <td>20052.0</td>\n",
       "      <td>0.013864</td>\n",
       "      <td>0.116929</td>\n",
       "      <td>0.0</td>\n",
       "      <td>0.00</td>\n",
       "      <td>0.000</td>\n",
       "      <td>0.000</td>\n",
       "      <td>1.0</td>\n",
       "    </tr>\n",
       "    <tr>\n",
       "      <th>asian pear</th>\n",
       "      <td>20052.0</td>\n",
       "      <td>0.000997</td>\n",
       "      <td>0.031567</td>\n",
       "      <td>0.0</td>\n",
       "      <td>0.00</td>\n",
       "      <td>0.000</td>\n",
       "      <td>0.000</td>\n",
       "      <td>1.0</td>\n",
       "    </tr>\n",
       "    <tr>\n",
       "      <th>asparagus</th>\n",
       "      <td>20052.0</td>\n",
       "      <td>0.010323</td>\n",
       "      <td>0.101080</td>\n",
       "      <td>0.0</td>\n",
       "      <td>0.00</td>\n",
       "      <td>0.000</td>\n",
       "      <td>0.000</td>\n",
       "      <td>1.0</td>\n",
       "    </tr>\n",
       "    <tr>\n",
       "      <th>...</th>\n",
       "      <td>...</td>\n",
       "      <td>...</td>\n",
       "      <td>...</td>\n",
       "      <td>...</td>\n",
       "      <td>...</td>\n",
       "      <td>...</td>\n",
       "      <td>...</td>\n",
       "      <td>...</td>\n",
       "    </tr>\n",
       "    <tr>\n",
       "      <th>walnut</th>\n",
       "      <td>20052.0</td>\n",
       "      <td>0.021195</td>\n",
       "      <td>0.144037</td>\n",
       "      <td>0.0</td>\n",
       "      <td>0.00</td>\n",
       "      <td>0.000</td>\n",
       "      <td>0.000</td>\n",
       "      <td>1.0</td>\n",
       "    </tr>\n",
       "    <tr>\n",
       "      <th>wasabi</th>\n",
       "      <td>20052.0</td>\n",
       "      <td>0.001147</td>\n",
       "      <td>0.033849</td>\n",
       "      <td>0.0</td>\n",
       "      <td>0.00</td>\n",
       "      <td>0.000</td>\n",
       "      <td>0.000</td>\n",
       "      <td>1.0</td>\n",
       "    </tr>\n",
       "    <tr>\n",
       "      <th>washington</th>\n",
       "      <td>20052.0</td>\n",
       "      <td>0.001297</td>\n",
       "      <td>0.035986</td>\n",
       "      <td>0.0</td>\n",
       "      <td>0.00</td>\n",
       "      <td>0.000</td>\n",
       "      <td>0.000</td>\n",
       "      <td>1.0</td>\n",
       "    </tr>\n",
       "    <tr>\n",
       "      <th>washington, d.c.</th>\n",
       "      <td>20052.0</td>\n",
       "      <td>0.000499</td>\n",
       "      <td>0.022327</td>\n",
       "      <td>0.0</td>\n",
       "      <td>0.00</td>\n",
       "      <td>0.000</td>\n",
       "      <td>0.000</td>\n",
       "      <td>1.0</td>\n",
       "    </tr>\n",
       "    <tr>\n",
       "      <th>watercress</th>\n",
       "      <td>20052.0</td>\n",
       "      <td>0.006882</td>\n",
       "      <td>0.082675</td>\n",
       "      <td>0.0</td>\n",
       "      <td>0.00</td>\n",
       "      <td>0.000</td>\n",
       "      <td>0.000</td>\n",
       "      <td>1.0</td>\n",
       "    </tr>\n",
       "    <tr>\n",
       "      <th>watermelon</th>\n",
       "      <td>20052.0</td>\n",
       "      <td>0.003591</td>\n",
       "      <td>0.059816</td>\n",
       "      <td>0.0</td>\n",
       "      <td>0.00</td>\n",
       "      <td>0.000</td>\n",
       "      <td>0.000</td>\n",
       "      <td>1.0</td>\n",
       "    </tr>\n",
       "    <tr>\n",
       "      <th>wedding</th>\n",
       "      <td>20052.0</td>\n",
       "      <td>0.005585</td>\n",
       "      <td>0.074529</td>\n",
       "      <td>0.0</td>\n",
       "      <td>0.00</td>\n",
       "      <td>0.000</td>\n",
       "      <td>0.000</td>\n",
       "      <td>1.0</td>\n",
       "    </tr>\n",
       "    <tr>\n",
       "      <th>weelicious</th>\n",
       "      <td>20052.0</td>\n",
       "      <td>0.001646</td>\n",
       "      <td>0.040535</td>\n",
       "      <td>0.0</td>\n",
       "      <td>0.00</td>\n",
       "      <td>0.000</td>\n",
       "      <td>0.000</td>\n",
       "      <td>1.0</td>\n",
       "    </tr>\n",
       "    <tr>\n",
       "      <th>west virginia</th>\n",
       "      <td>20052.0</td>\n",
       "      <td>0.000050</td>\n",
       "      <td>0.007062</td>\n",
       "      <td>0.0</td>\n",
       "      <td>0.00</td>\n",
       "      <td>0.000</td>\n",
       "      <td>0.000</td>\n",
       "      <td>1.0</td>\n",
       "    </tr>\n",
       "    <tr>\n",
       "      <th>westwood</th>\n",
       "      <td>20052.0</td>\n",
       "      <td>0.000050</td>\n",
       "      <td>0.007062</td>\n",
       "      <td>0.0</td>\n",
       "      <td>0.00</td>\n",
       "      <td>0.000</td>\n",
       "      <td>0.000</td>\n",
       "      <td>1.0</td>\n",
       "    </tr>\n",
       "    <tr>\n",
       "      <th>wheat/gluten-free</th>\n",
       "      <td>20052.0</td>\n",
       "      <td>0.244664</td>\n",
       "      <td>0.429898</td>\n",
       "      <td>0.0</td>\n",
       "      <td>0.00</td>\n",
       "      <td>0.000</td>\n",
       "      <td>0.000</td>\n",
       "      <td>1.0</td>\n",
       "    </tr>\n",
       "    <tr>\n",
       "      <th>whiskey</th>\n",
       "      <td>20052.0</td>\n",
       "      <td>0.002843</td>\n",
       "      <td>0.053242</td>\n",
       "      <td>0.0</td>\n",
       "      <td>0.00</td>\n",
       "      <td>0.000</td>\n",
       "      <td>0.000</td>\n",
       "      <td>1.0</td>\n",
       "    </tr>\n",
       "    <tr>\n",
       "      <th>white wine</th>\n",
       "      <td>20052.0</td>\n",
       "      <td>0.024287</td>\n",
       "      <td>0.153942</td>\n",
       "      <td>0.0</td>\n",
       "      <td>0.00</td>\n",
       "      <td>0.000</td>\n",
       "      <td>0.000</td>\n",
       "      <td>1.0</td>\n",
       "    </tr>\n",
       "    <tr>\n",
       "      <th>whole wheat</th>\n",
       "      <td>20052.0</td>\n",
       "      <td>0.001496</td>\n",
       "      <td>0.038652</td>\n",
       "      <td>0.0</td>\n",
       "      <td>0.00</td>\n",
       "      <td>0.000</td>\n",
       "      <td>0.000</td>\n",
       "      <td>1.0</td>\n",
       "    </tr>\n",
       "    <tr>\n",
       "      <th>wild rice</th>\n",
       "      <td>20052.0</td>\n",
       "      <td>0.000898</td>\n",
       "      <td>0.029948</td>\n",
       "      <td>0.0</td>\n",
       "      <td>0.00</td>\n",
       "      <td>0.000</td>\n",
       "      <td>0.000</td>\n",
       "      <td>1.0</td>\n",
       "    </tr>\n",
       "    <tr>\n",
       "      <th>windsor</th>\n",
       "      <td>20052.0</td>\n",
       "      <td>0.000050</td>\n",
       "      <td>0.007062</td>\n",
       "      <td>0.0</td>\n",
       "      <td>0.00</td>\n",
       "      <td>0.000</td>\n",
       "      <td>0.000</td>\n",
       "      <td>1.0</td>\n",
       "    </tr>\n",
       "    <tr>\n",
       "      <th>wine</th>\n",
       "      <td>20052.0</td>\n",
       "      <td>0.009525</td>\n",
       "      <td>0.097134</td>\n",
       "      <td>0.0</td>\n",
       "      <td>0.00</td>\n",
       "      <td>0.000</td>\n",
       "      <td>0.000</td>\n",
       "      <td>1.0</td>\n",
       "    </tr>\n",
       "    <tr>\n",
       "      <th>winter</th>\n",
       "      <td>20052.0</td>\n",
       "      <td>0.154548</td>\n",
       "      <td>0.361482</td>\n",
       "      <td>0.0</td>\n",
       "      <td>0.00</td>\n",
       "      <td>0.000</td>\n",
       "      <td>0.000</td>\n",
       "      <td>1.0</td>\n",
       "    </tr>\n",
       "    <tr>\n",
       "      <th>wisconsin</th>\n",
       "      <td>20052.0</td>\n",
       "      <td>0.000199</td>\n",
       "      <td>0.014123</td>\n",
       "      <td>0.0</td>\n",
       "      <td>0.00</td>\n",
       "      <td>0.000</td>\n",
       "      <td>0.000</td>\n",
       "      <td>1.0</td>\n",
       "    </tr>\n",
       "    <tr>\n",
       "      <th>wok</th>\n",
       "      <td>20052.0</td>\n",
       "      <td>0.005087</td>\n",
       "      <td>0.071142</td>\n",
       "      <td>0.0</td>\n",
       "      <td>0.00</td>\n",
       "      <td>0.000</td>\n",
       "      <td>0.000</td>\n",
       "      <td>1.0</td>\n",
       "    </tr>\n",
       "    <tr>\n",
       "      <th>yellow squash</th>\n",
       "      <td>20052.0</td>\n",
       "      <td>0.001247</td>\n",
       "      <td>0.035288</td>\n",
       "      <td>0.0</td>\n",
       "      <td>0.00</td>\n",
       "      <td>0.000</td>\n",
       "      <td>0.000</td>\n",
       "      <td>1.0</td>\n",
       "    </tr>\n",
       "    <tr>\n",
       "      <th>yogurt</th>\n",
       "      <td>20052.0</td>\n",
       "      <td>0.026332</td>\n",
       "      <td>0.160123</td>\n",
       "      <td>0.0</td>\n",
       "      <td>0.00</td>\n",
       "      <td>0.000</td>\n",
       "      <td>0.000</td>\n",
       "      <td>1.0</td>\n",
       "    </tr>\n",
       "    <tr>\n",
       "      <th>yonkers</th>\n",
       "      <td>20052.0</td>\n",
       "      <td>0.000050</td>\n",
       "      <td>0.007062</td>\n",
       "      <td>0.0</td>\n",
       "      <td>0.00</td>\n",
       "      <td>0.000</td>\n",
       "      <td>0.000</td>\n",
       "      <td>1.0</td>\n",
       "    </tr>\n",
       "    <tr>\n",
       "      <th>yuca</th>\n",
       "      <td>20052.0</td>\n",
       "      <td>0.000299</td>\n",
       "      <td>0.017296</td>\n",
       "      <td>0.0</td>\n",
       "      <td>0.00</td>\n",
       "      <td>0.000</td>\n",
       "      <td>0.000</td>\n",
       "      <td>1.0</td>\n",
       "    </tr>\n",
       "    <tr>\n",
       "      <th>zucchini</th>\n",
       "      <td>20052.0</td>\n",
       "      <td>0.014861</td>\n",
       "      <td>0.121001</td>\n",
       "      <td>0.0</td>\n",
       "      <td>0.00</td>\n",
       "      <td>0.000</td>\n",
       "      <td>0.000</td>\n",
       "      <td>1.0</td>\n",
       "    </tr>\n",
       "    <tr>\n",
       "      <th>cookbooks</th>\n",
       "      <td>20052.0</td>\n",
       "      <td>0.000150</td>\n",
       "      <td>0.012231</td>\n",
       "      <td>0.0</td>\n",
       "      <td>0.00</td>\n",
       "      <td>0.000</td>\n",
       "      <td>0.000</td>\n",
       "      <td>1.0</td>\n",
       "    </tr>\n",
       "    <tr>\n",
       "      <th>leftovers</th>\n",
       "      <td>20052.0</td>\n",
       "      <td>0.000349</td>\n",
       "      <td>0.018681</td>\n",
       "      <td>0.0</td>\n",
       "      <td>0.00</td>\n",
       "      <td>0.000</td>\n",
       "      <td>0.000</td>\n",
       "      <td>1.0</td>\n",
       "    </tr>\n",
       "    <tr>\n",
       "      <th>snack</th>\n",
       "      <td>20052.0</td>\n",
       "      <td>0.001396</td>\n",
       "      <td>0.037343</td>\n",
       "      <td>0.0</td>\n",
       "      <td>0.00</td>\n",
       "      <td>0.000</td>\n",
       "      <td>0.000</td>\n",
       "      <td>1.0</td>\n",
       "    </tr>\n",
       "    <tr>\n",
       "      <th>snack week</th>\n",
       "      <td>20052.0</td>\n",
       "      <td>0.000948</td>\n",
       "      <td>0.030768</td>\n",
       "      <td>0.0</td>\n",
       "      <td>0.00</td>\n",
       "      <td>0.000</td>\n",
       "      <td>0.000</td>\n",
       "      <td>1.0</td>\n",
       "    </tr>\n",
       "    <tr>\n",
       "      <th>turkey</th>\n",
       "      <td>20052.0</td>\n",
       "      <td>0.022741</td>\n",
       "      <td>0.149080</td>\n",
       "      <td>0.0</td>\n",
       "      <td>0.00</td>\n",
       "      <td>0.000</td>\n",
       "      <td>0.000</td>\n",
       "      <td>1.0</td>\n",
       "    </tr>\n",
       "  </tbody>\n",
       "</table>\n",
       "<p>679 rows × 8 columns</p>\n",
       "</div>"
      ],
      "text/plain": [
       "                         count         mean            std  min     25%  \\\n",
       "rating                 20052.0     3.714467       1.340829  0.0    3.75   \n",
       "calories               15935.0  6322.958017  359046.041242  0.0  198.00   \n",
       "protein                15890.0   100.160793    3840.318527  0.0    3.00   \n",
       "fat                    15869.0   346.877497   20456.106859  0.0    7.00   \n",
       "sodium                 15933.0  6225.974895  333318.188891  0.0   80.00   \n",
       "#cakeweek              20052.0     0.000299       0.017296  0.0    0.00   \n",
       "#wasteless             20052.0     0.000050       0.007062  0.0    0.00   \n",
       "22-minute meals        20052.0     0.000848       0.029105  0.0    0.00   \n",
       "3-ingredient recipes   20052.0     0.001346       0.036671  0.0    0.00   \n",
       "30 days of groceries   20052.0     0.000349       0.018681  0.0    0.00   \n",
       "advance prep required  20052.0     0.005436       0.073530  0.0    0.00   \n",
       "alabama                20052.0     0.000150       0.012231  0.0    0.00   \n",
       "alaska                 20052.0     0.000100       0.009987  0.0    0.00   \n",
       "alcoholic              20052.0     0.041642       0.199774  0.0    0.00   \n",
       "almond                 20052.0     0.029124       0.168159  0.0    0.00   \n",
       "amaretto               20052.0     0.001945       0.044060  0.0    0.00   \n",
       "anchovy                20052.0     0.002244       0.047321  0.0    0.00   \n",
       "anise                  20052.0     0.005785       0.075840  0.0    0.00   \n",
       "anniversary            20052.0     0.005536       0.074197  0.0    0.00   \n",
       "anthony bourdain       20052.0     0.000100       0.009987  0.0    0.00   \n",
       "aperitif               20052.0     0.000598       0.024456  0.0    0.00   \n",
       "appetizer              20052.0     0.068422       0.252475  0.0    0.00   \n",
       "apple                  20052.0     0.033214       0.179198  0.0    0.00   \n",
       "apple juice            20052.0     0.000299       0.017296  0.0    0.00   \n",
       "apricot                20052.0     0.013415       0.115047  0.0    0.00   \n",
       "arizona                20052.0     0.000399       0.019971  0.0    0.00   \n",
       "artichoke              20052.0     0.007630       0.087019  0.0    0.00   \n",
       "arugula                20052.0     0.013864       0.116929  0.0    0.00   \n",
       "asian pear             20052.0     0.000997       0.031567  0.0    0.00   \n",
       "asparagus              20052.0     0.010323       0.101080  0.0    0.00   \n",
       "...                        ...          ...            ...  ...     ...   \n",
       "walnut                 20052.0     0.021195       0.144037  0.0    0.00   \n",
       "wasabi                 20052.0     0.001147       0.033849  0.0    0.00   \n",
       "washington             20052.0     0.001297       0.035986  0.0    0.00   \n",
       "washington, d.c.       20052.0     0.000499       0.022327  0.0    0.00   \n",
       "watercress             20052.0     0.006882       0.082675  0.0    0.00   \n",
       "watermelon             20052.0     0.003591       0.059816  0.0    0.00   \n",
       "wedding                20052.0     0.005585       0.074529  0.0    0.00   \n",
       "weelicious             20052.0     0.001646       0.040535  0.0    0.00   \n",
       "west virginia          20052.0     0.000050       0.007062  0.0    0.00   \n",
       "westwood               20052.0     0.000050       0.007062  0.0    0.00   \n",
       "wheat/gluten-free      20052.0     0.244664       0.429898  0.0    0.00   \n",
       "whiskey                20052.0     0.002843       0.053242  0.0    0.00   \n",
       "white wine             20052.0     0.024287       0.153942  0.0    0.00   \n",
       "whole wheat            20052.0     0.001496       0.038652  0.0    0.00   \n",
       "wild rice              20052.0     0.000898       0.029948  0.0    0.00   \n",
       "windsor                20052.0     0.000050       0.007062  0.0    0.00   \n",
       "wine                   20052.0     0.009525       0.097134  0.0    0.00   \n",
       "winter                 20052.0     0.154548       0.361482  0.0    0.00   \n",
       "wisconsin              20052.0     0.000199       0.014123  0.0    0.00   \n",
       "wok                    20052.0     0.005087       0.071142  0.0    0.00   \n",
       "yellow squash          20052.0     0.001247       0.035288  0.0    0.00   \n",
       "yogurt                 20052.0     0.026332       0.160123  0.0    0.00   \n",
       "yonkers                20052.0     0.000050       0.007062  0.0    0.00   \n",
       "yuca                   20052.0     0.000299       0.017296  0.0    0.00   \n",
       "zucchini               20052.0     0.014861       0.121001  0.0    0.00   \n",
       "cookbooks              20052.0     0.000150       0.012231  0.0    0.00   \n",
       "leftovers              20052.0     0.000349       0.018681  0.0    0.00   \n",
       "snack                  20052.0     0.001396       0.037343  0.0    0.00   \n",
       "snack week             20052.0     0.000948       0.030768  0.0    0.00   \n",
       "turkey                 20052.0     0.022741       0.149080  0.0    0.00   \n",
       "\n",
       "                           50%      75%         max  \n",
       "rating                   4.375    4.375         5.0  \n",
       "calories               331.000  586.000  30111218.0  \n",
       "protein                  8.000   27.000    236489.0  \n",
       "fat                     17.000   33.000   1722763.0  \n",
       "sodium                 294.000  711.000  27675110.0  \n",
       "#cakeweek                0.000    0.000         1.0  \n",
       "#wasteless               0.000    0.000         1.0  \n",
       "22-minute meals          0.000    0.000         1.0  \n",
       "3-ingredient recipes     0.000    0.000         1.0  \n",
       "30 days of groceries     0.000    0.000         1.0  \n",
       "advance prep required    0.000    0.000         1.0  \n",
       "alabama                  0.000    0.000         1.0  \n",
       "alaska                   0.000    0.000         1.0  \n",
       "alcoholic                0.000    0.000         1.0  \n",
       "almond                   0.000    0.000         1.0  \n",
       "amaretto                 0.000    0.000         1.0  \n",
       "anchovy                  0.000    0.000         1.0  \n",
       "anise                    0.000    0.000         1.0  \n",
       "anniversary              0.000    0.000         1.0  \n",
       "anthony bourdain         0.000    0.000         1.0  \n",
       "aperitif                 0.000    0.000         1.0  \n",
       "appetizer                0.000    0.000         1.0  \n",
       "apple                    0.000    0.000         1.0  \n",
       "apple juice              0.000    0.000         1.0  \n",
       "apricot                  0.000    0.000         1.0  \n",
       "arizona                  0.000    0.000         1.0  \n",
       "artichoke                0.000    0.000         1.0  \n",
       "arugula                  0.000    0.000         1.0  \n",
       "asian pear               0.000    0.000         1.0  \n",
       "asparagus                0.000    0.000         1.0  \n",
       "...                        ...      ...         ...  \n",
       "walnut                   0.000    0.000         1.0  \n",
       "wasabi                   0.000    0.000         1.0  \n",
       "washington               0.000    0.000         1.0  \n",
       "washington, d.c.         0.000    0.000         1.0  \n",
       "watercress               0.000    0.000         1.0  \n",
       "watermelon               0.000    0.000         1.0  \n",
       "wedding                  0.000    0.000         1.0  \n",
       "weelicious               0.000    0.000         1.0  \n",
       "west virginia            0.000    0.000         1.0  \n",
       "westwood                 0.000    0.000         1.0  \n",
       "wheat/gluten-free        0.000    0.000         1.0  \n",
       "whiskey                  0.000    0.000         1.0  \n",
       "white wine               0.000    0.000         1.0  \n",
       "whole wheat              0.000    0.000         1.0  \n",
       "wild rice                0.000    0.000         1.0  \n",
       "windsor                  0.000    0.000         1.0  \n",
       "wine                     0.000    0.000         1.0  \n",
       "winter                   0.000    0.000         1.0  \n",
       "wisconsin                0.000    0.000         1.0  \n",
       "wok                      0.000    0.000         1.0  \n",
       "yellow squash            0.000    0.000         1.0  \n",
       "yogurt                   0.000    0.000         1.0  \n",
       "yonkers                  0.000    0.000         1.0  \n",
       "yuca                     0.000    0.000         1.0  \n",
       "zucchini                 0.000    0.000         1.0  \n",
       "cookbooks                0.000    0.000         1.0  \n",
       "leftovers                0.000    0.000         1.0  \n",
       "snack                    0.000    0.000         1.0  \n",
       "snack week               0.000    0.000         1.0  \n",
       "turkey                   0.000    0.000         1.0  \n",
       "\n",
       "[679 rows x 8 columns]"
      ]
     },
     "execution_count": 12,
     "metadata": {},
     "output_type": "execute_result"
    }
   ],
   "source": [
    "from IPython.core.interactiveshell import InteractiveShell\n",
    "InteractiveShell.ast_node_interactivity = \"all\"\n",
    "raw_data.info()\n",
    "print(\"\\n -----------------Simple statistics for each variable -----------\\n\")\n",
    "raw_data.describe().T"
   ]
  },
  {
   "cell_type": "code",
   "execution_count": 4,
   "metadata": {},
   "outputs": [
    {
     "data": {
      "text/plain": [
       "235      3125\n",
       "12172    3750\n",
       "5192     4375\n",
       "17289    4375\n",
       "10955    5000\n",
       "7813     5000\n",
       "19279    3750\n",
       "144      4375\n",
       "16332    5000\n",
       "7751     4375\n",
       "Name: rating, dtype: int32"
      ]
     },
     "execution_count": 4,
     "metadata": {},
     "output_type": "execute_result"
    }
   ],
   "source": [
    "X = raw_data.drop(['rating', 'title', 'calories', 'protein', 'fat', 'sodium'], 1).sample(frac=0.4, replace=True, random_state=1)\n",
    "Y = (raw_data.rating.sample(frac=0.4, replace=True, random_state=1)*1000).astype('int')\n",
    "\n",
    "Y.head(10)"
   ]
  },
  {
   "cell_type": "code",
   "execution_count": 5,
   "metadata": {},
   "outputs": [],
   "source": [
    "# random forest fit to identify most important features\n",
    "from sklearn.ensemble import RandomForestClassifier\n",
    "from sklearn.datasets import make_classification\n",
    "\n",
    "def get_imp_features(X,Y):\n",
    "    model_rfc = RandomForestClassifier(n_estimators=150, max_depth=20, random_state=0, criterion='gini' )\n",
    "    model_rfc.fit(X,Y)\n",
    "    feats = {} # a dict to hold feature_name: feature_importance\n",
    "    for feature, importance in zip(list(X), model_rfc.feature_importances_):\n",
    "        feats[feature] = importance #add the name/value pair \n",
    "    importances = pd.DataFrame.from_dict(feats, orient='index').rename(columns={0: 'Gini-importance'})\n",
    "    ims=importances.sort_values(by='Gini-importance',ascending=False)\n",
    "    return ims\n"
   ]
  },
  {
   "cell_type": "code",
   "execution_count": 6,
   "metadata": {},
   "outputs": [
    {
     "data": {
      "text/html": [
       "<div>\n",
       "<style scoped>\n",
       "    .dataframe tbody tr th:only-of-type {\n",
       "        vertical-align: middle;\n",
       "    }\n",
       "\n",
       "    .dataframe tbody tr th {\n",
       "        vertical-align: top;\n",
       "    }\n",
       "\n",
       "    .dataframe thead th {\n",
       "        text-align: right;\n",
       "    }\n",
       "</style>\n",
       "<table border=\"1\" class=\"dataframe\">\n",
       "  <thead>\n",
       "    <tr style=\"text-align: right;\">\n",
       "      <th></th>\n",
       "      <th>Gini-importance</th>\n",
       "    </tr>\n",
       "  </thead>\n",
       "  <tbody>\n",
       "    <tr>\n",
       "      <th>bon appétit</th>\n",
       "      <td>0.019601</td>\n",
       "    </tr>\n",
       "    <tr>\n",
       "      <th>drink</th>\n",
       "      <td>0.018066</td>\n",
       "    </tr>\n",
       "    <tr>\n",
       "      <th>alcoholic</th>\n",
       "      <td>0.016034</td>\n",
       "    </tr>\n",
       "    <tr>\n",
       "      <th>gourmet</th>\n",
       "      <td>0.015343</td>\n",
       "    </tr>\n",
       "    <tr>\n",
       "      <th>house &amp; garden</th>\n",
       "      <td>0.013921</td>\n",
       "    </tr>\n",
       "    <tr>\n",
       "      <th>quick &amp; easy</th>\n",
       "      <td>0.011336</td>\n",
       "    </tr>\n",
       "    <tr>\n",
       "      <th>summer</th>\n",
       "      <td>0.010743</td>\n",
       "    </tr>\n",
       "    <tr>\n",
       "      <th>bake</th>\n",
       "      <td>0.010500</td>\n",
       "    </tr>\n",
       "  </tbody>\n",
       "</table>\n",
       "</div>"
      ],
      "text/plain": [
       "                Gini-importance\n",
       "bon appétit            0.019601\n",
       "drink                  0.018066\n",
       "alcoholic              0.016034\n",
       "gourmet                0.015343\n",
       "house & garden         0.013921\n",
       "quick & easy           0.011336\n",
       "summer                 0.010743\n",
       "bake                   0.010500"
      ]
     },
     "execution_count": 6,
     "metadata": {},
     "output_type": "execute_result"
    }
   ],
   "source": [
    "imp_fts1=get_imp_features(X,Y)\n",
    "imp_fts1.head(8)"
   ]
  },
  {
   "cell_type": "code",
   "execution_count": 7,
   "metadata": {},
   "outputs": [],
   "source": [
    "X = raw_data.drop(['gin', 'cocktail', 'cocktail party','alcoholic','drink','rating', 'title', 'calories', 'protein', 'fat', 'sodium'], 1).sample(frac=0.4, replace=True, random_state=1)\n",
    "Y = (raw_data.rating.sample(frac=0.4, replace=True, random_state=1)*1000).astype('int')\n"
   ]
  },
  {
   "cell_type": "code",
   "execution_count": 12,
   "metadata": {},
   "outputs": [
    {
     "name": "stdout",
     "output_type": "stream",
     "text": [
      "<class 'list'>\n"
     ]
    }
   ],
   "source": [
    "top_f=imp_fts2.head(30).index.tolist()\n",
    "print(type(top_f))\n"
   ]
  },
  {
   "cell_type": "code",
   "execution_count": 8,
   "metadata": {},
   "outputs": [
    {
     "data": {
      "text/html": [
       "<div>\n",
       "<style scoped>\n",
       "    .dataframe tbody tr th:only-of-type {\n",
       "        vertical-align: middle;\n",
       "    }\n",
       "\n",
       "    .dataframe tbody tr th {\n",
       "        vertical-align: top;\n",
       "    }\n",
       "\n",
       "    .dataframe thead th {\n",
       "        text-align: right;\n",
       "    }\n",
       "</style>\n",
       "<table border=\"1\" class=\"dataframe\">\n",
       "  <thead>\n",
       "    <tr style=\"text-align: right;\">\n",
       "      <th></th>\n",
       "      <th>Gini-importance</th>\n",
       "    </tr>\n",
       "  </thead>\n",
       "  <tbody>\n",
       "    <tr>\n",
       "      <th>bon appétit</th>\n",
       "      <td>0.019588</td>\n",
       "    </tr>\n",
       "    <tr>\n",
       "      <th>house &amp; garden</th>\n",
       "      <td>0.018847</td>\n",
       "    </tr>\n",
       "    <tr>\n",
       "      <th>gourmet</th>\n",
       "      <td>0.015983</td>\n",
       "    </tr>\n",
       "    <tr>\n",
       "      <th>bake</th>\n",
       "      <td>0.012745</td>\n",
       "    </tr>\n",
       "    <tr>\n",
       "      <th>quick &amp; easy</th>\n",
       "      <td>0.011995</td>\n",
       "    </tr>\n",
       "    <tr>\n",
       "      <th>summer</th>\n",
       "      <td>0.009914</td>\n",
       "    </tr>\n",
       "    <tr>\n",
       "      <th>sauté</th>\n",
       "      <td>0.009396</td>\n",
       "    </tr>\n",
       "    <tr>\n",
       "      <th>soy free</th>\n",
       "      <td>0.008844</td>\n",
       "    </tr>\n",
       "    <tr>\n",
       "      <th>sauce</th>\n",
       "      <td>0.008813</td>\n",
       "    </tr>\n",
       "    <tr>\n",
       "      <th>vegetarian</th>\n",
       "      <td>0.008810</td>\n",
       "    </tr>\n",
       "    <tr>\n",
       "      <th>tree nut free</th>\n",
       "      <td>0.008687</td>\n",
       "    </tr>\n",
       "    <tr>\n",
       "      <th>winter</th>\n",
       "      <td>0.008656</td>\n",
       "    </tr>\n",
       "    <tr>\n",
       "      <th>spirit</th>\n",
       "      <td>0.008644</td>\n",
       "    </tr>\n",
       "    <tr>\n",
       "      <th>fall</th>\n",
       "      <td>0.008394</td>\n",
       "    </tr>\n",
       "    <tr>\n",
       "      <th>wheat/gluten-free</th>\n",
       "      <td>0.008233</td>\n",
       "    </tr>\n",
       "    <tr>\n",
       "      <th>kid-friendly</th>\n",
       "      <td>0.008051</td>\n",
       "    </tr>\n",
       "    <tr>\n",
       "      <th>liqueur</th>\n",
       "      <td>0.007968</td>\n",
       "    </tr>\n",
       "    <tr>\n",
       "      <th>vegetable</th>\n",
       "      <td>0.007886</td>\n",
       "    </tr>\n",
       "  </tbody>\n",
       "</table>\n",
       "</div>"
      ],
      "text/plain": [
       "                   Gini-importance\n",
       "bon appétit               0.019588\n",
       "house & garden            0.018847\n",
       "gourmet                   0.015983\n",
       "bake                      0.012745\n",
       "quick & easy              0.011995\n",
       "summer                    0.009914\n",
       "sauté                     0.009396\n",
       "soy free                  0.008844\n",
       "sauce                     0.008813\n",
       "vegetarian                0.008810\n",
       "tree nut free             0.008687\n",
       "winter                    0.008656\n",
       "spirit                    0.008644\n",
       "fall                      0.008394\n",
       "wheat/gluten-free         0.008233\n",
       "kid-friendly              0.008051\n",
       "liqueur                   0.007968\n",
       "vegetable                 0.007886"
      ]
     },
     "execution_count": 8,
     "metadata": {},
     "output_type": "execute_result"
    }
   ],
   "source": [
    "imp_fts2=get_imp_features(X,Y)\n",
    "imp_fts2.head(18)"
   ]
  },
  {
   "cell_type": "code",
   "execution_count": 13,
   "metadata": {},
   "outputs": [],
   "source": [
    "#top_f=imp_fts2.head(30).index.tolist()\n",
    "l_to_drop= list(set(X)- set(top_f)) \n",
    "Xt=X.drop(l_to_drop, axis=1)\n",
    "Y = (raw_data.rating.sample(frac=0.4, replace=True, random_state=1))"
   ]
  },
  {
   "cell_type": "code",
   "execution_count": 19,
   "metadata": {},
   "outputs": [],
   "source": [
    "from sklearn.svm import SVR\n",
    "\n",
    "def model_svr(X,Y):\n",
    "    svr_rbf = SVR(kernel= 'rbf', C= 1e3, gamma= 0.1) # defining the support vector regression models\n",
    "    svr_lin = SVR(kernel= 'linear', C= 1e3)\n",
    "    svr_poly = SVR(kernel= 'poly', C= 1e3, degree= 2)\n",
    "    svr_rbf.fit(X,Y)\n",
    "    print('kernel= rbf, C= 1e3, gamma= 0.1')\n",
    "    print(svr_rbf.score(X, Y))\n",
    "    \n",
    "    #svr_lin.fit(X,Y)\n",
    "    #print('kernel=linear, C= 1e3')    \n",
    "    #print(svr_lin.score(X, Y))\n",
    "  \n",
    "    svr_poly.fit(X,Y)\n",
    "    print('kernel=poly, C= 1e3 degree =2')    \n",
    "    print(svr_poly.score(X, Y))\n",
    "\n",
    "    svr_v1 = SVR()\n",
    "    svr_v1.fit(X,Y)\n",
    "    \n",
    "    print(svr_v1.get_params())    \n",
    "    print(svr_v1.score(X, Y))\n",
    "    "
   ]
  },
  {
   "cell_type": "code",
   "execution_count": 20,
   "metadata": {},
   "outputs": [
    {
     "name": "stdout",
     "output_type": "stream",
     "text": [
      "kernel= rbf, C= 1e3, gamma= 0.1\n",
      "0.421427929799\n"
     ]
    },
    {
     "name": "stderr",
     "output_type": "stream",
     "text": [
      "C:\\Users\\Vadim\\Anaconda3\\lib\\site-packages\\sklearn\\svm\\base.py:196: FutureWarning: The default value of gamma will change from 'auto' to 'scale' in version 0.22 to account better for unscaled features. Set gamma explicitly to 'auto' or 'scale' to avoid this warning.\n",
      "  \"avoid this warning.\", FutureWarning)\n"
     ]
    },
    {
     "name": "stdout",
     "output_type": "stream",
     "text": [
      "kernel=poly, C= 1e3 degree =2\n",
      "0.088214402399\n"
     ]
    },
    {
     "name": "stderr",
     "output_type": "stream",
     "text": [
      "C:\\Users\\Vadim\\Anaconda3\\lib\\site-packages\\sklearn\\svm\\base.py:196: FutureWarning: The default value of gamma will change from 'auto' to 'scale' in version 0.22 to account better for unscaled features. Set gamma explicitly to 'auto' or 'scale' to avoid this warning.\n",
      "  \"avoid this warning.\", FutureWarning)\n"
     ]
    },
    {
     "name": "stdout",
     "output_type": "stream",
     "text": [
      "{'C': 1.0, 'cache_size': 200, 'coef0': 0.0, 'degree': 3, 'epsilon': 0.1, 'gamma': 'auto_deprecated', 'kernel': 'rbf', 'max_iter': -1, 'shrinking': True, 'tol': 0.001, 'verbose': False}\n",
      "0.0505219082532\n"
     ]
    }
   ],
   "source": [
    "model_svr(Xt,Y)"
   ]
  },
  {
   "cell_type": "code",
   "execution_count": null,
   "metadata": {},
   "outputs": [],
   "source": [
    "# RESULT 'kernel= rbf, C= 1e3, gamma= 0.1 is the best\n"
   ]
  },
  {
   "cell_type": "code",
   "execution_count": null,
   "metadata": {},
   "outputs": [],
   "source": [
    "# how to improve it: \n"
   ]
  }
 ],
 "metadata": {
  "hide_input": false,
  "kernelspec": {
   "display_name": "Python 3",
   "language": "python",
   "name": "python3"
  },
  "language_info": {
   "codemirror_mode": {
    "name": "ipython",
    "version": 3
   },
   "file_extension": ".py",
   "mimetype": "text/x-python",
   "name": "python",
   "nbconvert_exporter": "python",
   "pygments_lexer": "ipython3",
   "version": "3.7.2"
  },
  "toc": {
   "colors": {
    "hover_highlight": "#DAA520",
    "running_highlight": "#FF0000",
    "selected_highlight": "#FFD700"
   },
   "moveMenuLeft": true,
   "nav_menu": {
    "height": "12px",
    "width": "252px"
   },
   "navigate_menu": true,
   "number_sections": true,
   "sideBar": true,
   "threshold": 4,
   "toc_cell": false,
   "toc_section_display": "block",
   "toc_window_display": false
  }
 },
 "nbformat": 4,
 "nbformat_minor": 2
}
