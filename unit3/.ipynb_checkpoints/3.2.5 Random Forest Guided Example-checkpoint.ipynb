{
 "cells": [
  {
   "cell_type": "code",
   "execution_count": 27,
   "metadata": {
    "collapsed": true,
    "run_control": {
     "frozen": false,
     "read_only": false
    }
   },
   "outputs": [],
   "source": [
    "import pandas as pd\n",
    "import numpy as np\n",
    "import matplotlib.pyplot as plt\n",
    "from sklearn import ensemble\n",
    "from sklearn.model_selection import cross_val_score\n",
    "%matplotlib inline\n",
    "import pandas_profiling\n",
    "from sklearn.model_selection import train_test_split\n",
    "from sklearn.metrics import f1_score\n",
    "from sklearn.model_selection import GridSearchCV\n",
    "import seaborn as sns"
   ]
  },
  {
   "cell_type": "markdown",
   "metadata": {
    "run_control": {
     "frozen": false,
     "read_only": false
    }
   },
   "source": [
    "We've talked about Random Forests. Now it's time to build one.\n",
    "\n",
    "Here we'll use data from Lending Club to predict the state of a loan given some information about it. You can find the dataset [here](https://www.lendingclub.com/info/download-data.action). We'll use 2015 data. ([Thinkful mirror](https://www.dropbox.com/s/m7z42lubaiory33/LoanStats3d.csv?dl=0))"
   ]
  },
  {
   "cell_type": "code",
   "execution_count": 3,
   "metadata": {
    "run_control": {
     "frozen": false,
     "read_only": false
    }
   },
   "outputs": [],
   "source": [
    "# Replace the path with the correct path for your data.\n",
    "y2015 = pd.read_csv(\n",
    "    'https://www.dropbox.com/s/0so14yudedjmm5m/LoanStats3d.csv?dl=1',\n",
    "    skipinitialspace=True,low_memory=False,\n",
    "    header=1\n",
    ")\n",
    "\n",
    "# Note the warning about dtypes."
   ]
  },
  {
   "cell_type": "code",
   "execution_count": 7,
   "metadata": {},
   "outputs": [
    {
     "name": "stdout",
     "output_type": "stream",
     "text": [
      "<class 'pandas.core.frame.DataFrame'>\n",
      "RangeIndex: 421097 entries, 0 to 421096\n",
      "Columns: 103 entries, id to total_il_high_credit_limit\n",
      "dtypes: float64(87), object(16)\n",
      "memory usage: 330.9+ MB\n"
     ]
    }
   ],
   "source": [
    "\n",
    "y2015.info() \n",
    "# identify objects\n",
    "\n"
   ]
  },
  {
   "cell_type": "code",
   "execution_count": 5,
   "metadata": {},
   "outputs": [],
   "source": [
    "desc = y2015.describe(include='all').T\n"
   ]
  },
  {
   "cell_type": "markdown",
   "metadata": {},
   "source": [
    "the dataset has so many columns that I need some routine to analyze \n",
    "1. what columns have\n",
    "   - more than %XX NULLS\n",
    "   - the same values for XX % \n",
    "   - variance < than X % of column value \n",
    "   - columns that use huge space\n",
    " ---------------------------\n",
    " describe; info ? \n"
   ]
  },
  {
   "cell_type": "code",
   "execution_count": 6,
   "metadata": {},
   "outputs": [
    {
     "name": "stdout",
     "output_type": "stream",
     "text": [
      "                                 count  unique  \\\n",
      "id                              421097  421097   \n",
      "member_id                       421095     NaN   \n",
      "loan_amnt                       421095     NaN   \n",
      "funded_amnt                     421095     NaN   \n",
      "funded_amnt_inv                 421095     NaN   \n",
      "term                            421095       2   \n",
      "int_rate                        421095     110   \n",
      "installment                     421095     NaN   \n",
      "grade                           421095       7   \n",
      "sub_grade                       421095      35   \n",
      "emp_title                       397221  120812   \n",
      "emp_length                      397278      11   \n",
      "home_ownership                  421095       4   \n",
      "annual_inc                      421095     NaN   \n",
      "verification_status             421095       3   \n",
      "issue_d                         421095      12   \n",
      "loan_status                     421095       7   \n",
      "pymnt_plan                      421095       1   \n",
      "url                             421095  421095   \n",
      "desc                                45      34   \n",
      "purpose                         421095      14   \n",
      "title                           420963      27   \n",
      "zip_code                        421095     914   \n",
      "addr_state                      421095      49   \n",
      "dti                             421095     NaN   \n",
      "delinq_2yrs                     421095     NaN   \n",
      "earliest_cr_line                421095     668   \n",
      "inq_last_6mths                  421095     NaN   \n",
      "mths_since_last_delinq          217133     NaN   \n",
      "mths_since_last_record           74415     NaN   \n",
      "...                                ...     ...   \n",
      "mo_sin_old_rev_tl_op            421095     NaN   \n",
      "mo_sin_rcnt_rev_tl_op           421095     NaN   \n",
      "mo_sin_rcnt_tl                  421095     NaN   \n",
      "mort_acc                        421095     NaN   \n",
      "mths_since_recent_bc            417297     NaN   \n",
      "mths_since_recent_bc_dlq        108600     NaN   \n",
      "mths_since_recent_inq           376496     NaN   \n",
      "mths_since_recent_revol_delinq  151737     NaN   \n",
      "num_accts_ever_120_pd           421095     NaN   \n",
      "num_actv_bc_tl                  421095     NaN   \n",
      "num_actv_rev_tl                 421095     NaN   \n",
      "num_bc_sats                     421095     NaN   \n",
      "num_bc_tl                       421095     NaN   \n",
      "num_il_tl                       421095     NaN   \n",
      "num_op_rev_tl                   421095     NaN   \n",
      "num_rev_accts                   421094     NaN   \n",
      "num_rev_tl_bal_gt_0             421095     NaN   \n",
      "num_sats                        421095     NaN   \n",
      "num_tl_120dpd_2m                401865     NaN   \n",
      "num_tl_30dpd                    421095     NaN   \n",
      "num_tl_90g_dpd_24m              421095     NaN   \n",
      "num_tl_op_past_12m              421095     NaN   \n",
      "pct_tl_nvr_dlq                  421095     NaN   \n",
      "percent_bc_gt_75                416856     NaN   \n",
      "pub_rec_bankruptcies            421095     NaN   \n",
      "tax_liens                       421095     NaN   \n",
      "tot_hi_cred_lim                 421095     NaN   \n",
      "total_bal_ex_mort               421095     NaN   \n",
      "total_bc_limit                  421095     NaN   \n",
      "total_il_high_credit_limit      421095     NaN   \n",
      "\n",
      "                                                                              top  \\\n",
      "id                                                                       63437124   \n",
      "member_id                                                                     NaN   \n",
      "loan_amnt                                                                     NaN   \n",
      "funded_amnt                                                                   NaN   \n",
      "funded_amnt_inv                                                               NaN   \n",
      "term                                                                    36 months   \n",
      "int_rate                                                                    7.89%   \n",
      "installment                                                                   NaN   \n",
      "grade                                                                           C   \n",
      "sub_grade                                                                      C1   \n",
      "emp_title                                                                 Teacher   \n",
      "emp_length                                                              10+ years   \n",
      "home_ownership                                                           MORTGAGE   \n",
      "annual_inc                                                                    NaN   \n",
      "verification_status                                               Source Verified   \n",
      "issue_d                                                                  Oct-2015   \n",
      "loan_status                                                               Current   \n",
      "pymnt_plan                                                                      n   \n",
      "url                             https://lendingclub.com/browse/loanDetail.acti...   \n",
      "desc                                                                                \n",
      "purpose                                                        debt_consolidation   \n",
      "title                                                          Debt consolidation   \n",
      "zip_code                                                                    945xx   \n",
      "addr_state                                                                     CA   \n",
      "dti                                                                           NaN   \n",
      "delinq_2yrs                                                                   NaN   \n",
      "earliest_cr_line                                                         Aug-2002   \n",
      "inq_last_6mths                                                                NaN   \n",
      "mths_since_last_delinq                                                        NaN   \n",
      "mths_since_last_record                                                        NaN   \n",
      "...                                                                           ...   \n",
      "mo_sin_old_rev_tl_op                                                          NaN   \n",
      "mo_sin_rcnt_rev_tl_op                                                         NaN   \n",
      "mo_sin_rcnt_tl                                                                NaN   \n",
      "mort_acc                                                                      NaN   \n",
      "mths_since_recent_bc                                                          NaN   \n",
      "mths_since_recent_bc_dlq                                                      NaN   \n",
      "mths_since_recent_inq                                                         NaN   \n",
      "mths_since_recent_revol_delinq                                                NaN   \n",
      "num_accts_ever_120_pd                                                         NaN   \n",
      "num_actv_bc_tl                                                                NaN   \n",
      "num_actv_rev_tl                                                               NaN   \n",
      "num_bc_sats                                                                   NaN   \n",
      "num_bc_tl                                                                     NaN   \n",
      "num_il_tl                                                                     NaN   \n",
      "num_op_rev_tl                                                                 NaN   \n",
      "num_rev_accts                                                                 NaN   \n",
      "num_rev_tl_bal_gt_0                                                           NaN   \n",
      "num_sats                                                                      NaN   \n",
      "num_tl_120dpd_2m                                                              NaN   \n",
      "num_tl_30dpd                                                                  NaN   \n",
      "num_tl_90g_dpd_24m                                                            NaN   \n",
      "num_tl_op_past_12m                                                            NaN   \n",
      "pct_tl_nvr_dlq                                                                NaN   \n",
      "percent_bc_gt_75                                                              NaN   \n",
      "pub_rec_bankruptcies                                                          NaN   \n",
      "tax_liens                                                                     NaN   \n",
      "tot_hi_cred_lim                                                               NaN   \n",
      "total_bal_ex_mort                                                             NaN   \n",
      "total_bc_limit                                                                NaN   \n",
      "total_il_high_credit_limit                                                    NaN   \n",
      "\n",
      "                                  freq         mean          std    min  \\\n",
      "id                                   1          NaN          NaN    NaN   \n",
      "member_id                          NaN  5.75958e+07  1.01336e+07  70825   \n",
      "loan_amnt                          NaN      15240.3      8571.33   1000   \n",
      "funded_amnt                        NaN      15240.3      8571.33   1000   \n",
      "funded_amnt_inv                    NaN      15234.2      8567.94    900   \n",
      "term                            283173          NaN          NaN    NaN   \n",
      "int_rate                         20307          NaN          NaN    NaN   \n",
      "installment                        NaN       441.86      244.851   23.4   \n",
      "grade                           120567          NaN          NaN    NaN   \n",
      "sub_grade                        26434          NaN          NaN    NaN   \n",
      "emp_title                         8070          NaN          NaN    NaN   \n",
      "emp_length                      141521          NaN          NaN    NaN   \n",
      "home_ownership                  207683          NaN          NaN    NaN   \n",
      "annual_inc                         NaN      76965.6        73950      0   \n",
      "verification_status             179565          NaN          NaN    NaN   \n",
      "issue_d                          48631          NaN          NaN    NaN   \n",
      "loan_status                     287414          NaN          NaN    NaN   \n",
      "pymnt_plan                      421095          NaN          NaN    NaN   \n",
      "url                                  1          NaN          NaN    NaN   \n",
      "desc                                12          NaN          NaN    NaN   \n",
      "purpose                         250020          NaN          NaN    NaN   \n",
      "title                           249926          NaN          NaN    NaN   \n",
      "zip_code                          4466          NaN          NaN    NaN   \n",
      "addr_state                       58067          NaN          NaN    NaN   \n",
      "dti                                NaN       19.196       23.504      0   \n",
      "delinq_2yrs                        NaN     0.347397     0.927695      0   \n",
      "earliest_cr_line                  3235          NaN          NaN    NaN   \n",
      "inq_last_6mths                     NaN      0.57269     0.867776      0   \n",
      "mths_since_last_delinq             NaN      34.0234      21.9903      0   \n",
      "mths_since_last_record             NaN      66.5926      25.5779      0   \n",
      "...                                ...          ...          ...    ...   \n",
      "mo_sin_old_rev_tl_op               NaN      186.587      95.3749      3   \n",
      "mo_sin_rcnt_rev_tl_op              NaN      13.4512       17.157      0   \n",
      "mo_sin_rcnt_tl                     NaN       8.0132      9.18931      0   \n",
      "mort_acc                           NaN      1.68526      1.99016      0   \n",
      "mths_since_recent_bc               NaN      24.8565      32.2728      0   \n",
      "mths_since_recent_bc_dlq           NaN      39.8382      23.0039      0   \n",
      "mths_since_recent_inq              NaN      6.75116      5.91401      0   \n",
      "mths_since_recent_revol_delinq     NaN      35.7971      22.6285      0   \n",
      "num_accts_ever_120_pd              NaN     0.527054       1.3328      0   \n",
      "num_actv_bc_tl                     NaN      3.74097      2.30454      0   \n",
      "num_actv_rev_tl                    NaN      5.86083      3.43976      0   \n",
      "num_bc_sats                        NaN      4.79988      3.03618      0   \n",
      "num_bc_tl                          NaN      8.13714       4.8227      0   \n",
      "num_il_tl                          NaN        8.649      7.47104      0   \n",
      "num_op_rev_tl                      NaN      8.43179      4.66438      0   \n",
      "num_rev_accts                      NaN      14.8836      8.28938      2   \n",
      "num_rev_tl_bal_gt_0                NaN      5.80924       3.3467      0   \n",
      "num_sats                           NaN      11.8945      5.61512      0   \n",
      "num_tl_120dpd_2m                   NaN   0.00076145    0.0301691      0   \n",
      "num_tl_30dpd                       NaN   0.00404184    0.0679648      0   \n",
      "num_tl_90g_dpd_24m                 NaN    0.0943184     0.522758      0   \n",
      "num_tl_op_past_12m                 NaN      2.17095      1.85386      0   \n",
      "pct_tl_nvr_dlq                     NaN      93.9243       8.8754      0   \n",
      "percent_bc_gt_75                   NaN      47.5271      36.0545      0   \n",
      "pub_rec_bankruptcies               NaN     0.133188     0.385975      0   \n",
      "tax_liens                          NaN    0.0645555     0.444231      0   \n",
      "tot_hi_cred_lim                    NaN       173407       175672   2500   \n",
      "total_bal_ex_mort                  NaN        52222      49074.9      0   \n",
      "total_bc_limit                     NaN      21958.2      21840.4      0   \n",
      "total_il_high_credit_limit         NaN      43478.6      43942.7      0   \n",
      "\n",
      "                                        25%          50%          75%  \\\n",
      "id                                      NaN          NaN          NaN   \n",
      "member_id                       4.92262e+07  5.89536e+07  6.60458e+07   \n",
      "loan_amnt                              8500        14000        20000   \n",
      "funded_amnt                            8500        14000        20000   \n",
      "funded_amnt_inv                        8500        14000        20000   \n",
      "term                                    NaN          NaN          NaN   \n",
      "int_rate                                NaN          NaN          NaN   \n",
      "installment                          263.93       385.41       578.79   \n",
      "grade                                   NaN          NaN          NaN   \n",
      "sub_grade                               NaN          NaN          NaN   \n",
      "emp_title                               NaN          NaN          NaN   \n",
      "emp_length                              NaN          NaN          NaN   \n",
      "home_ownership                          NaN          NaN          NaN   \n",
      "annual_inc                            46000        65000      91690.5   \n",
      "verification_status                     NaN          NaN          NaN   \n",
      "issue_d                                 NaN          NaN          NaN   \n",
      "loan_status                             NaN          NaN          NaN   \n",
      "pymnt_plan                              NaN          NaN          NaN   \n",
      "url                                     NaN          NaN          NaN   \n",
      "desc                                    NaN          NaN          NaN   \n",
      "purpose                                 NaN          NaN          NaN   \n",
      "title                                   NaN          NaN          NaN   \n",
      "zip_code                                NaN          NaN          NaN   \n",
      "addr_state                              NaN          NaN          NaN   \n",
      "dti                                   12.59         18.6        25.34   \n",
      "delinq_2yrs                               0            0            0   \n",
      "earliest_cr_line                        NaN          NaN          NaN   \n",
      "inq_last_6mths                            0            0            1   \n",
      "mths_since_last_delinq                   15           31           50   \n",
      "mths_since_last_record                   50           67           82   \n",
      "...                                     ...          ...          ...   \n",
      "mo_sin_old_rev_tl_op                    120          170          237   \n",
      "mo_sin_rcnt_rev_tl_op                     4            8           16   \n",
      "mo_sin_rcnt_tl                            3            5           10   \n",
      "mort_acc                                  0            1            3   \n",
      "mths_since_recent_bc                      6           14           29   \n",
      "mths_since_recent_bc_dlq                 20           38           60   \n",
      "mths_since_recent_inq                     2            5           10   \n",
      "mths_since_recent_revol_delinq           17           33           53   \n",
      "num_accts_ever_120_pd                     0            0            0   \n",
      "num_actv_bc_tl                            2            3            5   \n",
      "num_actv_rev_tl                           3            5            7   \n",
      "num_bc_sats                               3            4            6   \n",
      "num_bc_tl                                 5            7           11   \n",
      "num_il_tl                                 4            7           11   \n",
      "num_op_rev_tl                             5            8           11   \n",
      "num_rev_accts                             9           13           19   \n",
      "num_rev_tl_bal_gt_0                       3            5            7   \n",
      "num_sats                                  8           11           15   \n",
      "num_tl_120dpd_2m                          0            0            0   \n",
      "num_tl_30dpd                              0            0            0   \n",
      "num_tl_90g_dpd_24m                        0            0            0   \n",
      "num_tl_op_past_12m                        1            2            3   \n",
      "pct_tl_nvr_dlq                         90.9         97.4          100   \n",
      "percent_bc_gt_75                       15.4           50           75   \n",
      "pub_rec_bankruptcies                      0            0            0   \n",
      "tax_liens                                 0            0            0   \n",
      "tot_hi_cred_lim                       50909       111405       249629   \n",
      "total_bal_ex_mort                   22598.5        39596        65651   \n",
      "total_bc_limit                         7800        15200        28600   \n",
      "total_il_high_credit_limit          15481.5        32970        58299   \n",
      "\n",
      "                                        max  \n",
      "id                                      NaN  \n",
      "member_id                       7.35448e+07  \n",
      "loan_amnt                             35000  \n",
      "funded_amnt                           35000  \n",
      "funded_amnt_inv                       35000  \n",
      "term                                    NaN  \n",
      "int_rate                                NaN  \n",
      "installment                         1445.46  \n",
      "grade                                   NaN  \n",
      "sub_grade                               NaN  \n",
      "emp_title                               NaN  \n",
      "emp_length                              NaN  \n",
      "home_ownership                          NaN  \n",
      "annual_inc                          9.5e+06  \n",
      "verification_status                     NaN  \n",
      "issue_d                                 NaN  \n",
      "loan_status                             NaN  \n",
      "pymnt_plan                              NaN  \n",
      "url                                     NaN  \n",
      "desc                                    NaN  \n",
      "purpose                                 NaN  \n",
      "title                                   NaN  \n",
      "zip_code                                NaN  \n",
      "addr_state                              NaN  \n",
      "dti                                    9999  \n",
      "delinq_2yrs                              39  \n",
      "earliest_cr_line                        NaN  \n",
      "inq_last_6mths                            6  \n",
      "mths_since_last_delinq                  176  \n",
      "mths_since_last_record                  120  \n",
      "...                                     ...  \n",
      "mo_sin_old_rev_tl_op                    851  \n",
      "mo_sin_rcnt_rev_tl_op                   324  \n",
      "mo_sin_rcnt_tl                          263  \n",
      "mort_acc                                 52  \n",
      "mths_since_recent_bc                    615  \n",
      "mths_since_recent_bc_dlq                195  \n",
      "mths_since_recent_inq                    25  \n",
      "mths_since_recent_revol_delinq          176  \n",
      "num_accts_ever_120_pd                    39  \n",
      "num_actv_bc_tl                           32  \n",
      "num_actv_rev_tl                          52  \n",
      "num_bc_sats                              63  \n",
      "num_bc_tl                                70  \n",
      "num_il_tl                               132  \n",
      "num_op_rev_tl                            83  \n",
      "num_rev_accts                           118  \n",
      "num_rev_tl_bal_gt_0                      45  \n",
      "num_sats                                 90  \n",
      "num_tl_120dpd_2m                          6  \n",
      "num_tl_30dpd                              4  \n",
      "num_tl_90g_dpd_24m                       39  \n",
      "num_tl_op_past_12m                       30  \n",
      "pct_tl_nvr_dlq                          100  \n",
      "percent_bc_gt_75                        100  \n",
      "pub_rec_bankruptcies                     11  \n",
      "tax_liens                                85  \n",
      "tot_hi_cred_lim                       1e+07  \n",
      "total_bal_ex_mort               2.92155e+06  \n",
      "total_bc_limit                       834300  \n",
      "total_il_high_credit_limit      2.10191e+06  \n",
      "\n",
      "[111 rows x 11 columns]\n"
     ]
    }
   ],
   "source": [
    "print (desc)"
   ]
  },
  {
   "cell_type": "code",
   "execution_count": null,
   "metadata": {},
   "outputs": [],
   "source": [
    "# get all base info for all columns\n",
    "profile = pandas_profiling.ProfileReport(y2015)"
   ]
  },
  {
   "cell_type": "code",
   "execution_count": 11,
   "metadata": {},
   "outputs": [],
   "source": [
    "profile.to_file(outputfile=\"y2015_profile.html\")"
   ]
  },
  {
   "cell_type": "code",
   "execution_count": 7,
   "metadata": {},
   "outputs": [],
   "source": [
    "X = y2015.drop('loan_status', 1)\n",
    "Y = y2015['loan_status']"
   ]
  },
  {
   "cell_type": "markdown",
   "metadata": {
    "run_control": {
     "frozen": false,
     "read_only": false
    }
   },
   "source": [
    "\n",
    "## Data Cleaning\n",
    "\n",
    "Well, `get_dummies` can be a very memory intensive thing, particularly if data are typed poorly. We got a warning about that earlier. Mixed data types get converted to objects, and that could create huge problems. Our dataset is about 400,000 rows. If there's a bad type there its going to see 400,000 distinct values and try to create dummies for all of them. That's bad. Lets look at all our categorical variables and see how many distinct counts there are..."
   ]
  },
  {
   "cell_type": "code",
   "execution_count": 8,
   "metadata": {
    "run_control": {
     "frozen": false,
     "read_only": false
    },
    "scrolled": true
   },
   "outputs": [
    {
     "name": "stdout",
     "output_type": "stream",
     "text": [
      "id\n",
      "421097\n",
      "term\n",
      "2\n",
      "int_rate\n",
      "110\n",
      "grade\n",
      "7\n",
      "sub_grade\n",
      "35\n",
      "emp_title\n",
      "120812\n",
      "emp_length\n",
      "11\n",
      "home_ownership\n",
      "4\n",
      "verification_status\n",
      "3\n",
      "issue_d\n",
      "12\n",
      "loan_status\n",
      "7\n",
      "pymnt_plan\n",
      "1\n",
      "url\n",
      "421095\n",
      "desc\n",
      "34\n",
      "purpose\n",
      "14\n",
      "title\n",
      "27\n",
      "zip_code\n",
      "914\n",
      "addr_state\n",
      "49\n",
      "earliest_cr_line\n",
      "668\n",
      "revol_util\n",
      "1211\n",
      "initial_list_status\n",
      "2\n",
      "last_pymnt_d\n",
      "25\n",
      "next_pymnt_d\n",
      "4\n",
      "last_credit_pull_d\n",
      "26\n",
      "application_type\n",
      "2\n",
      "verification_status_joint\n",
      "3\n"
     ]
    }
   ],
   "source": [
    "categorical = y2015.select_dtypes(include=['object'])\n",
    "for i in categorical:\n",
    "    column = categorical[i]\n",
    "    print(i)\n",
    "    print(column.nunique())"
   ]
  },
  {
   "cell_type": "markdown",
   "metadata": {
    "run_control": {
     "frozen": false,
     "read_only": false
    }
   },
   "source": [
    "Well that right there is what's called a problem. Some of these have over a hundred thousand distinct types. Lets drop the ones with over 30 unique values, converting to numeric where it makes sense. In doing this there's a lot of code that gets written to just see if the numeric conversion makes sense. It's a manual process that we'll abstract away and just include the conversion.\n",
    "\n",
    "You could extract numeric features from the dates, but here we'll just drop them. There's a lot of data, it shouldn't be a huge problem."
   ]
  },
  {
   "cell_type": "code",
   "execution_count": 8,
   "metadata": {
    "collapsed": true,
    "run_control": {
     "frozen": false,
     "read_only": false
    }
   },
   "outputs": [
    {
     "ename": "AttributeError",
     "evalue": "Can only use .str accessor with string values, which use np.object_ dtype in pandas",
     "output_type": "error",
     "traceback": [
      "\u001b[1;31m---------------------------------------------------------------------------\u001b[0m",
      "\u001b[1;31mAttributeError\u001b[0m                            Traceback (most recent call last)",
      "\u001b[1;32m<ipython-input-8-56f81792a534>\u001b[0m in \u001b[0;36m<module>\u001b[1;34m\u001b[0m\n\u001b[0;32m      1\u001b[0m \u001b[1;31m# Convert ID and Interest Rate to numeric.\u001b[0m\u001b[1;33m\u001b[0m\u001b[1;33m\u001b[0m\u001b[1;33m\u001b[0m\u001b[0m\n\u001b[0;32m      2\u001b[0m \u001b[0my2015\u001b[0m\u001b[1;33m[\u001b[0m\u001b[1;34m'id'\u001b[0m\u001b[1;33m]\u001b[0m \u001b[1;33m=\u001b[0m \u001b[0mpd\u001b[0m\u001b[1;33m.\u001b[0m\u001b[0mto_numeric\u001b[0m\u001b[1;33m(\u001b[0m\u001b[0my2015\u001b[0m\u001b[1;33m[\u001b[0m\u001b[1;34m'id'\u001b[0m\u001b[1;33m]\u001b[0m\u001b[1;33m,\u001b[0m \u001b[0merrors\u001b[0m\u001b[1;33m=\u001b[0m\u001b[1;34m'coerce'\u001b[0m\u001b[1;33m)\u001b[0m\u001b[1;33m\u001b[0m\u001b[1;33m\u001b[0m\u001b[0m\n\u001b[1;32m----> 3\u001b[1;33m \u001b[0my2015\u001b[0m\u001b[1;33m[\u001b[0m\u001b[1;34m'int_rate'\u001b[0m\u001b[1;33m]\u001b[0m \u001b[1;33m=\u001b[0m \u001b[0mpd\u001b[0m\u001b[1;33m.\u001b[0m\u001b[0mto_numeric\u001b[0m\u001b[1;33m(\u001b[0m\u001b[0my2015\u001b[0m\u001b[1;33m[\u001b[0m\u001b[1;34m'int_rate'\u001b[0m\u001b[1;33m]\u001b[0m\u001b[1;33m.\u001b[0m\u001b[0mstr\u001b[0m\u001b[1;33m.\u001b[0m\u001b[0mstrip\u001b[0m\u001b[1;33m(\u001b[0m\u001b[1;34m'%'\u001b[0m\u001b[1;33m)\u001b[0m\u001b[1;33m,\u001b[0m \u001b[0merrors\u001b[0m\u001b[1;33m=\u001b[0m\u001b[1;34m'coerce'\u001b[0m\u001b[1;33m)\u001b[0m\u001b[1;33m\u001b[0m\u001b[1;33m\u001b[0m\u001b[0m\n\u001b[0m\u001b[0;32m      4\u001b[0m \u001b[1;33m\u001b[0m\u001b[0m\n\u001b[0;32m      5\u001b[0m \u001b[1;31m# Drop other columns with many unique variables\u001b[0m\u001b[1;33m\u001b[0m\u001b[1;33m\u001b[0m\u001b[1;33m\u001b[0m\u001b[0m\n",
      "\u001b[1;32m~\\Anaconda3\\lib\\site-packages\\pandas\\core\\generic.py\u001b[0m in \u001b[0;36m__getattr__\u001b[1;34m(self, name)\u001b[0m\n\u001b[0;32m   4370\u001b[0m         if (name in self._internal_names_set or name in self._metadata or\n\u001b[0;32m   4371\u001b[0m                 name in self._accessors):\n\u001b[1;32m-> 4372\u001b[1;33m             \u001b[1;32mreturn\u001b[0m \u001b[0mobject\u001b[0m\u001b[1;33m.\u001b[0m\u001b[0m__getattribute__\u001b[0m\u001b[1;33m(\u001b[0m\u001b[0mself\u001b[0m\u001b[1;33m,\u001b[0m \u001b[0mname\u001b[0m\u001b[1;33m)\u001b[0m\u001b[1;33m\u001b[0m\u001b[1;33m\u001b[0m\u001b[0m\n\u001b[0m\u001b[0;32m   4373\u001b[0m         \u001b[1;32melse\u001b[0m\u001b[1;33m:\u001b[0m\u001b[1;33m\u001b[0m\u001b[1;33m\u001b[0m\u001b[0m\n\u001b[0;32m   4374\u001b[0m             \u001b[1;32mif\u001b[0m \u001b[0mself\u001b[0m\u001b[1;33m.\u001b[0m\u001b[0m_info_axis\u001b[0m\u001b[1;33m.\u001b[0m\u001b[0m_can_hold_identifiers_and_holds_name\u001b[0m\u001b[1;33m(\u001b[0m\u001b[0mname\u001b[0m\u001b[1;33m)\u001b[0m\u001b[1;33m:\u001b[0m\u001b[1;33m\u001b[0m\u001b[1;33m\u001b[0m\u001b[0m\n",
      "\u001b[1;32m~\\Anaconda3\\lib\\site-packages\\pandas\\core\\accessor.py\u001b[0m in \u001b[0;36m__get__\u001b[1;34m(self, obj, cls)\u001b[0m\n\u001b[0;32m    131\u001b[0m             \u001b[1;31m# we're accessing the attribute of the class, i.e., Dataset.geo\u001b[0m\u001b[1;33m\u001b[0m\u001b[1;33m\u001b[0m\u001b[1;33m\u001b[0m\u001b[0m\n\u001b[0;32m    132\u001b[0m             \u001b[1;32mreturn\u001b[0m \u001b[0mself\u001b[0m\u001b[1;33m.\u001b[0m\u001b[0m_accessor\u001b[0m\u001b[1;33m\u001b[0m\u001b[1;33m\u001b[0m\u001b[0m\n\u001b[1;32m--> 133\u001b[1;33m         \u001b[0maccessor_obj\u001b[0m \u001b[1;33m=\u001b[0m \u001b[0mself\u001b[0m\u001b[1;33m.\u001b[0m\u001b[0m_accessor\u001b[0m\u001b[1;33m(\u001b[0m\u001b[0mobj\u001b[0m\u001b[1;33m)\u001b[0m\u001b[1;33m\u001b[0m\u001b[1;33m\u001b[0m\u001b[0m\n\u001b[0m\u001b[0;32m    134\u001b[0m         \u001b[1;31m# Replace the property with the accessor object. Inspired by:\u001b[0m\u001b[1;33m\u001b[0m\u001b[1;33m\u001b[0m\u001b[1;33m\u001b[0m\u001b[0m\n\u001b[0;32m    135\u001b[0m         \u001b[1;31m# http://www.pydanny.com/cached-property.html\u001b[0m\u001b[1;33m\u001b[0m\u001b[1;33m\u001b[0m\u001b[1;33m\u001b[0m\u001b[0m\n",
      "\u001b[1;32m~\\Anaconda3\\lib\\site-packages\\pandas\\core\\strings.py\u001b[0m in \u001b[0;36m__init__\u001b[1;34m(self, data)\u001b[0m\n\u001b[0;32m   1893\u001b[0m \u001b[1;33m\u001b[0m\u001b[0m\n\u001b[0;32m   1894\u001b[0m     \u001b[1;32mdef\u001b[0m \u001b[0m__init__\u001b[0m\u001b[1;33m(\u001b[0m\u001b[0mself\u001b[0m\u001b[1;33m,\u001b[0m \u001b[0mdata\u001b[0m\u001b[1;33m)\u001b[0m\u001b[1;33m:\u001b[0m\u001b[1;33m\u001b[0m\u001b[1;33m\u001b[0m\u001b[0m\n\u001b[1;32m-> 1895\u001b[1;33m         \u001b[0mself\u001b[0m\u001b[1;33m.\u001b[0m\u001b[0m_validate\u001b[0m\u001b[1;33m(\u001b[0m\u001b[0mdata\u001b[0m\u001b[1;33m)\u001b[0m\u001b[1;33m\u001b[0m\u001b[1;33m\u001b[0m\u001b[0m\n\u001b[0m\u001b[0;32m   1896\u001b[0m         \u001b[0mself\u001b[0m\u001b[1;33m.\u001b[0m\u001b[0m_is_categorical\u001b[0m \u001b[1;33m=\u001b[0m \u001b[0mis_categorical_dtype\u001b[0m\u001b[1;33m(\u001b[0m\u001b[0mdata\u001b[0m\u001b[1;33m)\u001b[0m\u001b[1;33m\u001b[0m\u001b[1;33m\u001b[0m\u001b[0m\n\u001b[0;32m   1897\u001b[0m \u001b[1;33m\u001b[0m\u001b[0m\n",
      "\u001b[1;32m~\\Anaconda3\\lib\\site-packages\\pandas\\core\\strings.py\u001b[0m in \u001b[0;36m_validate\u001b[1;34m(data)\u001b[0m\n\u001b[0;32m   1915\u001b[0m             \u001b[1;31m# (instead of test for object dtype), but that isn't practical for\u001b[0m\u001b[1;33m\u001b[0m\u001b[1;33m\u001b[0m\u001b[1;33m\u001b[0m\u001b[0m\n\u001b[0;32m   1916\u001b[0m             \u001b[1;31m# performance reasons until we have a str dtype (GH 9343)\u001b[0m\u001b[1;33m\u001b[0m\u001b[1;33m\u001b[0m\u001b[1;33m\u001b[0m\u001b[0m\n\u001b[1;32m-> 1917\u001b[1;33m             raise AttributeError(\"Can only use .str accessor with string \"\n\u001b[0m\u001b[0;32m   1918\u001b[0m                                  \u001b[1;34m\"values, which use np.object_ dtype in \"\u001b[0m\u001b[1;33m\u001b[0m\u001b[1;33m\u001b[0m\u001b[0m\n\u001b[0;32m   1919\u001b[0m                                  \"pandas\")\n",
      "\u001b[1;31mAttributeError\u001b[0m: Can only use .str accessor with string values, which use np.object_ dtype in pandas"
     ]
    }
   ],
   "source": [
    "# Convert ID and Interest Rate to numeric.\n",
    "y2015['id'] = pd.to_numeric(y2015['id'], errors='coerce')\n",
    "y2015['int_rate'] = pd.to_numeric(y2015['int_rate'].str.strip('%'), errors='coerce')\n",
    "\n",
    "# Drop other columns with many unique variables\n",
    "y2015.drop(['url', 'emp_title', 'zip_code', 'earliest_cr_line', 'revol_util',\n",
    "            'sub_grade', 'addr_state', 'desc'], 1, inplace=True)"
   ]
  },
  {
   "cell_type": "markdown",
   "metadata": {},
   "source": [
    "Wonder what was causing the dtype error on the id column, which _should_ have all been integers? Let's look at the end of the file."
   ]
  },
  {
   "cell_type": "code",
   "execution_count": 39,
   "metadata": {},
   "outputs": [
    {
     "data": {
      "text/html": [
       "<div>\n",
       "<style scoped>\n",
       "    .dataframe tbody tr th:only-of-type {\n",
       "        vertical-align: middle;\n",
       "    }\n",
       "\n",
       "    .dataframe tbody tr th {\n",
       "        vertical-align: top;\n",
       "    }\n",
       "\n",
       "    .dataframe thead th {\n",
       "        text-align: right;\n",
       "    }\n",
       "</style>\n",
       "<table border=\"1\" class=\"dataframe\">\n",
       "  <thead>\n",
       "    <tr style=\"text-align: right;\">\n",
       "      <th></th>\n",
       "      <th>id</th>\n",
       "      <th>member_id</th>\n",
       "      <th>loan_amnt</th>\n",
       "      <th>funded_amnt</th>\n",
       "      <th>funded_amnt_inv</th>\n",
       "      <th>term</th>\n",
       "      <th>int_rate</th>\n",
       "      <th>installment</th>\n",
       "      <th>grade</th>\n",
       "      <th>emp_length</th>\n",
       "      <th>...</th>\n",
       "      <th>num_tl_90g_dpd_24m</th>\n",
       "      <th>num_tl_op_past_12m</th>\n",
       "      <th>pct_tl_nvr_dlq</th>\n",
       "      <th>percent_bc_gt_75</th>\n",
       "      <th>pub_rec_bankruptcies</th>\n",
       "      <th>tax_liens</th>\n",
       "      <th>tot_hi_cred_lim</th>\n",
       "      <th>total_bal_ex_mort</th>\n",
       "      <th>total_bc_limit</th>\n",
       "      <th>total_il_high_credit_limit</th>\n",
       "    </tr>\n",
       "  </thead>\n",
       "  <tbody>\n",
       "    <tr>\n",
       "      <th>421090</th>\n",
       "      <td>36371250.0</td>\n",
       "      <td>39102635.0</td>\n",
       "      <td>10000.0</td>\n",
       "      <td>10000.0</td>\n",
       "      <td>10000.0</td>\n",
       "      <td>36 months</td>\n",
       "      <td>11.99</td>\n",
       "      <td>332.10</td>\n",
       "      <td>B</td>\n",
       "      <td>8 years</td>\n",
       "      <td>...</td>\n",
       "      <td>0.0</td>\n",
       "      <td>1.0</td>\n",
       "      <td>100.0</td>\n",
       "      <td>100.0</td>\n",
       "      <td>0.0</td>\n",
       "      <td>0.0</td>\n",
       "      <td>32950.0</td>\n",
       "      <td>25274.0</td>\n",
       "      <td>9200.0</td>\n",
       "      <td>15850.0</td>\n",
       "    </tr>\n",
       "    <tr>\n",
       "      <th>421091</th>\n",
       "      <td>36441262.0</td>\n",
       "      <td>39152692.0</td>\n",
       "      <td>24000.0</td>\n",
       "      <td>24000.0</td>\n",
       "      <td>24000.0</td>\n",
       "      <td>36 months</td>\n",
       "      <td>11.99</td>\n",
       "      <td>797.03</td>\n",
       "      <td>B</td>\n",
       "      <td>10+ years</td>\n",
       "      <td>...</td>\n",
       "      <td>0.0</td>\n",
       "      <td>2.0</td>\n",
       "      <td>56.5</td>\n",
       "      <td>100.0</td>\n",
       "      <td>0.0</td>\n",
       "      <td>0.0</td>\n",
       "      <td>152650.0</td>\n",
       "      <td>8621.0</td>\n",
       "      <td>9000.0</td>\n",
       "      <td>0.0</td>\n",
       "    </tr>\n",
       "    <tr>\n",
       "      <th>421092</th>\n",
       "      <td>36271333.0</td>\n",
       "      <td>38982739.0</td>\n",
       "      <td>13000.0</td>\n",
       "      <td>13000.0</td>\n",
       "      <td>13000.0</td>\n",
       "      <td>60 months</td>\n",
       "      <td>15.99</td>\n",
       "      <td>316.07</td>\n",
       "      <td>D</td>\n",
       "      <td>5 years</td>\n",
       "      <td>...</td>\n",
       "      <td>0.0</td>\n",
       "      <td>3.0</td>\n",
       "      <td>100.0</td>\n",
       "      <td>50.0</td>\n",
       "      <td>1.0</td>\n",
       "      <td>0.0</td>\n",
       "      <td>51239.0</td>\n",
       "      <td>34178.0</td>\n",
       "      <td>10600.0</td>\n",
       "      <td>33239.0</td>\n",
       "    </tr>\n",
       "    <tr>\n",
       "      <th>421093</th>\n",
       "      <td>36490806.0</td>\n",
       "      <td>39222577.0</td>\n",
       "      <td>12000.0</td>\n",
       "      <td>12000.0</td>\n",
       "      <td>12000.0</td>\n",
       "      <td>60 months</td>\n",
       "      <td>19.99</td>\n",
       "      <td>317.86</td>\n",
       "      <td>E</td>\n",
       "      <td>1 year</td>\n",
       "      <td>...</td>\n",
       "      <td>1.0</td>\n",
       "      <td>2.0</td>\n",
       "      <td>95.0</td>\n",
       "      <td>66.7</td>\n",
       "      <td>0.0</td>\n",
       "      <td>0.0</td>\n",
       "      <td>96919.0</td>\n",
       "      <td>58418.0</td>\n",
       "      <td>9700.0</td>\n",
       "      <td>69919.0</td>\n",
       "    </tr>\n",
       "    <tr>\n",
       "      <th>421094</th>\n",
       "      <td>36271262.0</td>\n",
       "      <td>38982659.0</td>\n",
       "      <td>20000.0</td>\n",
       "      <td>20000.0</td>\n",
       "      <td>20000.0</td>\n",
       "      <td>36 months</td>\n",
       "      <td>11.99</td>\n",
       "      <td>664.20</td>\n",
       "      <td>B</td>\n",
       "      <td>10+ years</td>\n",
       "      <td>...</td>\n",
       "      <td>0.0</td>\n",
       "      <td>1.0</td>\n",
       "      <td>100.0</td>\n",
       "      <td>50.0</td>\n",
       "      <td>0.0</td>\n",
       "      <td>1.0</td>\n",
       "      <td>43740.0</td>\n",
       "      <td>33307.0</td>\n",
       "      <td>41700.0</td>\n",
       "      <td>0.0</td>\n",
       "    </tr>\n",
       "  </tbody>\n",
       "</table>\n",
       "<p>5 rows × 103 columns</p>\n",
       "</div>"
      ],
      "text/plain": [
       "                id   member_id  loan_amnt  funded_amnt  funded_amnt_inv  \\\n",
       "421090  36371250.0  39102635.0    10000.0      10000.0          10000.0   \n",
       "421091  36441262.0  39152692.0    24000.0      24000.0          24000.0   \n",
       "421092  36271333.0  38982739.0    13000.0      13000.0          13000.0   \n",
       "421093  36490806.0  39222577.0    12000.0      12000.0          12000.0   \n",
       "421094  36271262.0  38982659.0    20000.0      20000.0          20000.0   \n",
       "\n",
       "              term  int_rate  installment grade emp_length  \\\n",
       "421090   36 months     11.99       332.10     B    8 years   \n",
       "421091   36 months     11.99       797.03     B  10+ years   \n",
       "421092   60 months     15.99       316.07     D    5 years   \n",
       "421093   60 months     19.99       317.86     E     1 year   \n",
       "421094   36 months     11.99       664.20     B  10+ years   \n",
       "\n",
       "                   ...             num_tl_90g_dpd_24m  num_tl_op_past_12m  \\\n",
       "421090             ...                            0.0                 1.0   \n",
       "421091             ...                            0.0                 2.0   \n",
       "421092             ...                            0.0                 3.0   \n",
       "421093             ...                            1.0                 2.0   \n",
       "421094             ...                            0.0                 1.0   \n",
       "\n",
       "       pct_tl_nvr_dlq percent_bc_gt_75 pub_rec_bankruptcies tax_liens  \\\n",
       "421090          100.0            100.0                  0.0       0.0   \n",
       "421091           56.5            100.0                  0.0       0.0   \n",
       "421092          100.0             50.0                  1.0       0.0   \n",
       "421093           95.0             66.7                  0.0       0.0   \n",
       "421094          100.0             50.0                  0.0       1.0   \n",
       "\n",
       "       tot_hi_cred_lim total_bal_ex_mort  total_bc_limit  \\\n",
       "421090         32950.0           25274.0          9200.0   \n",
       "421091        152650.0            8621.0          9000.0   \n",
       "421092         51239.0           34178.0         10600.0   \n",
       "421093         96919.0           58418.0          9700.0   \n",
       "421094         43740.0           33307.0         41700.0   \n",
       "\n",
       "        total_il_high_credit_limit  \n",
       "421090                     15850.0  \n",
       "421091                         0.0  \n",
       "421092                     33239.0  \n",
       "421093                     69919.0  \n",
       "421094                         0.0  \n",
       "\n",
       "[5 rows x 103 columns]"
      ]
     },
     "execution_count": 39,
     "metadata": {},
     "output_type": "execute_result"
    }
   ],
   "source": [
    "y2015.tail()"
   ]
  },
  {
   "cell_type": "code",
   "execution_count": 11,
   "metadata": {
    "collapsed": true
   },
   "outputs": [],
   "source": [
    "# Remove two summary rows at the end that don't actually contain data.\n",
    "y2015 = y2015[:-2]"
   ]
  },
  {
   "cell_type": "markdown",
   "metadata": {
    "run_control": {
     "frozen": false,
     "read_only": false
    }
   },
   "source": [
    "Now this should be better. Let's try again."
   ]
  },
  {
   "cell_type": "markdown",
   "metadata": {
    "run_control": {
     "frozen": false,
     "read_only": false
    }
   },
   "source": [
    "\n",
    "\n",
    "## The first full attempt\n",
    "\n",
    "Now let's try this model again.\n",
    "\n",
    "We're also going to drop NA columns, rather than impute, because our data is rich enough that we can probably get away with it.\n",
    "\n",
    "This model may take a few minutes to run."
   ]
  },
  {
   "cell_type": "code",
   "execution_count": null,
   "metadata": {
    "run_control": {
     "frozen": false,
     "read_only": false
    }
   },
   "outputs": [
    {
     "name": "stderr",
     "output_type": "stream",
     "text": [
      "C:\\Users\\Vadim\\Anaconda3\\lib\\site-packages\\sklearn\\ensemble\\forest.py:246: FutureWarning: The default value of n_estimators will change from 10 in version 0.20 to 100 in 0.22.\n",
      "  \"10 in version 0.20 to 100 in 0.22.\", FutureWarning)\n",
      "C:\\Users\\Vadim\\Anaconda3\\lib\\site-packages\\sklearn\\ensemble\\forest.py:246: FutureWarning: The default value of n_estimators will change from 10 in version 0.20 to 100 in 0.22.\n",
      "  \"10 in version 0.20 to 100 in 0.22.\", FutureWarning)\n",
      "C:\\Users\\Vadim\\Anaconda3\\lib\\site-packages\\sklearn\\ensemble\\forest.py:246: FutureWarning: The default value of n_estimators will change from 10 in version 0.20 to 100 in 0.22.\n",
      "  \"10 in version 0.20 to 100 in 0.22.\", FutureWarning)\n",
      "C:\\Users\\Vadim\\Anaconda3\\lib\\site-packages\\sklearn\\ensemble\\forest.py:246: FutureWarning: The default value of n_estimators will change from 10 in version 0.20 to 100 in 0.22.\n",
      "  \"10 in version 0.20 to 100 in 0.22.\", FutureWarning)\n",
      "C:\\Users\\Vadim\\Anaconda3\\lib\\site-packages\\sklearn\\ensemble\\forest.py:246: FutureWarning: The default value of n_estimators will change from 10 in version 0.20 to 100 in 0.22.\n",
      "  \"10 in version 0.20 to 100 in 0.22.\", FutureWarning)\n",
      "C:\\Users\\Vadim\\Anaconda3\\lib\\site-packages\\sklearn\\ensemble\\forest.py:246: FutureWarning: The default value of n_estimators will change from 10 in version 0.20 to 100 in 0.22.\n",
      "  \"10 in version 0.20 to 100 in 0.22.\", FutureWarning)\n",
      "C:\\Users\\Vadim\\Anaconda3\\lib\\site-packages\\sklearn\\ensemble\\forest.py:246: FutureWarning: The default value of n_estimators will change from 10 in version 0.20 to 100 in 0.22.\n",
      "  \"10 in version 0.20 to 100 in 0.22.\", FutureWarning)\n",
      "C:\\Users\\Vadim\\Anaconda3\\lib\\site-packages\\sklearn\\ensemble\\forest.py:246: FutureWarning: The default value of n_estimators will change from 10 in version 0.20 to 100 in 0.22.\n",
      "  \"10 in version 0.20 to 100 in 0.22.\", FutureWarning)\n"
     ]
    }
   ],
   "source": [
    "from sklearn import ensemble\n",
    "from sklearn.model_selection import cross_val_score\n",
    "\n",
    "rfc = ensemble.RandomForestClassifier()\n",
    "X = y2015.drop('loan_status', 1)\n",
    "Y = y2015['loan_status']\n",
    "X = pd.get_dummies(X)\n",
    "X = X.dropna(axis=1)\n",
    "\n",
    "cross_val_score(rfc, X, Y, cv=10)"
   ]
  },
  {
   "cell_type": "code",
   "execution_count": 41,
   "metadata": {},
   "outputs": [],
   "source": [
    "# let's first repeat it by my understanding \n"
   ]
  },
  {
   "cell_type": "markdown",
   "metadata": {
    "run_control": {
     "frozen": false,
     "read_only": false
    }
   },
   "source": [
    "The score cross validation reports is the accuracy of the tree. Here we're about 98% accurate.\n",
    "\n",
    "That works pretty well, but there are a few potential problems. Firstly, we didn't really do much in the way of feature selection or model refinement. As such there are a lot of features in there that we don't really need. Some of them are actually quite impressively useless.\n",
    "\n",
    "There's also some variance in the scores. The fact that one gave us only 93% accuracy while others gave higher than 98 is concerning. This variance could be corrected by increasing the number of estimators. That will make it take even longer to run, however, and it is already quite slow."
   ]
  },
  {
   "cell_type": "markdown",
   "metadata": {},
   "source": [
    "## DRILL: Second Attempt\n",
    "\n",
    "So here's your task. Get rid of as much data as possible without dropping below an average of 90% accuracy in a 10-fold cross validation.\n",
    "\n",
    "You'll want to do a few things in this process. First, dive into the data that we have and see which features are most important. This can be the raw features or the generated dummies. You may want to use PCA or correlation matrices.\n",
    "\n",
    "Can you do it without using anything related to payment amount or outstanding principal? How do you know?"
   ]
  },
  {
   "cell_type": "code",
   "execution_count": 42,
   "metadata": {
    "collapsed": true,
    "run_control": {
     "frozen": false,
     "read_only": false
    }
   },
   "outputs": [
    {
     "name": "stdout",
     "output_type": "stream",
     "text": [
      "Loan Status counts\n"
     ]
    },
    {
     "data": {
      "text/plain": [
       "Current               287414\n",
       "Fully Paid             87989\n",
       "Charged Off            29178\n",
       "Late (31-120 days)      9510\n",
       "In Grace Period         4320\n",
       "Late (16-30 days)       1888\n",
       "Default                  796\n",
       "Name: loan_status, dtype: int64"
      ]
     },
     "execution_count": 42,
     "metadata": {},
     "output_type": "execute_result"
    }
   ],
   "source": [
    "# Your code here.\n",
    "# Task Get rid of as much data as possible without dropping below an average of 90% accuracy in a 10-fold cross validation.\n",
    "# First, dive into the data that we have and see which features are most important. \n",
    "# \n",
    "# You don't have to use pcs use just need to fill nulls. in some cases it is better to fill then to drop. \n",
    "#\n",
    "print ('Loan Status counts')\n",
    "Y.value_counts()"
   ]
  },
  {
   "cell_type": "code",
   "execution_count": 43,
   "metadata": {},
   "outputs": [],
   "source": [
    "# can't plot it. !!!\n",
    "# Y.hist(bins=100)\n",
    "#plt.show()"
   ]
  },
  {
   "cell_type": "code",
   "execution_count": 44,
   "metadata": {},
   "outputs": [
    {
     "name": "stdout",
     "output_type": "stream",
     "text": [
      "['id', 'member_id', 'loan_amnt', 'funded_amnt', 'funded_amnt_inv', 'int_rate', 'installment', 'annual_inc', 'dti', 'delinq_2yrs', 'inq_last_6mths', 'open_acc', 'pub_rec', 'revol_bal', 'total_acc', 'out_prncp', 'out_prncp_inv', 'total_pymnt', 'total_pymnt_inv', 'total_rec_prncp', 'total_rec_int', 'total_rec_late_fee', 'recoveries', 'collection_recovery_fee', 'last_pymnt_amnt', 'collections_12_mths_ex_med', 'policy_code', 'acc_now_delinq', 'tot_coll_amt', 'tot_cur_bal', 'total_rev_hi_lim', 'acc_open_past_24mths', 'avg_cur_bal', 'chargeoff_within_12_mths', 'delinq_amnt', 'mo_sin_old_rev_tl_op', 'mo_sin_rcnt_rev_tl_op', 'mo_sin_rcnt_tl', 'mort_acc', 'num_accts_ever_120_pd', 'num_actv_bc_tl', 'num_actv_rev_tl', 'num_bc_sats', 'num_bc_tl', 'num_il_tl', 'num_op_rev_tl', 'num_rev_tl_bal_gt_0', 'num_sats', 'num_tl_30dpd', 'num_tl_90g_dpd_24m', 'num_tl_op_past_12m', 'pct_tl_nvr_dlq', 'pub_rec_bankruptcies', 'tax_liens', 'tot_hi_cred_lim', 'total_bal_ex_mort', 'total_bc_limit', 'total_il_high_credit_limit', 'term_ 36 months', 'term_ 60 months', 'grade_A', 'grade_B', 'grade_C', 'grade_D', 'grade_E', 'grade_F', 'grade_G', 'emp_length_1 year', 'emp_length_10+ years', 'emp_length_2 years', 'emp_length_3 years', 'emp_length_4 years', 'emp_length_5 years', 'emp_length_6 years', 'emp_length_7 years', 'emp_length_8 years', 'emp_length_9 years', 'emp_length_< 1 year', 'home_ownership_ANY', 'home_ownership_MORTGAGE', 'home_ownership_OWN', 'home_ownership_RENT', 'verification_status_Not Verified', 'verification_status_Source Verified', 'verification_status_Verified', 'issue_d_Apr-2015', 'issue_d_Aug-2015', 'issue_d_Dec-2015', 'issue_d_Feb-2015', 'issue_d_Jan-2015', 'issue_d_Jul-2015', 'issue_d_Jun-2015', 'issue_d_Mar-2015', 'issue_d_May-2015', 'issue_d_Nov-2015', 'issue_d_Oct-2015', 'issue_d_Sep-2015', 'pymnt_plan_n', 'purpose_car', 'purpose_credit_card', 'purpose_debt_consolidation', 'purpose_educational', 'purpose_home_improvement', 'purpose_house', 'purpose_major_purchase', 'purpose_medical', 'purpose_moving', 'purpose_other', 'purpose_renewable_energy', 'purpose_small_business', 'purpose_vacation', 'purpose_wedding', 'title_Business', 'title_Car financing', 'title_Credit Card/Auto Repair', 'title_Credit card refinancing', 'title_Debt consolidation', 'title_DebtC', 'title_Green loan', 'title_Home buying', 'title_Home improvement', 'title_Learning and training', 'title_Major purchase', 'title_Medical expenses', 'title_Moving and relocation', 'title_New Baby and New House (CC Consolidate)', 'title_Other', 'title_Pay off Lowes Card', 'title_Paying off higher interest cards & auto', 'title_Prescription Drug and Medical Costs', 'title_SAVE', 'title_Simple Loan Until Contract Is Completed', 'title_Student Loan', 'title_Trying to come back to reality!', 'title_Vacation', 'title_considerate', 'title_new day', 'title_new kitchen for momma!', 'title_odymeds', 'initial_list_status_f', 'initial_list_status_w', 'last_pymnt_d_Apr-2015', 'last_pymnt_d_Apr-2016', 'last_pymnt_d_Aug-2015', 'last_pymnt_d_Aug-2016', 'last_pymnt_d_Dec-2015', 'last_pymnt_d_Dec-2016', 'last_pymnt_d_Feb-2015', 'last_pymnt_d_Feb-2016', 'last_pymnt_d_Jan-2015', 'last_pymnt_d_Jan-2016', 'last_pymnt_d_Jan-2017', 'last_pymnt_d_Jul-2015', 'last_pymnt_d_Jul-2016', 'last_pymnt_d_Jun-2015', 'last_pymnt_d_Jun-2016', 'last_pymnt_d_Mar-2015', 'last_pymnt_d_Mar-2016', 'last_pymnt_d_May-2015', 'last_pymnt_d_May-2016', 'last_pymnt_d_Nov-2015', 'last_pymnt_d_Nov-2016', 'last_pymnt_d_Oct-2015', 'last_pymnt_d_Oct-2016', 'last_pymnt_d_Sep-2015', 'last_pymnt_d_Sep-2016', 'next_pymnt_d_Feb-2017', 'next_pymnt_d_Jan-2017', 'next_pymnt_d_Jul-2016', 'next_pymnt_d_Mar-2017', 'last_credit_pull_d_Apr-2015', 'last_credit_pull_d_Apr-2016', 'last_credit_pull_d_Aug-2015', 'last_credit_pull_d_Aug-2016', 'last_credit_pull_d_Dec-2014', 'last_credit_pull_d_Dec-2015', 'last_credit_pull_d_Dec-2016', 'last_credit_pull_d_Feb-2015', 'last_credit_pull_d_Feb-2016', 'last_credit_pull_d_Jan-2015', 'last_credit_pull_d_Jan-2016', 'last_credit_pull_d_Jan-2017', 'last_credit_pull_d_Jul-2015', 'last_credit_pull_d_Jul-2016', 'last_credit_pull_d_Jun-2015', 'last_credit_pull_d_Jun-2016', 'last_credit_pull_d_Mar-2015', 'last_credit_pull_d_Mar-2016', 'last_credit_pull_d_May-2015', 'last_credit_pull_d_May-2016', 'last_credit_pull_d_Nov-2015', 'last_credit_pull_d_Nov-2016', 'last_credit_pull_d_Oct-2015', 'last_credit_pull_d_Oct-2016', 'last_credit_pull_d_Sep-2015', 'last_credit_pull_d_Sep-2016', 'application_type_INDIVIDUAL', 'application_type_JOINT', 'verification_status_joint_Not Verified', 'verification_status_joint_Source Verified', 'verification_status_joint_Verified']\n"
     ]
    }
   ],
   "source": [
    "print(list(X))\n",
    "      "
   ]
  },
  {
   "cell_type": "code",
   "execution_count": 65,
   "metadata": {},
   "outputs": [],
   "source": [
    "zz=X.drop([ 'member_id',  'funded_amnt', 'funded_amnt_inv', 'delinq_2yrs', 'inq_last_6mths', 'pub_rec',  'total_acc',  'out_prncp_inv',  'total_pymnt_inv'\\\n",
    "      ,  'total_rec_int', 'total_rec_late_fee', 'recoveries', 'collection_recovery_fee', 'last_pymnt_amnt', 'collections_12_mths_ex_med',   'tot_cur_bal'\\\n",
    "      , 'total_rev_hi_lim', 'acc_open_past_24mths', 'avg_cur_bal',  'delinq_amnt', 'mo_sin_old_rev_tl_op', 'mo_sin_rcnt_rev_tl_op', 'mo_sin_rcnt_tl'\\\n",
    "      , 'num_accts_ever_120_pd', 'num_actv_bc_tl', 'num_actv_rev_tl', 'num_bc_sats',  'num_il_tl', 'num_op_rev_tl', 'num_rev_tl_bal_gt_0',  'num_tl_30dpd'\\\n",
    "      , 'num_tl_90g_dpd_24m', 'num_tl_op_past_12m',  'pub_rec_bankruptcies',    'term_ 36 months', 'term_ 60 months', 'grade_A', 'grade_B', 'grade_C'\\\n",
    "      , 'grade_D', 'grade_E', 'grade_F',  'emp_length_10+ years', 'emp_length_2 years', 'emp_length_3 years', 'emp_length_4 years', 'emp_length_5 years'\\\n",
    "      , 'emp_length_6 years', 'emp_length_7 years', 'emp_length_8 years', 'emp_length_9 years', 'emp_length_< 1 year',  'home_ownership_MORTGAGE'\\\n",
    "      , 'home_ownership_OWN', 'verification_status_Not Verified', 'verification_status_Source Verified', 'verification_status_Verified', 'issue_d_Apr-2015'\\\n",
    "      , 'issue_d_Aug-2015', 'issue_d_Dec-2015', 'issue_d_Feb-2015', 'issue_d_Jan-2015', 'issue_d_Jul-2015', 'issue_d_Jun-2015', 'issue_d_Mar-2015'\\\n",
    "      , 'issue_d_May-2015', 'issue_d_Nov-2015', 'issue_d_Oct-2015', 'issue_d_Sep-2015',  'purpose_car', 'purpose_credit_card', 'purpose_debt_consolidation'\\\n",
    "      , 'purpose_educational', 'purpose_home_improvement', 'purpose_major_purchase', 'purpose_medical', 'purpose_moving', 'purpose_other'\\\n",
    "      , 'purpose_renewable_energy', 'purpose_small_business', 'purpose_vacation', 'purpose_wedding', 'title_Business', 'title_Car financing'\\\n",
    "      , 'title_Credit Card/Auto Repair', 'title_Credit card refinancing', 'title_Debt consolidation', 'title_DebtC', 'title_Green loan'\\\n",
    "      , 'title_Home buying', 'title_Home improvement', 'title_Learning and training', 'title_Major purchase', 'title_Medical expenses'\\\n",
    "      , 'title_Moving and relocation', 'title_New Baby and New House (CC Consolidate)', 'title_Other', 'title_Pay off Lowes Card'\\\n",
    "      , 'title_Paying off higher interest cards & auto', 'title_Prescription Drug and Medical Costs', 'title_SAVE','total_rec_prncp'\\\n",
    "      , 'title_Simple Loan Until Contract Is Completed', 'title_Student Loan', 'title_Trying to come back to reality!'\\\n",
    "      , 'title_Vacation', 'title_considerate', 'title_new day', 'title_new kitchen for momma!', 'title_odymeds', 'initial_list_status_f'\\\n",
    "      , 'initial_list_status_w', 'last_pymnt_d_Apr-2015', 'last_pymnt_d_Apr-2016', 'last_pymnt_d_Aug-2015', 'last_pymnt_d_Aug-2016'\\\n",
    "      , 'last_pymnt_d_Dec-2015', 'last_pymnt_d_Dec-2016', 'last_pymnt_d_Feb-2015', 'last_pymnt_d_Feb-2016', 'last_pymnt_d_Jan-2015'\\\n",
    "      , 'last_pymnt_d_Jan-2016', 'last_pymnt_d_Jan-2017', 'last_pymnt_d_Jul-2015', 'last_pymnt_d_Jul-2016', 'last_pymnt_d_Jun-2015'\\\n",
    "      , 'last_pymnt_d_Jun-2016', 'last_pymnt_d_Mar-2015', 'last_pymnt_d_Mar-2016', 'last_pymnt_d_May-2015', 'last_pymnt_d_May-2016'\\\n",
    "      , 'last_pymnt_d_Nov-2015', 'last_pymnt_d_Nov-2016', 'last_pymnt_d_Oct-2015', 'last_pymnt_d_Oct-2016', 'last_pymnt_d_Sep-2015'\\\n",
    "      , 'last_pymnt_d_Sep-2016', 'next_pymnt_d_Feb-2017', 'next_pymnt_d_Jan-2017', 'next_pymnt_d_Jul-2016', 'next_pymnt_d_Mar-2017'\\\n",
    "      , 'last_credit_pull_d_Apr-2015', 'last_credit_pull_d_Apr-2016', 'last_credit_pull_d_Aug-2015', 'last_credit_pull_d_Aug-2016'\\\n",
    "      , 'last_credit_pull_d_Dec-2014', 'last_credit_pull_d_Dec-2015', 'last_credit_pull_d_Dec-2016', 'last_credit_pull_d_Feb-2015'\\\n",
    "      , 'last_credit_pull_d_Feb-2016', 'last_credit_pull_d_Jan-2015', 'last_credit_pull_d_Jan-2016', 'last_credit_pull_d_Jan-2017'\\\n",
    "      , 'last_credit_pull_d_Jul-2015', 'last_credit_pull_d_Jul-2016', 'last_credit_pull_d_Jun-2015', 'last_credit_pull_d_Jun-2016'\\\n",
    "      , 'last_credit_pull_d_Mar-2015', 'last_credit_pull_d_Mar-2016', 'last_credit_pull_d_May-2015', 'last_credit_pull_d_May-2016'\\\n",
    "      , 'last_credit_pull_d_Nov-2015', 'last_credit_pull_d_Nov-2016', 'last_credit_pull_d_Oct-2015', 'last_credit_pull_d_Oct-2016'\\\n",
    "      , 'last_credit_pull_d_Sep-2015', 'last_credit_pull_d_Sep-2016', 'application_type_INDIVIDUAL', 'application_type_JOINT'\n",
    "], axis=1)"
   ]
  },
  {
   "cell_type": "code",
   "execution_count": 66,
   "metadata": {},
   "outputs": [
    {
     "name": "stdout",
     "output_type": "stream",
     "text": [
      "<class 'pandas.core.frame.DataFrame'>\n",
      "RangeIndex: 421095 entries, 0 to 421094\n",
      "Data columns (total 32 columns):\n",
      "id                                           421095 non-null float64\n",
      "loan_amnt                                    421095 non-null float64\n",
      "int_rate                                     421095 non-null float64\n",
      "installment                                  421095 non-null float64\n",
      "annual_inc                                   421095 non-null float64\n",
      "dti                                          421095 non-null float64\n",
      "open_acc                                     421095 non-null float64\n",
      "revol_bal                                    421095 non-null float64\n",
      "out_prncp                                    421095 non-null float64\n",
      "total_pymnt                                  421095 non-null float64\n",
      "policy_code                                  421095 non-null float64\n",
      "acc_now_delinq                               421095 non-null float64\n",
      "tot_coll_amt                                 421095 non-null float64\n",
      "chargeoff_within_12_mths                     421095 non-null float64\n",
      "mort_acc                                     421095 non-null float64\n",
      "num_bc_tl                                    421095 non-null float64\n",
      "num_sats                                     421095 non-null float64\n",
      "pct_tl_nvr_dlq                               421095 non-null float64\n",
      "tax_liens                                    421095 non-null float64\n",
      "tot_hi_cred_lim                              421095 non-null float64\n",
      "total_bal_ex_mort                            421095 non-null float64\n",
      "total_bc_limit                               421095 non-null float64\n",
      "total_il_high_credit_limit                   421095 non-null float64\n",
      "grade_G                                      421095 non-null uint8\n",
      "emp_length_1 year                            421095 non-null uint8\n",
      "home_ownership_ANY                           421095 non-null uint8\n",
      "home_ownership_RENT                          421095 non-null uint8\n",
      "pymnt_plan_n                                 421095 non-null uint8\n",
      "purpose_house                                421095 non-null uint8\n",
      "verification_status_joint_Not Verified       421095 non-null uint8\n",
      "verification_status_joint_Source Verified    421095 non-null uint8\n",
      "verification_status_joint_Verified           421095 non-null uint8\n",
      "dtypes: float64(23), uint8(9)\n",
      "memory usage: 77.5 MB\n"
     ]
    }
   ],
   "source": [
    "zz.info()"
   ]
  },
  {
   "cell_type": "code",
   "execution_count": 67,
   "metadata": {},
   "outputs": [],
   "source": [
    "z = pd.get_dummies(zz)\n",
    "z = z.dropna(axis=1)\n"
   ]
  },
  {
   "cell_type": "code",
   "execution_count": 68,
   "metadata": {},
   "outputs": [
    {
     "data": {
      "image/png": "[encoded data removed]",
      "text/plain": [
       "<Figure size 1152x1440 with 2 Axes>"
      ]
     },
     "metadata": {},
     "output_type": "display_data"
    }
   ],
   "source": [
    "corrmat = z.corr()\n",
    "plt.figure(figsize=(16, 20))\n",
    "sns.heatmap(corrmat, vmax=.8, square=True)\n",
    "plt.show()\n",
    "\n"
   ]
  },
  {
   "cell_type": "code",
   "execution_count": 69,
   "metadata": {},
   "outputs": [
    {
     "name": "stdout",
     "output_type": "stream",
     "text": [
      "y (421095,)X1(421095, 32)\n"
     ]
    }
   ],
   "source": [
    "#  loan status already dropped from the data\n",
    "Y = y2015['loan_status']\n",
    "X1 = pd.get_dummies(zz)\n",
    "X1 = X1.dropna(axis=1)\n",
    "X_train, X_valid, y_train, y_valid = train_test_split(X1, Y, test_size=0.2, random_state=10)\n",
    "print( 'y ' + str(Y.shape) + 'X1' + str(X1.shape))"
   ]
  },
  {
   "cell_type": "code",
   "execution_count": 70,
   "metadata": {},
   "outputs": [
    {
     "name": "stderr",
     "output_type": "stream",
     "text": [
      "C:\\Users\\Vadim\\Anaconda3\\lib\\site-packages\\sklearn\\ensemble\\forest.py:246: FutureWarning: The default value of n_estimators will change from 10 in version 0.20 to 100 in 0.22.\n",
      "  \"10 in version 0.20 to 100 in 0.22.\", FutureWarning)\n"
     ]
    }
   ],
   "source": [
    "rfc = ensemble.RandomForestClassifier()\n",
    "rfc.fit(X_train, y_train)\n",
    "y_pred = rfc.predict(X_valid)\n",
    "#f1_score = f1_score(y_pred, y_valid, average='micro')"
   ]
  },
  {
   "cell_type": "code",
   "execution_count": 71,
   "metadata": {},
   "outputs": [
    {
     "name": "stdout",
     "output_type": "stream",
     "text": [
      "preict (84219,)y_valid(84219,)\n"
     ]
    }
   ],
   "source": [
    "print( 'preict ' + str(y_pred.shape) + 'y_valid' + str(y_valid.shape))\n",
    "#f1_score = f1_score(y_pred, y_valid)\n",
    "#print(f1_score) "
   ]
  },
  {
   "cell_type": "code",
   "execution_count": 72,
   "metadata": {},
   "outputs": [
    {
     "ename": "TypeError",
     "evalue": "'numpy.float64' object is not callable",
     "output_type": "error",
     "traceback": [
      "\u001b[1;31m---------------------------------------------------------------------------\u001b[0m",
      "\u001b[1;31mTypeError\u001b[0m                                 Traceback (most recent call last)",
      "\u001b[1;32m<ipython-input-72-9cd42bbcc440>\u001b[0m in \u001b[0;36m<module>\u001b[1;34m\u001b[0m\n\u001b[1;32m----> 1\u001b[1;33m \u001b[0mf1_score\u001b[0m \u001b[1;33m=\u001b[0m \u001b[0mf1_score\u001b[0m\u001b[1;33m(\u001b[0m\u001b[0my_pred\u001b[0m\u001b[1;33m,\u001b[0m \u001b[0my_valid\u001b[0m\u001b[1;33m,\u001b[0m \u001b[0maverage\u001b[0m\u001b[1;33m=\u001b[0m\u001b[1;34m'micro'\u001b[0m\u001b[1;33m)\u001b[0m\u001b[1;33m\u001b[0m\u001b[1;33m\u001b[0m\u001b[0m\n\u001b[0m",
      "\u001b[1;31mTypeError\u001b[0m: 'numpy.float64' object is not callable"
     ]
    }
   ],
   "source": [
    "f1_score = f1_score(y_pred, y_valid, average='micro')"
   ]
  },
  {
   "cell_type": "code",
   "execution_count": null,
   "metadata": {},
   "outputs": [],
   "source": []
  }
 ],
 "metadata": {
  "hide_input": false,
  "kernelspec": {
   "display_name": "Python 3",
   "language": "python",
   "name": "python3"
  },
  "language_info": {
   "codemirror_mode": {
    "name": "ipython",
    "version": 3
   },
   "file_extension": ".py",
   "mimetype": "text/x-python",
   "name": "python",
   "nbconvert_exporter": "python",
   "pygments_lexer": "ipython3",
   "version": "3.7.2"
  },
  "toc": {
   "colors": {
    "hover_highlight": "#DAA520",
    "running_highlight": "#FF0000",
    "selected_highlight": "#FFD700"
   },
   "moveMenuLeft": true,
   "nav_menu": {
    "height": "86px",
    "width": "252px"
   },
   "navigate_menu": true,
   "number_sections": true,
   "sideBar": true,
   "threshold": 4,
   "toc_cell": false,
   "toc_section_display": "block",
   "toc_window_display": false
  }
 },
 "nbformat": 4,
 "nbformat_minor": 2
}
