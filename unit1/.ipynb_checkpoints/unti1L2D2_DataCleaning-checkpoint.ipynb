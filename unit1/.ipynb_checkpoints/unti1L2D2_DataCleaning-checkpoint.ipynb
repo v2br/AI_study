{
 "cells": [
  {
   "cell_type": "markdown",
   "metadata": {},
   "source": [
    "#### determine the five most common journals \n",
    "| Journal title                                   |   PMID/PMCID |   Publisher |   Article title |   COST (£) charged to Wellcome (inc VAT when charged) |\n",
    "|-------------------------------------------------|--------------|-------------|-----------------|-------------------------------------------------------|\n",
    "| PLoS One                                        |           91 |          92 |              92 |                                                    92 |\n",
    "| PLoS ONE                                        |           62 |          62 |              62 |                                                    62 |\n",
    "| Journal of Biological Chemistry                 |           47 |          48 |              48 |                                                    48 |\n",
    "| Nucleic Acids Research                          |           20 |          21 |              21 |                                                    21 |\n",
    "| Proceedings of the National Academy of Sciences |           19 |          19 |              19 |                                                    19 |\n",
    "#### total articles for each\n",
    "\n",
    "| Journal title                                   |   Article title |\n",
    "|-------------------------------------------------|-----------------|\n",
    "| PLoS One                                        |              92 |\n",
    "| PLoS ONE                                        |              62 |\n",
    "| Journal of Biological Chemistry                 |              48 |\n",
    "| Nucleic Acids Research                          |              21 |\n",
    "| Proceedings of the National Academy of Sciences |              19 |\n",
    "\n",
    "#### calculate the mean, median, and standard deviation of the open-access cost per article for each journal . \n",
    "| Journal title             |   ('price', 'mean') |   ('price', 'median') |   ('price', 'std') |\n",
    "|---------------------------|---------------------|-----------------------|--------------------|\n",
    "| ACS Chemical Biology      |             1418.19 |               1294.59 |           507.31   |\n",
    "| ACS Chemical Neuroscience |             1186.8  |               1186.8  |           nan      |\n",
    "| ACS NANO                  |              642.89 |                642.89 |           nan      |\n",
    "| ACS Nano                  |              693.39 |                693.39 |           nan      |\n",
    "| ACTA F                    |              754.9  |                754.9  |           nan      |\n",
    "| AGE                       |             2002    |               2002    |           nan      |\n",
    "| AIDS                      |             2059.31 |               1968.63 |           281.068  |\n",
    "| AIDS Behav                |             1834.77 |               1834.77 |           nan      |\n",
    "| AIDS Care                 |             2189.17 |               2189.17 |            61.6173 |\n",
    "| AIDS Journal              |             2015.72 |               2015.72 |           nan      |\n"
   ]
  },
  {
   "cell_type": "code",
   "execution_count": 82,
   "metadata": {
    "collapsed": true
   },
   "outputs": [],
   "source": [
    "# load data \n",
    "import pandas as pd\n",
    "import matplotlib.pyplot as plt\n",
    "import numpy as np\n",
    "import seaborn as sns\n",
    "from tabulate import tabulate\n",
    "import re"
   ]
  },
  {
   "cell_type": "code",
   "execution_count": 23,
   "metadata": {},
   "outputs": [
    {
     "name": "stdout",
     "output_type": "stream",
     "text": [
      "<_io.TextIOWrapper name='data/WELLCOME_APCspend2013_forThinkful.csv' mode='r' encoding='UTF-16'>\n"
     ]
    }
   ],
   "source": [
    "with open('data/WELLCOME_APCspend2013_forThinkful.csv',encoding='UTF-16' ) as f:\n",
    "    print(f)"
   ]
  },
  {
   "cell_type": "code",
   "execution_count": 26,
   "metadata": {},
   "outputs": [],
   "source": [
    "df=pd.read_csv('data/WELLCOME_APCspend2013_forThinkful.csv', encoding='Latin-1', error_bad_lines=False)"
   ]
  },
  {
   "cell_type": "code",
   "execution_count": 38,
   "metadata": {},
   "outputs": [
    {
     "data": {
      "text/html": [
       "<div>\n",
       "<style>\n",
       "    .dataframe thead tr:only-child th {\n",
       "        text-align: right;\n",
       "    }\n",
       "\n",
       "    .dataframe thead th {\n",
       "        text-align: left;\n",
       "    }\n",
       "\n",
       "    .dataframe tbody tr th {\n",
       "        vertical-align: top;\n",
       "    }\n",
       "</style>\n",
       "<table border=\"1\" class=\"dataframe\">\n",
       "  <thead>\n",
       "    <tr style=\"text-align: right;\">\n",
       "      <th></th>\n",
       "      <th>PMID/PMCID</th>\n",
       "      <th>Publisher</th>\n",
       "      <th>Journal title</th>\n",
       "      <th>Article title</th>\n",
       "      <th>COST (£) charged to Wellcome (inc VAT when charged)</th>\n",
       "    </tr>\n",
       "  </thead>\n",
       "  <tbody>\n",
       "    <tr>\n",
       "      <th>0</th>\n",
       "      <td>NaN</td>\n",
       "      <td>CUP</td>\n",
       "      <td>Psychological Medicine</td>\n",
       "      <td>Reduced parahippocampal cortical thickness in ...</td>\n",
       "      <td>£0.00</td>\n",
       "    </tr>\n",
       "    <tr>\n",
       "      <th>1</th>\n",
       "      <td>PMC3679557</td>\n",
       "      <td>ACS</td>\n",
       "      <td>Biomacromolecules</td>\n",
       "      <td>Structural characterization of a Model Gram-ne...</td>\n",
       "      <td>£2381.04</td>\n",
       "    </tr>\n",
       "    <tr>\n",
       "      <th>2</th>\n",
       "      <td>23043264  PMC3506128</td>\n",
       "      <td>ACS</td>\n",
       "      <td>J Med Chem</td>\n",
       "      <td>Fumaroylamino-4,5-epoxymorphinans and related ...</td>\n",
       "      <td>£642.56</td>\n",
       "    </tr>\n",
       "    <tr>\n",
       "      <th>3</th>\n",
       "      <td>23438330 PMC3646402</td>\n",
       "      <td>ACS</td>\n",
       "      <td>J Med Chem</td>\n",
       "      <td>Orvinols with mixed kappa/mu opioid receptor a...</td>\n",
       "      <td>£669.64</td>\n",
       "    </tr>\n",
       "  </tbody>\n",
       "</table>\n",
       "</div>"
      ],
      "text/plain": [
       "              PMID/PMCID Publisher           Journal title  \\\n",
       "0                    NaN       CUP  Psychological Medicine   \n",
       "1             PMC3679557       ACS       Biomacromolecules   \n",
       "2  23043264  PMC3506128        ACS              J Med Chem   \n",
       "3    23438330 PMC3646402       ACS              J Med Chem   \n",
       "\n",
       "                                       Article title  \\\n",
       "0  Reduced parahippocampal cortical thickness in ...   \n",
       "1  Structural characterization of a Model Gram-ne...   \n",
       "2  Fumaroylamino-4,5-epoxymorphinans and related ...   \n",
       "3  Orvinols with mixed kappa/mu opioid receptor a...   \n",
       "\n",
       "  COST (£) charged to Wellcome (inc VAT when charged)  \n",
       "0                                              £0.00   \n",
       "1                                           £2381.04   \n",
       "2                                            £642.56   \n",
       "3                                            £669.64   "
      ]
     },
     "execution_count": 38,
     "metadata": {},
     "output_type": "execute_result"
    }
   ],
   "source": [
    "df.head(4)"
   ]
  },
  {
   "cell_type": "code",
   "execution_count": 56,
   "metadata": {},
   "outputs": [],
   "source": [
    "jp=df.groupby('Journal title').count().sort_values('Article title',ascending=False)[0:5]"
   ]
  },
  {
   "cell_type": "markdown",
   "metadata": {},
   "source": [
    "#### A1: determine the five most common journals "
   ]
  },
  {
   "cell_type": "code",
   "execution_count": 67,
   "metadata": {},
   "outputs": [
    {
     "name": "stdout",
     "output_type": "stream",
     "text": [
      "| Journal title                                   |   PMID/PMCID |   Publisher |   Article title |   COST (£) charged to Wellcome (inc VAT when charged) |\n",
      "|-------------------------------------------------|--------------|-------------|-----------------|-------------------------------------------------------|\n",
      "| PLoS One                                        |           91 |          92 |              92 |                                                    92 |\n",
      "| PLoS ONE                                        |           62 |          62 |              62 |                                                    62 |\n",
      "| Journal of Biological Chemistry                 |           47 |          48 |              48 |                                                    48 |\n",
      "| Nucleic Acids Research                          |           20 |          21 |              21 |                                                    21 |\n",
      "| Proceedings of the National Academy of Sciences |           19 |          19 |              19 |                                                    19 |\n"
     ]
    }
   ],
   "source": [
    "print(tabulate(jp, tablefmt=\"github\", headers=\"keys\"))"
   ]
  },
  {
   "cell_type": "code",
   "execution_count": 58,
   "metadata": {},
   "outputs": [
    {
     "name": "stdout",
     "output_type": "stream",
     "text": [
      "['PMID/PMCID', 'Publisher', 'Article title', 'COST (£) charged to Wellcome (inc VAT when charged)']\n"
     ]
    }
   ],
   "source": [
    "print(list(jp))"
   ]
  },
  {
   "cell_type": "code",
   "execution_count": 59,
   "metadata": {},
   "outputs": [],
   "source": [
    "j_artcls=jp.drop(['PMID/PMCID', 'Publisher',  'COST (£) charged to Wellcome (inc VAT when charged)'],axis=1)"
   ]
  },
  {
   "cell_type": "code",
   "execution_count": 66,
   "metadata": {},
   "outputs": [
    {
     "name": "stdout",
     "output_type": "stream",
     "text": [
      "| Journal title                                   |   Article title |\n",
      "|-------------------------------------------------|-----------------|\n",
      "| PLoS One                                        |              92 |\n",
      "| PLoS ONE                                        |              62 |\n",
      "| Journal of Biological Chemistry                 |              48 |\n",
      "| Nucleic Acids Research                          |              21 |\n",
      "| Proceedings of the National Academy of Sciences |              19 |\n"
     ]
    }
   ],
   "source": [
    "print(tabulate(j_artcls, tablefmt=\"github\", headers=\"keys\"))"
   ]
  },
  {
   "cell_type": "markdown",
   "metadata": {},
   "source": [
    "#### calculate the mean, median, and standard deviation of the open-access cost per article for each journal . \n",
    "   "
   ]
  },
  {
   "cell_type": "code",
   "execution_count": 148,
   "metadata": {},
   "outputs": [
    {
     "data": {
      "text/html": [
       "<div>\n",
       "<style>\n",
       "    .dataframe thead tr:only-child th {\n",
       "        text-align: right;\n",
       "    }\n",
       "\n",
       "    .dataframe thead th {\n",
       "        text-align: left;\n",
       "    }\n",
       "\n",
       "    .dataframe tbody tr th {\n",
       "        vertical-align: top;\n",
       "    }\n",
       "</style>\n",
       "<table border=\"1\" class=\"dataframe\">\n",
       "  <thead>\n",
       "    <tr style=\"text-align: right;\">\n",
       "      <th></th>\n",
       "      <th>PMID/PMCID</th>\n",
       "      <th>Publisher</th>\n",
       "      <th>Journal title</th>\n",
       "      <th>Article title</th>\n",
       "      <th>GB_price</th>\n",
       "      <th>price</th>\n",
       "    </tr>\n",
       "  </thead>\n",
       "  <tbody>\n",
       "    <tr>\n",
       "      <th>0</th>\n",
       "      <td>NaN</td>\n",
       "      <td>CUP</td>\n",
       "      <td>Psychological Medicine</td>\n",
       "      <td>Reduced parahippocampal cortical thickness in ...</td>\n",
       "      <td>£0.00</td>\n",
       "      <td>0.00</td>\n",
       "    </tr>\n",
       "    <tr>\n",
       "      <th>1</th>\n",
       "      <td>PMC3679557</td>\n",
       "      <td>ACS</td>\n",
       "      <td>Biomacromolecules</td>\n",
       "      <td>Structural characterization of a Model Gram-ne...</td>\n",
       "      <td>£2381.04</td>\n",
       "      <td>2381.04</td>\n",
       "    </tr>\n",
       "    <tr>\n",
       "      <th>2</th>\n",
       "      <td>23043264  PMC3506128</td>\n",
       "      <td>ACS</td>\n",
       "      <td>J Med Chem</td>\n",
       "      <td>Fumaroylamino-4,5-epoxymorphinans and related ...</td>\n",
       "      <td>£642.56</td>\n",
       "      <td>642.56</td>\n",
       "    </tr>\n",
       "    <tr>\n",
       "      <th>3</th>\n",
       "      <td>23438330 PMC3646402</td>\n",
       "      <td>ACS</td>\n",
       "      <td>J Med Chem</td>\n",
       "      <td>Orvinols with mixed kappa/mu opioid receptor a...</td>\n",
       "      <td>£669.64</td>\n",
       "      <td>669.64</td>\n",
       "    </tr>\n",
       "    <tr>\n",
       "      <th>4</th>\n",
       "      <td>23438216 PMC3601604</td>\n",
       "      <td>ACS</td>\n",
       "      <td>J Org Chem</td>\n",
       "      <td>Regioselective opening of myo-inositol orthoes...</td>\n",
       "      <td>£685.88</td>\n",
       "      <td>685.88</td>\n",
       "    </tr>\n",
       "  </tbody>\n",
       "</table>\n",
       "</div>"
      ],
      "text/plain": [
       "              PMID/PMCID Publisher           Journal title  \\\n",
       "0                    NaN       CUP  Psychological Medicine   \n",
       "1             PMC3679557       ACS       Biomacromolecules   \n",
       "2  23043264  PMC3506128        ACS              J Med Chem   \n",
       "3    23438330 PMC3646402       ACS              J Med Chem   \n",
       "4   23438216 PMC3601604        ACS              J Org Chem   \n",
       "\n",
       "                                       Article title  GB_price    price  \n",
       "0  Reduced parahippocampal cortical thickness in ...     £0.00     0.00  \n",
       "1  Structural characterization of a Model Gram-ne...  £2381.04  2381.04  \n",
       "2  Fumaroylamino-4,5-epoxymorphinans and related ...   £642.56   642.56  \n",
       "3  Orvinols with mixed kappa/mu opioid receptor a...   £669.64   669.64  \n",
       "4  Regioselective opening of myo-inositol orthoes...   £685.88   685.88  "
      ]
     },
     "execution_count": 148,
     "metadata": {},
     "output_type": "execute_result"
    }
   ],
   "source": [
    "df=df.rename(columns={'COST (£) charged to Wellcome (inc VAT when charged)': 'GB_price'})\n",
    "df.head(5)"
   ]
  },
  {
   "cell_type": "code",
   "execution_count": 150,
   "metadata": {},
   "outputs": [],
   "source": [
    "#need find first or one need string not list \n",
    "p = re.compile('\\d+\\.?\\d+') \n",
    "rateFn=lambda row: float(p.findall(row['GB_price'])[0])\n",
    "df['price'] = df.apply(rateFn , axis=1)"
   ]
  },
  {
   "cell_type": "code",
   "execution_count": 151,
   "metadata": {
    "scrolled": false
   },
   "outputs": [
    {
     "name": "stdout",
     "output_type": "stream",
     "text": [
      "['PMID/PMCID', 'Publisher', 'Journal title', 'Article title', 'GB_price', 'price']\n"
     ]
    }
   ],
   "source": [
    "print(list(df))"
   ]
  },
  {
   "cell_type": "code",
   "execution_count": 145,
   "metadata": {},
   "outputs": [],
   "source": [
    "jsts=df.groupby('Journal title').agg({'price':['mean','median','std']})"
   ]
  },
  {
   "cell_type": "code",
   "execution_count": 153,
   "metadata": {},
   "outputs": [
    {
     "name": "stdout",
     "output_type": "stream",
     "text": [
      "| Journal title             |   ('price', 'mean') |   ('price', 'median') |   ('price', 'std') |\n",
      "|---------------------------|---------------------|-----------------------|--------------------|\n",
      "| ACS Chemical Biology      |             1418.19 |               1294.59 |           507.31   |\n",
      "| ACS Chemical Neuroscience |             1186.8  |               1186.8  |           nan      |\n",
      "| ACS NANO                  |              642.89 |                642.89 |           nan      |\n",
      "| ACS Nano                  |              693.39 |                693.39 |           nan      |\n",
      "| ACTA F                    |              754.9  |                754.9  |           nan      |\n",
      "| AGE                       |             2002    |               2002    |           nan      |\n",
      "| AIDS                      |             2059.31 |               1968.63 |           281.068  |\n",
      "| AIDS Behav                |             1834.77 |               1834.77 |           nan      |\n",
      "| AIDS Care                 |             2189.17 |               2189.17 |            61.6173 |\n",
      "| AIDS Journal              |             2015.72 |               2015.72 |           nan      |\n"
     ]
    }
   ],
   "source": [
    "print(tabulate(jsts[0:10], tablefmt=\"github\", headers=\"keys\"))"
   ]
  },
  {
   "cell_type": "code",
   "execution_count": null,
   "metadata": {
    "collapsed": true
   },
   "outputs": [],
   "source": []
  }
 ],
 "metadata": {
  "kernelspec": {
   "display_name": "Python 3",
   "language": "python",
   "name": "python3"
  },
  "language_info": {
   "codemirror_mode": {
    "name": "ipython",
    "version": 3
   },
   "file_extension": ".py",
   "mimetype": "text/x-python",
   "name": "python",
   "nbconvert_exporter": "python",
   "pygments_lexer": "ipython3",
   "version": "3.6.7"
  },
  "latex_envs": {
   "LaTeX_envs_menu_present": true,
   "autoclose": false,
   "autocomplete": true,
   "bibliofile": "biblio.bib",
   "cite_by": "apalike",
   "current_citInitial": 1,
   "eqLabelWithNumbers": true,
   "eqNumInitial": 1,
   "hotkeys": {
    "equation": "Ctrl-E",
    "itemize": "Ctrl-I"
   },
   "labels_anchors": false,
   "latex_user_defs": false,
   "report_style_numbering": false,
   "user_envs_cfg": false
  },
  "toc": {
   "base_numbering": 1,
   "nav_menu": {},
   "number_sections": true,
   "sideBar": true,
   "skip_h1_title": false,
   "title_cell": "Table of Contents",
   "title_sidebar": "Contents",
   "toc_cell": false,
   "toc_position": {},
   "toc_section_display": true,
   "toc_window_display": false
  }
 },
 "nbformat": 4,
 "nbformat_minor": 2
}
