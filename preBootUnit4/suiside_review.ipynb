{
 "cells": [
  {
   "cell_type": "markdown",
   "metadata": {},
   "source": [
    "        \n",
    "\n"
   ]
  },
  {
   "cell_type": "markdown",
   "metadata": {},
   "source": [
    "\n",
    "\n",
    "\n",
    "# Overview\n",
    "Every suicide is a tragedy affecting many people around. It is also one of major risks of death especially among young people. [World Health organization](https://www.who.int/) maintains a suicide statistics dataset for many years. \n",
    "This dataset provides a number of events and population per year for several age groups per country, year,sex, and several age groups.\n",
    "This allows to analyze how the world changed for presented age groups separately. We can analyze:\n",
    "#### (Q1) What age group is the biggest contributor? <a href=\"#a1\">a1</a>\n",
    "#### (Q2) What countries experienced the biggest change?  [a2](#a2)\n",
    "#### (Q3) Do we have a significant difference between men and women? [a3](#a3)\n",
    "#### (Q4) What about young generation is it different. [a4](#a4)\n",
    "#### (Q5) What is the change in absolute numbers and event rate ? \n",
    "#### (Q6) How median rate for whole reported data changed over the years? \n",
    "\n",
    "\n",
    "# Introduction & Analysis\n",
    "\n",
    "Our dataset has 6 columns and 43776 rows. Three columns are numerical and 3 are categorical. When we look at the dataset we see a lot missing values and sometimes 0 for columns suicide_no and population. For our analysis we need to eliminate these records. When we select only rows with all the data in place our dataset reduced will to 2628 rows. It still gives enough data for analysis. \n",
    "Let's look at the total numbers: reported population, total number of cases and rate.\n",
    " \n",
    "![](population_per_year.png)\n",
    "As we see reported population fluctuates. This is the total population for all age groups all countries. Some countries have missing data for one or more age groups. In this case some countries didn't provide population for these groups. To be consistent all records with number of cases 0 or missing are excluded. This explains fluctuation in population.\n",
    "If we look at the total number of suicide (cases) we see some decline in total numbers\n",
    "(? include table top 10 ?)\n",
    "![](total_cases_per_year.png)\n",
    "\n",
    "and some decline in rate - number of cases per 100,000 for the population\n",
    "(? include table top 10 ?)\n",
    "![](rate_per_year_all.png)\n",
    "Overall the change is less than 25%.\n",
    "We can check overall distribution for age groups.  \n",
    "#### (A1) age distr\n",
    "<a id=\"a1\" name=\"a1\"></a>\n",
    "![](case_distr.png) \n",
    "[c1](#c1)\n",
    "As we see the biggest contributor by far is age group 35 - 54.  We will look specifically at this cohort and at teenage & a young adults group later. \n",
    "\n",
    "Let's see what countries changed the most in total number and rate. \n",
    "(table)\n",
    "![](rate_diff_all_ages_m_w.png)\n",
    "#### (A2)\n",
    "<a id='a2'></a>\n",
    "\n",
    "Our dataset includes sex variable. This allows us to compare men and women separately. \n",
    "![toal_men_and_women] (compare_men_women.png)\n",
    "\n",
    "[c2](#c2)\n",
    "#### (A3) Do we have a significant difference between men and women?\n",
    "<a id='a3'></a>\n",
    "[c3](#c3)\n",
    "\n",
    "#### (A4)\n",
    "<a id='a4'></a>\n",
    "[c4](#c4)\n",
    "\n",
    "![test](young_improv_big.png) (#youngchange)\n",
    "\n",
    "The following countries shown the  biggest setback \n",
    "![test](young_setback_big.png)\n",
    "\n",
    "\n",
    "countries that improved for all ages \n",
    "countries that setback for all ages \n",
    "improvement and set back for young and middle \n",
    "\n",
    "overall world mean and median suicide rate \n",
    "\n",
    "Case rate is calculated as  number of cases * 100,000 / population. For the difference we calculate max_rate / min_rate\n",
    "\n",
    "\n",
    "\n",
    "discuss mean, median of the changes \n",
    "look at possible distributions \n",
    "For age group of interest 15- 24 years we see the most significant changes in the following countries\n",
    "\n",
    "Below is the distribution for each variable of the dataset.\n",
    "![init](allvars.png)\n",
    "\n",
    "\n",
    "Looking at the age\n",
    "\n",
    "\n",
    "\n",
    "![pop](population_distr.png)\n",
    "rate\n",
    "\n",
    "# Conclusion\n",
    "\n",
    "This is initial analysis of the data shown non obvious results. I've shown that rate changes are per country are very different for men and women. Deeper analysis could be done by linking this dataset to other appropriate information and modeling based on combined data. \n",
    "\n",
    "\n",
    "Please find attached the code used in this analysis\n",
    "\n",
    " "
   ]
  },
  {
   "cell_type": "markdown",
   "metadata": {
    "collapsed": true
   },
   "source": [
    "# Code start "
   ]
  },
  {
   "cell_type": "code",
   "execution_count": 1,
   "metadata": {
    "collapsed": true
   },
   "outputs": [],
   "source": [
    "import pandas as pd\n",
    "import matplotlib.pyplot as plt\n",
    "import numpy as np\n",
    "import seaborn as sns"
   ]
  },
  {
   "cell_type": "code",
   "execution_count": 2,
   "metadata": {
    "collapsed": true
   },
   "outputs": [],
   "source": [
    "sa=pd.read_csv('who_suicide_statistics.csv')\n",
    "lfexp=pd.read_csv('LifeExpectancyData.csv')\n"
   ]
  },
  {
   "cell_type": "code",
   "execution_count": 3,
   "metadata": {},
   "outputs": [
    {
     "data": {
      "text/plain": [
       "(43776, 6)"
      ]
     },
     "execution_count": 3,
     "metadata": {},
     "output_type": "execute_result"
    }
   ],
   "source": [
    "sa.shape"
   ]
  },
  {
   "cell_type": "code",
   "execution_count": 4,
   "metadata": {
    "scrolled": true
   },
   "outputs": [
    {
     "data": {
      "text/html": [
       "<div>\n",
       "<style>\n",
       "    .dataframe thead tr:only-child th {\n",
       "        text-align: right;\n",
       "    }\n",
       "\n",
       "    .dataframe thead th {\n",
       "        text-align: left;\n",
       "    }\n",
       "\n",
       "    .dataframe tbody tr th {\n",
       "        vertical-align: top;\n",
       "    }\n",
       "</style>\n",
       "<table border=\"1\" class=\"dataframe\">\n",
       "  <thead>\n",
       "    <tr style=\"text-align: right;\">\n",
       "      <th></th>\n",
       "      <th>country</th>\n",
       "      <th>year</th>\n",
       "      <th>sex</th>\n",
       "      <th>age</th>\n",
       "      <th>suicides_no</th>\n",
       "      <th>population</th>\n",
       "    </tr>\n",
       "  </thead>\n",
       "  <tbody>\n",
       "    <tr>\n",
       "      <th>0</th>\n",
       "      <td>Albania</td>\n",
       "      <td>1985</td>\n",
       "      <td>female</td>\n",
       "      <td>15-24 years</td>\n",
       "      <td>NaN</td>\n",
       "      <td>277900.0</td>\n",
       "    </tr>\n",
       "    <tr>\n",
       "      <th>1</th>\n",
       "      <td>Albania</td>\n",
       "      <td>1985</td>\n",
       "      <td>female</td>\n",
       "      <td>25-34 years</td>\n",
       "      <td>NaN</td>\n",
       "      <td>246800.0</td>\n",
       "    </tr>\n",
       "    <tr>\n",
       "      <th>2</th>\n",
       "      <td>Albania</td>\n",
       "      <td>1985</td>\n",
       "      <td>female</td>\n",
       "      <td>35-54 years</td>\n",
       "      <td>NaN</td>\n",
       "      <td>267500.0</td>\n",
       "    </tr>\n",
       "    <tr>\n",
       "      <th>3</th>\n",
       "      <td>Albania</td>\n",
       "      <td>1985</td>\n",
       "      <td>female</td>\n",
       "      <td>5-14 years</td>\n",
       "      <td>NaN</td>\n",
       "      <td>298300.0</td>\n",
       "    </tr>\n",
       "    <tr>\n",
       "      <th>4</th>\n",
       "      <td>Albania</td>\n",
       "      <td>1985</td>\n",
       "      <td>female</td>\n",
       "      <td>55-74 years</td>\n",
       "      <td>NaN</td>\n",
       "      <td>138700.0</td>\n",
       "    </tr>\n",
       "  </tbody>\n",
       "</table>\n",
       "</div>"
      ],
      "text/plain": [
       "   country  year     sex          age  suicides_no  population\n",
       "0  Albania  1985  female  15-24 years          NaN    277900.0\n",
       "1  Albania  1985  female  25-34 years          NaN    246800.0\n",
       "2  Albania  1985  female  35-54 years          NaN    267500.0\n",
       "3  Albania  1985  female   5-14 years          NaN    298300.0\n",
       "4  Albania  1985  female  55-74 years          NaN    138700.0"
      ]
     },
     "execution_count": 4,
     "metadata": {},
     "output_type": "execute_result"
    }
   ],
   "source": [
    "sa.head(5)"
   ]
  },
  {
   "cell_type": "code",
   "execution_count": 80,
   "metadata": {
    "code_folding": [
     0
    ]
   },
   "outputs": [
    {
     "data": {
      "text/plain": [
       "country           0\n",
       "year              0\n",
       "sex               0\n",
       "age               0\n",
       "suicides_no     408\n",
       "population     2856\n",
       "age_encoder       0\n",
       "sex_encoder       0\n",
       "dtype: int64"
      ]
     },
     "execution_count": 80,
     "metadata": {},
     "output_type": "execute_result"
    }
   ],
   "source": [
    "# do we have any missing ? \n",
    "sa.isnull().sum()\n"
   ]
  },
  {
   "cell_type": "code",
   "execution_count": 7,
   "metadata": {
    "code_folding": []
   },
   "outputs": [
    {
     "data": {
      "text/html": [
       "<div>\n",
       "<style>\n",
       "    .dataframe thead tr:only-child th {\n",
       "        text-align: right;\n",
       "    }\n",
       "\n",
       "    .dataframe thead th {\n",
       "        text-align: left;\n",
       "    }\n",
       "\n",
       "    .dataframe tbody tr th {\n",
       "        vertical-align: top;\n",
       "    }\n",
       "</style>\n",
       "<table border=\"1\" class=\"dataframe\">\n",
       "  <thead>\n",
       "    <tr style=\"text-align: right;\">\n",
       "      <th></th>\n",
       "      <th>country</th>\n",
       "      <th>year</th>\n",
       "      <th>sex</th>\n",
       "      <th>age</th>\n",
       "      <th>suicides_no</th>\n",
       "      <th>population</th>\n",
       "    </tr>\n",
       "  </thead>\n",
       "  <tbody>\n",
       "    <tr>\n",
       "      <th>372</th>\n",
       "      <td>Anguilla</td>\n",
       "      <td>1983</td>\n",
       "      <td>female</td>\n",
       "      <td>15-24 years</td>\n",
       "      <td>0.0</td>\n",
       "      <td>NaN</td>\n",
       "    </tr>\n",
       "    <tr>\n",
       "      <th>373</th>\n",
       "      <td>Anguilla</td>\n",
       "      <td>1983</td>\n",
       "      <td>female</td>\n",
       "      <td>25-34 years</td>\n",
       "      <td>0.0</td>\n",
       "      <td>NaN</td>\n",
       "    </tr>\n",
       "    <tr>\n",
       "      <th>374</th>\n",
       "      <td>Anguilla</td>\n",
       "      <td>1983</td>\n",
       "      <td>female</td>\n",
       "      <td>35-54 years</td>\n",
       "      <td>0.0</td>\n",
       "      <td>NaN</td>\n",
       "    </tr>\n",
       "    <tr>\n",
       "      <th>375</th>\n",
       "      <td>Anguilla</td>\n",
       "      <td>1983</td>\n",
       "      <td>female</td>\n",
       "      <td>5-14 years</td>\n",
       "      <td>0.0</td>\n",
       "      <td>NaN</td>\n",
       "    </tr>\n",
       "    <tr>\n",
       "      <th>376</th>\n",
       "      <td>Anguilla</td>\n",
       "      <td>1983</td>\n",
       "      <td>female</td>\n",
       "      <td>55-74 years</td>\n",
       "      <td>0.0</td>\n",
       "      <td>NaN</td>\n",
       "    </tr>\n",
       "  </tbody>\n",
       "</table>\n",
       "</div>"
      ],
      "text/plain": [
       "      country  year     sex          age  suicides_no  population\n",
       "372  Anguilla  1983  female  15-24 years          0.0         NaN\n",
       "373  Anguilla  1983  female  25-34 years          0.0         NaN\n",
       "374  Anguilla  1983  female  35-54 years          0.0         NaN\n",
       "375  Anguilla  1983  female   5-14 years          0.0         NaN\n",
       "376  Anguilla  1983  female  55-74 years          0.0         NaN"
      ]
     },
     "execution_count": 7,
     "metadata": {},
     "output_type": "execute_result"
    }
   ],
   "source": [
    "#print(sa[sa.isnull().any(axis=1)]['population'].head(20))\n",
    "pop0=sa[sa['population'].isnull()] \n",
    "#population_0=sa['population'].isnull\n",
    "pop0.head(5)\n",
    "# as rusult we see that population is missing when number of cases is 0"
   ]
  },
  {
   "cell_type": "code",
   "execution_count": 8,
   "metadata": {
    "collapsed": true
   },
   "outputs": [],
   "source": [
    "# select years of interest \n",
    "sa = sa[(sa['year'] > 1999) & (sa['year'] < 2016) ] "
   ]
  },
  {
   "cell_type": "code",
   "execution_count": 9,
   "metadata": {},
   "outputs": [
    {
     "data": {
      "text/plain": [
       "(21492, 6)"
      ]
     },
     "execution_count": 9,
     "metadata": {},
     "output_type": "execute_result"
    }
   ],
   "source": [
    "sa.shape"
   ]
  },
  {
   "cell_type": "code",
   "execution_count": 10,
   "metadata": {},
   "outputs": [
    {
     "data": {
      "text/plain": [
       "country           0\n",
       "year              0\n",
       "sex               0\n",
       "age               0\n",
       "suicides_no     408\n",
       "population     2856\n",
       "dtype: int64"
      ]
     },
     "execution_count": 10,
     "metadata": {},
     "output_type": "execute_result"
    }
   ],
   "source": [
    "# do we have any missing ? \n",
    "sa.isnull().sum()"
   ]
  },
  {
   "cell_type": "code",
   "execution_count": 11,
   "metadata": {
    "code_folding": [],
    "collapsed": true
   },
   "outputs": [],
   "source": [
    "# encode age and sex \n",
    "age_coder = {'5-14 years':0,\n",
    "            '15-24 years':1,\n",
    "            '25-34 years':2,\n",
    "            '35-54 years':3,\n",
    "            '55-74 years':4,\n",
    "            '75+ years':5}\n",
    "gender_coder = {'female':0,'male':1}\n"
   ]
  },
  {
   "cell_type": "code",
   "execution_count": 12,
   "metadata": {
    "collapsed": true
   },
   "outputs": [],
   "source": [
    "sa['age_encoder'] = sa['age'].map(age_coder)\n",
    "sa['sex_encoder'] = sa['sex'].map(gender_coder)"
   ]
  },
  {
   "cell_type": "code",
   "execution_count": 13,
   "metadata": {},
   "outputs": [
    {
     "data": {
      "text/html": [
       "<div>\n",
       "<style>\n",
       "    .dataframe thead tr:only-child th {\n",
       "        text-align: right;\n",
       "    }\n",
       "\n",
       "    .dataframe thead th {\n",
       "        text-align: left;\n",
       "    }\n",
       "\n",
       "    .dataframe tbody tr th {\n",
       "        vertical-align: top;\n",
       "    }\n",
       "</style>\n",
       "<table border=\"1\" class=\"dataframe\">\n",
       "  <thead>\n",
       "    <tr style=\"text-align: right;\">\n",
       "      <th></th>\n",
       "      <th>country</th>\n",
       "      <th>year</th>\n",
       "      <th>sex</th>\n",
       "      <th>age</th>\n",
       "      <th>suicides_no</th>\n",
       "      <th>population</th>\n",
       "      <th>age_encoder</th>\n",
       "      <th>sex_encoder</th>\n",
       "    </tr>\n",
       "  </thead>\n",
       "  <tbody>\n",
       "    <tr>\n",
       "      <th>180</th>\n",
       "      <td>Albania</td>\n",
       "      <td>2000</td>\n",
       "      <td>female</td>\n",
       "      <td>15-24 years</td>\n",
       "      <td>6.0</td>\n",
       "      <td>263900.0</td>\n",
       "      <td>1</td>\n",
       "      <td>0</td>\n",
       "    </tr>\n",
       "    <tr>\n",
       "      <th>181</th>\n",
       "      <td>Albania</td>\n",
       "      <td>2000</td>\n",
       "      <td>female</td>\n",
       "      <td>25-34 years</td>\n",
       "      <td>3.0</td>\n",
       "      <td>245800.0</td>\n",
       "      <td>2</td>\n",
       "      <td>0</td>\n",
       "    </tr>\n",
       "    <tr>\n",
       "      <th>182</th>\n",
       "      <td>Albania</td>\n",
       "      <td>2000</td>\n",
       "      <td>female</td>\n",
       "      <td>35-54 years</td>\n",
       "      <td>5.0</td>\n",
       "      <td>332200.0</td>\n",
       "      <td>3</td>\n",
       "      <td>0</td>\n",
       "    </tr>\n",
       "    <tr>\n",
       "      <th>183</th>\n",
       "      <td>Albania</td>\n",
       "      <td>2000</td>\n",
       "      <td>female</td>\n",
       "      <td>5-14 years</td>\n",
       "      <td>0.0</td>\n",
       "      <td>324700.0</td>\n",
       "      <td>0</td>\n",
       "      <td>0</td>\n",
       "    </tr>\n",
       "    <tr>\n",
       "      <th>184</th>\n",
       "      <td>Albania</td>\n",
       "      <td>2000</td>\n",
       "      <td>female</td>\n",
       "      <td>55-74 years</td>\n",
       "      <td>0.0</td>\n",
       "      <td>168000.0</td>\n",
       "      <td>4</td>\n",
       "      <td>0</td>\n",
       "    </tr>\n",
       "    <tr>\n",
       "      <th>185</th>\n",
       "      <td>Albania</td>\n",
       "      <td>2000</td>\n",
       "      <td>female</td>\n",
       "      <td>75+ years</td>\n",
       "      <td>2.0</td>\n",
       "      <td>37800.0</td>\n",
       "      <td>5</td>\n",
       "      <td>0</td>\n",
       "    </tr>\n",
       "    <tr>\n",
       "      <th>186</th>\n",
       "      <td>Albania</td>\n",
       "      <td>2000</td>\n",
       "      <td>male</td>\n",
       "      <td>15-24 years</td>\n",
       "      <td>5.0</td>\n",
       "      <td>240000.0</td>\n",
       "      <td>1</td>\n",
       "      <td>1</td>\n",
       "    </tr>\n",
       "    <tr>\n",
       "      <th>187</th>\n",
       "      <td>Albania</td>\n",
       "      <td>2000</td>\n",
       "      <td>male</td>\n",
       "      <td>25-34 years</td>\n",
       "      <td>17.0</td>\n",
       "      <td>232000.0</td>\n",
       "      <td>2</td>\n",
       "      <td>1</td>\n",
       "    </tr>\n",
       "    <tr>\n",
       "      <th>188</th>\n",
       "      <td>Albania</td>\n",
       "      <td>2000</td>\n",
       "      <td>male</td>\n",
       "      <td>35-54 years</td>\n",
       "      <td>4.0</td>\n",
       "      <td>374700.0</td>\n",
       "      <td>3</td>\n",
       "      <td>1</td>\n",
       "    </tr>\n",
       "    <tr>\n",
       "      <th>189</th>\n",
       "      <td>Albania</td>\n",
       "      <td>2000</td>\n",
       "      <td>male</td>\n",
       "      <td>5-14 years</td>\n",
       "      <td>1.0</td>\n",
       "      <td>374900.0</td>\n",
       "      <td>0</td>\n",
       "      <td>1</td>\n",
       "    </tr>\n",
       "  </tbody>\n",
       "</table>\n",
       "</div>"
      ],
      "text/plain": [
       "     country  year     sex          age  suicides_no  population  age_encoder  \\\n",
       "180  Albania  2000  female  15-24 years          6.0    263900.0            1   \n",
       "181  Albania  2000  female  25-34 years          3.0    245800.0            2   \n",
       "182  Albania  2000  female  35-54 years          5.0    332200.0            3   \n",
       "183  Albania  2000  female   5-14 years          0.0    324700.0            0   \n",
       "184  Albania  2000  female  55-74 years          0.0    168000.0            4   \n",
       "185  Albania  2000  female    75+ years          2.0     37800.0            5   \n",
       "186  Albania  2000    male  15-24 years          5.0    240000.0            1   \n",
       "187  Albania  2000    male  25-34 years         17.0    232000.0            2   \n",
       "188  Albania  2000    male  35-54 years          4.0    374700.0            3   \n",
       "189  Albania  2000    male   5-14 years          1.0    374900.0            0   \n",
       "\n",
       "     sex_encoder  \n",
       "180            0  \n",
       "181            0  \n",
       "182            0  \n",
       "183            0  \n",
       "184            0  \n",
       "185            0  \n",
       "186            1  \n",
       "187            1  \n",
       "188            1  \n",
       "189            1  "
      ]
     },
     "execution_count": 13,
     "metadata": {},
     "output_type": "execute_result"
    }
   ],
   "source": [
    "sa.head(10)"
   ]
  },
  {
   "cell_type": "code",
   "execution_count": 14,
   "metadata": {
    "scrolled": true
   },
   "outputs": [
    {
     "data": {
      "image/png": "[encoded data removed]",
      "text/plain": [
       "<matplotlib.figure.Figure at 0x1ed60f6ca20>"
      ]
     },
     "metadata": {},
     "output_type": "display_data"
    }
   ],
   "source": [
    "sa.hist(figsize = (15,15),bins=5 )\n",
    "plt.savefig('allvars.png')\n",
    "plt.show()"
   ]
  },
  {
   "cell_type": "code",
   "execution_count": 15,
   "metadata": {
    "collapsed": true
   },
   "outputs": [],
   "source": [
    "# Eliminate null\n",
    "dfa=sa.dropna()"
   ]
  },
  {
   "cell_type": "code",
   "execution_count": 16,
   "metadata": {},
   "outputs": [
    {
     "data": {
      "text/plain": [
       "(14975, 8)"
      ]
     },
     "execution_count": 16,
     "metadata": {},
     "output_type": "execute_result"
    }
   ],
   "source": [
    "#elminate 0 \n",
    "dfa=dfa[(dfa['suicides_no'] > 0) & (dfa['population'] > 0)]\n",
    "dfa.shape"
   ]
  },
  {
   "cell_type": "code",
   "execution_count": 17,
   "metadata": {
    "collapsed": true
   },
   "outputs": [],
   "source": [
    "#Calculate rate per 100,000\n",
    "rateFn = lambda row: 100000 * row['suicides_no'] / row['population']\n",
    "dfa['rate'] = dfa.apply(rateFn , axis=1)"
   ]
  },
  {
   "cell_type": "markdown",
   "metadata": {},
   "source": [
    "#### Code for Q1\n",
    "<a id='c1'></a>"
   ]
  },
  {
   "cell_type": "code",
   "execution_count": 18,
   "metadata": {
    "collapsed": true
   },
   "outputs": [],
   "source": [
    "#Summarize the world by age group\n",
    "ta=dfa.groupby('age_encoder')[['suicides_no']].sum()"
   ]
  },
  {
   "cell_type": "code",
   "execution_count": 19,
   "metadata": {},
   "outputs": [
    {
     "name": "stdout",
     "output_type": "stream",
     "text": [
      "Index(['5-14 years', '15-24 years', '25-34 years', '35-54 years',\n",
      "       '55-74 years', '75+ years'],\n",
      "      dtype='object', name='age_encoder')\n"
     ]
    }
   ],
   "source": [
    "#ta=groupby('age_encoder')[['suicides_no']].sum()\n",
    "en = {0:'5-14 years',\n",
    "      1:'15-24 years',\n",
    "      2:'25-34 years',\n",
    "      3:'35-54 years',\n",
    "      4:'55-74 years',\n",
    "      5:'75+ years'}\n",
    "print(ta.index.map(en.get))\n",
    "#ta.head(11)"
   ]
  },
  {
   "cell_type": "code",
   "execution_count": 81,
   "metadata": {
    "code_folding": []
   },
   "outputs": [
    {
     "data": {
      "text/plain": [
       "<matplotlib.figure.Figure at 0x1ed615a10b8>"
      ]
     },
     "metadata": {},
     "output_type": "display_data"
    },
    {
     "data": {
      "image/png": "[encoded data removed]",
      "text/plain": [
       "<matplotlib.figure.Figure at 0x1ed6142ef98>"
      ]
     },
     "metadata": {},
     "output_type": "display_data"
    }
   ],
   "source": [
    "#Suicide based on age groups\n",
    "en = {0:'5-14 ',\n",
    "      1:'15-24',\n",
    "      2:'25-34',\n",
    "      3:'35-54',\n",
    "      4:'55-74',\n",
    "      5:'75+ '}\n",
    "plt.figure(figsize=(12,9))\n",
    "\n",
    "ta.plot(ta.index.map(en.get), kind='bar', stacked=False, title='Suicides for the World 2000 - 2015 by age group' )\n",
    "#plt.title(\"Total Suicide based in Age group\")\n",
    "#plt.xlabel(\"Age Group\")\n",
    "#plt.ylabel(\"Number of Suicide\")\n",
    "plt.savefig(\"case_distr.png\")\n",
    "plt.show()"
   ]
  },
  {
   "cell_type": "code",
   "execution_count": 24,
   "metadata": {},
   "outputs": [
    {
     "data": {
      "text/plain": [
       "<matplotlib.figure.Figure at 0x1ed61b48128>"
      ]
     },
     "metadata": {},
     "output_type": "display_data"
    },
    {
     "data": {
      "image/png": "[encoded data removed]",
      "text/plain": [
       "<matplotlib.figure.Figure at 0x1ed614d0fd0>"
      ]
     },
     "metadata": {},
     "output_type": "display_data"
    }
   ],
   "source": [
    "#population the same way\n",
    "tp=dfa.groupby('age_encoder')[['population']].sum()\n",
    "plt.figure(figsize=(12,9))\n",
    "\n",
    "tp.plot(tp.index.map(en.get), kind='bar', stacked=False, title='Population by age group for the same cohort ' )\n",
    "#plt.title(\"Total Suicide based in Age group\")\n",
    "#plt.xlabel(\"Age Group\")\n",
    "#plt.ylabel(\"Number of Suicide\")\n",
    "plt.savefig(\"population_distr.png\")\n",
    "plt.show()"
   ]
  },
  {
   "cell_type": "code",
   "execution_count": 32,
   "metadata": {},
   "outputs": [
    {
     "data": {
      "text/plain": [
       "<matplotlib.figure.Figure at 0x1ed6182c048>"
      ]
     },
     "metadata": {},
     "output_type": "display_data"
    },
    {
     "data": {
      "image/png": "[encoded data removed]",
      "text/plain": [
       "<matplotlib.figure.Figure at 0x1ed613baef0>"
      ]
     },
     "metadata": {},
     "output_type": "display_data"
    }
   ],
   "source": [
    "py=dfa.groupby('year')[['population']].sum()\n",
    "plt.figure(figsize=(12,10))\n",
    "py.plot(py.index, kind='bar', stacked=False, title='Total population for non 0 cases per year in billions' )\n",
    "plt.savefig(\"population_per_year.png\")\n",
    "plt.show()\n"
   ]
  },
  {
   "cell_type": "markdown",
   "metadata": {},
   "source": [
    "<a id='c44'></a> #total_cases_per_year"
   ]
  },
  {
   "cell_type": "code",
   "execution_count": 37,
   "metadata": {
    "code_folding": []
   },
   "outputs": [
    {
     "data": {
      "text/plain": [
       "<matplotlib.figure.Figure at 0x1ed61923a20>"
      ]
     },
     "metadata": {},
     "output_type": "display_data"
    },
    {
     "data": {
      "image/png": "[encoded data removed]",
      "text/plain": [
       "<matplotlib.figure.Figure at 0x1ed619f3c50>"
      ]
     },
     "metadata": {},
     "output_type": "display_data"
    }
   ],
   "source": [
    "#total cases per year \n",
    "\n",
    "cy=dfa.groupby('year')[['suicides_no']].sum()\n",
    "plt.figure(figsize=(12,10))\n",
    "cy.plot(py.index, kind='bar', stacked=False, title='Total number of cases per year' )\n",
    "plt.savefig(\"total_cases_per_year.png\")\n",
    "plt.show()\n"
   ]
  },
  {
   "cell_type": "code",
   "execution_count": 48,
   "metadata": {},
   "outputs": [
    {
     "data": {
      "text/plain": [
       "<matplotlib.figure.Figure at 0x1ed614b3ef0>"
      ]
     },
     "metadata": {},
     "output_type": "display_data"
    },
    {
     "data": {
      "image/png": "[encoded data removed]",
      "text/plain": [
       "<matplotlib.figure.Figure at 0x1ed613b3dd8>"
      ]
     },
     "metadata": {},
     "output_type": "display_data"
    }
   ],
   "source": [
    "#total rate per year \n",
    "cpy=dfa.groupby('year').agg({'suicides_no':sum,'population':sum})\n",
    "rateFn = lambda row: 100000 * row['suicides_no'] / row['population']\n",
    "cpy['rate'] = cpy.apply(rateFn , axis=1)\n",
    "cpr=cpy.drop(['suicides_no','population'],axis=1)\n",
    "plt.figure(figsize=(12,10))\n",
    "cpr.plot(py.index, kind='bar', stacked=False, title='Rate per year for total population' )\n",
    "plt.savefig(\"rate_per_year_all.png\")\n",
    "plt.show()\n"
   ]
  },
  {
   "cell_type": "code",
   "execution_count": 67,
   "metadata": {
    "collapsed": true
   },
   "outputs": [],
   "source": [
    "def calc_min_max_idiff(df):\n",
    "    ''' calculates min, max, diff between  for each country inn given ds\n",
    "        returns dict with result'''\n",
    "    res={}\n",
    "    i=0\n",
    "    # make sure that df is sort by country, we don't care about the year\n",
    "    for row_index, row in df.iterrows():\n",
    "        icnt, iyear=row_index\n",
    "        if i == 0:\n",
    "            cscnt = icnt\n",
    "            csmin=row['rate']\n",
    "            csmax=row['rate']\n",
    "            csmin_year=iyear\n",
    "            csmax_year=iyear\n",
    "            i+=1\n",
    "        elif icnt == cscnt: # the same country\n",
    "            cs=row['rate']\n",
    "            if cs > csmax :\n",
    "                csmax=cs\n",
    "                csmax_year=iyear\n",
    "            elif cs < csmin: \n",
    "                csmin=cs\n",
    "                csmin_year=iyear\n",
    "            # if the same?     \n",
    "        else:  ## country changed let's save the result \n",
    "            res[cscnt]= {'min':csmin, 'min_year':csmin_year,'max':csmax,'max_year':csmax_year,'dif':csmax - csmin}\n",
    "            cscnt=icnt\n",
    "            csmin=row['rate']\n",
    "            csmax=row['rate']\n",
    "            csmin_year=iyear\n",
    "            csmax_year=iyear\n",
    "            i+=1\n",
    "    res[cscnt]= {'min':csmin, 'min_year':csmin_year,'max':csmax, 'max_year':csmax_year,'dif': csmax - csmin}\n",
    "    pesdf=pd.DataFrame(res).T.sort_values(['dif'], ascending=[False])\n",
    "    \n",
    "    return pesdf"
   ]
  },
  {
   "cell_type": "code",
   "execution_count": 68,
   "metadata": {
    "collapsed": true
   },
   "outputs": [],
   "source": [
    "# what countries changed the most in total number and rate. \n",
    "# it means groupby by year and country \n",
    "\n",
    "gcy=dfa.groupby(['country','year']).agg({'rate':sum})\n",
    "#gcy.head(11)\n",
    "#cc,yy=gcy.index[0] \n",
    "#print(gcy['rate'])"
   ]
  },
  {
   "cell_type": "code",
   "execution_count": 69,
   "metadata": {
    "collapsed": true
   },
   "outputs": [],
   "source": [
    "m_w_all_age=calc_min_max_idiff(gcy)\n",
    "#sort by the diff\n",
    "m_w_all_age.sort_values('diff', inplace=True, ascending=False)"
   ]
  },
  {
   "cell_type": "code",
   "execution_count": 79,
   "metadata": {
    "scrolled": true
   },
   "outputs": [
    {
     "data": {
      "image/png": "[encoded data removed]",
      "text/plain": [
       "<matplotlib.figure.Figure at 0x1ed61112588>"
      ]
     },
     "metadata": {},
     "output_type": "display_data"
    }
   ],
   "source": [
    "dts=m_w_all_age.drop(['max','max_year','min','min_year'],axis=1)[0:15]\n",
    "dts.plot(kind='barh', title='Top changes in suiceide rate by country')\n",
    "plt.savefig(\"rate_diff_all_ages_m_w.png\")\n",
    "plt.show()"
   ]
  },
  {
   "cell_type": "code",
   "execution_count": null,
   "metadata": {
    "collapsed": true
   },
   "outputs": [],
   "source": [
    "# plot it \n",
    "# plot top n countries \n",
    "dtall=m_w_all_age.drop() \n",
    "sy.plot(kind='hist', title='Histogram of rates for 3 contries between 20001 - 2010')\n",
    "fig, (ax1, ax2) = plt.subplots(ncols=2)\n",
    "# man\n",
    "mr= mcfg.iloc[0:14,0]\n",
    "mr.plot(x='dif',y=sh.index, kind='barh',figsize = (15,10), title='Man', ax=ax1)\n",
    "#woman\n",
    "wr=wmcfg.iloc[0:14,0]\n",
    "wr.plot(x='dif',y=sh.index, kind='barh',figsize = (15,10), title='Woman', ax=ax2)\n",
    "plt.subplots_adjust( wspace=0.4)\n",
    "plt.suptitle('Biggest improvements in suisides rates for young man and woman in 2000 - 2015', fontsize=15)\n",
    "fig.savefig(\"young_improv_big.png\")\n",
    "plt.show()"
   ]
  },
  {
   "cell_type": "code",
   "execution_count": null,
   "metadata": {
    "code_folding": [],
    "collapsed": true
   },
   "outputs": [],
   "source": [
    "# select our age group using age encoder \n",
    "# let's look at young  group N 1\n",
    "df=df[df['age_encoder']== 1] \n",
    "df.shape"
   ]
  },
  {
   "cell_type": "code",
   "execution_count": null,
   "metadata": {
    "collapsed": true
   },
   "outputs": [],
   "source": [
    "df.head(5)"
   ]
  },
  {
   "cell_type": "markdown",
   "metadata": {},
   "source": [
    "#### QA1 code "
   ]
  },
  {
   "cell_type": "code",
   "execution_count": null,
   "metadata": {
    "code_folding": [],
    "collapsed": true
   },
   "outputs": [],
   "source": [
    "###round(2.23456,3) will give 2.235"
   ]
  },
  {
   "cell_type": "code",
   "execution_count": null,
   "metadata": {
    "collapsed": true
   },
   "outputs": [],
   "source": [
    "#\n",
    "# sub with rapam df returning dict: country, year_min, rate_min, rate_max, rate_diff \n",
    "#steps: sort by country, for loop , calculate min, year, max year diff by country\n",
    "# as result have: min cases year, max cases , year, diff.\n",
    "# convert  dict to df\n",
    "# sort by diff\n",
    "#mamke separate ds for men \n",
    "#make DS for women\n",
    "#calculate mean median of rate for all countries for each year \n",
    "\n",
    "#apply for men\n",
    "# apply for women\n",
    "# print top 5 changes for men \n",
    "# print top 5 for women \n",
    "\n",
    "# calculate mean and median for all countries separate for men and woman \n",
    "#for top changed countries. print change line over years\n",
    "# men, women, \n",
    "#print type? \n",
    "# visual: \n",
    "# make one DS\n",
    "#"
   ]
  },
  {
   "cell_type": "code",
   "execution_count": null,
   "metadata": {
    "collapsed": true
   },
   "outputs": [],
   "source": [
    "df_men=df[df['sex_encoder'] == 1]\n",
    "df_women=df[df['sex_encoder'] == 0]\n",
    "# apply f\n",
    "df_men.shape\n"
   ]
  },
  {
   "cell_type": "code",
   "execution_count": null,
   "metadata": {
    "code_folding": [],
    "collapsed": true
   },
   "outputs": [],
   "source": [
    "def calc_min_max_diff(df):\n",
    "    ''' calculates min, max, diff between  for each country inn given ds\n",
    "        returns dict with result'''\n",
    "    res={}\n",
    "    i=0\n",
    "    # make sure that df is sort by country, we don't care about the year\n",
    "    df.sort_values('country', inplace=True)\n",
    "    for row_index, row in df.iterrows():\n",
    "        if i == 0:\n",
    "            cscnt=row['country']\n",
    "            csmin=row['rate']\n",
    "            csmax=row['rate']\n",
    "            csmin_year=row['year']\n",
    "            csmax_year=row['year']\n",
    "            i+=1\n",
    "        elif row['country'] == cscnt:\n",
    "            cs=row['rate']\n",
    "            if cs > csmax :\n",
    "                csmax=cs\n",
    "                csmax_year=row['year']\n",
    "            elif cs < csmin: \n",
    "                csmin=cs\n",
    "                csmin_year=row['year']\n",
    "            # if the same?     \n",
    "        else:  ## country changed let's save the result \n",
    "            res[cscnt]= {'min':csmin, 'min_year':csmin_year,'max':csmax,'max_year':csmax_year,'dif':csmax / csmin}\n",
    "            cscnt=row['country']\n",
    "            csmin=row['rate']\n",
    "            csmax=row['rate']\n",
    "            csmin_year=row['year']\n",
    "            csmax_year=row['year']      \n",
    "            i+=1\n",
    "    res[cscnt]= {'min':csmin, 'min_year':csmin_year,'max':csmax, 'max_year':csmax_year,'dif': csmax / csmin}\n",
    "    pesdf=pd.DataFrame(res).T.sort_values(['dif'], ascending=[False])\n",
    "    \n",
    "    return pesdf"
   ]
  },
  {
   "cell_type": "code",
   "execution_count": null,
   "metadata": {
    "collapsed": true
   },
   "outputs": [],
   "source": [
    "# make a test ds with 3 coutries, men and women separate, \n",
    "#try function for them \n",
    "#difference for men \n",
    "men_res= calc_min_max_diff(df=df_men)\n",
    "#print(men_res)"
   ]
  },
  {
   "cell_type": "code",
   "execution_count": null,
   "metadata": {
    "collapsed": true
   },
   "outputs": [],
   "source": [
    "women_res= calc_min_max_diff(df=df_women)"
   ]
  },
  {
   "cell_type": "code",
   "execution_count": null,
   "metadata": {
    "collapsed": true
   },
   "outputs": [],
   "source": [
    "\n"
   ]
  },
  {
   "cell_type": "code",
   "execution_count": null,
   "metadata": {
    "collapsed": true
   },
   "outputs": [],
   "source": [
    "# choose one that shows changes for the best\n",
    "#men changed for good  year\n",
    "mcfg=men_res[men_res['max_year'] < men_res['min_year'] ]\n",
    "wmcfg=women_res[women_res['max_year'] < women_res['min_year'] ]\n",
    "mcfg.head(5)"
   ]
  },
  {
   "cell_type": "code",
   "execution_count": null,
   "metadata": {
    "collapsed": true
   },
   "outputs": [],
   "source": [
    "# plot top n countries \n",
    "fig, (ax1, ax2) = plt.subplots(ncols=2)\n",
    "# man\n",
    "mr= mcfg.iloc[0:14,0]\n",
    "mr.plot(x='dif',y=sh.index, kind='barh',figsize = (15,10), title='Man', ax=ax1)\n",
    "#woman\n",
    "wr=wmcfg.iloc[0:14,0]\n",
    "wr.plot(x='dif',y=sh.index, kind='barh',figsize = (15,10), title='Woman', ax=ax2)\n",
    "plt.subplots_adjust( wspace=0.4)\n",
    "plt.suptitle('Biggest improvements in suisides rates for young man and woman in 2000 - 2015', fontsize=15)\n",
    "fig.savefig(\"young_improv_big.png\")\n",
    "plt.show()"
   ]
  },
  {
   "cell_type": "code",
   "execution_count": null,
   "metadata": {
    "collapsed": true
   },
   "outputs": [],
   "source": [
    "# didn't change much \n",
    "fig, (ax1, ax2) = plt.subplots(ncols=2)\n",
    "# man\n",
    "mr= mcfg.iloc[-14:-1,0]\n",
    "mr.plot(x='dif',y=sh.index, kind='barh',figsize = (15,10), title='Man', ax=ax1)\n",
    "#woman\n",
    "wr=wmcfg.iloc[-14:-1,0]\n",
    "wr.plot(x='dif',y=sh.index, kind='barh',figsize = (15,10), title='Woman', ax=ax2)\n",
    "plt.subplots_adjust( wspace=0.4)\n",
    "plt.suptitle('Smallest changes in suisides rates for young man and woman in 2000 - 2015', fontsize=15)\n",
    "fig.savefig(\"young_improv_small.png\")\n",
    "plt.show()"
   ]
  },
  {
   "cell_type": "code",
   "execution_count": null,
   "metadata": {
    "collapsed": true
   },
   "outputs": [],
   "source": [
    "#\n",
    "mcfw=men_res[men_res['max_year'] > men_res['min_year'] ]\n",
    "wmcfw=women_res[women_res['max_year'] > women_res['min_year'] ]\n",
    "mcfw.head(11)\n"
   ]
  },
  {
   "cell_type": "code",
   "execution_count": null,
   "metadata": {
    "collapsed": true
   },
   "outputs": [],
   "source": [
    "# plot top n countries \n",
    "fig, (ax1, ax2) = plt.subplots(ncols=2)\n",
    "# man\n",
    "mr= mcfw.iloc[0:14,0]\n",
    "mr.plot(x='dif',y=sh.index, kind='barh',figsize = (15,10), title='Man', ax=ax1)\n",
    "#woman\n",
    "wr=wmcfw.iloc[0:14,0]\n",
    "wr.plot(x='dif',y=sh.index, kind='barh',figsize = (15,10), title='Woman', ax=ax2)\n",
    "plt.subplots_adjust( wspace=0.4)\n",
    "plt.suptitle('Biggest setback in suisides rates for young man and woman in 2000 - 2015', fontsize=15)\n",
    "fig.savefig(\"young_setback_big.png\")\n",
    "plt.show()"
   ]
  },
  {
   "cell_type": "code",
   "execution_count": null,
   "metadata": {
    "code_folding": [
     0
    ],
    "collapsed": true
   },
   "outputs": [],
   "source": [
    "# show countries that have min rate diff\n",
    "# plot top n countries \n",
    "fig, (ax1, ax2) = plt.subplots(ncols=2)\n",
    "mr= men_res.iloc[-14:-1,0]\n",
    "mr.plot(x='dif',y=sh.index, kind='barh',figsize = (15,10), title='Man', ax=ax1)\n",
    "wr=women_res.iloc[-14:-1,0]\n",
    "wr.plot(x='dif',y=sh.index, kind='barh',figsize = (15,10), title='Woman', ax=ax2)\n",
    "plt.subplots_adjust( wspace=0.4)\n",
    "plt.suptitle('Smallest changes in suisides rates for young man and woman in 2000 - 2015', fontsize=15)\n",
    "fig.savefig(\"young_improv_smaill.png\")\n",
    "plt.show()"
   ]
  },
  {
   "cell_type": "code",
   "execution_count": null,
   "metadata": {
    "collapsed": true
   },
   "outputs": [],
   "source": [
    "# for top country (max) do we have all ages ?"
   ]
  },
  {
   "cell_type": "code",
   "execution_count": null,
   "metadata": {
    "code_folding": [],
    "collapsed": true
   },
   "outputs": [],
   "source": [
    "#What is the difference between years for all ages for this county ?"
   ]
  },
  {
   "cell_type": "code",
   "execution_count": null,
   "metadata": {
    "collapsed": true
   },
   "outputs": [],
   "source": [
    "combine all ages per country"
   ]
  },
  {
   "cell_type": "code",
   "execution_count": null,
   "metadata": {
    "code_folding": [
     0
    ],
    "collapsed": true
   },
   "outputs": [],
   "source": [
    "# Choose countries\n",
    "#describe the data \n",
    "print(list(suis))\n",
    "print(list(lfexp))\n",
    "'''\n",
    "#suis.describe()\n",
    "selectedCoutries=['Canada','United States of America','Japan','Mexico']\n",
    "df= df[df['country'].isin(selectedCoutries)] \n",
    "df = df[(df['year'] > 2000) & (df['year'] < 2017) ]\n",
    "ages=df.groupby(['age').sum()\n",
    "#ages.head(11)\n",
    "'''"
   ]
  },
  {
   "cell_type": "code",
   "execution_count": null,
   "metadata": {
    "code_folding": [
     0
    ],
    "collapsed": true
   },
   "outputs": [],
   "source": [
    "#\n",
    "selectedCoutries=['Canada','Mexico','Guatemala','United States of America']\n",
    "df= suis[suis['country'].isin(selectedCoutries)] \n",
    "df1 = df[(df['year'] > 2000) & (df['year'] < 2017) ]\n",
    "\n",
    "sel=df1.groupby(['country','year']).sum()\n",
    "\n",
    "\n",
    "# how to select one country or year after the groupby\n",
    "def save_vals(cscnt,cmin,cmax):\n",
    "    return res\n"
   ]
  },
  {
   "cell_type": "code",
   "execution_count": null,
   "metadata": {
    "code_folding": [
     2
    ],
    "collapsed": true
   },
   "outputs": [],
   "source": [
    "# min / max\n",
    "# in iteration\n",
    "def difCalc(df)\n",
    "    res={}\n",
    "    for row_index, row in sel.iterrows():\n",
    "        if i == 0:\n",
    "            cscnt=row_index[0]\n",
    "            csmin=row['rate']\n",
    "            csmax=row['rate']\n",
    "            i+=1\n",
    "        elif row_index[0] == cscnt:\n",
    "            cs=row['rate']\n",
    "            if cs > csmax :\n",
    "                csmax=cs\n",
    "            elif cs < csmin: \n",
    "                csmin=cs\n",
    "        else:  ## country changed let's save the result \n",
    "            res[cscnt]= csmin, csmax, csmax - csmin\n",
    "            cscnt=row_index[0]\n",
    "            csmin=row['rate']\n",
    "            csmax=row['rate']\n",
    "            i+=1\n",
    "    res[ccnt]= csmin, csmax, csmax - csmin\n",
    "    return res\n"
   ]
  },
  {
   "cell_type": "code",
   "execution_count": null,
   "metadata": {
    "collapsed": true
   },
   "outputs": [],
   "source": [
    "print(list(lfexp))"
   ]
  }
 ],
 "metadata": {
  "celltoolbar": "Slideshow",
  "kernelspec": {
   "display_name": "Python 3",
   "language": "python",
   "name": "python3"
  },
  "language_info": {
   "codemirror_mode": {
    "name": "ipython",
    "version": 3
   },
   "file_extension": ".py",
   "mimetype": "text/x-python",
   "name": "python",
   "nbconvert_exporter": "python",
   "pygments_lexer": "ipython3",
   "version": "3.6.7"
  },
  "latex_envs": {
   "LaTeX_envs_menu_present": true,
   "autoclose": false,
   "autocomplete": true,
   "bibliofile": "biblio.bib",
   "cite_by": "apalike",
   "current_citInitial": 1,
   "eqLabelWithNumbers": true,
   "eqNumInitial": 1,
   "hotkeys": {
    "equation": "Ctrl-E",
    "itemize": "Ctrl-I"
   },
   "labels_anchors": false,
   "latex_user_defs": false,
   "report_style_numbering": false,
   "user_envs_cfg": false
  },
  "toc": {
   "base_numbering": 1,
   "nav_menu": {},
   "number_sections": false,
   "sideBar": true,
   "skip_h1_title": true,
   "title_cell": "Table of Contents",
   "title_sidebar": "Contents",
   "toc_cell": false,
   "toc_position": {
    "height": "calc(100% - 180px)",
    "left": "10px",
    "top": "150px",
    "width": "165px"
   },
   "toc_section_display": true,
   "toc_window_display": false
  }
 },
 "nbformat": 4,
 "nbformat_minor": 2
}
