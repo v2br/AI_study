{
 "cells": [
  {
   "cell_type": "markdown",
   "metadata": {},
   "source": [
    "        \n",
    "\n"
   ]
  },
  {
   "cell_type": "markdown",
   "metadata": {},
   "source": [
    "\n",
    "\n",
    "\n",
    "# Overview\n",
    "Every suicide is a tragedy affecting many people around. It is also one of major risks of death especially among young people. [World Health organization](https://www.who.int/) organization maintains a suicide statistics dataset for many years. \n",
    "This dataset provides a number of events and population per year for several age groups per country, year,sex, and several age groups.\n",
    "This allows to analyze what countries experienced the biggest change this century among the young generation.\n",
    "Who changed for better, who changed for the worse? What is the overall world picture? What is the picture across other age groups?\n",
    "\n",
    "\n",
    "# Introduction\n",
    "Our dataset has 6 columns and 43776 rows. Three columns are numerical and 3 are categorical. When we look at the dataset we see a lot missing values and sometimes 0 for columns suicide_no and population. For our analysis we need to eliminate these records. When we select only rows with all the data in place our dataset reduced will to 2628 rows. It still gives enough data for analysis. \n",
    "Let's calculate suicide rate for for different age groups per 100,000 for men and women. Having that as input dataset we can see how the rate changed after year 2000. Mean and median rate for the entire dataset could be calculated as well.   \n",
    "Below is the distribution for each variable of the dataset.\n",
    "![init](allvars.png)\n",
    "\n",
    "\n",
    "\n",
    "# Analysis\n",
    "Analysis\n",
    "Case rate is calculated as  number of cases * 100,000 / population. For the difference we calculate max_rate / min_rate\n",
    "\n",
    "For age group of interest 15- 24 years we see the most significant changes in the following countries\n",
    "![test](young_improv_big.png)\n",
    "\n",
    "The following countries shown the  biggest setback \n",
    "![test](young_setback_big.png)\n",
    "\n",
    "\n",
    "---------------\n",
    "\n",
    "\n",
    "# Conclusion\n",
    "This is initial analysis of the data shown non obvious results. Deeper analysis could be done by linking this dataset to other appropriate information and modeling based on combined data. \n"
   ]
  },
  {
   "cell_type": "code",
   "execution_count": 1,
   "metadata": {
    "collapsed": true
   },
   "outputs": [],
   "source": [
    "import pandas as pd\n",
    "import matplotlib.pyplot as plt\n",
    "import numpy as np\n"
   ]
  },
  {
   "cell_type": "code",
   "execution_count": 2,
   "metadata": {
    "collapsed": true
   },
   "outputs": [],
   "source": [
    "sa=pd.read_csv('who_suicide_statistics.csv')\n",
    "lfexp=pd.read_csv('LifeExpectancyData.csv')\n"
   ]
  },
  {
   "cell_type": "code",
   "execution_count": 3,
   "metadata": {},
   "outputs": [
    {
     "data": {
      "text/plain": [
       "(43776, 6)"
      ]
     },
     "execution_count": 3,
     "metadata": {},
     "output_type": "execute_result"
    }
   ],
   "source": [
    "sa.shape"
   ]
  },
  {
   "cell_type": "code",
   "execution_count": 4,
   "metadata": {},
   "outputs": [
    {
     "data": {
      "text/html": [
       "<div>\n",
       "<style>\n",
       "    .dataframe thead tr:only-child th {\n",
       "        text-align: right;\n",
       "    }\n",
       "\n",
       "    .dataframe thead th {\n",
       "        text-align: left;\n",
       "    }\n",
       "\n",
       "    .dataframe tbody tr th {\n",
       "        vertical-align: top;\n",
       "    }\n",
       "</style>\n",
       "<table border=\"1\" class=\"dataframe\">\n",
       "  <thead>\n",
       "    <tr style=\"text-align: right;\">\n",
       "      <th></th>\n",
       "      <th>country</th>\n",
       "      <th>year</th>\n",
       "      <th>sex</th>\n",
       "      <th>age</th>\n",
       "      <th>suicides_no</th>\n",
       "      <th>population</th>\n",
       "    </tr>\n",
       "  </thead>\n",
       "  <tbody>\n",
       "    <tr>\n",
       "      <th>0</th>\n",
       "      <td>Albania</td>\n",
       "      <td>1985</td>\n",
       "      <td>female</td>\n",
       "      <td>15-24 years</td>\n",
       "      <td>NaN</td>\n",
       "      <td>277900.0</td>\n",
       "    </tr>\n",
       "    <tr>\n",
       "      <th>1</th>\n",
       "      <td>Albania</td>\n",
       "      <td>1985</td>\n",
       "      <td>female</td>\n",
       "      <td>25-34 years</td>\n",
       "      <td>NaN</td>\n",
       "      <td>246800.0</td>\n",
       "    </tr>\n",
       "    <tr>\n",
       "      <th>2</th>\n",
       "      <td>Albania</td>\n",
       "      <td>1985</td>\n",
       "      <td>female</td>\n",
       "      <td>35-54 years</td>\n",
       "      <td>NaN</td>\n",
       "      <td>267500.0</td>\n",
       "    </tr>\n",
       "    <tr>\n",
       "      <th>3</th>\n",
       "      <td>Albania</td>\n",
       "      <td>1985</td>\n",
       "      <td>female</td>\n",
       "      <td>5-14 years</td>\n",
       "      <td>NaN</td>\n",
       "      <td>298300.0</td>\n",
       "    </tr>\n",
       "    <tr>\n",
       "      <th>4</th>\n",
       "      <td>Albania</td>\n",
       "      <td>1985</td>\n",
       "      <td>female</td>\n",
       "      <td>55-74 years</td>\n",
       "      <td>NaN</td>\n",
       "      <td>138700.0</td>\n",
       "    </tr>\n",
       "    <tr>\n",
       "      <th>5</th>\n",
       "      <td>Albania</td>\n",
       "      <td>1985</td>\n",
       "      <td>female</td>\n",
       "      <td>75+ years</td>\n",
       "      <td>NaN</td>\n",
       "      <td>34200.0</td>\n",
       "    </tr>\n",
       "    <tr>\n",
       "      <th>6</th>\n",
       "      <td>Albania</td>\n",
       "      <td>1985</td>\n",
       "      <td>male</td>\n",
       "      <td>15-24 years</td>\n",
       "      <td>NaN</td>\n",
       "      <td>301400.0</td>\n",
       "    </tr>\n",
       "    <tr>\n",
       "      <th>7</th>\n",
       "      <td>Albania</td>\n",
       "      <td>1985</td>\n",
       "      <td>male</td>\n",
       "      <td>25-34 years</td>\n",
       "      <td>NaN</td>\n",
       "      <td>264200.0</td>\n",
       "    </tr>\n",
       "    <tr>\n",
       "      <th>8</th>\n",
       "      <td>Albania</td>\n",
       "      <td>1985</td>\n",
       "      <td>male</td>\n",
       "      <td>35-54 years</td>\n",
       "      <td>NaN</td>\n",
       "      <td>296700.0</td>\n",
       "    </tr>\n",
       "    <tr>\n",
       "      <th>9</th>\n",
       "      <td>Albania</td>\n",
       "      <td>1985</td>\n",
       "      <td>male</td>\n",
       "      <td>5-14 years</td>\n",
       "      <td>NaN</td>\n",
       "      <td>325800.0</td>\n",
       "    </tr>\n",
       "  </tbody>\n",
       "</table>\n",
       "</div>"
      ],
      "text/plain": [
       "   country  year     sex          age  suicides_no  population\n",
       "0  Albania  1985  female  15-24 years          NaN    277900.0\n",
       "1  Albania  1985  female  25-34 years          NaN    246800.0\n",
       "2  Albania  1985  female  35-54 years          NaN    267500.0\n",
       "3  Albania  1985  female   5-14 years          NaN    298300.0\n",
       "4  Albania  1985  female  55-74 years          NaN    138700.0\n",
       "5  Albania  1985  female    75+ years          NaN     34200.0\n",
       "6  Albania  1985    male  15-24 years          NaN    301400.0\n",
       "7  Albania  1985    male  25-34 years          NaN    264200.0\n",
       "8  Albania  1985    male  35-54 years          NaN    296700.0\n",
       "9  Albania  1985    male   5-14 years          NaN    325800.0"
      ]
     },
     "execution_count": 4,
     "metadata": {},
     "output_type": "execute_result"
    }
   ],
   "source": [
    "sa.head(10)"
   ]
  },
  {
   "cell_type": "code",
   "execution_count": 5,
   "metadata": {},
   "outputs": [
    {
     "data": {
      "text/plain": [
       "country           0\n",
       "year              0\n",
       "sex               0\n",
       "age               0\n",
       "suicides_no    2256\n",
       "population     5460\n",
       "dtype: int64"
      ]
     },
     "execution_count": 5,
     "metadata": {},
     "output_type": "execute_result"
    }
   ],
   "source": [
    "# do we have any missing ? \n",
    "sa.isnull().sum()\n"
   ]
  },
  {
   "cell_type": "code",
   "execution_count": 6,
   "metadata": {},
   "outputs": [
    {
     "data": {
      "text/html": [
       "<div>\n",
       "<style>\n",
       "    .dataframe thead tr:only-child th {\n",
       "        text-align: right;\n",
       "    }\n",
       "\n",
       "    .dataframe thead th {\n",
       "        text-align: left;\n",
       "    }\n",
       "\n",
       "    .dataframe tbody tr th {\n",
       "        vertical-align: top;\n",
       "    }\n",
       "</style>\n",
       "<table border=\"1\" class=\"dataframe\">\n",
       "  <thead>\n",
       "    <tr style=\"text-align: right;\">\n",
       "      <th></th>\n",
       "      <th>country</th>\n",
       "      <th>year</th>\n",
       "      <th>sex</th>\n",
       "      <th>age</th>\n",
       "      <th>suicides_no</th>\n",
       "      <th>population</th>\n",
       "    </tr>\n",
       "  </thead>\n",
       "  <tbody>\n",
       "    <tr>\n",
       "      <th>372</th>\n",
       "      <td>Anguilla</td>\n",
       "      <td>1983</td>\n",
       "      <td>female</td>\n",
       "      <td>15-24 years</td>\n",
       "      <td>0.0</td>\n",
       "      <td>NaN</td>\n",
       "    </tr>\n",
       "    <tr>\n",
       "      <th>373</th>\n",
       "      <td>Anguilla</td>\n",
       "      <td>1983</td>\n",
       "      <td>female</td>\n",
       "      <td>25-34 years</td>\n",
       "      <td>0.0</td>\n",
       "      <td>NaN</td>\n",
       "    </tr>\n",
       "    <tr>\n",
       "      <th>374</th>\n",
       "      <td>Anguilla</td>\n",
       "      <td>1983</td>\n",
       "      <td>female</td>\n",
       "      <td>35-54 years</td>\n",
       "      <td>0.0</td>\n",
       "      <td>NaN</td>\n",
       "    </tr>\n",
       "    <tr>\n",
       "      <th>375</th>\n",
       "      <td>Anguilla</td>\n",
       "      <td>1983</td>\n",
       "      <td>female</td>\n",
       "      <td>5-14 years</td>\n",
       "      <td>0.0</td>\n",
       "      <td>NaN</td>\n",
       "    </tr>\n",
       "    <tr>\n",
       "      <th>376</th>\n",
       "      <td>Anguilla</td>\n",
       "      <td>1983</td>\n",
       "      <td>female</td>\n",
       "      <td>55-74 years</td>\n",
       "      <td>0.0</td>\n",
       "      <td>NaN</td>\n",
       "    </tr>\n",
       "  </tbody>\n",
       "</table>\n",
       "</div>"
      ],
      "text/plain": [
       "      country  year     sex          age  suicides_no  population\n",
       "372  Anguilla  1983  female  15-24 years          0.0         NaN\n",
       "373  Anguilla  1983  female  25-34 years          0.0         NaN\n",
       "374  Anguilla  1983  female  35-54 years          0.0         NaN\n",
       "375  Anguilla  1983  female   5-14 years          0.0         NaN\n",
       "376  Anguilla  1983  female  55-74 years          0.0         NaN"
      ]
     },
     "execution_count": 6,
     "metadata": {},
     "output_type": "execute_result"
    }
   ],
   "source": [
    "#print(sa[sa.isnull().any(axis=1)]['population'].head(20))\n",
    "pop0=sa[sa['population'].isnull()] \n",
    "#population_0=sa['population'].isnull\n",
    "pop0.head(5)\n",
    "# as rusult we see that population is missing when number of cases is 0"
   ]
  },
  {
   "cell_type": "code",
   "execution_count": 7,
   "metadata": {
    "collapsed": true
   },
   "outputs": [],
   "source": [
    "# select years of interest \n",
    "sa = sa[(sa['year'] > 1999) & (sa['year'] < 2016) ] "
   ]
  },
  {
   "cell_type": "code",
   "execution_count": 8,
   "metadata": {},
   "outputs": [
    {
     "data": {
      "text/plain": [
       "(21492, 6)"
      ]
     },
     "execution_count": 8,
     "metadata": {},
     "output_type": "execute_result"
    }
   ],
   "source": [
    "sa.shape"
   ]
  },
  {
   "cell_type": "code",
   "execution_count": 9,
   "metadata": {},
   "outputs": [
    {
     "data": {
      "text/plain": [
       "country           0\n",
       "year              0\n",
       "sex               0\n",
       "age               0\n",
       "suicides_no     408\n",
       "population     2856\n",
       "dtype: int64"
      ]
     },
     "execution_count": 9,
     "metadata": {},
     "output_type": "execute_result"
    }
   ],
   "source": [
    "# do we have any missing ? \n",
    "sa.isnull().sum()"
   ]
  },
  {
   "cell_type": "code",
   "execution_count": 14,
   "metadata": {
    "collapsed": true
   },
   "outputs": [],
   "source": [
    "# encode age and sex \n",
    "age_coder = {'5-14 years':0,\n",
    "            '15-24 years':1,\n",
    "            '25-34 years':2,\n",
    "            '35-54 years':3,\n",
    "            '55-74 years':4,\n",
    "            '75+ years':5}\n",
    "gender_coder = {'female':0,'male':1}\n"
   ]
  },
  {
   "cell_type": "code",
   "execution_count": 223,
   "metadata": {
    "collapsed": true
   },
   "outputs": [],
   "source": [
    "sa['age_encoder'] = sa['age'].map(age_coder)\n",
    "sa['sex_encoder'] = sa['sex'].map(gender_coder)"
   ]
  },
  {
   "cell_type": "code",
   "execution_count": 224,
   "metadata": {},
   "outputs": [
    {
     "data": {
      "text/html": [
       "<div>\n",
       "<style>\n",
       "    .dataframe thead tr:only-child th {\n",
       "        text-align: right;\n",
       "    }\n",
       "\n",
       "    .dataframe thead th {\n",
       "        text-align: left;\n",
       "    }\n",
       "\n",
       "    .dataframe tbody tr th {\n",
       "        vertical-align: top;\n",
       "    }\n",
       "</style>\n",
       "<table border=\"1\" class=\"dataframe\">\n",
       "  <thead>\n",
       "    <tr style=\"text-align: right;\">\n",
       "      <th></th>\n",
       "      <th>country</th>\n",
       "      <th>year</th>\n",
       "      <th>sex</th>\n",
       "      <th>age</th>\n",
       "      <th>suicides_no</th>\n",
       "      <th>population</th>\n",
       "      <th>age_encoder</th>\n",
       "      <th>sex_encoder</th>\n",
       "      <th>rate</th>\n",
       "    </tr>\n",
       "  </thead>\n",
       "  <tbody>\n",
       "    <tr>\n",
       "      <th>180</th>\n",
       "      <td>Albania</td>\n",
       "      <td>2000</td>\n",
       "      <td>female</td>\n",
       "      <td>15-24 years</td>\n",
       "      <td>6.0</td>\n",
       "      <td>263900.0</td>\n",
       "      <td>1</td>\n",
       "      <td>0</td>\n",
       "      <td>2.273588</td>\n",
       "    </tr>\n",
       "    <tr>\n",
       "      <th>181</th>\n",
       "      <td>Albania</td>\n",
       "      <td>2000</td>\n",
       "      <td>female</td>\n",
       "      <td>25-34 years</td>\n",
       "      <td>3.0</td>\n",
       "      <td>245800.0</td>\n",
       "      <td>2</td>\n",
       "      <td>0</td>\n",
       "      <td>1.220504</td>\n",
       "    </tr>\n",
       "    <tr>\n",
       "      <th>182</th>\n",
       "      <td>Albania</td>\n",
       "      <td>2000</td>\n",
       "      <td>female</td>\n",
       "      <td>35-54 years</td>\n",
       "      <td>5.0</td>\n",
       "      <td>332200.0</td>\n",
       "      <td>3</td>\n",
       "      <td>0</td>\n",
       "      <td>1.505117</td>\n",
       "    </tr>\n",
       "    <tr>\n",
       "      <th>183</th>\n",
       "      <td>Albania</td>\n",
       "      <td>2000</td>\n",
       "      <td>female</td>\n",
       "      <td>5-14 years</td>\n",
       "      <td>0.0</td>\n",
       "      <td>324700.0</td>\n",
       "      <td>0</td>\n",
       "      <td>0</td>\n",
       "      <td>0.000000</td>\n",
       "    </tr>\n",
       "    <tr>\n",
       "      <th>275</th>\n",
       "      <td>Albania</td>\n",
       "      <td>2007</td>\n",
       "      <td>male</td>\n",
       "      <td>75+ years</td>\n",
       "      <td>8.0</td>\n",
       "      <td>42366.0</td>\n",
       "      <td>5</td>\n",
       "      <td>1</td>\n",
       "      <td>18.883067</td>\n",
       "    </tr>\n",
       "    <tr>\n",
       "      <th>185</th>\n",
       "      <td>Albania</td>\n",
       "      <td>2000</td>\n",
       "      <td>female</td>\n",
       "      <td>75+ years</td>\n",
       "      <td>2.0</td>\n",
       "      <td>37800.0</td>\n",
       "      <td>5</td>\n",
       "      <td>0</td>\n",
       "      <td>5.291005</td>\n",
       "    </tr>\n",
       "    <tr>\n",
       "      <th>186</th>\n",
       "      <td>Albania</td>\n",
       "      <td>2000</td>\n",
       "      <td>male</td>\n",
       "      <td>15-24 years</td>\n",
       "      <td>5.0</td>\n",
       "      <td>240000.0</td>\n",
       "      <td>1</td>\n",
       "      <td>1</td>\n",
       "      <td>2.083333</td>\n",
       "    </tr>\n",
       "    <tr>\n",
       "      <th>187</th>\n",
       "      <td>Albania</td>\n",
       "      <td>2000</td>\n",
       "      <td>male</td>\n",
       "      <td>25-34 years</td>\n",
       "      <td>17.0</td>\n",
       "      <td>232000.0</td>\n",
       "      <td>2</td>\n",
       "      <td>1</td>\n",
       "      <td>7.327586</td>\n",
       "    </tr>\n",
       "    <tr>\n",
       "      <th>188</th>\n",
       "      <td>Albania</td>\n",
       "      <td>2000</td>\n",
       "      <td>male</td>\n",
       "      <td>35-54 years</td>\n",
       "      <td>4.0</td>\n",
       "      <td>374700.0</td>\n",
       "      <td>3</td>\n",
       "      <td>1</td>\n",
       "      <td>1.067521</td>\n",
       "    </tr>\n",
       "    <tr>\n",
       "      <th>189</th>\n",
       "      <td>Albania</td>\n",
       "      <td>2000</td>\n",
       "      <td>male</td>\n",
       "      <td>5-14 years</td>\n",
       "      <td>1.0</td>\n",
       "      <td>374900.0</td>\n",
       "      <td>0</td>\n",
       "      <td>1</td>\n",
       "      <td>0.266738</td>\n",
       "    </tr>\n",
       "  </tbody>\n",
       "</table>\n",
       "</div>"
      ],
      "text/plain": [
       "     country  year     sex          age  suicides_no  population  age_encoder  \\\n",
       "180  Albania  2000  female  15-24 years          6.0    263900.0            1   \n",
       "181  Albania  2000  female  25-34 years          3.0    245800.0            2   \n",
       "182  Albania  2000  female  35-54 years          5.0    332200.0            3   \n",
       "183  Albania  2000  female   5-14 years          0.0    324700.0            0   \n",
       "275  Albania  2007    male    75+ years          8.0     42366.0            5   \n",
       "185  Albania  2000  female    75+ years          2.0     37800.0            5   \n",
       "186  Albania  2000    male  15-24 years          5.0    240000.0            1   \n",
       "187  Albania  2000    male  25-34 years         17.0    232000.0            2   \n",
       "188  Albania  2000    male  35-54 years          4.0    374700.0            3   \n",
       "189  Albania  2000    male   5-14 years          1.0    374900.0            0   \n",
       "\n",
       "     sex_encoder       rate  \n",
       "180            0   2.273588  \n",
       "181            0   1.220504  \n",
       "182            0   1.505117  \n",
       "183            0   0.000000  \n",
       "275            1  18.883067  \n",
       "185            0   5.291005  \n",
       "186            1   2.083333  \n",
       "187            1   7.327586  \n",
       "188            1   1.067521  \n",
       "189            1   0.266738  "
      ]
     },
     "execution_count": 224,
     "metadata": {},
     "output_type": "execute_result"
    }
   ],
   "source": [
    "sa.head(10)"
   ]
  },
  {
   "cell_type": "code",
   "execution_count": 255,
   "metadata": {
    "scrolled": true
   },
   "outputs": [
    {
     "data": {
      "image/png": "[encoded data removed]",
      "text/plain": [
       "<matplotlib.figure.Figure at 0x1ed7cc82128>"
      ]
     },
     "metadata": {},
     "output_type": "display_data"
    },
    {
     "data": {
      "image/png": "[encoded data removed]",
      "text/plain": [
       "<matplotlib.figure.Figure at 0x1ed7c87ec88>"
      ]
     },
     "metadata": {},
     "output_type": "display_data"
    }
   ],
   "source": [
    "sa.hist(figsize = (15,15),bins=5 )\n",
    "plt.savefig('allvars.png')\n",
    "plt.show()"
   ]
  },
  {
   "cell_type": "code",
   "execution_count": 226,
   "metadata": {
    "collapsed": true
   },
   "outputs": [],
   "source": [
    "# Eliminate null\n",
    "df=sa.dropna()"
   ]
  },
  {
   "cell_type": "code",
   "execution_count": 227,
   "metadata": {},
   "outputs": [
    {
     "data": {
      "text/plain": [
       "(14975, 9)"
      ]
     },
     "execution_count": 227,
     "metadata": {},
     "output_type": "execute_result"
    }
   ],
   "source": [
    "#elminate 0 \n",
    "df=df[(df['suicides_no'] > 0) & (df['population'] > 0)]\n",
    "df.shape"
   ]
  },
  {
   "cell_type": "code",
   "execution_count": 228,
   "metadata": {
    "collapsed": true
   },
   "outputs": [],
   "source": [
    "#Calculate rate per 100,000\n",
    "rateFn = lambda row: 100000 * row['suicides_no'] / row['population']\n",
    "df['rate'] = df.apply(rateFn , axis=1)"
   ]
  },
  {
   "cell_type": "code",
   "execution_count": 229,
   "metadata": {
    "collapsed": true
   },
   "outputs": [],
   "source": [
    "ta=df.groupby('age_encoder')[['suicides_no']].sum()"
   ]
  },
  {
   "cell_type": "code",
   "execution_count": 230,
   "metadata": {},
   "outputs": [
    {
     "name": "stdout",
     "output_type": "stream",
     "text": [
      "Index(['5-14 years', '15-24 years', '25-34 years', '35-54 years',\n",
      "       '55-74 years', '75+ years'],\n",
      "      dtype='object', name='age_encoder')\n"
     ]
    }
   ],
   "source": [
    "#ta=groupby('age_encoder')[['suicides_no']].sum()\n",
    "en = {0:'5-14 years',\n",
    "      1:'15-24 years',\n",
    "      2:'25-34 years',\n",
    "      3:'35-54 years',\n",
    "      4:'55-74 years',\n",
    "      5:'75+ years'}\n",
    "print(ta.index.map(en.get))\n",
    "#ta.head(11)"
   ]
  },
  {
   "cell_type": "code",
   "execution_count": 253,
   "metadata": {},
   "outputs": [
    {
     "data": {
      "text/plain": [
       "<matplotlib.figure.Figure at 0x1ed7ce1c2e8>"
      ]
     },
     "metadata": {},
     "output_type": "display_data"
    },
    {
     "data": {
      "image/png": "[encoded data removed]",
      "text/plain": [
       "<matplotlib.figure.Figure at 0x1ed7c6b3828>"
      ]
     },
     "metadata": {},
     "output_type": "display_data"
    }
   ],
   "source": [
    "#Suicide based on age groups\n",
    "en = {0:'5-14 years',\n",
    "      1:'15-24 years',\n",
    "      2:'25-34 years',\n",
    "      3:'35-54 years',\n",
    "      4:'55-74 years',\n",
    "      5:'75+ years'}\n",
    "plt.figure(figsize=(12,9))\n",
    "\n",
    "ta.plot(ta.index.map(en.get), kind='bar', stacked=False, title='Case distribution by age group' )\n",
    "#plt.title(\"Total Suicide based in Age group\")\n",
    "#plt.xlabel(\"Age Group\")\n",
    "#plt.ylabel(\"Number of Suicide\")\n",
    "plt.savefig(\"case_dist.png\")\n",
    "plt.show()"
   ]
  },
  {
   "cell_type": "code",
   "execution_count": 232,
   "metadata": {},
   "outputs": [
    {
     "data": {
      "text/plain": [
       "(2629, 9)"
      ]
     },
     "execution_count": 232,
     "metadata": {},
     "output_type": "execute_result"
    }
   ],
   "source": [
    "# select our age group using age encoder \n",
    "# let's look at young  group N 1\n",
    "df=df[df['age_encoder']== 1] \n",
    "df.shape"
   ]
  },
  {
   "cell_type": "code",
   "execution_count": 234,
   "metadata": {},
   "outputs": [
    {
     "data": {
      "text/html": [
       "<div>\n",
       "<style>\n",
       "    .dataframe thead tr:only-child th {\n",
       "        text-align: right;\n",
       "    }\n",
       "\n",
       "    .dataframe thead th {\n",
       "        text-align: left;\n",
       "    }\n",
       "\n",
       "    .dataframe tbody tr th {\n",
       "        vertical-align: top;\n",
       "    }\n",
       "</style>\n",
       "<table border=\"1\" class=\"dataframe\">\n",
       "  <thead>\n",
       "    <tr style=\"text-align: right;\">\n",
       "      <th></th>\n",
       "      <th>country</th>\n",
       "      <th>year</th>\n",
       "      <th>sex</th>\n",
       "      <th>age</th>\n",
       "      <th>suicides_no</th>\n",
       "      <th>population</th>\n",
       "      <th>age_encoder</th>\n",
       "      <th>sex_encoder</th>\n",
       "      <th>rate</th>\n",
       "    </tr>\n",
       "  </thead>\n",
       "  <tbody>\n",
       "    <tr>\n",
       "      <th>180</th>\n",
       "      <td>Albania</td>\n",
       "      <td>2000</td>\n",
       "      <td>female</td>\n",
       "      <td>15-24 years</td>\n",
       "      <td>6.0</td>\n",
       "      <td>263900.0</td>\n",
       "      <td>1</td>\n",
       "      <td>0</td>\n",
       "      <td>2.273588</td>\n",
       "    </tr>\n",
       "    <tr>\n",
       "      <th>186</th>\n",
       "      <td>Albania</td>\n",
       "      <td>2000</td>\n",
       "      <td>male</td>\n",
       "      <td>15-24 years</td>\n",
       "      <td>5.0</td>\n",
       "      <td>240000.0</td>\n",
       "      <td>1</td>\n",
       "      <td>1</td>\n",
       "      <td>2.083333</td>\n",
       "    </tr>\n",
       "    <tr>\n",
       "      <th>192</th>\n",
       "      <td>Albania</td>\n",
       "      <td>2001</td>\n",
       "      <td>female</td>\n",
       "      <td>15-24 years</td>\n",
       "      <td>9.0</td>\n",
       "      <td>271359.0</td>\n",
       "      <td>1</td>\n",
       "      <td>0</td>\n",
       "      <td>3.316640</td>\n",
       "    </tr>\n",
       "    <tr>\n",
       "      <th>198</th>\n",
       "      <td>Albania</td>\n",
       "      <td>2001</td>\n",
       "      <td>male</td>\n",
       "      <td>15-24 years</td>\n",
       "      <td>10.0</td>\n",
       "      <td>256039.0</td>\n",
       "      <td>1</td>\n",
       "      <td>1</td>\n",
       "      <td>3.905655</td>\n",
       "    </tr>\n",
       "    <tr>\n",
       "      <th>216</th>\n",
       "      <td>Albania</td>\n",
       "      <td>2003</td>\n",
       "      <td>female</td>\n",
       "      <td>15-24 years</td>\n",
       "      <td>14.0</td>\n",
       "      <td>283709.0</td>\n",
       "      <td>1</td>\n",
       "      <td>0</td>\n",
       "      <td>4.934634</td>\n",
       "    </tr>\n",
       "  </tbody>\n",
       "</table>\n",
       "</div>"
      ],
      "text/plain": [
       "     country  year     sex          age  suicides_no  population  age_encoder  \\\n",
       "180  Albania  2000  female  15-24 years          6.0    263900.0            1   \n",
       "186  Albania  2000    male  15-24 years          5.0    240000.0            1   \n",
       "192  Albania  2001  female  15-24 years          9.0    271359.0            1   \n",
       "198  Albania  2001    male  15-24 years         10.0    256039.0            1   \n",
       "216  Albania  2003  female  15-24 years         14.0    283709.0            1   \n",
       "\n",
       "     sex_encoder      rate  \n",
       "180            0  2.273588  \n",
       "186            1  2.083333  \n",
       "192            0  3.316640  \n",
       "198            1  3.905655  \n",
       "216            0  4.934634  "
      ]
     },
     "execution_count": 234,
     "metadata": {},
     "output_type": "execute_result"
    }
   ],
   "source": [
    "df.head(5)"
   ]
  },
  {
   "cell_type": "code",
   "execution_count": 235,
   "metadata": {
    "collapsed": true
   },
   "outputs": [],
   "source": [
    "###round(2.23456,3) will give 2.235"
   ]
  },
  {
   "cell_type": "code",
   "execution_count": 236,
   "metadata": {
    "collapsed": true
   },
   "outputs": [],
   "source": [
    "#\n",
    "# sub with rapam df returning dict: country, year_min, rate_min, rate_max, rate_diff \n",
    "#steps: sort by country, for loop , calculate min, year, max year diff by country\n",
    "# as result have: min cases year, max cases , year, diff.\n",
    "# convert  dict to df\n",
    "# sort by diff\n",
    "#mamke separate ds for men \n",
    "#make DS for women\n",
    "#calculate mean median of rate for all countries for each year \n",
    "\n",
    "#apply for men\n",
    "# apply for women\n",
    "# print top 5 changes for men \n",
    "# print top 5 for women \n",
    "\n",
    "# calculate mean and median for all countries separate for men and woman \n",
    "#for top changed countries. print change line over years\n",
    "# men, women, \n",
    "#print type? \n",
    "# visual: \n",
    "# make one DS\n",
    "#"
   ]
  },
  {
   "cell_type": "code",
   "execution_count": 237,
   "metadata": {},
   "outputs": [
    {
     "data": {
      "text/plain": [
       "(1372, 9)"
      ]
     },
     "execution_count": 237,
     "metadata": {},
     "output_type": "execute_result"
    }
   ],
   "source": [
    "df_men=df[df['sex_encoder'] == 1]\n",
    "df_women=df[df['sex_encoder'] == 0]\n",
    "# apply f\n",
    "df_men.shape\n"
   ]
  },
  {
   "cell_type": "code",
   "execution_count": 238,
   "metadata": {
    "collapsed": true
   },
   "outputs": [],
   "source": [
    "def calc_min_max_diff(df):\n",
    "    ''' calculates min, max, diff between  for each country inn given ds\n",
    "        returns dict with result'''\n",
    "    res={}\n",
    "    i=0\n",
    "    # make sure that df is sort by country, we don't care about the year\n",
    "    df.sort_values('country', inplace=True)\n",
    "    for row_index, row in df.iterrows():\n",
    "        if i == 0:\n",
    "            cscnt=row['country']\n",
    "            csmin=row['rate']\n",
    "            csmax=row['rate']\n",
    "            csmin_year=row['year']\n",
    "            csmax_year=row['year']\n",
    "            i+=1\n",
    "        elif row['country'] == cscnt:\n",
    "            cs=row['rate']\n",
    "            if cs > csmax :\n",
    "                csmax=cs\n",
    "                csmax_year=row['year']\n",
    "            elif cs < csmin: \n",
    "                csmin=cs\n",
    "                csmin_year=row['year']\n",
    "            # if the same?     \n",
    "        else:  ## country changed let's save the result \n",
    "            res[cscnt]= {'min':csmin, 'min_year':csmin_year,'max':csmax,'max_year':csmax_year,'dif':csmax / csmin}\n",
    "            cscnt=row['country']\n",
    "            csmin=row['rate']\n",
    "            csmax=row['rate']\n",
    "            csmin_year=row['year']\n",
    "            csmax_year=row['year']      \n",
    "            i+=1\n",
    "    res[cscnt]= {'min':csmin, 'min_year':csmin_year,'max':csmax, 'max_year':csmax_year,'dif': csmax / csmin}\n",
    "    pesdf=pd.DataFrame(res).T.sort_values(['dif'], ascending=[False])\n",
    "    \n",
    "    return pesdf"
   ]
  },
  {
   "cell_type": "code",
   "execution_count": 239,
   "metadata": {},
   "outputs": [
    {
     "name": "stderr",
     "output_type": "stream",
     "text": [
      "C:\\Users\\Vadim\\Anaconda3\\lib\\site-packages\\ipykernel_launcher.py:7: SettingWithCopyWarning: \n",
      "A value is trying to be set on a copy of a slice from a DataFrame\n",
      "\n",
      "See the caveats in the documentation: http://pandas.pydata.org/pandas-docs/stable/indexing.html#indexing-view-versus-copy\n",
      "  import sys\n"
     ]
    }
   ],
   "source": [
    "# make a test ds with 3 coutries, men and women separate, \n",
    "#try function for them \n",
    "#difference for men \n",
    "men_res= calc_min_max_diff(df=df_men)\n",
    "#print(men_res)"
   ]
  },
  {
   "cell_type": "code",
   "execution_count": 240,
   "metadata": {},
   "outputs": [
    {
     "name": "stderr",
     "output_type": "stream",
     "text": [
      "C:\\Users\\Vadim\\Anaconda3\\lib\\site-packages\\ipykernel_launcher.py:7: SettingWithCopyWarning: \n",
      "A value is trying to be set on a copy of a slice from a DataFrame\n",
      "\n",
      "See the caveats in the documentation: http://pandas.pydata.org/pandas-docs/stable/indexing.html#indexing-view-versus-copy\n",
      "  import sys\n"
     ]
    }
   ],
   "source": [
    "women_res= calc_min_max_diff(df=df_women)"
   ]
  },
  {
   "cell_type": "code",
   "execution_count": null,
   "metadata": {
    "collapsed": true
   },
   "outputs": [],
   "source": [
    "\n"
   ]
  },
  {
   "cell_type": "code",
   "execution_count": 241,
   "metadata": {},
   "outputs": [
    {
     "data": {
      "text/html": [
       "<div>\n",
       "<style>\n",
       "    .dataframe thead tr:only-child th {\n",
       "        text-align: right;\n",
       "    }\n",
       "\n",
       "    .dataframe thead th {\n",
       "        text-align: left;\n",
       "    }\n",
       "\n",
       "    .dataframe tbody tr th {\n",
       "        vertical-align: top;\n",
       "    }\n",
       "</style>\n",
       "<table border=\"1\" class=\"dataframe\">\n",
       "  <thead>\n",
       "    <tr style=\"text-align: right;\">\n",
       "      <th></th>\n",
       "      <th>dif</th>\n",
       "      <th>max</th>\n",
       "      <th>max_year</th>\n",
       "      <th>min</th>\n",
       "      <th>min_year</th>\n",
       "    </tr>\n",
       "  </thead>\n",
       "  <tbody>\n",
       "    <tr>\n",
       "      <th>Azerbaijan</th>\n",
       "      <td>22.240953</td>\n",
       "      <td>7.306889</td>\n",
       "      <td>2001.0</td>\n",
       "      <td>0.328533</td>\n",
       "      <td>2007.0</td>\n",
       "    </tr>\n",
       "    <tr>\n",
       "      <th>Qatar</th>\n",
       "      <td>17.634301</td>\n",
       "      <td>9.562188</td>\n",
       "      <td>2005.0</td>\n",
       "      <td>0.542249</td>\n",
       "      <td>2008.0</td>\n",
       "    </tr>\n",
       "    <tr>\n",
       "      <th>Belize</th>\n",
       "      <td>9.269079</td>\n",
       "      <td>26.934818</td>\n",
       "      <td>2011.0</td>\n",
       "      <td>2.905879</td>\n",
       "      <td>2012.0</td>\n",
       "    </tr>\n",
       "    <tr>\n",
       "      <th>Iceland</th>\n",
       "      <td>7.203843</td>\n",
       "      <td>59.825127</td>\n",
       "      <td>2000.0</td>\n",
       "      <td>8.304613</td>\n",
       "      <td>2011.0</td>\n",
       "    </tr>\n",
       "    <tr>\n",
       "      <th>Luxembourg</th>\n",
       "      <td>6.984902</td>\n",
       "      <td>23.168707</td>\n",
       "      <td>2002.0</td>\n",
       "      <td>3.316970</td>\n",
       "      <td>2009.0</td>\n",
       "    </tr>\n",
       "  </tbody>\n",
       "</table>\n",
       "</div>"
      ],
      "text/plain": [
       "                  dif        max  max_year       min  min_year\n",
       "Azerbaijan  22.240953   7.306889    2001.0  0.328533    2007.0\n",
       "Qatar       17.634301   9.562188    2005.0  0.542249    2008.0\n",
       "Belize       9.269079  26.934818    2011.0  2.905879    2012.0\n",
       "Iceland      7.203843  59.825127    2000.0  8.304613    2011.0\n",
       "Luxembourg   6.984902  23.168707    2002.0  3.316970    2009.0"
      ]
     },
     "execution_count": 241,
     "metadata": {},
     "output_type": "execute_result"
    }
   ],
   "source": [
    "# choose one that shows changes for the best\n",
    "#men changed for good  year\n",
    "mcfg=men_res[men_res['max_year'] < men_res['min_year'] ]\n",
    "wmcfg=women_res[women_res['max_year'] < women_res['min_year'] ]\n",
    "mcfg.head(5)"
   ]
  },
  {
   "cell_type": "code",
   "execution_count": 256,
   "metadata": {},
   "outputs": [
    {
     "data": {
      "image/png": "[encoded data removed]",
      "text/plain": [
       "<matplotlib.figure.Figure at 0x1ed7cf06320>"
      ]
     },
     "metadata": {},
     "output_type": "display_data"
    }
   ],
   "source": [
    "# plot top n countries \n",
    "fig, (ax1, ax2) = plt.subplots(ncols=2)\n",
    "# man\n",
    "mr= mcfg.iloc[0:14,0]\n",
    "mr.plot(x='dif',y=sh.index, kind='barh',figsize = (15,10), title='Man', ax=ax1)\n",
    "#woman\n",
    "wr=wmcfg.iloc[0:14,0]\n",
    "wr.plot(x='dif',y=sh.index, kind='barh',figsize = (15,10), title='Woman', ax=ax2)\n",
    "plt.subplots_adjust( wspace=0.4)\n",
    "plt.suptitle('Biggest improvements in suisides rates for young man and woman in 2000 - 2015', fontsize=15)\n",
    "fig.savefig(\"young_improv_big.png\")\n",
    "plt.show()"
   ]
  },
  {
   "cell_type": "code",
   "execution_count": 243,
   "metadata": {},
   "outputs": [
    {
     "data": {
      "image/png": "[encoded data removed]",
      "text/plain": [
       "<matplotlib.figure.Figure at 0x1ed7abbabe0>"
      ]
     },
     "metadata": {},
     "output_type": "display_data"
    }
   ],
   "source": [
    "# didn't change much \n",
    "fig, (ax1, ax2) = plt.subplots(ncols=2)\n",
    "# man\n",
    "mr= mcfg.iloc[-14:-1,0]\n",
    "mr.plot(x='dif',y=sh.index, kind='barh',figsize = (15,10), title='Man', ax=ax1)\n",
    "#woman\n",
    "wr=wmcfg.iloc[-14:-1,0]\n",
    "wr.plot(x='dif',y=sh.index, kind='barh',figsize = (15,10), title='Woman', ax=ax2)\n",
    "plt.subplots_adjust( wspace=0.4)\n",
    "plt.suptitle('Smallest changes in suisides rates for young man and woman in 2000 - 2015', fontsize=15)\n",
    "fig.savefig(\"young_improv_small.png\")\n",
    "plt.show()"
   ]
  },
  {
   "cell_type": "code",
   "execution_count": 248,
   "metadata": {},
   "outputs": [
    {
     "data": {
      "text/html": [
       "<div>\n",
       "<style>\n",
       "    .dataframe thead tr:only-child th {\n",
       "        text-align: right;\n",
       "    }\n",
       "\n",
       "    .dataframe thead th {\n",
       "        text-align: left;\n",
       "    }\n",
       "\n",
       "    .dataframe tbody tr th {\n",
       "        vertical-align: top;\n",
       "    }\n",
       "</style>\n",
       "<table border=\"1\" class=\"dataframe\">\n",
       "  <thead>\n",
       "    <tr style=\"text-align: right;\">\n",
       "      <th></th>\n",
       "      <th>dif</th>\n",
       "      <th>max</th>\n",
       "      <th>max_year</th>\n",
       "      <th>min</th>\n",
       "      <th>min_year</th>\n",
       "    </tr>\n",
       "  </thead>\n",
       "  <tbody>\n",
       "    <tr>\n",
       "      <th>Egypt</th>\n",
       "      <td>12.868095</td>\n",
       "      <td>0.665724</td>\n",
       "      <td>2012.0</td>\n",
       "      <td>0.051734</td>\n",
       "      <td>2007.0</td>\n",
       "    </tr>\n",
       "    <tr>\n",
       "      <th>Armenia</th>\n",
       "      <td>10.897232</td>\n",
       "      <td>3.621522</td>\n",
       "      <td>2006.0</td>\n",
       "      <td>0.332334</td>\n",
       "      <td>2003.0</td>\n",
       "    </tr>\n",
       "    <tr>\n",
       "      <th>Kuwait</th>\n",
       "      <td>9.533862</td>\n",
       "      <td>3.739576</td>\n",
       "      <td>2012.0</td>\n",
       "      <td>0.392241</td>\n",
       "      <td>2010.0</td>\n",
       "    </tr>\n",
       "    <tr>\n",
       "      <th>Cyprus</th>\n",
       "      <td>7.804112</td>\n",
       "      <td>12.720017</td>\n",
       "      <td>2013.0</td>\n",
       "      <td>1.629912</td>\n",
       "      <td>2006.0</td>\n",
       "    </tr>\n",
       "    <tr>\n",
       "      <th>Martinique</th>\n",
       "      <td>7.182759</td>\n",
       "      <td>26.641294</td>\n",
       "      <td>2008.0</td>\n",
       "      <td>3.709061</td>\n",
       "      <td>2005.0</td>\n",
       "    </tr>\n",
       "    <tr>\n",
       "      <th>Jamaica</th>\n",
       "      <td>5.651003</td>\n",
       "      <td>2.382068</td>\n",
       "      <td>2005.0</td>\n",
       "      <td>0.421530</td>\n",
       "      <td>2000.0</td>\n",
       "    </tr>\n",
       "    <tr>\n",
       "      <th>French Guiana</th>\n",
       "      <td>5.570501</td>\n",
       "      <td>38.177653</td>\n",
       "      <td>2004.0</td>\n",
       "      <td>6.853540</td>\n",
       "      <td>2002.0</td>\n",
       "    </tr>\n",
       "    <tr>\n",
       "      <th>Guadeloupe</th>\n",
       "      <td>5.272760</td>\n",
       "      <td>16.362327</td>\n",
       "      <td>2012.0</td>\n",
       "      <td>3.103181</td>\n",
       "      <td>2000.0</td>\n",
       "    </tr>\n",
       "    <tr>\n",
       "      <th>Georgia</th>\n",
       "      <td>4.914770</td>\n",
       "      <td>6.860371</td>\n",
       "      <td>2015.0</td>\n",
       "      <td>1.395868</td>\n",
       "      <td>2005.0</td>\n",
       "    </tr>\n",
       "    <tr>\n",
       "      <th>Singapore</th>\n",
       "      <td>4.186324</td>\n",
       "      <td>11.362646</td>\n",
       "      <td>2013.0</td>\n",
       "      <td>2.714230</td>\n",
       "      <td>2010.0</td>\n",
       "    </tr>\n",
       "    <tr>\n",
       "      <th>Mauritius</th>\n",
       "      <td>4.117078</td>\n",
       "      <td>24.910219</td>\n",
       "      <td>2014.0</td>\n",
       "      <td>6.050461</td>\n",
       "      <td>2003.0</td>\n",
       "    </tr>\n",
       "  </tbody>\n",
       "</table>\n",
       "</div>"
      ],
      "text/plain": [
       "                     dif        max  max_year       min  min_year\n",
       "Egypt          12.868095   0.665724    2012.0  0.051734    2007.0\n",
       "Armenia        10.897232   3.621522    2006.0  0.332334    2003.0\n",
       "Kuwait          9.533862   3.739576    2012.0  0.392241    2010.0\n",
       "Cyprus          7.804112  12.720017    2013.0  1.629912    2006.0\n",
       "Martinique      7.182759  26.641294    2008.0  3.709061    2005.0\n",
       "Jamaica         5.651003   2.382068    2005.0  0.421530    2000.0\n",
       "French Guiana   5.570501  38.177653    2004.0  6.853540    2002.0\n",
       "Guadeloupe      5.272760  16.362327    2012.0  3.103181    2000.0\n",
       "Georgia         4.914770   6.860371    2015.0  1.395868    2005.0\n",
       "Singapore       4.186324  11.362646    2013.0  2.714230    2010.0\n",
       "Mauritius       4.117078  24.910219    2014.0  6.050461    2003.0"
      ]
     },
     "execution_count": 248,
     "metadata": {},
     "output_type": "execute_result"
    }
   ],
   "source": [
    "#\n",
    "mcfw=men_res[men_res['max_year'] > men_res['min_year'] ]\n",
    "wmcfw=women_res[women_res['max_year'] > women_res['min_year'] ]\n",
    "mcfw.head(11)\n"
   ]
  },
  {
   "cell_type": "code",
   "execution_count": 257,
   "metadata": {},
   "outputs": [
    {
     "data": {
      "image/png": "[encoded data removed]",
      "text/plain": [
       "<matplotlib.figure.Figure at 0x1ed7b0bb160>"
      ]
     },
     "metadata": {},
     "output_type": "display_data"
    }
   ],
   "source": [
    "# plot top n countries \n",
    "fig, (ax1, ax2) = plt.subplots(ncols=2)\n",
    "# man\n",
    "mr= mcfw.iloc[0:14,0]\n",
    "mr.plot(x='dif',y=sh.index, kind='barh',figsize = (15,10), title='Man', ax=ax1)\n",
    "#woman\n",
    "wr=wmcfw.iloc[0:14,0]\n",
    "wr.plot(x='dif',y=sh.index, kind='barh',figsize = (15,10), title='Woman', ax=ax2)\n",
    "plt.subplots_adjust( wspace=0.4)\n",
    "plt.suptitle('Biggest setback in suisides rates for young man and woman in 2000 - 2015', fontsize=15)\n",
    "fig.savefig(\"young_setback_big.png\")\n",
    "plt.show()"
   ]
  },
  {
   "cell_type": "code",
   "execution_count": 246,
   "metadata": {},
   "outputs": [
    {
     "data": {
      "image/png": "[encoded data removed]",
      "text/plain": [
       "<matplotlib.figure.Figure at 0x1ed7a2d29e8>"
      ]
     },
     "metadata": {},
     "output_type": "display_data"
    }
   ],
   "source": [
    "# show countries that have min rate diff\n",
    "# plot top n countries \n",
    "fig, (ax1, ax2) = plt.subplots(ncols=2)\n",
    "mr= men_res.iloc[-14:-1,0]\n",
    "mr.plot(x='dif',y=sh.index, kind='barh',figsize = (15,10), title='Man', ax=ax1)\n",
    "wr=women_res.iloc[-14:-1,0]\n",
    "wr.plot(x='dif',y=sh.index, kind='barh',figsize = (15,10), title='Woman', ax=ax2)\n",
    "plt.subplots_adjust( wspace=0.4)\n",
    "plt.suptitle('Smallest changes in suisides rates for young man and woman in 2000 - 2015', fontsize=15)\n",
    "fig.savefig(\"young_improv_smaill.png\")\n",
    "plt.show()"
   ]
  },
  {
   "cell_type": "code",
   "execution_count": null,
   "metadata": {
    "collapsed": true
   },
   "outputs": [],
   "source": [
    "# for top country (max) do we have all ages ?"
   ]
  },
  {
   "cell_type": "code",
   "execution_count": null,
   "metadata": {
    "collapsed": true
   },
   "outputs": [],
   "source": [
    "#What is the difference between years for all ages for this county ?"
   ]
  },
  {
   "cell_type": "code",
   "execution_count": null,
   "metadata": {
    "collapsed": true
   },
   "outputs": [],
   "source": [
    "combine all ages per country"
   ]
  },
  {
   "cell_type": "code",
   "execution_count": 12,
   "metadata": {},
   "outputs": [
    {
     "name": "stdout",
     "output_type": "stream",
     "text": [
      "['country', 'year', 'sex', 'age', 'suicides_no', 'population']\n",
      "['Country', 'Year', 'Status', 'Life expectancy ', 'Adult Mortality', 'infant deaths', 'Alcohol', 'percentage expenditure', 'Hepatitis B', 'Measles ', ' BMI ', 'under-five deaths ', 'Polio', 'Total expenditure', 'Diphtheria ', ' HIV/AIDS', 'GDP', 'Population', ' thinness  1-19 years', ' thinness 5-9 years', 'Income composition of resources', 'Schooling']\n"
     ]
    },
    {
     "data": {
      "text/plain": [
       "\"\\n#suis.describe()\\nselectedCoutries=['Canada','United States of America','Japan','Mexico']\\ndf= df[df['country'].isin(selectedCoutries)] \\ndf = df[(df['year'] > 2000) & (df['year'] < 2017) ]\\nages=df.groupby('age').sum()\\n#ages.head(11)\\n\""
      ]
     },
     "execution_count": 12,
     "metadata": {},
     "output_type": "execute_result"
    }
   ],
   "source": [
    "# Choose countries\n",
    "#describe the data \n",
    "print(list(suis))\n",
    "print(list(lfexp))\n",
    "'''\n",
    "#suis.describe()\n",
    "selectedCoutries=['Canada','United States of America','Japan','Mexico']\n",
    "df= df[df['country'].isin(selectedCoutries)] \n",
    "df = df[(df['year'] > 2000) & (df['year'] < 2017) ]\n",
    "ages=df.groupby(['age').sum()\n",
    "#ages.head(11)\n",
    "'''"
   ]
  },
  {
   "cell_type": "code",
   "execution_count": 62,
   "metadata": {
    "collapsed": true
   },
   "outputs": [],
   "source": [
    "#\n",
    "selectedCoutries=['Canada','Mexico','Guatemala','United States of America']\n",
    "df= suis[suis['country'].isin(selectedCoutries)] \n",
    "df1 = df[(df['year'] > 2000) & (df['year'] < 2017) ]\n",
    "\n",
    "sel=df1.groupby(['country','year']).sum()\n",
    "\n",
    "\n",
    "# how to select one country or year after the groupby\n",
    "def save_vals(cscnt,cmin,cmax):\n",
    "    return res\n"
   ]
  },
  {
   "cell_type": "code",
   "execution_count": 64,
   "metadata": {},
   "outputs": [
    {
     "name": "stdout",
     "output_type": "stream",
     "text": [
      "{'Canada': (3512.0, 4054.0), 'Guatemala': (202.0, 512.0), 'Mexico': (3760.0, 6234.0), 'United States of America': (30607.0, 44189.0)}\n"
     ]
    }
   ],
   "source": [
    "# min / max\n",
    "# in iteration\n",
    "def difCalc(df)\n",
    "    res={}\n",
    "    for row_index, row in sel.iterrows():\n",
    "        if i == 0:\n",
    "            cscnt=row_index[0]\n",
    "            csmin=row['rate']\n",
    "            csmax=row['rate']\n",
    "            i+=1\n",
    "        elif row_index[0] == cscnt:\n",
    "            cs=row['rate']\n",
    "            if cs > csmax :\n",
    "                csmax=cs\n",
    "            elif cs < csmin: \n",
    "                csmin=cs\n",
    "        else:  ## country changed let's save the result \n",
    "            res[cscnt]= csmin, csmax, csmax - csmin\n",
    "            cscnt=row_index[0]\n",
    "            csmin=row['rate']\n",
    "            csmax=row['rate']\n",
    "            i+=1\n",
    "    res[ccnt]= csmin, csmax, csmax - csmin\n",
    "    return res\n"
   ]
  },
  {
   "cell_type": "code",
   "execution_count": 68,
   "metadata": {},
   "outputs": [
    {
     "name": "stdout",
     "output_type": "stream",
     "text": [
      "['Country', 'Year', 'Status', 'Life expectancy ', 'Adult Mortality', 'infant deaths', 'Alcohol', 'percentage expenditure', 'Hepatitis B', 'Measles ', ' BMI ', 'under-five deaths ', 'Polio', 'Total expenditure', 'Diphtheria ', ' HIV/AIDS', 'GDP', 'Population', ' thinness  1-19 years', ' thinness 5-9 years', 'Income composition of resources', 'Schooling']\n"
     ]
    }
   ],
   "source": [
    "print(list(lfexp))"
   ]
  }
 ],
 "metadata": {
  "kernelspec": {
   "display_name": "Python 3",
   "language": "python",
   "name": "python3"
  },
  "language_info": {
   "codemirror_mode": {
    "name": "ipython",
    "version": 3
   },
   "file_extension": ".py",
   "mimetype": "text/x-python",
   "name": "python",
   "nbconvert_exporter": "python",
   "pygments_lexer": "ipython3",
   "version": "3.6.7"
  },
  "latex_envs": {
   "LaTeX_envs_menu_present": true,
   "autoclose": false,
   "autocomplete": true,
   "bibliofile": "biblio.bib",
   "cite_by": "apalike",
   "current_citInitial": 1,
   "eqLabelWithNumbers": true,
   "eqNumInitial": 1,
   "hotkeys": {
    "equation": "Ctrl-E",
    "itemize": "Ctrl-I"
   },
   "labels_anchors": false,
   "latex_user_defs": false,
   "report_style_numbering": false,
   "user_envs_cfg": false
  },
  "toc": {
   "base_numbering": 1,
   "nav_menu": {},
   "number_sections": true,
   "sideBar": true,
   "skip_h1_title": false,
   "title_cell": "Table of Contents",
   "title_sidebar": "Contents",
   "toc_cell": false,
   "toc_position": {
    "height": "calc(100% - 180px)",
    "left": "10px",
    "top": "150px",
    "width": "165px"
   },
   "toc_section_display": true,
   "toc_window_display": false
  }
 },
 "nbformat": 4,
 "nbformat_minor": 2
}
