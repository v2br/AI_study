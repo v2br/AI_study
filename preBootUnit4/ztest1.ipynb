{
 "cells": [
  {
   "cell_type": "code",
   "execution_count": 2,
   "metadata": {},
   "outputs": [],
   "source": [
    "import numpy as np\n",
    "import pandas as pd\n",
    "import matplotlib.pyplot as plt\n",
    "%matplotlib inline"
   ]
  },
  {
   "cell_type": "code",
   "execution_count": 5,
   "metadata": {},
   "outputs": [],
   "source": [
    "# Making two variables.\n",
    "rand1 = np.random.normal(50, 300, 1000)\n",
    "rand2 = np.random.poisson(1, 1000)\n",
    "\n",
    "# Sorting the values in ascending order.\n",
    "rand1.sort()\n",
    "rand2.sort()\n",
    "\n",
    "# Making a standard normally distributed variable with 1000 observations,\n",
    "# a mean of 0, and standard deviation of 1 that we will use as our “comparison.”\n",
    "norm = np.random.normal(0, 1, 1000)\n",
    "\n",
    "# Sorting the values in ascending order.\n",
    "norm.sort()\n",
    "# Plotting the variable rand1 against norm in qqplots.\n",
    "plt.plot(norm, rand1, \"o\") \n",
    "plt.show() \n",
    "# Plotting the variable rand2 against norm in qqplots.\n",
    "plt.plot(norm, rand2, \"o\") \n",
    "plt.show()"
   ]
  },
  {
   "cell_type": "code",
   "execution_count": 8,
   "metadata": {},
   "outputs": [
    {
     "data": {
      "image/png": "[encoded data removed]",
      "text/plain": [
       "<matplotlib.figure.Figure at 0x270996be470>"
      ]
     },
     "metadata": {},
     "output_type": "display_data"
    }
   ],
   "source": [
    "#Plot a histogram for rand1.\n",
    "plt.hist(rand1, bins=20, color='c')\n",
    "\n",
    "# Add a vertical line at the mean.\n",
    "plt.axvline(rand1.mean(), color='b', linestyle='solid', linewidth=2)\n",
    "\n",
    "# Add a vertical line at one standard deviation above the mean.\n",
    "plt.axvline(rand1.mean() + rand1.std(), color='b', linestyle='dashed', linewidth=2)\n",
    "\n",
    "# Add a vertical line at one standard deviation below the mean.\n",
    "plt.axvline(rand1.mean()-rand1.std(), color='b', linestyle='dashed', linewidth=2) \n",
    "\n",
    "# Print the histogram.\n",
    "plt.show()"
   ]
  },
  {
   "cell_type": "code",
   "execution_count": 3,
   "metadata": {},
   "outputs": [],
   "source": [
    "df=pd.read_csv('projects\\\\Thinkful\\\\preBootUnit4\\\\plane_crashes_data.csv')"
   ]
  },
  {
   "cell_type": "code",
   "execution_count": 4,
   "metadata": {},
   "outputs": [
    {
     "data": {
      "text/html": [
       "<div>\n",
       "<style>\n",
       "    .dataframe thead tr:only-child th {\n",
       "        text-align: right;\n",
       "    }\n",
       "\n",
       "    .dataframe thead th {\n",
       "        text-align: left;\n",
       "    }\n",
       "\n",
       "    .dataframe tbody tr th {\n",
       "        vertical-align: top;\n",
       "    }\n",
       "</style>\n",
       "<table border=\"1\" class=\"dataframe\">\n",
       "  <thead>\n",
       "    <tr style=\"text-align: right;\">\n",
       "      <th></th>\n",
       "      <th>month</th>\n",
       "      <th>year</th>\n",
       "      <th>aboard</th>\n",
       "      <th>fatalities</th>\n",
       "    </tr>\n",
       "  </thead>\n",
       "  <tbody>\n",
       "    <tr>\n",
       "      <th>count</th>\n",
       "      <td>2709.000000</td>\n",
       "      <td>2709.000000</td>\n",
       "      <td>2709.000000</td>\n",
       "      <td>2709.000000</td>\n",
       "    </tr>\n",
       "    <tr>\n",
       "      <th>mean</th>\n",
       "      <td>6.554079</td>\n",
       "      <td>1981.927279</td>\n",
       "      <td>35.817276</td>\n",
       "      <td>25.816537</td>\n",
       "    </tr>\n",
       "    <tr>\n",
       "      <th>std</th>\n",
       "      <td>3.532468</td>\n",
       "      <td>16.709136</td>\n",
       "      <td>54.306779</td>\n",
       "      <td>42.599461</td>\n",
       "    </tr>\n",
       "    <tr>\n",
       "      <th>min</th>\n",
       "      <td>1.000000</td>\n",
       "      <td>1950.000000</td>\n",
       "      <td>0.000000</td>\n",
       "      <td>0.000000</td>\n",
       "    </tr>\n",
       "    <tr>\n",
       "      <th>25%</th>\n",
       "      <td>3.000000</td>\n",
       "      <td>1968.000000</td>\n",
       "      <td>5.000000</td>\n",
       "      <td>3.000000</td>\n",
       "    </tr>\n",
       "    <tr>\n",
       "      <th>50%</th>\n",
       "      <td>7.000000</td>\n",
       "      <td>1983.000000</td>\n",
       "      <td>15.000000</td>\n",
       "      <td>9.000000</td>\n",
       "    </tr>\n",
       "    <tr>\n",
       "      <th>75%</th>\n",
       "      <td>10.000000</td>\n",
       "      <td>1997.000000</td>\n",
       "      <td>44.000000</td>\n",
       "      <td>29.000000</td>\n",
       "    </tr>\n",
       "    <tr>\n",
       "      <th>max</th>\n",
       "      <td>12.000000</td>\n",
       "      <td>2009.000000</td>\n",
       "      <td>644.000000</td>\n",
       "      <td>583.000000</td>\n",
       "    </tr>\n",
       "  </tbody>\n",
       "</table>\n",
       "</div>"
      ],
      "text/plain": [
       "             month         year       aboard   fatalities\n",
       "count  2709.000000  2709.000000  2709.000000  2709.000000\n",
       "mean      6.554079  1981.927279    35.817276    25.816537\n",
       "std       3.532468    16.709136    54.306779    42.599461\n",
       "min       1.000000  1950.000000     0.000000     0.000000\n",
       "25%       3.000000  1968.000000     5.000000     3.000000\n",
       "50%       7.000000  1983.000000    15.000000     9.000000\n",
       "75%      10.000000  1997.000000    44.000000    29.000000\n",
       "max      12.000000  2009.000000   644.000000   583.000000"
      ]
     },
     "execution_count": 4,
     "metadata": {},
     "output_type": "execute_result"
    }
   ],
   "source": [
    "df.describe()"
   ]
  },
  {
   "cell_type": "code",
   "execution_count": 5,
   "metadata": {},
   "outputs": [],
   "source": [
    "#check missing\n",
    "#calculate variance\n",
    "# show histogram for each column \n",
    "# what distribution do I have \n",
    "#\n",
    "# discepances in anomalies\n"
   ]
  },
  {
   "cell_type": "code",
   "execution_count": 15,
   "metadata": {},
   "outputs": [
    {
     "data": {
      "image/png": "[encoded data removed]",
      "text/plain": [
       "<matplotlib.figure.Figure at 0x1fdeed26198>"
      ]
     },
     "metadata": {},
     "output_type": "display_data"
    }
   ],
   "source": [
    "\n",
    "plt.hist(df.fatalities, bins=20, color='c')\n",
    "plt.show()"
   ]
  },
  {
   "cell_type": "code",
   "execution_count": 22,
   "metadata": {},
   "outputs": [
    {
     "name": "stdout",
     "output_type": "stream",
     "text": [
      "month           0\n",
      "hour            0\n",
      "year            0\n",
      "location        3\n",
      "operator        2\n",
      "route         391\n",
      "type            1\n",
      "aboard          0\n",
      "fatalities      0\n",
      "summary        13\n",
      "dtype: int64\n"
     ]
    }
   ],
   "source": [
    "##Get number of missing values in all columns\n",
    "print(df.isnull().sum(axis=0))\n"
   ]
  },
  {
   "cell_type": "code",
   "execution_count": 28,
   "metadata": {},
   "outputs": [],
   "source": [
    "#What is the mean for number of people killed in plane \n",
    "#crashes for the years 1980 to 2009 (inclusive of both years, rounded to the nearest 100th decimal place)\n",
    "myYears=df[(df['year'] > 1979) & (df['year'] < 2010) ]\n"
   ]
  },
  {
   "cell_type": "code",
   "execution_count": 29,
   "metadata": {},
   "outputs": [
    {
     "name": "stdout",
     "output_type": "stream",
     "text": [
      "24.932607215793055\n"
     ]
    }
   ],
   "source": [
    "print(myYears['fatalities'].mean())"
   ]
  },
  {
   "cell_type": "code",
   "execution_count": 31,
   "metadata": {},
   "outputs": [
    {
     "name": "stdout",
     "output_type": "stream",
     "text": [
      "       hour  year  location  operator  route  type  aboard  fatalities  \\\n",
      "month                                                                    \n",
      "1       255   255       255       255    220   255     255         255   \n",
      "2       209   209       208       209    180   209     209         209   \n",
      "3       251   251       250       250    208   251     251         251   \n",
      "4       204   204       204       204    163   203     204         204   \n",
      "5       181   181       180       181    158   181     181         181   \n",
      "6       202   202       202       202    174   202     202         202   \n",
      "7       234   234       234       234    202   234     234         234   \n",
      "8       239   239       239       239    211   239     239         239   \n",
      "9       228   228       228       228    200   228     228         228   \n",
      "10      224   224       224       223    186   224     224         224   \n",
      "11      230   230       230       230    196   230     230         230   \n",
      "12      252   252       252       252    220   252     252         252   \n",
      "\n",
      "       summary  \n",
      "month           \n",
      "1          252  \n",
      "2          209  \n",
      "3          250  \n",
      "4          204  \n",
      "5          179  \n",
      "6          200  \n",
      "7          234  \n",
      "8          238  \n",
      "9          228  \n",
      "10         224  \n",
      "11         229  \n",
      "12         249  \n"
     ]
    }
   ],
   "source": [
    "#For the entire time period (1950 to 2009), which month has seen the most plane crashes? *\n",
    "print(df.groupby('month').count())"
   ]
  },
  {
   "cell_type": "code",
   "execution_count": 33,
   "metadata": {},
   "outputs": [
    {
     "name": "stdout",
     "output_type": "stream",
     "text": [
      "583\n"
     ]
    }
   ],
   "source": [
    "print(df['fatalities'].max())"
   ]
  },
  {
   "cell_type": "code",
   "execution_count": 42,
   "metadata": {},
   "outputs": [
    {
     "name": "stdout",
     "output_type": "stream",
     "text": [
      "month         2660\n",
      "hour          2660\n",
      "year          2660\n",
      "location      2657\n",
      "operator      2658\n",
      "route         2279\n",
      "type          2659\n",
      "aboard        2660\n",
      "fatalities    2660\n",
      "summary       2647\n",
      "dtype: int64\n"
     ]
    }
   ],
   "source": [
    "# What percentage of crashed flights have had 1 or more fatalities?\n",
    "print(df[df['fatalities'] > 0].count())"
   ]
  },
  {
   "cell_type": "code",
   "execution_count": 55,
   "metadata": {},
   "outputs": [
    {
     "name": "stdout",
     "output_type": "stream",
     "text": [
      "98.19121447028424\n"
     ]
    }
   ],
   "source": [
    "print(100*2660/2709)"
   ]
  },
  {
   "cell_type": "code",
   "execution_count": 54,
   "metadata": {},
   "outputs": [
    {
     "name": "stdout",
     "output_type": "stream",
     "text": [
      "82.31319223510573\n"
     ]
    },
    {
     "name": "stderr",
     "output_type": "stream",
     "text": [
      "C:\\Users\\Vadim\\Anaconda3\\lib\\site-packages\\ipykernel_launcher.py:7: SettingWithCopyWarning: \n",
      "A value is trying to be set on a copy of a slice from a DataFrame.\n",
      "Try using .loc[row_indexer,col_indexer] = value instead\n",
      "\n",
      "See the caveats in the documentation: http://pandas.pydata.org/pandas-docs/stable/indexing.html#indexing-view-versus-copy\n",
      "  import sys\n"
     ]
    }
   ],
   "source": [
    "# What is the average percent of passengers (inclusive of crew) killed per plane crash for the entire period?\n",
    "\n",
    "#nn=df[df['aboard'] < 1].count()\n",
    "#print(df[df['aboard'] < 1])\n",
    "df1=df[df['aboard'] > 0 ]\n",
    "pct = lambda row: 100 * row['fatalities'] / row['aboard']\n",
    "df1['pctKilled'] = df1.apply(pct , axis=1)\n",
    "print(df1['pctKilled'].mean())\n"
   ]
  },
  {
   "cell_type": "code",
   "execution_count": null,
   "metadata": {},
   "outputs": [],
   "source": []
  }
 ],
 "metadata": {
  "kernelspec": {
   "display_name": "Python 3",
   "language": "python",
   "name": "python3"
  },
  "language_info": {
   "codemirror_mode": {
    "name": "ipython",
    "version": 3
   },
   "file_extension": ".py",
   "mimetype": "text/x-python",
   "name": "python",
   "nbconvert_exporter": "python",
   "pygments_lexer": "ipython3",
   "version": "3.6.7"
  }
 },
 "nbformat": 4,
 "nbformat_minor": 2
}
