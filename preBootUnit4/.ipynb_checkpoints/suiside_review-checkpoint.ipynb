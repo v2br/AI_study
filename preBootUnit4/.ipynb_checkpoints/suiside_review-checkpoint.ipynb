{
 "cells": [
  {
   "cell_type": "markdown",
   "metadata": {},
   "source": [
    "        \n",
    "\n"
   ]
  },
  {
   "cell_type": "markdown",
   "metadata": {},
   "source": [
    "\n",
    "\n",
    "\n",
    "# Overview\n",
    "Every suicide is a tragedy affecting many people around. It is also one of major risks of death especially among adults. [World Health organization](https://www.who.int/) maintains a suicide statistics dataset for many years and has it available for the analysis. \n",
    "This dataset provides a number of suicide events and population per year for several age groups per country, year,sex, and several age groups.\n",
    "This allows to analyze how the world changed in 21 century for presented age groups separately. At this preliminary analysis we will look at:\n",
    "### questions:\n",
    " ##### What age group is the biggest contributor?  [q1]\n",
    " ##### What countries experienced the biggest change?  (total numbers) [q2](#a2)\n",
    " ##### What countries show the biggest change in the rate?[q3]\n",
    " ##### Do we have a significant difference between men and women? [q4](#a3)\n",
    " ##### What is different for adults? [q5](#a4)\n",
    " ##### What countries changed for better and what countries changed for worse?[q6] \n",
    "\n",
    "\n",
    "# Introduction & Analysis\n",
    "\n",
    "Our dataset has 6 columns and 43776 rows. Three columns are numerical and 3 are categorical. When we look at the dataset we see a lot missing values and sometimes 0 for columns suicide_no and population. \n",
    "We can review number of missing and 0 by age group\n",
    "![](missing_by_age.png)\n",
    "As you can see age group 35 - 54 has minimum number of missing values. We will choose this group for the detailed analysis.\n",
    "\n",
    "For our analysis we need to eliminate null and 0 records. When we select only rows with all the data in place our dataset will be reduced to 2628 rows.  \n",
    "Let's look at the total numbers all ages groups all data excluding records with missing values: reported population, total number of cases and rate.\n",
    "#### Answers to the questions \n",
    "![](population_per_year.png)\n",
    "As we see reported population fluctuates. This is direct result of elimination of records with the missing suicide data.\n",
    "\n",
    "If we look at the total number of suicide (cases) we see some decline in total numbers\n",
    "![](total_cases_per_year.png)\n",
    "\n",
    "and some decline in rate - number of cases per 100,000 for the population\n",
    "(? include table top 10 ?)\n",
    "![](rate_per_year_all.png)\n",
    "Overall the change is about 20%.\n",
    "\n",
    "We can check overall case distribution for age groups.  \n",
    "##### A1: Case distribution by age groups  \n",
    "\n",
    "![](case_distr.png) \n",
    "As we see the biggest contributor by far is age group 35 - 54. \n",
    "Previously I demonstrated that this group has minimum number of missing records.\n",
    "We will look specifically at this cohort later. \n",
    " \n",
    "\n",
    "##### A2: Countries experienced the biggest change\n",
    "Now let's see what countries that experienced the biggest change in total numbers.\n",
    "Note that we summarizing data for all age groups and for male and female. So some \n",
    "difference could be attributed to the missing data. \n",
    "\n",
    "![](num_diff.png)\n",
    "\n",
    "However if we look at the rate situation is very different\n",
    "##### A3: What countries show the biggest change in the rate?\n",
    "![](rate_diff.png)\n",
    "I attribute it to much smaller population in in Suriname Aruba and other countries. As result small changes in total numbers makes big difference in rate.  \n",
    "\n",
    "##### A4: Do we have a significant difference between men and women?\n",
    "Our dataset includes sex variable. This allows us to compare men and women separately. \n",
    "![toal_men_and_women](compare_male_female_num.png)\n",
    "\n",
    "As expected number of suicides cases for men is much bigger. Note that we  see almost the same countries in both cases. \n",
    "As I mentioned previously missing data may impact our analysis. To have better picture we will look at the age group that has minimum number of missing data: 35 to 54 years. \n",
    "Below is top 10 counties that experienced the biggest change in total numbers.\n",
    "![adults_num_diff](dts3_num_diff.png)\n",
    "![adults_rate_diff](rate_diff_3r.png)\n",
    "![adults_male_female_num](adult_male_female_num.png)\n",
    "\n",
    "##### A6: Who changed for better or for worse\n",
    "We've seen the changes, but who changed for better and who changed for worse? We define \"for better\" as year of the minimum is bigger as a year of the maximum.\n",
    "Below is the list of top 10 countries with the maximum improvements on suicide cases. Number of suicide cases declined substantially \n",
    "![](adult_improv_big.png)\n",
    "\n",
    "and list of top 10 countries where number of suicide cases got much higher.\n",
    "![](adult_stback_big.png)\n",
    "\n",
    "\n",
    "\n",
    "# Conclusion\n",
    "\n",
    "This is just initial analysis of the data shown non obvious results. Working with real data it is important to evaluate missing and 0. There distribution may change what and how you analyze. \n",
    "Analysis shown countries with top improvements and top setback in suicide events. We see that improving economy not necessary results in less number of suicides. Also note the difference  between men and women in per country distribution. \n",
    "Deeper analysis could be done by linking this dataset to other appropriate information and modeling based on combined data. \n",
    "\n",
    "\n",
    "Please find attached the code used in this analysis\n",
    "\n",
    " "
   ]
  },
  {
   "cell_type": "markdown",
   "metadata": {
    "collapsed": true
   },
   "source": [
    "### Code start "
   ]
  },
  {
   "cell_type": "code",
   "execution_count": 1,
   "metadata": {
    "collapsed": true
   },
   "outputs": [],
   "source": [
    "import pandas as pd\n",
    "import matplotlib.pyplot as plt\n",
    "import numpy as np\n",
    "import seaborn as sns"
   ]
  },
  {
   "cell_type": "code",
   "execution_count": 2,
   "metadata": {
    "collapsed": true
   },
   "outputs": [],
   "source": [
    "sa=pd.read_csv('who_suicide_statistics.csv')\n",
    "lfexp=pd.read_csv('LifeExpectancyData.csv')\n"
   ]
  },
  {
   "cell_type": "code",
   "execution_count": 3,
   "metadata": {},
   "outputs": [
    {
     "data": {
      "text/plain": [
       "(43776, 6)"
      ]
     },
     "execution_count": 3,
     "metadata": {},
     "output_type": "execute_result"
    }
   ],
   "source": [
    "sa.shape"
   ]
  },
  {
   "cell_type": "code",
   "execution_count": 4,
   "metadata": {
    "scrolled": true
   },
   "outputs": [
    {
     "data": {
      "text/html": [
       "<div>\n",
       "<style>\n",
       "    .dataframe thead tr:only-child th {\n",
       "        text-align: right;\n",
       "    }\n",
       "\n",
       "    .dataframe thead th {\n",
       "        text-align: left;\n",
       "    }\n",
       "\n",
       "    .dataframe tbody tr th {\n",
       "        vertical-align: top;\n",
       "    }\n",
       "</style>\n",
       "<table border=\"1\" class=\"dataframe\">\n",
       "  <thead>\n",
       "    <tr style=\"text-align: right;\">\n",
       "      <th></th>\n",
       "      <th>country</th>\n",
       "      <th>year</th>\n",
       "      <th>sex</th>\n",
       "      <th>age</th>\n",
       "      <th>suicides_no</th>\n",
       "      <th>population</th>\n",
       "    </tr>\n",
       "  </thead>\n",
       "  <tbody>\n",
       "    <tr>\n",
       "      <th>0</th>\n",
       "      <td>Albania</td>\n",
       "      <td>1985</td>\n",
       "      <td>female</td>\n",
       "      <td>15-24 years</td>\n",
       "      <td>NaN</td>\n",
       "      <td>277900.0</td>\n",
       "    </tr>\n",
       "    <tr>\n",
       "      <th>1</th>\n",
       "      <td>Albania</td>\n",
       "      <td>1985</td>\n",
       "      <td>female</td>\n",
       "      <td>25-34 years</td>\n",
       "      <td>NaN</td>\n",
       "      <td>246800.0</td>\n",
       "    </tr>\n",
       "    <tr>\n",
       "      <th>2</th>\n",
       "      <td>Albania</td>\n",
       "      <td>1985</td>\n",
       "      <td>female</td>\n",
       "      <td>35-54 years</td>\n",
       "      <td>NaN</td>\n",
       "      <td>267500.0</td>\n",
       "    </tr>\n",
       "    <tr>\n",
       "      <th>3</th>\n",
       "      <td>Albania</td>\n",
       "      <td>1985</td>\n",
       "      <td>female</td>\n",
       "      <td>5-14 years</td>\n",
       "      <td>NaN</td>\n",
       "      <td>298300.0</td>\n",
       "    </tr>\n",
       "    <tr>\n",
       "      <th>4</th>\n",
       "      <td>Albania</td>\n",
       "      <td>1985</td>\n",
       "      <td>female</td>\n",
       "      <td>55-74 years</td>\n",
       "      <td>NaN</td>\n",
       "      <td>138700.0</td>\n",
       "    </tr>\n",
       "  </tbody>\n",
       "</table>\n",
       "</div>"
      ],
      "text/plain": [
       "   country  year     sex          age  suicides_no  population\n",
       "0  Albania  1985  female  15-24 years          NaN    277900.0\n",
       "1  Albania  1985  female  25-34 years          NaN    246800.0\n",
       "2  Albania  1985  female  35-54 years          NaN    267500.0\n",
       "3  Albania  1985  female   5-14 years          NaN    298300.0\n",
       "4  Albania  1985  female  55-74 years          NaN    138700.0"
      ]
     },
     "execution_count": 4,
     "metadata": {},
     "output_type": "execute_result"
    }
   ],
   "source": [
    "sa.head(5)"
   ]
  },
  {
   "cell_type": "code",
   "execution_count": 80,
   "metadata": {
    "code_folding": []
   },
   "outputs": [
    {
     "data": {
      "text/plain": [
       "country           0\n",
       "year              0\n",
       "sex               0\n",
       "age               0\n",
       "suicides_no     408\n",
       "population     2856\n",
       "age_encoder       0\n",
       "sex_encoder       0\n",
       "dtype: int64"
      ]
     },
     "execution_count": 80,
     "metadata": {},
     "output_type": "execute_result"
    }
   ],
   "source": [
    "# do we have any missing ? \n",
    "sa.isnull().sum()\n"
   ]
  },
  {
   "cell_type": "code",
   "execution_count": 7,
   "metadata": {
    "code_folding": []
   },
   "outputs": [
    {
     "data": {
      "text/html": [
       "<div>\n",
       "<style>\n",
       "    .dataframe thead tr:only-child th {\n",
       "        text-align: right;\n",
       "    }\n",
       "\n",
       "    .dataframe thead th {\n",
       "        text-align: left;\n",
       "    }\n",
       "\n",
       "    .dataframe tbody tr th {\n",
       "        vertical-align: top;\n",
       "    }\n",
       "</style>\n",
       "<table border=\"1\" class=\"dataframe\">\n",
       "  <thead>\n",
       "    <tr style=\"text-align: right;\">\n",
       "      <th></th>\n",
       "      <th>country</th>\n",
       "      <th>year</th>\n",
       "      <th>sex</th>\n",
       "      <th>age</th>\n",
       "      <th>suicides_no</th>\n",
       "      <th>population</th>\n",
       "    </tr>\n",
       "  </thead>\n",
       "  <tbody>\n",
       "    <tr>\n",
       "      <th>372</th>\n",
       "      <td>Anguilla</td>\n",
       "      <td>1983</td>\n",
       "      <td>female</td>\n",
       "      <td>15-24 years</td>\n",
       "      <td>0.0</td>\n",
       "      <td>NaN</td>\n",
       "    </tr>\n",
       "    <tr>\n",
       "      <th>373</th>\n",
       "      <td>Anguilla</td>\n",
       "      <td>1983</td>\n",
       "      <td>female</td>\n",
       "      <td>25-34 years</td>\n",
       "      <td>0.0</td>\n",
       "      <td>NaN</td>\n",
       "    </tr>\n",
       "    <tr>\n",
       "      <th>374</th>\n",
       "      <td>Anguilla</td>\n",
       "      <td>1983</td>\n",
       "      <td>female</td>\n",
       "      <td>35-54 years</td>\n",
       "      <td>0.0</td>\n",
       "      <td>NaN</td>\n",
       "    </tr>\n",
       "    <tr>\n",
       "      <th>375</th>\n",
       "      <td>Anguilla</td>\n",
       "      <td>1983</td>\n",
       "      <td>female</td>\n",
       "      <td>5-14 years</td>\n",
       "      <td>0.0</td>\n",
       "      <td>NaN</td>\n",
       "    </tr>\n",
       "    <tr>\n",
       "      <th>376</th>\n",
       "      <td>Anguilla</td>\n",
       "      <td>1983</td>\n",
       "      <td>female</td>\n",
       "      <td>55-74 years</td>\n",
       "      <td>0.0</td>\n",
       "      <td>NaN</td>\n",
       "    </tr>\n",
       "  </tbody>\n",
       "</table>\n",
       "</div>"
      ],
      "text/plain": [
       "      country  year     sex          age  suicides_no  population\n",
       "372  Anguilla  1983  female  15-24 years          0.0         NaN\n",
       "373  Anguilla  1983  female  25-34 years          0.0         NaN\n",
       "374  Anguilla  1983  female  35-54 years          0.0         NaN\n",
       "375  Anguilla  1983  female   5-14 years          0.0         NaN\n",
       "376  Anguilla  1983  female  55-74 years          0.0         NaN"
      ]
     },
     "execution_count": 7,
     "metadata": {},
     "output_type": "execute_result"
    }
   ],
   "source": [
    "#print(sa[sa.isnull().any(axis=1)]['population'].head(20))\n",
    "pop0=sa[sa['population'].isnull()] \n",
    "#population_0=sa['population'].isnull\n",
    "pop0.head(5)\n",
    "# as rusult we see that population is missing when number of cases is 0\n",
    "                                suicides_no"
   ]
  },
  {
   "cell_type": "code",
   "execution_count": 8,
   "metadata": {
    "collapsed": true
   },
   "outputs": [],
   "source": [
    "# select years of interest \n",
    "sa = sa[(sa['year'] > 1999) & (sa['year'] < 2016) ] "
   ]
  },
  {
   "cell_type": "code",
   "execution_count": 9,
   "metadata": {},
   "outputs": [
    {
     "data": {
      "text/plain": [
       "(21492, 6)"
      ]
     },
     "execution_count": 9,
     "metadata": {},
     "output_type": "execute_result"
    }
   ],
   "source": [
    "sa.shape"
   ]
  },
  {
   "cell_type": "code",
   "execution_count": 10,
   "metadata": {},
   "outputs": [
    {
     "data": {
      "text/plain": [
       "country           0\n",
       "year              0\n",
       "sex               0\n",
       "age               0\n",
       "suicides_no     408\n",
       "population     2856\n",
       "dtype: int64"
      ]
     },
     "execution_count": 10,
     "metadata": {},
     "output_type": "execute_result"
    }
   ],
   "source": [
    "# do we have any missing ? \n",
    "sa.isnull().sum()"
   ]
  },
  {
   "cell_type": "code",
   "execution_count": 11,
   "metadata": {
    "code_folding": [],
    "collapsed": true
   },
   "outputs": [],
   "source": [
    "# encode age and sex \n",
    "age_coder = {'5-14 years':0,\n",
    "            '15-24 years':1,\n",
    "            '25-34 years':2,\n",
    "            '35-54 years':3,\n",
    "            '55-74 years':4,\n",
    "            '75+ years':5}\n",
    "gender_coder = {'female':0,'male':1}\n"
   ]
  },
  {
   "cell_type": "code",
   "execution_count": 12,
   "metadata": {
    "collapsed": true
   },
   "outputs": [],
   "source": [
    "sa['age_encoder'] = sa['age'].map(age_coder)\n",
    "sa['sex_encoder'] = sa['sex'].map(gender_coder)\n",
    "sa.head(10)"
   ]
  },
  {
   "cell_type": "markdown",
   "metadata": {},
   "source": [
    "##### NULLS"
   ]
  },
  {
   "cell_type": "code",
   "execution_count": 250,
   "metadata": {},
   "outputs": [
    {
     "data": {
      "text/plain": [
       "<matplotlib.figure.Figure at 0x1ed61a6fd68>"
      ]
     },
     "metadata": {},
     "output_type": "display_data"
    },
    {
     "data": {
      "image/png": "[encoded data removed]",
      "text/plain": [
       "<matplotlib.figure.Figure at 0x1ed61cf6080>"
      ]
     },
     "metadata": {},
     "output_type": "display_data"
    }
   ],
   "source": [
    "# distribution of missing and null over age groups\n",
    "nls=sa[(sa['suicides_no']==0)] \n",
    "nl= sa[sa['suicides_no'].isnull()]\n",
    "frames=[nls,nl]\n",
    "nulsz= pd.concat(frames)\n",
    "nulsz.shape    \n",
    "nulsz.head(11)\n",
    "#how to select countries that have data \n",
    "#loop through  the rows, make list of countries, include ones that have 1 no zero \n",
    "en = {0:'5-14 ',\n",
    "      1:'15-24',\n",
    "      2:'25-34',\n",
    "      3:'35-54',\n",
    "      4:'55-74',\n",
    "      5:'75+ '}\n",
    "plt.figure(figsize=(12,9))\n",
    "nd=nulsz.groupby('age_encoder').count()\n",
    "\n",
    "nd.drop(['year','sex','population','country','sex_encoder','age'],axis=1, inplace=True)\n",
    "nd.head(11)\n",
    "nd.plot(nd.index.map(en.get), kind='bar', stacked=False, title='Missing by age groups')\n",
    "plt.savefig('missing_by_age.png')\n",
    "plt.show()"
   ]
  },
  {
   "cell_type": "code",
   "execution_count": 14,
   "metadata": {
    "scrolled": true
   },
   "outputs": [
    {
     "data": {
      "image/png": "[encoded data removed]",
      "text/plain": [
       "<matplotlib.figure.Figure at 0x1ed60f6ca20>"
      ]
     },
     "metadata": {},
     "output_type": "display_data"
    }
   ],
   "source": [
    "sa.hist(figsize = (15,15),bins=5 )\n",
    "plt.savefig('allvars.png')\n",
    "plt.show()"
   ]
  },
  {
   "cell_type": "code",
   "execution_count": 15,
   "metadata": {
    "collapsed": true
   },
   "outputs": [],
   "source": [
    "# Eliminate null\n",
    "dfa=sa.dropna()"
   ]
  },
  {
   "cell_type": "code",
   "execution_count": 16,
   "metadata": {},
   "outputs": [
    {
     "data": {
      "text/plain": [
       "(14975, 8)"
      ]
     },
     "execution_count": 16,
     "metadata": {},
     "output_type": "execute_result"
    }
   ],
   "source": [
    "#elminate 0 \n",
    "dfa=dfa[(dfa['suicides_no'] > 0) & (dfa['population'] > 0)]\n",
    "dfa.shape"
   ]
  },
  {
   "cell_type": "code",
   "execution_count": 17,
   "metadata": {
    "collapsed": true
   },
   "outputs": [],
   "source": [
    "#Calculate rate per 100,000\n",
    "rateFn = lambda row: 100000 * row['suicides_no'] / row['population']\n",
    "dfa['rate'] = dfa.apply(rateFn , axis=1)"
   ]
  },
  {
   "cell_type": "markdown",
   "metadata": {},
   "source": [
    "##### A1: case distribution \n",
    "<a id='c1'></a>\n"
   ]
  },
  {
   "cell_type": "code",
   "execution_count": 18,
   "metadata": {
    "collapsed": true
   },
   "outputs": [],
   "source": [
    "#Summarize the world by age group\n",
    "ta=dfa.groupby('age_encoder')[['suicides_no']].sum()"
   ]
  },
  {
   "cell_type": "code",
   "execution_count": 19,
   "metadata": {},
   "outputs": [
    {
     "name": "stdout",
     "output_type": "stream",
     "text": [
      "Index(['5-14 years', '15-24 years', '25-34 years', '35-54 years',\n",
      "       '55-74 years', '75+ years'],\n",
      "      dtype='object', name='age_encoder')\n"
     ]
    }
   ],
   "source": [
    "#ta=groupby('age_encoder')[['suicides_no']].sum()\n",
    "en = {0:'5-14 years',\n",
    "      1:'15-24 years',\n",
    "      2:'25-34 years',\n",
    "      3:'35-54 years',\n",
    "      4:'55-74 years',\n",
    "      5:'75+ years'}\n",
    "print(ta.index.map(en.get))\n",
    "#ta.head(11)"
   ]
  },
  {
   "cell_type": "code",
   "execution_count": 81,
   "metadata": {
    "code_folding": []
   },
   "outputs": [
    {
     "data": {
      "text/plain": [
       "<matplotlib.figure.Figure at 0x1ed615a10b8>"
      ]
     },
     "metadata": {},
     "output_type": "display_data"
    },
    {
     "data": {
      "image/png": "[encoded data removed]",
      "text/plain": [
       "<matplotlib.figure.Figure at 0x1ed6142ef98>"
      ]
     },
     "metadata": {},
     "output_type": "display_data"
    }
   ],
   "source": [
    "#Suicide based on age groups\n",
    "en = {0:'5-14 ',\n",
    "      1:'15-24',\n",
    "      2:'25-34',\n",
    "      3:'35-54',\n",
    "      4:'55-74',\n",
    "      5:'75+ '}\n",
    "plt.figure(figsize=(12,9))\n",
    "\n",
    "ta.plot(ta.index.map(en.get), kind='bar', stacked=False, title='Suicides for the World 2000 - 2015 by age group' )\n",
    "#plt.title(\"Total Suicide based in Age group\")\n",
    "#plt.xlabel(\"Age Group\")\n",
    "#plt.ylabel(\"Number of Suicide\")\n",
    "plt.savefig(\"case_distr.png\")\n",
    "plt.show()"
   ]
  },
  {
   "cell_type": "code",
   "execution_count": 24,
   "metadata": {},
   "outputs": [
    {
     "data": {
      "text/plain": [
       "<matplotlib.figure.Figure at 0x1ed61b48128>"
      ]
     },
     "metadata": {},
     "output_type": "display_data"
    },
    {
     "data": {
      "image/png": "[encoded data removed]",
      "text/plain": [
       "<matplotlib.figure.Figure at 0x1ed614d0fd0>"
      ]
     },
     "metadata": {},
     "output_type": "display_data"
    }
   ],
   "source": [
    "#population the same way\n",
    "tp=dfa.groupby('age_encoder')[['population']].sum()\n",
    "plt.figure(figsize=(12,9))\n",
    "\n",
    "tp.plot(tp.index.map(en.get), kind='bar', stacked=False, title='Population by age group for the same cohort ' )\n",
    "plt.savefig(\"population_distr.png\")\n",
    "plt.show()"
   ]
  },
  {
   "cell_type": "code",
   "execution_count": 82,
   "metadata": {},
   "outputs": [
    {
     "data": {
      "text/plain": [
       "<matplotlib.figure.Figure at 0x1ed6165eb70>"
      ]
     },
     "metadata": {},
     "output_type": "display_data"
    },
    {
     "data": {
      "image/png": "[encoded data removed]",
      "text/plain": [
       "<matplotlib.figure.Figure at 0x1ed6192c860>"
      ]
     },
     "metadata": {},
     "output_type": "display_data"
    }
   ],
   "source": [
    "py=dfa.groupby('year')[['population']].sum()\n",
    "plt.figure(figsize=(12,10))\n",
    "py.plot(py.index, kind='bar', stacked=False, title='Total population per year in billions \\n for submitted data' )\n",
    "plt.savefig(\"population_per_year.png\")\n",
    "plt.show()\n"
   ]
  },
  {
   "cell_type": "markdown",
   "metadata": {},
   "source": [
    "<a id='c2'></a> #total_cases_per_year"
   ]
  },
  {
   "cell_type": "code",
   "execution_count": 37,
   "metadata": {
    "code_folding": []
   },
   "outputs": [
    {
     "data": {
      "text/plain": [
       "<matplotlib.figure.Figure at 0x1ed61923a20>"
      ]
     },
     "metadata": {},
     "output_type": "display_data"
    },
    {
     "data": {
      "image/png": "[encoded data removed]",
      "text/plain": [
       "<matplotlib.figure.Figure at 0x1ed619f3c50>"
      ]
     },
     "metadata": {},
     "output_type": "display_data"
    }
   ],
   "source": [
    "#total cases per year \n",
    "\n",
    "cy=dfa.groupby('year')[['suicides_no']].sum()\n",
    "plt.figure(figsize=(12,10))\n",
    "cy.plot(py.index, kind='bar', stacked=False, title='Total number of cases per year' )\n",
    "plt.savefig(\"total_cases_per_year.png\")\n",
    "plt.show()\n"
   ]
  },
  {
   "cell_type": "code",
   "execution_count": 48,
   "metadata": {},
   "outputs": [
    {
     "data": {
      "text/plain": [
       "<matplotlib.figure.Figure at 0x1ed614b3ef0>"
      ]
     },
     "metadata": {},
     "output_type": "display_data"
    },
    {
     "data": {
      "image/png": "[encoded data removed]",
      "text/plain": [
       "<matplotlib.figure.Figure at 0x1ed613b3dd8>"
      ]
     },
     "metadata": {},
     "output_type": "display_data"
    }
   ],
   "source": [
    "#total rate per year \n",
    "cpy=dfa.groupby('year').agg({'suicides_no':sum,'population':sum})\n",
    "rateFn = lambda row: 100000 * row['suicides_no'] / row['population']\n",
    "cpy['rate'] = cpy.apply(rateFn , axis=1)\n",
    "cpr=cpy.drop(['suicides_no','population'],axis=1)\n",
    "plt.figure(figsize=(12,10))\n",
    "cpr.plot(py.index, kind='bar', stacked=False, title='Rate per year for total population' )\n",
    "plt.savefig(\"rate_per_year_all.png\")\n",
    "plt.show()\n"
   ]
  },
  {
   "cell_type": "markdown",
   "metadata": {},
   "source": [
    "#####  A2: change by countries"
   ]
  },
  {
   "cell_type": "code",
   "execution_count": 155,
   "metadata": {
    "code_folding": [],
    "collapsed": true
   },
   "outputs": [],
   "source": [
    "def calc_min_max_diff(df):\n",
    "    ''' calculates min, max, diff between  for each country in given ds\n",
    "        returns dict with result'''\n",
    "    res={} \n",
    "    i=0\n",
    "    # make sure that df is sort by country, we don't care about the year\n",
    "    for row_index, row in df.iterrows():\n",
    "        iyear=row_index\n",
    "        icnt = row['country']\n",
    "        if i == 0:\n",
    "            cscnt = icnt\n",
    "            csrmin,csrmax           = row['rate'], row['rate']\n",
    "            csrmin_year,csrmax_year = iyear, iyear\n",
    "            csnmin, csnmax          = row['suicides_no'], row['suicides_no']\n",
    "            csnmin_year,csnmax_year = iyear, iyear\n",
    "            i+=1\n",
    "        elif icnt == cscnt: # the same country\n",
    "            cs=row['rate']\n",
    "            if cs > csrmax :\n",
    "                csrmax=cs\n",
    "                csrmax_year=iyear\n",
    "            elif cs < csrmin: \n",
    "                csrmin=cs\n",
    "                csrmin_year=iyear\n",
    "            cn=row['suicides_no']\n",
    "            if cn > csnmax :\n",
    "                csnmax=cn\n",
    "                csnmax_year=iyear\n",
    "            elif cn < csnmin: \n",
    "                csnmin=cn\n",
    "                csnmin_year=iyear\n",
    "        else:  ## country changed let's save the result \n",
    "            res[cscnt]= {'rmin':csrmin,'rmin_year':csrmin_year, \n",
    "                'rmax':csrmax,'rmax_year':csrmax_year, 'rdif':csrmax - csrmin, \\\n",
    "                'nmin':csnmin,'nmin_year':csnmin_year, \\\n",
    "                'nmax':csnmax,'nmax_year':csnmax_year, 'ndif':csnmax - csnmin }\n",
    "            cscnt=icnt\n",
    "            csrmin,csrmax =row['rate'], row['rate']\n",
    "            csrmin_year, csrmax_year= iyear,iyear \n",
    "            csnmin,csnmax = row['suicides_no'], row['suicides_no']\n",
    "            csnmin_year, csnmax_year= iyear, iyear\n",
    "            i+=1\n",
    "    res[cscnt]= {'rmin':csrmin,'rmin_year':csrmin_year, \\\n",
    "                'rmax':csrmax,'rmax_year':csrmax_year, 'rdif':csrmax - csrmin, \\\n",
    "                'nmin':csnmin,'nmin_year':csnmin_year, \\\n",
    "                'nmax':csnmax,'nmax_year':csnmax_year, 'ndif':csnmax - csnmin }\n",
    "    pesdf=pd.DataFrame(res).T\n",
    "    \n",
    "    return pesdf"
   ]
  },
  {
   "cell_type": "code",
   "execution_count": 157,
   "metadata": {
    "collapsed": true,
    "scrolled": true
   },
   "outputs": [],
   "source": [
    "# what countries changed the most in total number and rate. \n",
    "# it means groupby by year and country \n",
    "def calc_change(df):\n",
    "    gcy=df.groupby(['country','year']).agg({'suicides_no':sum,'population':sum,'rate':sum})\n",
    "    gcy.reset_index(level=0, inplace=True)\n",
    "    res=calc_min_max_diff(gcy)\n",
    "    return res    "
   ]
  },
  {
   "cell_type": "code",
   "execution_count": 158,
   "metadata": {},
   "outputs": [
    {
     "data": {
      "image/png": "[encoded data removed]",
      "text/plain": [
       "<matplotlib.figure.Figure at 0x1ed61423da0>"
      ]
     },
     "metadata": {},
     "output_type": "display_data"
    }
   ],
   "source": [
    "# Difference in TOTAL number of cases ! \n",
    "m_w_all_age = calc_change(dfa)\n",
    "dts=m_w_all_age.drop(['nmax', 'nmax_year', 'nmin', 'nmin_year', 'rdif' \\\n",
    "    , 'rmax', 'rmax_year', 'rmin', 'rmin_year'], axis=1)\n",
    "dts.sort_values('ndif', inplace=True, ascending=False)\n",
    "dtsl=dts[0:9]\n",
    "dtsl.plot(kind='barh', title='Top changes in suicide numbers by country')\n",
    "plt.savefig(\"num_diff.png\")\n",
    "plt.show()"
   ]
  },
  {
   "cell_type": "code",
   "execution_count": 215,
   "metadata": {},
   "outputs": [
    {
     "data": {
      "text/html": [
       "<div>\n",
       "<style>\n",
       "    .dataframe thead tr:only-child th {\n",
       "        text-align: right;\n",
       "    }\n",
       "\n",
       "    .dataframe thead th {\n",
       "        text-align: left;\n",
       "    }\n",
       "\n",
       "    .dataframe tbody tr th {\n",
       "        vertical-align: top;\n",
       "    }\n",
       "</style>\n",
       "<table border=\"1\" class=\"dataframe\">\n",
       "  <thead>\n",
       "    <tr style=\"text-align: right;\">\n",
       "      <th></th>\n",
       "      <th>ndif</th>\n",
       "      <th>nmax</th>\n",
       "      <th>nmax_year</th>\n",
       "      <th>nmin</th>\n",
       "      <th>nmin_year</th>\n",
       "      <th>rdif</th>\n",
       "      <th>rmax</th>\n",
       "      <th>rmax_year</th>\n",
       "      <th>rmin</th>\n",
       "      <th>rmin_year</th>\n",
       "    </tr>\n",
       "  </thead>\n",
       "  <tbody>\n",
       "    <tr>\n",
       "      <th>Suriname</th>\n",
       "      <td>95.0</td>\n",
       "      <td>147.0</td>\n",
       "      <td>2008.0</td>\n",
       "      <td>52.0</td>\n",
       "      <td>2000.0</td>\n",
       "      <td>326.169537</td>\n",
       "      <td>454.097997</td>\n",
       "      <td>2012.0</td>\n",
       "      <td>127.928459</td>\n",
       "      <td>2000.0</td>\n",
       "    </tr>\n",
       "    <tr>\n",
       "      <th>Aruba</th>\n",
       "      <td>8.0</td>\n",
       "      <td>10.0</td>\n",
       "      <td>2000.0</td>\n",
       "      <td>2.0</td>\n",
       "      <td>2003.0</td>\n",
       "      <td>292.394755</td>\n",
       "      <td>305.328856</td>\n",
       "      <td>2000.0</td>\n",
       "      <td>12.934101</td>\n",
       "      <td>2003.0</td>\n",
       "    </tr>\n",
       "    <tr>\n",
       "      <th>Republic of Korea</th>\n",
       "      <td>9462.0</td>\n",
       "      <td>15906.0</td>\n",
       "      <td>2011.0</td>\n",
       "      <td>6444.0</td>\n",
       "      <td>2000.0</td>\n",
       "      <td>270.905710</td>\n",
       "      <td>519.523209</td>\n",
       "      <td>2009.0</td>\n",
       "      <td>248.617500</td>\n",
       "      <td>2000.0</td>\n",
       "    </tr>\n",
       "    <tr>\n",
       "      <th>Russian Federation</th>\n",
       "      <td>31526.0</td>\n",
       "      <td>56958.0</td>\n",
       "      <td>2001.0</td>\n",
       "      <td>25432.0</td>\n",
       "      <td>2015.0</td>\n",
       "      <td>267.708046</td>\n",
       "      <td>504.636239</td>\n",
       "      <td>2001.0</td>\n",
       "      <td>236.928193</td>\n",
       "      <td>2015.0</td>\n",
       "    </tr>\n",
       "    <tr>\n",
       "      <th>Seychelles</th>\n",
       "      <td>6.0</td>\n",
       "      <td>9.0</td>\n",
       "      <td>2013.0</td>\n",
       "      <td>3.0</td>\n",
       "      <td>2012.0</td>\n",
       "      <td>242.238429</td>\n",
       "      <td>275.743514</td>\n",
       "      <td>2006.0</td>\n",
       "      <td>33.505085</td>\n",
       "      <td>2012.0</td>\n",
       "    </tr>\n",
       "    <tr>\n",
       "      <th>Hungary</th>\n",
       "      <td>1401.0</td>\n",
       "      <td>3269.0</td>\n",
       "      <td>2000.0</td>\n",
       "      <td>1868.0</td>\n",
       "      <td>2015.0</td>\n",
       "      <td>220.280808</td>\n",
       "      <td>464.573382</td>\n",
       "      <td>2000.0</td>\n",
       "      <td>244.292574</td>\n",
       "      <td>2014.0</td>\n",
       "    </tr>\n",
       "    <tr>\n",
       "      <th>Latvia</th>\n",
       "      <td>388.0</td>\n",
       "      <td>770.0</td>\n",
       "      <td>2000.0</td>\n",
       "      <td>382.0</td>\n",
       "      <td>2014.0</td>\n",
       "      <td>211.007137</td>\n",
       "      <td>453.207078</td>\n",
       "      <td>2000.0</td>\n",
       "      <td>242.199941</td>\n",
       "      <td>2013.0</td>\n",
       "    </tr>\n",
       "    <tr>\n",
       "      <th>Lithuania</th>\n",
       "      <td>735.0</td>\n",
       "      <td>1631.0</td>\n",
       "      <td>2000.0</td>\n",
       "      <td>896.0</td>\n",
       "      <td>2015.0</td>\n",
       "      <td>197.684557</td>\n",
       "      <td>571.809046</td>\n",
       "      <td>2000.0</td>\n",
       "      <td>374.124489</td>\n",
       "      <td>2012.0</td>\n",
       "    </tr>\n",
       "    <tr>\n",
       "      <th>Belarus</th>\n",
       "      <td>1742.0</td>\n",
       "      <td>3483.0</td>\n",
       "      <td>2000.0</td>\n",
       "      <td>1741.0</td>\n",
       "      <td>2014.0</td>\n",
       "      <td>194.376165</td>\n",
       "      <td>447.282272</td>\n",
       "      <td>2000.0</td>\n",
       "      <td>252.906107</td>\n",
       "      <td>2014.0</td>\n",
       "    </tr>\n",
       "    <tr>\n",
       "      <th>Saint Vincent and Grenadines</th>\n",
       "      <td>10.0</td>\n",
       "      <td>11.0</td>\n",
       "      <td>2007.0</td>\n",
       "      <td>1.0</td>\n",
       "      <td>2009.0</td>\n",
       "      <td>191.744922</td>\n",
       "      <td>202.925602</td>\n",
       "      <td>2002.0</td>\n",
       "      <td>11.180680</td>\n",
       "      <td>2009.0</td>\n",
       "    </tr>\n",
       "    <tr>\n",
       "      <th>Kazakhstan</th>\n",
       "      <td>1556.0</td>\n",
       "      <td>4428.0</td>\n",
       "      <td>2000.0</td>\n",
       "      <td>2872.0</td>\n",
       "      <td>2015.0</td>\n",
       "      <td>188.021025</td>\n",
       "      <td>426.044993</td>\n",
       "      <td>2000.0</td>\n",
       "      <td>238.023967</td>\n",
       "      <td>2015.0</td>\n",
       "    </tr>\n",
       "  </tbody>\n",
       "</table>\n",
       "</div>"
      ],
      "text/plain": [
       "                                 ndif     nmax  nmax_year     nmin  nmin_year  \\\n",
       "Suriname                         95.0    147.0     2008.0     52.0     2000.0   \n",
       "Aruba                             8.0     10.0     2000.0      2.0     2003.0   \n",
       "Republic of Korea              9462.0  15906.0     2011.0   6444.0     2000.0   \n",
       "Russian Federation            31526.0  56958.0     2001.0  25432.0     2015.0   \n",
       "Seychelles                        6.0      9.0     2013.0      3.0     2012.0   \n",
       "Hungary                        1401.0   3269.0     2000.0   1868.0     2015.0   \n",
       "Latvia                          388.0    770.0     2000.0    382.0     2014.0   \n",
       "Lithuania                       735.0   1631.0     2000.0    896.0     2015.0   \n",
       "Belarus                        1742.0   3483.0     2000.0   1741.0     2014.0   \n",
       "Saint Vincent and Grenadines     10.0     11.0     2007.0      1.0     2009.0   \n",
       "Kazakhstan                     1556.0   4428.0     2000.0   2872.0     2015.0   \n",
       "\n",
       "                                    rdif        rmax  rmax_year        rmin  \\\n",
       "Suriname                      326.169537  454.097997     2012.0  127.928459   \n",
       "Aruba                         292.394755  305.328856     2000.0   12.934101   \n",
       "Republic of Korea             270.905710  519.523209     2009.0  248.617500   \n",
       "Russian Federation            267.708046  504.636239     2001.0  236.928193   \n",
       "Seychelles                    242.238429  275.743514     2006.0   33.505085   \n",
       "Hungary                       220.280808  464.573382     2000.0  244.292574   \n",
       "Latvia                        211.007137  453.207078     2000.0  242.199941   \n",
       "Lithuania                     197.684557  571.809046     2000.0  374.124489   \n",
       "Belarus                       194.376165  447.282272     2000.0  252.906107   \n",
       "Saint Vincent and Grenadines  191.744922  202.925602     2002.0   11.180680   \n",
       "Kazakhstan                    188.021025  426.044993     2000.0  238.023967   \n",
       "\n",
       "                              rmin_year  \n",
       "Suriname                         2000.0  \n",
       "Aruba                            2003.0  \n",
       "Republic of Korea                2000.0  \n",
       "Russian Federation               2015.0  \n",
       "Seychelles                       2012.0  \n",
       "Hungary                          2014.0  \n",
       "Latvia                           2013.0  \n",
       "Lithuania                        2012.0  \n",
       "Belarus                          2014.0  \n",
       "Saint Vincent and Grenadines     2009.0  \n",
       "Kazakhstan                       2015.0  "
      ]
     },
     "execution_count": 215,
     "metadata": {},
     "output_type": "execute_result"
    }
   ],
   "source": [
    "m_w_all_age.sort_values('rdif', inplace=True, ascending=False)\n",
    "m_w_all_age.head(11)"
   ]
  },
  {
   "cell_type": "markdown",
   "metadata": {},
   "source": [
    "##### A3: changes in rate"
   ]
  },
  {
   "cell_type": "code",
   "execution_count": 163,
   "metadata": {
    "scrolled": true
   },
   "outputs": [
    {
     "data": {
      "image/png": "[encoded data removed]",
      "text/plain": [
       "<matplotlib.figure.Figure at 0x1ed619f3780>"
      ]
     },
     "metadata": {},
     "output_type": "display_data"
    }
   ],
   "source": [
    "dts=m_w_all_age.drop(['nmax', 'nmax_year', 'nmin', 'nmin_year', 'ndif' \\\n",
    "    , 'rmax', 'rmax_year', 'rmin', 'rmin_year'], axis=1)\n",
    "dts.sort_values('rdif', inplace=True, ascending=False)\n",
    "dtsl=dts[0:9]\n",
    "dtsl.plot(kind='barh', title='Top changes in suicide rate by country')\n",
    "plt.savefig(\"rate_diff.png\")\n",
    "plt.show()"
   ]
  },
  {
   "cell_type": "code",
   "execution_count": null,
   "metadata": {
    "collapsed": true
   },
   "outputs": [],
   "source": [
    "# plot it \n",
    "# plot top n countries \n",
    "dtall=m_w_all_age.drop() \n",
    "sy.plot(kind='hist', title='Histogram of rates for 3 contries between 20001 - 2010')\n",
    "fig, (ax1, ax2) = plt.subplots(ncols=2)\n",
    "# man\n",
    "mr= mcfg.iloc[0:14,0]\n",
    "mr.plot(x='dif',y=sh.index, kind='barh',figsize = (15,10), title='Man', ax=ax1)\n",
    "#woman\n",
    "wr=wmcfg.iloc[0:14,0]\n",
    "wr.plot(x='dif',y=sh.index, kind='barh',figsize = (15,10), title='Woman', ax=ax2)\n",
    "plt.subplots_adjust( wspace=0.4)\n",
    "plt.suptitle('Biggest improvements in suisides rates for young man and woman in 2000 - 2015', fontsize=15)\n",
    "fig.savefig(\"young_improv_big.png\")\n",
    "plt.show()"
   ]
  },
  {
   "cell_type": "code",
   "execution_count": 188,
   "metadata": {
    "code_folding": [],
    "collapsed": true
   },
   "outputs": [],
   "source": [
    "# Calculate the change for men and women separately\n",
    "# men\n",
    "\n",
    "df_m=dfa[dfa['sex_encoder']== 1] \n",
    "m_all_age = calc_change(df_m)\n",
    "#m_all_age.head(5)\n",
    "dt_ml=m_all_age.drop(['nmax', 'nmax_year', 'nmin', 'nmin_year', 'rdif' \\\n",
    "    , 'rmax', 'rmax_year', 'rmin', 'rmin_year'], axis=1)\n",
    "dt_ml.sort_values('ndif', inplace=True, ascending=False)\n",
    "mlsm=dt_ml[0:9]\n",
    "\n",
    "#plt.savefig(\"rate_diff.png\")\n",
    "#plt.show()\n",
    "\n"
   ]
  },
  {
   "cell_type": "code",
   "execution_count": 194,
   "metadata": {},
   "outputs": [
    {
     "data": {
      "text/html": [
       "<div>\n",
       "<style>\n",
       "    .dataframe thead tr:only-child th {\n",
       "        text-align: right;\n",
       "    }\n",
       "\n",
       "    .dataframe thead th {\n",
       "        text-align: left;\n",
       "    }\n",
       "\n",
       "    .dataframe tbody tr th {\n",
       "        vertical-align: top;\n",
       "    }\n",
       "</style>\n",
       "<table border=\"1\" class=\"dataframe\">\n",
       "  <thead>\n",
       "    <tr style=\"text-align: right;\">\n",
       "      <th></th>\n",
       "      <th>ndif</th>\n",
       "    </tr>\n",
       "  </thead>\n",
       "  <tbody>\n",
       "    <tr>\n",
       "      <th>Russian Federation</th>\n",
       "      <td>4528.0</td>\n",
       "    </tr>\n",
       "    <tr>\n",
       "      <th>United States of America</th>\n",
       "      <td>4467.0</td>\n",
       "    </tr>\n",
       "    <tr>\n",
       "      <th>Republic of Korea</th>\n",
       "      <td>3512.0</td>\n",
       "    </tr>\n",
       "    <tr>\n",
       "      <th>Japan</th>\n",
       "      <td>2039.0</td>\n",
       "    </tr>\n",
       "    <tr>\n",
       "      <th>Ukraine</th>\n",
       "      <td>1207.0</td>\n",
       "    </tr>\n",
       "    <tr>\n",
       "      <th>Brazil</th>\n",
       "      <td>1017.0</td>\n",
       "    </tr>\n",
       "    <tr>\n",
       "      <th>France</th>\n",
       "      <td>729.0</td>\n",
       "    </tr>\n",
       "    <tr>\n",
       "      <th>Mexico</th>\n",
       "      <td>711.0</td>\n",
       "    </tr>\n",
       "    <tr>\n",
       "      <th>Germany</th>\n",
       "      <td>686.0</td>\n",
       "    </tr>\n",
       "  </tbody>\n",
       "</table>\n",
       "</div>"
      ],
      "text/plain": [
       "                            ndif\n",
       "Russian Federation        4528.0\n",
       "United States of America  4467.0\n",
       "Republic of Korea         3512.0\n",
       "Japan                     2039.0\n",
       "Ukraine                   1207.0\n",
       "Brazil                    1017.0\n",
       "France                     729.0\n",
       "Mexico                     711.0\n",
       "Germany                    686.0"
      ]
     },
     "execution_count": 194,
     "metadata": {},
     "output_type": "execute_result"
    }
   ],
   "source": [
    "fm=dfa[dfa['sex_encoder']== 0] \n",
    "fmc = calc_change(fm)\n",
    "fml=fmc.drop(['nmax', 'nmax_year', 'nmin', 'nmin_year', 'rdif' \\\n",
    "    , 'rmax', 'rmax_year', 'rmin', 'rmin_year'], axis=1)\n",
    "fml.sort_values('ndif', inplace=True, ascending=False)\n",
    "fmls=fml[0:9]\n",
    "fmls.head(11)\n"
   ]
  },
  {
   "cell_type": "markdown",
   "metadata": {},
   "source": [
    "#####  A4:  Difference between men and women in event  total numbers "
   ]
  },
  {
   "cell_type": "code",
   "execution_count": 251,
   "metadata": {},
   "outputs": [
    {
     "data": {
      "image/png": "[encoded data removed]",
      "text/plain": [
       "<matplotlib.figure.Figure at 0x1ed61423fd0>"
      ]
     },
     "metadata": {},
     "output_type": "display_data"
    }
   ],
   "source": [
    "fig, (ax1, ax2) = plt.subplots(ncols=2)\n",
    "# man\n",
    "mlsm.plot( kind='barh',figsize = (15,10), title='Male', ax=ax1)\n",
    "#woman\n",
    "fmls.plot( kind='barh',figsize = (15,10), title='Female', ax=ax2)\n",
    "plt.subplots_adjust( wspace=0.4)\n",
    "plt.suptitle('Compare changes in event numbers for all man and woman in 2000 - 2015', fontsize=15)\n",
    "fig.savefig(\"compare_male_female_num.png\")\n",
    "plt.show()\n"
   ]
  },
  {
   "cell_type": "code",
   "execution_count": 268,
   "metadata": {},
   "outputs": [
    {
     "data": {
      "image/png": "[encoded data removed]",
      "text/plain": [
       "<matplotlib.figure.Figure at 0x1ed61af3550>"
      ]
     },
     "metadata": {},
     "output_type": "display_data"
    }
   ],
   "source": [
    "# select only one age agroup\n",
    "# dfa starting cohort \n",
    "\n",
    "dfa3=dfa[dfa['age_encoder'] ==3]\n",
    "dfa3.head(5)\n",
    "\n",
    "m_w_a3 = calc_change(dfa3)\n",
    "dts3=m_w_a3.drop(['nmax', 'nmax_year', 'nmin', 'nmin_year', 'rdif' \\\n",
    "    , 'rmax', 'rmax_year', 'rmin', 'rmin_year'], axis=1)\n",
    "dts3.sort_values('ndif', inplace=True, ascending=False)\n",
    "dtsl3=dts[0:9]\n",
    "dtsl3.plot(kind='barh', title='Top changes for adults in suicide numbers for adults')\n",
    "plt.savefig(\"dts3_num_diff.png\")\n",
    "plt.show()"
   ]
  },
  {
   "cell_type": "code",
   "execution_count": 269,
   "metadata": {
    "code_folding": []
   },
   "outputs": [
    {
     "data": {
      "image/png": "[encoded data removed]",
      "text/plain": [
       "<matplotlib.figure.Figure at 0x1ed619f3748>"
      ]
     },
     "metadata": {},
     "output_type": "display_data"
    }
   ],
   "source": [
    "dts3r=m_w_a3.drop(['nmax', 'nmax_year', 'nmin', 'nmin_year', 'ndif' \\\n",
    "    , 'rmax', 'rmax_year', 'rmin', 'rmin_year'], axis=1)\n",
    "dts3r.sort_values('rdif', inplace=True, ascending=False)\n",
    "dtsl3r=dts3r[0:9]\n",
    "dtsl3r.plot(kind='barh', title='Top changes in suicide rate by country for adults')\n",
    "plt.savefig(\"rate_diff_3r.png\")\n",
    "plt.show()\n"
   ]
  },
  {
   "cell_type": "markdown",
   "metadata": {},
   "source": [
    "##### compare men women for adults only "
   ]
  },
  {
   "cell_type": "code",
   "execution_count": 281,
   "metadata": {},
   "outputs": [
    {
     "data": {
      "text/html": [
       "<div>\n",
       "<style>\n",
       "    .dataframe thead tr:only-child th {\n",
       "        text-align: right;\n",
       "    }\n",
       "\n",
       "    .dataframe thead th {\n",
       "        text-align: left;\n",
       "    }\n",
       "\n",
       "    .dataframe tbody tr th {\n",
       "        vertical-align: top;\n",
       "    }\n",
       "</style>\n",
       "<table border=\"1\" class=\"dataframe\">\n",
       "  <thead>\n",
       "    <tr style=\"text-align: right;\">\n",
       "      <th></th>\n",
       "      <th>ndif</th>\n",
       "      <th>nmax</th>\n",
       "      <th>nmax_year</th>\n",
       "      <th>nmin</th>\n",
       "      <th>nmin_year</th>\n",
       "      <th>rdif</th>\n",
       "      <th>rmax</th>\n",
       "      <th>rmax_year</th>\n",
       "      <th>rmin</th>\n",
       "      <th>rmin_year</th>\n",
       "    </tr>\n",
       "  </thead>\n",
       "  <tbody>\n",
       "    <tr>\n",
       "      <th>Albania</th>\n",
       "      <td>14.0</td>\n",
       "      <td>19.0</td>\n",
       "      <td>2008.0</td>\n",
       "      <td>5.0</td>\n",
       "      <td>2000.0</td>\n",
       "      <td>3.319275</td>\n",
       "      <td>4.824392</td>\n",
       "      <td>2008.0</td>\n",
       "      <td>1.505117</td>\n",
       "      <td>2000.0</td>\n",
       "    </tr>\n",
       "    <tr>\n",
       "      <th>Argentina</th>\n",
       "      <td>60.0</td>\n",
       "      <td>210.0</td>\n",
       "      <td>2001.0</td>\n",
       "      <td>150.0</td>\n",
       "      <td>2009.0</td>\n",
       "      <td>1.797057</td>\n",
       "      <td>4.875991</td>\n",
       "      <td>2001.0</td>\n",
       "      <td>3.078934</td>\n",
       "      <td>2013.0</td>\n",
       "    </tr>\n",
       "    <tr>\n",
       "      <th>Armenia</th>\n",
       "      <td>9.0</td>\n",
       "      <td>10.0</td>\n",
       "      <td>2008.0</td>\n",
       "      <td>1.0</td>\n",
       "      <td>2000.0</td>\n",
       "      <td>1.914154</td>\n",
       "      <td>2.094236</td>\n",
       "      <td>2008.0</td>\n",
       "      <td>0.180083</td>\n",
       "      <td>2000.0</td>\n",
       "    </tr>\n",
       "    <tr>\n",
       "      <th>Aruba</th>\n",
       "      <td>1.0</td>\n",
       "      <td>2.0</td>\n",
       "      <td>2000.0</td>\n",
       "      <td>1.0</td>\n",
       "      <td>2008.0</td>\n",
       "      <td>7.303595</td>\n",
       "      <td>12.800819</td>\n",
       "      <td>2000.0</td>\n",
       "      <td>5.497224</td>\n",
       "      <td>2008.0</td>\n",
       "    </tr>\n",
       "    <tr>\n",
       "      <th>Australia</th>\n",
       "      <td>111.0</td>\n",
       "      <td>294.0</td>\n",
       "      <td>2015.0</td>\n",
       "      <td>183.0</td>\n",
       "      <td>2004.0</td>\n",
       "      <td>2.872399</td>\n",
       "      <td>9.177052</td>\n",
       "      <td>2015.0</td>\n",
       "      <td>6.304653</td>\n",
       "      <td>2004.0</td>\n",
       "    </tr>\n",
       "    <tr>\n",
       "      <th>Austria</th>\n",
       "      <td>62.0</td>\n",
       "      <td>141.0</td>\n",
       "      <td>2003.0</td>\n",
       "      <td>79.0</td>\n",
       "      <td>2015.0</td>\n",
       "      <td>5.413004</td>\n",
       "      <td>11.618651</td>\n",
       "      <td>2003.0</td>\n",
       "      <td>6.205647</td>\n",
       "      <td>2015.0</td>\n",
       "    </tr>\n",
       "    <tr>\n",
       "      <th>Azerbaijan</th>\n",
       "      <td>13.0</td>\n",
       "      <td>16.0</td>\n",
       "      <td>2001.0</td>\n",
       "      <td>3.0</td>\n",
       "      <td>2000.0</td>\n",
       "      <td>1.220250</td>\n",
       "      <td>1.520190</td>\n",
       "      <td>2001.0</td>\n",
       "      <td>0.299940</td>\n",
       "      <td>2000.0</td>\n",
       "    </tr>\n",
       "    <tr>\n",
       "      <th>Bahamas</th>\n",
       "      <td>0.0</td>\n",
       "      <td>1.0</td>\n",
       "      <td>2007.0</td>\n",
       "      <td>1.0</td>\n",
       "      <td>2007.0</td>\n",
       "      <td>0.209207</td>\n",
       "      <td>2.041816</td>\n",
       "      <td>2007.0</td>\n",
       "      <td>1.832609</td>\n",
       "      <td>2013.0</td>\n",
       "    </tr>\n",
       "    <tr>\n",
       "      <th>Bahrain</th>\n",
       "      <td>3.0</td>\n",
       "      <td>4.0</td>\n",
       "      <td>2002.0</td>\n",
       "      <td>1.0</td>\n",
       "      <td>2001.0</td>\n",
       "      <td>4.130416</td>\n",
       "      <td>5.604125</td>\n",
       "      <td>2002.0</td>\n",
       "      <td>1.473709</td>\n",
       "      <td>2001.0</td>\n",
       "    </tr>\n",
       "    <tr>\n",
       "      <th>Barbados</th>\n",
       "      <td>1.0</td>\n",
       "      <td>2.0</td>\n",
       "      <td>2000.0</td>\n",
       "      <td>1.0</td>\n",
       "      <td>2008.0</td>\n",
       "      <td>2.645495</td>\n",
       "      <td>4.956138</td>\n",
       "      <td>2000.0</td>\n",
       "      <td>2.310643</td>\n",
       "      <td>2008.0</td>\n",
       "    </tr>\n",
       "    <tr>\n",
       "      <th>Belarus</th>\n",
       "      <td>98.0</td>\n",
       "      <td>191.0</td>\n",
       "      <td>2002.0</td>\n",
       "      <td>93.0</td>\n",
       "      <td>2014.0</td>\n",
       "      <td>5.911724</td>\n",
       "      <td>12.453966</td>\n",
       "      <td>2002.0</td>\n",
       "      <td>6.542242</td>\n",
       "      <td>2014.0</td>\n",
       "    </tr>\n",
       "    <tr>\n",
       "      <th>Belgium</th>\n",
       "      <td>38.0</td>\n",
       "      <td>253.0</td>\n",
       "      <td>2000.0</td>\n",
       "      <td>215.0</td>\n",
       "      <td>2013.0</td>\n",
       "      <td>3.167591</td>\n",
       "      <td>17.073449</td>\n",
       "      <td>2000.0</td>\n",
       "      <td>13.905858</td>\n",
       "      <td>2013.0</td>\n",
       "    </tr>\n",
       "    <tr>\n",
       "      <th>Belize</th>\n",
       "      <td>1.0</td>\n",
       "      <td>2.0</td>\n",
       "      <td>2000.0</td>\n",
       "      <td>1.0</td>\n",
       "      <td>2003.0</td>\n",
       "      <td>7.651328</td>\n",
       "      <td>10.297601</td>\n",
       "      <td>2000.0</td>\n",
       "      <td>2.646273</td>\n",
       "      <td>2014.0</td>\n",
       "    </tr>\n",
       "    <tr>\n",
       "      <th>Bosnia and Herzegovina</th>\n",
       "      <td>0.0</td>\n",
       "      <td>28.0</td>\n",
       "      <td>2014.0</td>\n",
       "      <td>28.0</td>\n",
       "      <td>2014.0</td>\n",
       "      <td>0.000000</td>\n",
       "      <td>5.050696</td>\n",
       "      <td>2014.0</td>\n",
       "      <td>5.050696</td>\n",
       "      <td>2014.0</td>\n",
       "    </tr>\n",
       "    <tr>\n",
       "      <th>Brazil</th>\n",
       "      <td>454.0</td>\n",
       "      <td>910.0</td>\n",
       "      <td>2015.0</td>\n",
       "      <td>456.0</td>\n",
       "      <td>2000.0</td>\n",
       "      <td>1.056072</td>\n",
       "      <td>3.264743</td>\n",
       "      <td>2013.0</td>\n",
       "      <td>2.208671</td>\n",
       "      <td>2000.0</td>\n",
       "    </tr>\n",
       "    <tr>\n",
       "      <th>Brunei Darussalam</th>\n",
       "      <td>1.0</td>\n",
       "      <td>2.0</td>\n",
       "      <td>2008.0</td>\n",
       "      <td>1.0</td>\n",
       "      <td>2000.0</td>\n",
       "      <td>2.334738</td>\n",
       "      <td>4.078387</td>\n",
       "      <td>2008.0</td>\n",
       "      <td>1.743649</td>\n",
       "      <td>2014.0</td>\n",
       "    </tr>\n",
       "    <tr>\n",
       "      <th>Bulgaria</th>\n",
       "      <td>64.0</td>\n",
       "      <td>97.0</td>\n",
       "      <td>2000.0</td>\n",
       "      <td>33.0</td>\n",
       "      <td>2014.0</td>\n",
       "      <td>5.099205</td>\n",
       "      <td>8.368059</td>\n",
       "      <td>2001.0</td>\n",
       "      <td>3.268854</td>\n",
       "      <td>2014.0</td>\n",
       "    </tr>\n",
       "    <tr>\n",
       "      <th>Cabo Verde</th>\n",
       "      <td>0.0</td>\n",
       "      <td>2.0</td>\n",
       "      <td>2011.0</td>\n",
       "      <td>2.0</td>\n",
       "      <td>2011.0</td>\n",
       "      <td>0.000000</td>\n",
       "      <td>4.075146</td>\n",
       "      <td>2011.0</td>\n",
       "      <td>4.075146</td>\n",
       "      <td>2011.0</td>\n",
       "    </tr>\n",
       "    <tr>\n",
       "      <th>Canada</th>\n",
       "      <td>76.0</td>\n",
       "      <td>438.0</td>\n",
       "      <td>2003.0</td>\n",
       "      <td>362.0</td>\n",
       "      <td>2006.0</td>\n",
       "      <td>1.627909</td>\n",
       "      <td>8.837378</td>\n",
       "      <td>2003.0</td>\n",
       "      <td>7.209469</td>\n",
       "      <td>2006.0</td>\n",
       "    </tr>\n",
       "    <tr>\n",
       "      <th>Chile</th>\n",
       "      <td>88.0</td>\n",
       "      <td>158.0</td>\n",
       "      <td>2011.0</td>\n",
       "      <td>70.0</td>\n",
       "      <td>2000.0</td>\n",
       "      <td>3.084057</td>\n",
       "      <td>6.674149</td>\n",
       "      <td>2011.0</td>\n",
       "      <td>3.590092</td>\n",
       "      <td>2000.0</td>\n",
       "    </tr>\n",
       "    <tr>\n",
       "      <th>Colombia</th>\n",
       "      <td>30.0</td>\n",
       "      <td>101.0</td>\n",
       "      <td>2013.0</td>\n",
       "      <td>71.0</td>\n",
       "      <td>2001.0</td>\n",
       "      <td>0.912276</td>\n",
       "      <td>2.101884</td>\n",
       "      <td>2000.0</td>\n",
       "      <td>1.189607</td>\n",
       "      <td>2010.0</td>\n",
       "    </tr>\n",
       "    <tr>\n",
       "      <th>Costa Rica</th>\n",
       "      <td>11.0</td>\n",
       "      <td>16.0</td>\n",
       "      <td>2005.0</td>\n",
       "      <td>5.0</td>\n",
       "      <td>2000.0</td>\n",
       "      <td>1.899279</td>\n",
       "      <td>2.974055</td>\n",
       "      <td>2005.0</td>\n",
       "      <td>1.074777</td>\n",
       "      <td>2000.0</td>\n",
       "    </tr>\n",
       "    <tr>\n",
       "      <th>Croatia</th>\n",
       "      <td>26.0</td>\n",
       "      <td>68.0</td>\n",
       "      <td>2005.0</td>\n",
       "      <td>42.0</td>\n",
       "      <td>2012.0</td>\n",
       "      <td>4.035967</td>\n",
       "      <td>11.038289</td>\n",
       "      <td>2000.0</td>\n",
       "      <td>7.002322</td>\n",
       "      <td>2007.0</td>\n",
       "    </tr>\n",
       "    <tr>\n",
       "      <th>Cuba</th>\n",
       "      <td>82.0</td>\n",
       "      <td>175.0</td>\n",
       "      <td>2000.0</td>\n",
       "      <td>93.0</td>\n",
       "      <td>2007.0</td>\n",
       "      <td>6.625716</td>\n",
       "      <td>11.555030</td>\n",
       "      <td>2000.0</td>\n",
       "      <td>4.929314</td>\n",
       "      <td>2012.0</td>\n",
       "    </tr>\n",
       "    <tr>\n",
       "      <th>Cyprus</th>\n",
       "      <td>4.0</td>\n",
       "      <td>5.0</td>\n",
       "      <td>2008.0</td>\n",
       "      <td>1.0</td>\n",
       "      <td>2004.0</td>\n",
       "      <td>3.633869</td>\n",
       "      <td>4.431171</td>\n",
       "      <td>2008.0</td>\n",
       "      <td>0.797302</td>\n",
       "      <td>2012.0</td>\n",
       "    </tr>\n",
       "    <tr>\n",
       "      <th>Czech Republic</th>\n",
       "      <td>56.0</td>\n",
       "      <td>129.0</td>\n",
       "      <td>2001.0</td>\n",
       "      <td>73.0</td>\n",
       "      <td>2007.0</td>\n",
       "      <td>3.660416</td>\n",
       "      <td>8.872073</td>\n",
       "      <td>2003.0</td>\n",
       "      <td>5.211658</td>\n",
       "      <td>2007.0</td>\n",
       "    </tr>\n",
       "    <tr>\n",
       "      <th>Denmark</th>\n",
       "      <td>33.0</td>\n",
       "      <td>76.0</td>\n",
       "      <td>2008.0</td>\n",
       "      <td>43.0</td>\n",
       "      <td>2003.0</td>\n",
       "      <td>4.301561</td>\n",
       "      <td>9.861319</td>\n",
       "      <td>2008.0</td>\n",
       "      <td>5.559758</td>\n",
       "      <td>2009.0</td>\n",
       "    </tr>\n",
       "    <tr>\n",
       "      <th>Ecuador</th>\n",
       "      <td>31.0</td>\n",
       "      <td>53.0</td>\n",
       "      <td>2008.0</td>\n",
       "      <td>22.0</td>\n",
       "      <td>2014.0</td>\n",
       "      <td>2.121004</td>\n",
       "      <td>3.319167</td>\n",
       "      <td>2008.0</td>\n",
       "      <td>1.198163</td>\n",
       "      <td>2014.0</td>\n",
       "    </tr>\n",
       "    <tr>\n",
       "      <th>Egypt</th>\n",
       "      <td>9.0</td>\n",
       "      <td>10.0</td>\n",
       "      <td>2012.0</td>\n",
       "      <td>1.0</td>\n",
       "      <td>2002.0</td>\n",
       "      <td>0.098276</td>\n",
       "      <td>0.110302</td>\n",
       "      <td>2012.0</td>\n",
       "      <td>0.012025</td>\n",
       "      <td>2009.0</td>\n",
       "    </tr>\n",
       "    <tr>\n",
       "      <th>El Salvador</th>\n",
       "      <td>18.0</td>\n",
       "      <td>30.0</td>\n",
       "      <td>2001.0</td>\n",
       "      <td>12.0</td>\n",
       "      <td>2005.0</td>\n",
       "      <td>3.044030</td>\n",
       "      <td>4.854212</td>\n",
       "      <td>2001.0</td>\n",
       "      <td>1.810181</td>\n",
       "      <td>2005.0</td>\n",
       "    </tr>\n",
       "    <tr>\n",
       "      <th>Estonia</th>\n",
       "      <td>21.0</td>\n",
       "      <td>28.0</td>\n",
       "      <td>2002.0</td>\n",
       "      <td>7.0</td>\n",
       "      <td>2012.0</td>\n",
       "      <td>10.129149</td>\n",
       "      <td>13.926191</td>\n",
       "      <td>2002.0</td>\n",
       "      <td>3.797043</td>\n",
       "      <td>2012.0</td>\n",
       "    </tr>\n",
       "    <tr>\n",
       "      <th>Fiji</th>\n",
       "      <td>4.0</td>\n",
       "      <td>5.0</td>\n",
       "      <td>2008.0</td>\n",
       "      <td>1.0</td>\n",
       "      <td>2003.0</td>\n",
       "      <td>3.997486</td>\n",
       "      <td>4.964997</td>\n",
       "      <td>2008.0</td>\n",
       "      <td>0.967511</td>\n",
       "      <td>2012.0</td>\n",
       "    </tr>\n",
       "    <tr>\n",
       "      <th>Finland</th>\n",
       "      <td>75.0</td>\n",
       "      <td>130.0</td>\n",
       "      <td>2001.0</td>\n",
       "      <td>55.0</td>\n",
       "      <td>2015.0</td>\n",
       "      <td>8.600681</td>\n",
       "      <td>16.657270</td>\n",
       "      <td>2001.0</td>\n",
       "      <td>8.056589</td>\n",
       "      <td>2015.0</td>\n",
       "    </tr>\n",
       "  </tbody>\n",
       "</table>\n",
       "</div>"
      ],
      "text/plain": [
       "                         ndif   nmax  nmax_year   nmin  nmin_year       rdif  \\\n",
       "Albania                  14.0   19.0     2008.0    5.0     2000.0   3.319275   \n",
       "Argentina                60.0  210.0     2001.0  150.0     2009.0   1.797057   \n",
       "Armenia                   9.0   10.0     2008.0    1.0     2000.0   1.914154   \n",
       "Aruba                     1.0    2.0     2000.0    1.0     2008.0   7.303595   \n",
       "Australia               111.0  294.0     2015.0  183.0     2004.0   2.872399   \n",
       "Austria                  62.0  141.0     2003.0   79.0     2015.0   5.413004   \n",
       "Azerbaijan               13.0   16.0     2001.0    3.0     2000.0   1.220250   \n",
       "Bahamas                   0.0    1.0     2007.0    1.0     2007.0   0.209207   \n",
       "Bahrain                   3.0    4.0     2002.0    1.0     2001.0   4.130416   \n",
       "Barbados                  1.0    2.0     2000.0    1.0     2008.0   2.645495   \n",
       "Belarus                  98.0  191.0     2002.0   93.0     2014.0   5.911724   \n",
       "Belgium                  38.0  253.0     2000.0  215.0     2013.0   3.167591   \n",
       "Belize                    1.0    2.0     2000.0    1.0     2003.0   7.651328   \n",
       "Bosnia and Herzegovina    0.0   28.0     2014.0   28.0     2014.0   0.000000   \n",
       "Brazil                  454.0  910.0     2015.0  456.0     2000.0   1.056072   \n",
       "Brunei Darussalam         1.0    2.0     2008.0    1.0     2000.0   2.334738   \n",
       "Bulgaria                 64.0   97.0     2000.0   33.0     2014.0   5.099205   \n",
       "Cabo Verde                0.0    2.0     2011.0    2.0     2011.0   0.000000   \n",
       "Canada                   76.0  438.0     2003.0  362.0     2006.0   1.627909   \n",
       "Chile                    88.0  158.0     2011.0   70.0     2000.0   3.084057   \n",
       "Colombia                 30.0  101.0     2013.0   71.0     2001.0   0.912276   \n",
       "Costa Rica               11.0   16.0     2005.0    5.0     2000.0   1.899279   \n",
       "Croatia                  26.0   68.0     2005.0   42.0     2012.0   4.035967   \n",
       "Cuba                     82.0  175.0     2000.0   93.0     2007.0   6.625716   \n",
       "Cyprus                    4.0    5.0     2008.0    1.0     2004.0   3.633869   \n",
       "Czech Republic           56.0  129.0     2001.0   73.0     2007.0   3.660416   \n",
       "Denmark                  33.0   76.0     2008.0   43.0     2003.0   4.301561   \n",
       "Ecuador                  31.0   53.0     2008.0   22.0     2014.0   2.121004   \n",
       "Egypt                     9.0   10.0     2012.0    1.0     2002.0   0.098276   \n",
       "El Salvador              18.0   30.0     2001.0   12.0     2005.0   3.044030   \n",
       "Estonia                  21.0   28.0     2002.0    7.0     2012.0  10.129149   \n",
       "Fiji                      4.0    5.0     2008.0    1.0     2003.0   3.997486   \n",
       "Finland                  75.0  130.0     2001.0   55.0     2015.0   8.600681   \n",
       "\n",
       "                             rmax  rmax_year       rmin  rmin_year  \n",
       "Albania                  4.824392     2008.0   1.505117     2000.0  \n",
       "Argentina                4.875991     2001.0   3.078934     2013.0  \n",
       "Armenia                  2.094236     2008.0   0.180083     2000.0  \n",
       "Aruba                   12.800819     2000.0   5.497224     2008.0  \n",
       "Australia                9.177052     2015.0   6.304653     2004.0  \n",
       "Austria                 11.618651     2003.0   6.205647     2015.0  \n",
       "Azerbaijan               1.520190     2001.0   0.299940     2000.0  \n",
       "Bahamas                  2.041816     2007.0   1.832609     2013.0  \n",
       "Bahrain                  5.604125     2002.0   1.473709     2001.0  \n",
       "Barbados                 4.956138     2000.0   2.310643     2008.0  \n",
       "Belarus                 12.453966     2002.0   6.542242     2014.0  \n",
       "Belgium                 17.073449     2000.0  13.905858     2013.0  \n",
       "Belize                  10.297601     2000.0   2.646273     2014.0  \n",
       "Bosnia and Herzegovina   5.050696     2014.0   5.050696     2014.0  \n",
       "Brazil                   3.264743     2013.0   2.208671     2000.0  \n",
       "Brunei Darussalam        4.078387     2008.0   1.743649     2014.0  \n",
       "Bulgaria                 8.368059     2001.0   3.268854     2014.0  \n",
       "Cabo Verde               4.075146     2011.0   4.075146     2011.0  \n",
       "Canada                   8.837378     2003.0   7.209469     2006.0  \n",
       "Chile                    6.674149     2011.0   3.590092     2000.0  \n",
       "Colombia                 2.101884     2000.0   1.189607     2010.0  \n",
       "Costa Rica               2.974055     2005.0   1.074777     2000.0  \n",
       "Croatia                 11.038289     2000.0   7.002322     2007.0  \n",
       "Cuba                    11.555030     2000.0   4.929314     2012.0  \n",
       "Cyprus                   4.431171     2008.0   0.797302     2012.0  \n",
       "Czech Republic           8.872073     2003.0   5.211658     2007.0  \n",
       "Denmark                  9.861319     2008.0   5.559758     2009.0  \n",
       "Ecuador                  3.319167     2008.0   1.198163     2014.0  \n",
       "Egypt                    0.110302     2012.0   0.012025     2009.0  \n",
       "El Salvador              4.854212     2001.0   1.810181     2005.0  \n",
       "Estonia                 13.926191     2002.0   3.797043     2012.0  \n",
       "Fiji                     4.964997     2008.0   0.967511     2012.0  \n",
       "Finland                 16.657270     2001.0   8.056589     2015.0  "
      ]
     },
     "execution_count": 281,
     "metadata": {},
     "output_type": "execute_result"
    }
   ],
   "source": [
    "dfa3m=dfa3[dfa3['sex_encoder'] ==1]\n",
    "dfa3f=dfa3[dfa3['sex_encoder'] ==0]\n",
    "d3dif_m= calc_change(df=dfa3m)\n",
    "d3dif_f= calc_change(df=dfa3f)\n",
    "\n",
    "a3nd_m=d3dif_m.drop(['nmax', 'nmax_year', 'nmin', 'nmin_year', 'rdif' \\\n",
    "    , 'rmax', 'rmax_year', 'rmin', 'rmin_year'], axis=1)\n",
    "a3nd_m.sort_values('ndif', inplace=True, ascending=False)\n",
    "a3nms=a3nd_m[0:9]\n",
    "#----------------- \n",
    "a3nd_f=d3dif_f.drop(['nmax', 'nmax_year', 'nmin', 'nmin_year', 'rdif' \\\n",
    "    , 'rmax', 'rmax_year', 'rmin', 'rmin_year'], axis=1)\n",
    "a3nd_f.sort_values('ndif', inplace=True, ascending=False)\n",
    "a3nfs=a3nd_f[0:9]\n",
    "\n",
    "d3dif_f.head(33)\n",
    "#"
   ]
  },
  {
   "cell_type": "code",
   "execution_count": 266,
   "metadata": {},
   "outputs": [
    {
     "data": {
      "image/png": "[encoded data removed]",
      "text/plain": [
       "<matplotlib.figure.Figure at 0x1ed619c90f0>"
      ]
     },
     "metadata": {},
     "output_type": "display_data"
    }
   ],
   "source": [
    "fig, (ax1, ax2) = plt.subplots(ncols=2)\n",
    "# man\n",
    "a3nms.plot( kind='barh',figsize = (15,10), title='Male', ax=ax1)\n",
    "#woman\n",
    "a3nfs.plot( kind='barh',figsize = (15,10), title='Female', ax=ax2)\n",
    "plt.subplots_adjust( wspace=0.4)\n",
    "plt.suptitle('Compare changes in event numbers for adult man and woman in 2000 - 2015', fontsize=15)\n",
    "fig.savefig(\"adult_male_female_num.png\")\n",
    "plt.show()"
   ]
  },
  {
   "cell_type": "markdown",
   "metadata": {},
   "source": [
    "##### A6: Improvements and setbacks"
   ]
  },
  {
   "cell_type": "code",
   "execution_count": 299,
   "metadata": {},
   "outputs": [
    {
     "data": {
      "text/html": [
       "<div>\n",
       "<style>\n",
       "    .dataframe thead tr:only-child th {\n",
       "        text-align: right;\n",
       "    }\n",
       "\n",
       "    .dataframe thead th {\n",
       "        text-align: left;\n",
       "    }\n",
       "\n",
       "    .dataframe tbody tr th {\n",
       "        vertical-align: top;\n",
       "    }\n",
       "</style>\n",
       "<table border=\"1\" class=\"dataframe\">\n",
       "  <thead>\n",
       "    <tr style=\"text-align: right;\">\n",
       "      <th></th>\n",
       "      <th>ndif</th>\n",
       "    </tr>\n",
       "  </thead>\n",
       "  <tbody>\n",
       "    <tr>\n",
       "      <th>Russian Federation</th>\n",
       "      <td>13364.0</td>\n",
       "    </tr>\n",
       "    <tr>\n",
       "      <th>Japan</th>\n",
       "      <td>3441.0</td>\n",
       "    </tr>\n",
       "    <tr>\n",
       "      <th>Ukraine</th>\n",
       "      <td>2895.0</td>\n",
       "    </tr>\n",
       "    <tr>\n",
       "      <th>Germany</th>\n",
       "      <td>890.0</td>\n",
       "    </tr>\n",
       "  </tbody>\n",
       "</table>\n",
       "</div>"
      ],
      "text/plain": [
       "                       ndif\n",
       "Russian Federation  13364.0\n",
       "Japan                3441.0\n",
       "Ukraine              2895.0\n",
       "Germany               890.0"
      ]
     },
     "execution_count": 299,
     "metadata": {},
     "output_type": "execute_result"
    }
   ],
   "source": [
    "# choose one that shows changes for the best\n",
    "#men changed for good  year\n",
    "d3_gd_m=d3dif_m[d3dif_m['nmin_year'] > d3dif_m['nmax_year']]\n",
    "d3dgd_m=d3_gd_m.drop(['nmax', 'nmax_year', 'nmin', 'nmin_year', 'rdif' \\\n",
    "    , 'rmax', 'rmax_year', 'rmin', 'rmin_year'], axis=1)\n",
    "d3dgd_m.sort_values('ndif', inplace=True, ascending=False)\n",
    "gd_m=d3dgd_m[0:9]\n",
    "#\n",
    "# changes for bad\n",
    "#\n",
    "d3_bd_m=d3dif_m[d3dif_m['nmin_year'] < d3dif_m['nmax_year']]\n",
    "d3dbd_m=d3_bd_m.drop(['nmax', 'nmax_year', 'nmin', 'nmin_year', 'rdif' \\\n",
    "    , 'rmax', 'rmax_year', 'rmin', 'rmin_year'], axis=1)\n",
    "d3dbd_m.sort_values('ndif', inplace=True, ascending=False)\n",
    "bd_m=d3dbd_m[0:9]\n",
    "gd_m.head(4)\n"
   ]
  },
  {
   "cell_type": "code",
   "execution_count": 300,
   "metadata": {},
   "outputs": [],
   "source": [
    "#\n",
    "# the same for female\n",
    "#\n",
    "# good\n",
    "d3_gd_f=d3dif_f[d3dif_f['nmin_year'] > d3dif_f['nmax_year']]\n",
    "a3dg_f=d3_gd_f.drop(['nmax', 'nmax_year', 'nmin', 'nmin_year', 'rdif' \\\n",
    "    , 'rmax', 'rmax_year', 'rmin', 'rmin_year'], axis=1)\n",
    "a3dg_f.sort_values('ndif', inplace=True, ascending=False)\n",
    "gd_f=a3dg_f[0:9]\n",
    "gd_f.head(10)\n",
    "#\n",
    "# bad\n",
    "#\n",
    "d3_bd_f=d3dif_f[d3dif_f['nmin_year'] < d3dif_f['nmax_year']]\n",
    "a3bd_f=d3_bd_f.drop(['nmax', 'nmax_year', 'nmin', 'nmin_year', 'rdif' \\\n",
    "    , 'rmax', 'rmax_year', 'rmin', 'rmin_year'], axis=1)\n",
    "a3bd_f.sort_values('ndif', inplace=True, ascending=False)\n",
    "bd_f=a3bd_f[0:9]"
   ]
  },
  {
   "cell_type": "code",
   "execution_count": 301,
   "metadata": {},
   "outputs": [
    {
     "data": {
      "image/png": "[encoded data removed]",
      "text/plain": [
       "<matplotlib.figure.Figure at 0x1ed620f3048>"
      ]
     },
     "metadata": {},
     "output_type": "display_data"
    }
   ],
   "source": [
    "# plot top n countries \n",
    "# plot changes for good \n",
    "#\n",
    "fig, (ax1, ax2) = plt.subplots(ncols=2)\n",
    "gd_m.plot( kind='barh',figsize = (15,10), title='Male', ax=ax1)\n",
    "#woman\n",
    "gd_f.plot( kind='barh',figsize = (15,10), title='Female', ax=ax2)\n",
    "plt.subplots_adjust( wspace=0.4)\n",
    "plt.suptitle('Biggest improvements in suisides rates for adult male and female in 2000 - 2015', fontsize=15)\n",
    "fig.savefig(\"adult_improv_big.png\")\n",
    "plt.show()\n",
    " "
   ]
  },
  {
   "cell_type": "code",
   "execution_count": 304,
   "metadata": {},
   "outputs": [
    {
     "data": {
      "image/png": "[encoded data removed]",
      "text/plain": [
       "<matplotlib.figure.Figure at 0x1ed61ee78d0>"
      ]
     },
     "metadata": {},
     "output_type": "display_data"
    }
   ],
   "source": [
    "# plot top n countries \n",
    "# plot changes for good \n",
    "#\n",
    "fig, (ax1, ax2) = plt.subplots(ncols=2)\n",
    "bd_m.plot( kind='barh',figsize = (15,10), title='Male', ax=ax1)\n",
    "#woman\n",
    "bd_f.plot( kind='barh',figsize = (15,10), title='Female', ax=ax2)\n",
    "plt.subplots_adjust( wspace=0.4)\n",
    "plt.suptitle('Biggest setback in suisides rates for adult male and female in 2000 - 2015', fontsize=15)\n",
    "fig.savefig(\"adult_stback_big.png\")\n",
    "plt.show()"
   ]
  }
 ],
 "metadata": {
  "kernelspec": {
   "display_name": "Python 3",
   "language": "python",
   "name": "python3"
  },
  "language_info": {
   "codemirror_mode": {
    "name": "ipython",
    "version": 3
   },
   "file_extension": ".py",
   "mimetype": "text/x-python",
   "name": "python",
   "nbconvert_exporter": "python",
   "pygments_lexer": "ipython3",
   "version": "3.6.7"
  },
  "latex_envs": {
   "LaTeX_envs_menu_present": true,
   "autoclose": false,
   "autocomplete": true,
   "bibliofile": "biblio.bib",
   "cite_by": "apalike",
   "current_citInitial": 1,
   "eqLabelWithNumbers": true,
   "eqNumInitial": 1,
   "hotkeys": {
    "equation": "Ctrl-E",
    "itemize": "Ctrl-I"
   },
   "labels_anchors": false,
   "latex_user_defs": false,
   "report_style_numbering": false,
   "user_envs_cfg": false
  },
  "toc": {
   "base_numbering": 1,
   "nav_menu": {},
   "number_sections": false,
   "sideBar": true,
   "skip_h1_title": true,
   "title_cell": "Table of Contents",
   "title_sidebar": "Contents",
   "toc_cell": false,
   "toc_position": {
    "height": "calc(100% - 180px)",
    "left": "10px",
    "top": "150px",
    "width": "165px"
   },
   "toc_section_display": true,
   "toc_window_display": true
  }
 },
 "nbformat": 4,
 "nbformat_minor": 2
}
